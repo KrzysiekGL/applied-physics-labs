{
 "cells": [
  {
   "cell_type": "markdown",
   "id": "4d2820b9",
   "metadata": {},
   "source": [
    "# Języki Programowania Python i R\n",
    "\n",
    "\n",
    "## dr inż. Patryk Jasik\n",
    "### Division of Theoretical Physics and Quantum Information\n",
    "### Institute of Physics and Computer Science\n",
    "### Faculty of Applied Physics and Mathematics\n",
    "### Gdansk University of Technology"
   ]
  },
  {
   "cell_type": "markdown",
   "id": "e83cf7d1",
   "metadata": {},
   "source": [
    "# optuna docs\n",
    "## https://optuna.readthedocs.io/en/stable/"
   ]
  },
  {
   "cell_type": "code",
   "execution_count": null,
   "id": "671e6eae",
   "metadata": {},
   "outputs": [],
   "source": [
    "import optuna\n",
    "\n",
    "#%config Completer.use_jedi = False"
   ]
  },
  {
   "cell_type": "code",
   "execution_count": null,
   "id": "e41f5d2b",
   "metadata": {},
   "outputs": [],
   "source": [
    "# creation of the objective function\n",
    "def objective(trial):\n",
    "    x = trial.suggest_float(\"x\", -10, 10) # x will be the float number and will be in the (-10, 10) range\n",
    "    return (x - 2) ** 2"
   ]
  },
  {
   "cell_type": "code",
   "execution_count": null,
   "id": "df864350",
   "metadata": {
    "scrolled": true
   },
   "outputs": [],
   "source": [
    "# creation of the study\n",
    "study = optuna.create_study()\n",
    "\n",
    "# run the optimization procedure\n",
    "study.optimize(objective, n_trials=200)"
   ]
  },
  {
   "cell_type": "code",
   "execution_count": null,
   "id": "01a65d5f",
   "metadata": {},
   "outputs": [],
   "source": [
    "# results of the optimization\n",
    "best_params = study.best_params\n",
    "found_x = best_params[\"x\"]\n",
    "print(\"Found x: {}, (x - 2)^2: {}\".format(found_x, (found_x - 2) ** 2))"
   ]
  },
  {
   "cell_type": "code",
   "execution_count": null,
   "id": "f9e089e1",
   "metadata": {},
   "outputs": [],
   "source": [
    "# loading some packages\n",
    "import numpy as np\n",
    "import pandas as pd\n",
    "import sklearn.metrics\n",
    "from sklearn.model_selection import train_test_split\n",
    "from sklearn import svm\n",
    "import plotly\n",
    "\n",
    "import optuna\n",
    "from optuna.visualization import plot_contour\n",
    "from optuna.visualization import plot_edf\n",
    "from optuna.visualization import plot_intermediate_values\n",
    "from optuna.visualization import plot_optimization_history\n",
    "from optuna.visualization import plot_parallel_coordinate\n",
    "from optuna.visualization import plot_param_importances\n",
    "from optuna.visualization import plot_slice\n",
    "\n",
    "SEED = 42\n",
    "\n",
    "np.random.seed(SEED)"
   ]
  },
  {
   "cell_type": "code",
   "execution_count": null,
   "id": "56ab9697",
   "metadata": {},
   "outputs": [],
   "source": [
    "# creation of the objective function in the case of wines\n",
    "def objective(trial):\n",
    "    wine = pd.read_csv(\"data/winequality-all.csv\", comment=\"#\")\n",
    "    \n",
    "    wine[\"quality\"] = pd.cut(wine[\"response\"],\n",
    "                         [0, 5, 10],\n",
    "                         right=False,\n",
    "                         labels=[\"bad\", \"good\"])\n",
    "    \n",
    "    X = wine.iloc[:, 0:11]\n",
    "    y = wine[\"quality\"]\n",
    "    yk = y.cat.codes.values\n",
    "    \n",
    "    \n",
    "    train_x, valid_x, train_y, valid_y = train_test_split(X,\n",
    "                                                          yk,\n",
    "                                                          test_size=0.25)\n",
    "    \n",
    "    # creation the model with hyperparameters to optimization\n",
    "    svc_model = svm.SVC(C = trial.suggest_float(\"C\", 1.0, 10.0), # the regularization parameter\n",
    "                        kernel = trial.suggest_categorical(\"kernel\", [\"linear\", \"rbf\", \"poly\"]), # the kernel \n",
    "                        max_iter = trial.suggest_int(\"max_iter\", 100, 10000, step=100)) # iterations\n",
    "    \n",
    "    # training the model\n",
    "    svc_model.fit(train_x, train_y)\n",
    "\n",
    "    #predictions\n",
    "    yk_preds = svc_model.predict(valid_x)\n",
    "    \n",
    "    #metrics\n",
    "    accuracy = sklearn.metrics.accuracy_score(valid_y, yk_preds)\n",
    "    \n",
    "    return accuracy"
   ]
  },
  {
   "cell_type": "code",
   "execution_count": null,
   "id": "332af5b8",
   "metadata": {
    "scrolled": true
   },
   "outputs": [],
   "source": [
    "#creation of the study\n",
    "study = optuna.create_study(\n",
    "    direction=\"maximize\",\n",
    "    sampler=optuna.samplers.TPESampler(seed=SEED)\n",
    ")\n",
    "\n",
    "# and run the optimization procedure\n",
    "study.optimize(objective, n_trials=1000)"
   ]
  },
  {
   "cell_type": "code",
   "execution_count": null,
   "id": "5910e931",
   "metadata": {},
   "outputs": [],
   "source": [
    "best_params = study.best_params"
   ]
  },
  {
   "cell_type": "code",
   "execution_count": null,
   "id": "1cd13a61",
   "metadata": {},
   "outputs": [],
   "source": [
    "best_params"
   ]
  },
  {
   "cell_type": "code",
   "execution_count": null,
   "id": "0942770a",
   "metadata": {},
   "outputs": [],
   "source": [
    "study.best_value"
   ]
  },
  {
   "cell_type": "code",
   "execution_count": null,
   "id": "ccf8b159",
   "metadata": {},
   "outputs": [],
   "source": [
    "plot_optimization_history(study)"
   ]
  },
  {
   "cell_type": "code",
   "execution_count": null,
   "id": "30793850",
   "metadata": {},
   "outputs": [],
   "source": [
    "plot_parallel_coordinate(study)"
   ]
  },
  {
   "cell_type": "code",
   "execution_count": null,
   "id": "22c29746",
   "metadata": {},
   "outputs": [],
   "source": [
    "plot_parallel_coordinate(study, params=[\"C\", \"kernel\"])"
   ]
  },
  {
   "cell_type": "code",
   "execution_count": null,
   "id": "1e6a0347",
   "metadata": {},
   "outputs": [],
   "source": [
    "plot_contour(study)"
   ]
  },
  {
   "cell_type": "code",
   "execution_count": null,
   "id": "4b898254",
   "metadata": {},
   "outputs": [],
   "source": [
    "plot_contour(study, params=[\"C\",\"kernel\"])"
   ]
  },
  {
   "cell_type": "code",
   "execution_count": null,
   "id": "60187fc1",
   "metadata": {},
   "outputs": [],
   "source": [
    "plot_slice(study)"
   ]
  },
  {
   "cell_type": "code",
   "execution_count": null,
   "id": "7322dbfd",
   "metadata": {},
   "outputs": [],
   "source": [
    "plot_slice(study, params=[\"C\"])"
   ]
  },
  {
   "cell_type": "code",
   "execution_count": null,
   "id": "62397a06",
   "metadata": {},
   "outputs": [],
   "source": [
    "plot_param_importances(study)"
   ]
  },
  {
   "cell_type": "code",
   "execution_count": null,
   "id": "f8438ac1",
   "metadata": {},
   "outputs": [],
   "source": [
    "optuna.visualization.plot_param_importances(\n",
    "    study, target=lambda t: t.duration.total_seconds(), target_name=\"duration\"\n",
    ")"
   ]
  },
  {
   "cell_type": "code",
   "execution_count": null,
   "id": "0ab798d8",
   "metadata": {},
   "outputs": [],
   "source": [
    "# creation of the objective function in the case of wines\n",
    "def objective(trial):\n",
    "    wine = pd.read_csv(\"data/winequality-all.csv\", comment=\"#\")\n",
    "    \n",
    "    wine[\"quality\"] = pd.cut(wine[\"response\"],\n",
    "                         [0, 5, 10],\n",
    "                         right=False,\n",
    "                         labels=[\"bad\", \"good\"])\n",
    "    \n",
    "    X = wine.iloc[:, 0:11]\n",
    "    y = wine[\"quality\"]\n",
    "    yk = y.cat.codes.values\n",
    "    \n",
    "    \n",
    "    train_x, valid_x, train_y, valid_y = train_test_split(X,\n",
    "                                                          yk,\n",
    "                                                          test_size=0.25)\n",
    "    \n",
    "    # creation the model with hyperparameters to optimization\n",
    "    svc_model = svm.SVC(C = trial.suggest_float(\"C\", 1.0, 10.0), # the regularization parameter\n",
    "                        kernel = trial.suggest_categorical(\"kernel\", [\"linear\", \"rbf\", \"poly\"]), # the kernel \n",
    "                        max_iter = trial.suggest_int(\"max_iter\", 100, 5000, step=100)) # iterations\n",
    "    \n",
    "    # training the model\n",
    "    svc_model.fit(train_x, train_y)\n",
    "\n",
    "    #predictions\n",
    "    yk_preds = svc_model.predict(valid_x)\n",
    "    \n",
    "    #metrics\n",
    "    accuracy = sklearn.metrics.f1_score(valid_y, yk_preds)\n",
    "    \n",
    "    return accuracy"
   ]
  },
  {
   "cell_type": "code",
   "execution_count": null,
   "id": "7ed5a586",
   "metadata": {},
   "outputs": [],
   "source": [
    "#creation of the study\n",
    "study = optuna.create_study(\n",
    "    direction=\"maximize\",\n",
    "    sampler=optuna.samplers.TPESampler(seed=SEED)\n",
    ")\n",
    "\n",
    "# and run the optimization procedure\n",
    "study.optimize(objective, n_trials=100)"
   ]
  },
  {
   "cell_type": "code",
   "execution_count": null,
   "id": "efb20049",
   "metadata": {},
   "outputs": [],
   "source": [
    "best_params = study.best_params"
   ]
  },
  {
   "cell_type": "code",
   "execution_count": null,
   "id": "a57a363b",
   "metadata": {},
   "outputs": [],
   "source": [
    "best_params"
   ]
  },
  {
   "cell_type": "code",
   "execution_count": null,
   "id": "6e56f9e6",
   "metadata": {},
   "outputs": [],
   "source": [
    "study.best_value"
   ]
  },
  {
   "cell_type": "code",
   "execution_count": null,
   "id": "b7b029ec",
   "metadata": {},
   "outputs": [],
   "source": [
    "plot_optimization_history(study)"
   ]
  },
  {
   "cell_type": "code",
   "execution_count": null,
   "id": "120dfcec",
   "metadata": {},
   "outputs": [],
   "source": [
    "plot_parallel_coordinate(study)"
   ]
  },
  {
   "cell_type": "code",
   "execution_count": null,
   "id": "9a76e6d8",
   "metadata": {},
   "outputs": [],
   "source": [
    "plot_parallel_coordinate(study, params=[\"C\", \"kernel\"])"
   ]
  },
  {
   "cell_type": "code",
   "execution_count": null,
   "id": "4563f7a3",
   "metadata": {},
   "outputs": [],
   "source": [
    "plot_contour(study)"
   ]
  },
  {
   "cell_type": "code",
   "execution_count": null,
   "id": "71ce09a0",
   "metadata": {},
   "outputs": [],
   "source": [
    "plot_contour(study, params=[\"C\",\"kernel\"])"
   ]
  },
  {
   "cell_type": "code",
   "execution_count": null,
   "id": "587d09d5",
   "metadata": {},
   "outputs": [],
   "source": [
    "plot_slice(study)"
   ]
  },
  {
   "cell_type": "code",
   "execution_count": null,
   "id": "7bbf9295",
   "metadata": {},
   "outputs": [],
   "source": [
    "plot_slice(study, params=[\"C\"])"
   ]
  },
  {
   "cell_type": "code",
   "execution_count": null,
   "id": "d2ff94d7",
   "metadata": {},
   "outputs": [],
   "source": [
    "plot_param_importances(study)"
   ]
  },
  {
   "cell_type": "code",
   "execution_count": null,
   "id": "54febe7f",
   "metadata": {},
   "outputs": [],
   "source": [
    "optuna.visualization.plot_param_importances(\n",
    "    study, target=lambda t: t.duration.total_seconds(), target_name=\"duration\"\n",
    ")"
   ]
  },
  {
   "cell_type": "code",
   "execution_count": null,
   "id": "4ae06f2d",
   "metadata": {},
   "outputs": [],
   "source": []
  }
 ],
 "metadata": {
  "kernelspec": {
   "display_name": "Python 3 (ipykernel)",
   "language": "python",
   "name": "python3"
  },
  "language_info": {
   "codemirror_mode": {
    "name": "ipython",
    "version": 3
   },
   "file_extension": ".py",
   "mimetype": "text/x-python",
   "name": "python",
   "nbconvert_exporter": "python",
   "pygments_lexer": "ipython3",
   "version": "3.7.16"
  }
 },
 "nbformat": 4,
 "nbformat_minor": 5
}
