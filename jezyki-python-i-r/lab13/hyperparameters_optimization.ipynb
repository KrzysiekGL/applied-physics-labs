{
 "cells": [
  {
   "cell_type": "markdown",
   "id": "4edd20ad",
   "metadata": {},
   "source": [
    "# Języki Programowania Python i R\n",
    "\n",
    "\n",
    "## dr inż. Patryk Jasik\n",
    "### Division of Theoretical Physics and Quantum Information\n",
    "### Institute of Physics and Computer Science\n",
    "### Faculty of Applied Physics and Mathematics\n",
    "### Gdansk University of Technology"
   ]
  },
  {
   "cell_type": "markdown",
   "id": "57adc2f0",
   "metadata": {},
   "source": [
    "# scikit-learn docs\n",
    "## https://scikit-learn.org/stable/"
   ]
  },
  {
   "cell_type": "markdown",
   "id": "b696af0f",
   "metadata": {},
   "source": [
    "# hyperparameters optimization"
   ]
  },
  {
   "cell_type": "code",
   "execution_count": null,
   "id": "736df7c6",
   "metadata": {},
   "outputs": [],
   "source": [
    "import numpy as np\n",
    "import pandas as pd\n",
    "import matplotlib.pyplot as plt\n",
    "import seaborn as sns\n",
    "import sklearn\n",
    "import sklearn.model_selection\n",
    "\n",
    "#%config Completer.use_jedi = False"
   ]
  },
  {
   "cell_type": "code",
   "execution_count": null,
   "id": "fc168c54",
   "metadata": {},
   "outputs": [],
   "source": [
    "wine = pd.read_csv(\"data/winequality-all.csv\", comment=\"#\")\n",
    "wine.head()"
   ]
  },
  {
   "cell_type": "code",
   "execution_count": null,
   "id": "48357b80",
   "metadata": {},
   "outputs": [],
   "source": [
    "wine[\"quality\"] = pd.cut(wine[\"response\"],\n",
    "                         [0, 5, 10],\n",
    "                         right=False,\n",
    "                         labels=[\"bad\", \"good\"])"
   ]
  },
  {
   "cell_type": "code",
   "execution_count": null,
   "id": "ba42c5ae",
   "metadata": {},
   "outputs": [],
   "source": [
    "X = wine.iloc[:, 0:11]\n",
    "X.head()"
   ]
  },
  {
   "cell_type": "code",
   "execution_count": null,
   "id": "8fe98e05",
   "metadata": {},
   "outputs": [],
   "source": [
    "y = wine[\"quality\"]"
   ]
  },
  {
   "cell_type": "code",
   "execution_count": null,
   "id": "55e8b9e5",
   "metadata": {},
   "outputs": [],
   "source": [
    "yk = y.cat.codes.values"
   ]
  },
  {
   "cell_type": "code",
   "execution_count": null,
   "id": "e45b3eff",
   "metadata": {},
   "outputs": [],
   "source": [
    "m = X.mean()\n",
    "s = X.std()\n",
    "X_std = (X - m)/s"
   ]
  },
  {
   "cell_type": "code",
   "execution_count": null,
   "id": "3b8f4c9e",
   "metadata": {},
   "outputs": [],
   "source": [
    "idx_train, idx_test =\\\n",
    "sklearn.model_selection.train_test_split(np.arange(X_std.shape[0]), \n",
    "                                        test_size=0.2,\n",
    "                                        random_state=12345)"
   ]
  },
  {
   "cell_type": "code",
   "execution_count": null,
   "id": "a5ccd184",
   "metadata": {},
   "outputs": [],
   "source": [
    "X_train, X_test = X_std.iloc[idx_train, :], X_std.iloc[idx_test, :]\n",
    "yk_train, yk_test = yk[idx_train], yk[idx_test]\n",
    "\n",
    "X_train.shape, X_test.shape, yk_train.shape, yk_test.shape"
   ]
  },
  {
   "cell_type": "code",
   "execution_count": null,
   "id": "4ca8e53e",
   "metadata": {},
   "outputs": [],
   "source": [
    "from sklearn import svm\n",
    "from sklearn.model_selection import GridSearchCV"
   ]
  },
  {
   "cell_type": "code",
   "execution_count": null,
   "id": "bc7b105d",
   "metadata": {},
   "outputs": [],
   "source": [
    "# we will create classification model based on Support Vector Machine method\n",
    "# https://en.wikipedia.org/wiki/Support-vector_machine\n",
    "class_model = svm.SVC(max_iter=10000)"
   ]
  },
  {
   "cell_type": "code",
   "execution_count": null,
   "id": "101af1ad",
   "metadata": {},
   "outputs": [],
   "source": [
    "help(svm.SVC)"
   ]
  },
  {
   "cell_type": "code",
   "execution_count": null,
   "id": "74a38fcd",
   "metadata": {},
   "outputs": [],
   "source": [
    "#hyperparameters of the model\n",
    "class_model.get_params()"
   ]
  },
  {
   "cell_type": "code",
   "execution_count": null,
   "id": "2738fd9e",
   "metadata": {},
   "outputs": [],
   "source": [
    "# let's create the grid with the hyperparameters\n",
    "search_grid = [\n",
    "   {'C': [1, 2, 5, 10, 20], 'kernel': ['linear', 'rbf', 'poly']}\n",
    "   #,{'C': [10, 100], 'kernel': ['linear', 'poly']}\n",
    " ]"
   ]
  },
  {
   "cell_type": "code",
   "execution_count": null,
   "id": "75ad46b6",
   "metadata": {},
   "outputs": [],
   "source": [
    "# names of available metrics\n",
    "sklearn.metrics.SCORERS.keys()"
   ]
  },
  {
   "cell_type": "code",
   "execution_count": null,
   "id": "b763564f",
   "metadata": {},
   "outputs": [],
   "source": [
    "# we will evaluate models on accuracy and F1 metrics\n",
    "scorer = ['accuracy', 'f1']"
   ]
  },
  {
   "cell_type": "code",
   "execution_count": null,
   "id": "f7f46c86",
   "metadata": {},
   "outputs": [],
   "source": [
    "# creation of the GridSearch object\n",
    "search_func = GridSearchCV(estimator=class_model,\n",
    "                           param_grid=search_grid,\n",
    "                           scoring=scorer,\n",
    "                           refit='f1',\n",
    "                           cv=5)"
   ]
  },
  {
   "cell_type": "code",
   "execution_count": null,
   "id": "712a53a4",
   "metadata": {
    "scrolled": true
   },
   "outputs": [],
   "source": [
    "# training the models on the grid\n",
    "search_func.fit(X_train, yk_train)"
   ]
  },
  {
   "cell_type": "code",
   "execution_count": null,
   "id": "4ce14a08",
   "metadata": {},
   "outputs": [],
   "source": [
    "# Results\n",
    "print(search_func.best_estimator_)\n",
    "print(search_func.best_params_)\n",
    "print(search_func.best_score_)"
   ]
  },
  {
   "cell_type": "code",
   "execution_count": null,
   "id": "420a6190",
   "metadata": {},
   "outputs": [],
   "source": [
    "# creation the DataFrame with results\n",
    "results = pd.DataFrame(search_func.cv_results_)"
   ]
  },
  {
   "cell_type": "code",
   "execution_count": null,
   "id": "5bc32952",
   "metadata": {},
   "outputs": [],
   "source": [
    "results\n",
    "#.iloc[:2,:]"
   ]
  },
  {
   "cell_type": "code",
   "execution_count": null,
   "id": "135e5a36",
   "metadata": {},
   "outputs": [],
   "source": []
  }
 ],
 "metadata": {
  "kernelspec": {
   "display_name": "Python 3 (ipykernel)",
   "language": "python",
   "name": "python3"
  },
  "language_info": {
   "codemirror_mode": {
    "name": "ipython",
    "version": 3
   },
   "file_extension": ".py",
   "mimetype": "text/x-python",
   "name": "python",
   "nbconvert_exporter": "python",
   "pygments_lexer": "ipython3",
   "version": "3.7.16"
  }
 },
 "nbformat": 4,
 "nbformat_minor": 5
}
