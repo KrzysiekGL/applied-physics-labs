{
 "cells": [
  {
   "cell_type": "markdown",
   "id": "1dddce41",
   "metadata": {},
   "source": [
    "# Języki Programowania Python i R\n",
    "\n",
    "\n",
    "## dr inż. Patryk Jasik\n",
    "### Division of Theoretical Physics and Quantum Information\n",
    "### Institute of Physics and Computer Science\n",
    "### Faculty of Applied Physics and Mathematics\n",
    "### Gdansk University of Technology"
   ]
  },
  {
   "cell_type": "code",
   "execution_count": null,
   "id": "95657be4",
   "metadata": {},
   "outputs": [],
   "source": [
    "#ładowanie bibliotek\n",
    "from pandas import read_csv\n",
    "from pandas import datetime\n",
    "import random as rnd\n",
    "\n",
    "import pandas as pd\n",
    "import matplotlib.pyplot as plt\n",
    "import numpy as np"
   ]
  },
  {
   "cell_type": "code",
   "execution_count": null,
   "id": "6296e463",
   "metadata": {},
   "outputs": [],
   "source": [
    "#ustawienia wykresów i wyświetlanie liczb zmiennoprzecinkowych\n",
    "get_ipython().run_line_magic('matplotlib', 'inline')\n",
    "plt.rc('figure', figsize=(8, 5))\n",
    "np.set_printoptions(precision=8, suppress=True)"
   ]
  },
  {
   "cell_type": "code",
   "execution_count": null,
   "id": "acc75c70",
   "metadata": {},
   "outputs": [],
   "source": [
    "#tworzymy funkcję, która będzie interpretowała daty w zadany przez nas sposób\n",
    "def parser(x):\n",
    "    return datetime.strptime('202'+x, '%Y-%m')"
   ]
  },
  {
   "cell_type": "code",
   "execution_count": null,
   "id": "1c0af0b2",
   "metadata": {
    "scrolled": true
   },
   "outputs": [],
   "source": [
    "#wczytujemy plik z danymi\n",
    "series = read_csv('dane/shampoo-sales.csv',\n",
    "                  header=0,\n",
    "                  index_col=0,\n",
    "                  parse_dates=True,\n",
    "                  squeeze=True,\n",
    "                  date_parser=parser)\n",
    "series"
   ]
  },
  {
   "cell_type": "code",
   "execution_count": null,
   "id": "13331f13",
   "metadata": {},
   "outputs": [],
   "source": [
    "series['2022']"
   ]
  },
  {
   "cell_type": "code",
   "execution_count": null,
   "id": "2e325e38",
   "metadata": {},
   "outputs": [],
   "source": [
    "type(series)"
   ]
  },
  {
   "cell_type": "code",
   "execution_count": null,
   "id": "62fea5c2",
   "metadata": {},
   "outputs": [],
   "source": [
    "series.plot()"
   ]
  },
  {
   "cell_type": "code",
   "execution_count": null,
   "id": "2701b499",
   "metadata": {},
   "outputs": [],
   "source": [
    "# funkcja autokorelacji\n",
    "pd.plotting.autocorrelation_plot(series)\n",
    "plt.show()"
   ]
  },
  {
   "cell_type": "code",
   "execution_count": null,
   "id": "5bf8a4de",
   "metadata": {},
   "outputs": [],
   "source": [
    "#dokonujemy zmiany próbkowania szergu (upsample -> z miesięcy na dni)\n",
    "upsampled = series.resample('D').mean()\n",
    "print(upsampled.head(32))"
   ]
  },
  {
   "cell_type": "code",
   "execution_count": null,
   "id": "c61a0cea",
   "metadata": {},
   "outputs": [],
   "source": [
    "#do wypełnienia pustych wartości wykorzystujemy różne rodzaje interpolacji\n",
    "#interpolated = upsampled.interpolate(method='linear')\n",
    "interpolated = upsampled.interpolate(method='spline', order=2)\n",
    "print(interpolated.head(32))"
   ]
  },
  {
   "cell_type": "code",
   "execution_count": null,
   "id": "8be10f86",
   "metadata": {},
   "outputs": [],
   "source": [
    "interpolated.plot()"
   ]
  },
  {
   "cell_type": "code",
   "execution_count": null,
   "id": "6f3ea2b6",
   "metadata": {},
   "outputs": [],
   "source": [
    "#możemy również zmniejszyć częstotliwość próbkowania szergu (downsample -> z miesięcy na kwartały lub lata)\n",
    "#resample = series.resample('Q')\n",
    "resample = series.resample('A')\n",
    "resample\n"
   ]
  },
  {
   "cell_type": "code",
   "execution_count": null,
   "id": "d92d0d6b",
   "metadata": {},
   "outputs": [],
   "source": [
    "#dla kwartałów wyznaczamy średnią, natomiast dla lat sumujemy dane\n",
    "#quarterly_mean_sales = resample.mean()\n",
    "yearly_sum_sales = resample.sum()\n",
    "#quarterly_mean_sales.head()\n",
    "yearly_sum_sales"
   ]
  },
  {
   "cell_type": "code",
   "execution_count": null,
   "id": "85cb9230",
   "metadata": {},
   "outputs": [],
   "source": [
    "yearly_sum_sales.plot()"
   ]
  },
  {
   "cell_type": "code",
   "execution_count": null,
   "id": "4d38f6d1",
   "metadata": {},
   "outputs": [],
   "source": [
    "#transformacje szeregów czasowych w celu redukcji szumów i poprawieniu jakości sygnału\n",
    "#Wczytanie danych\n",
    "series = read_csv('dane/airline-passengers.csv',\n",
    "                  header=0,\n",
    "                  index_col=0,\n",
    "                  parse_dates=True, squeeze=True)\n",
    "plt.figure(1)\n",
    "# linia\n",
    "plt.subplot(211)\n",
    "plt.plot(series)\n",
    "# histogram\n",
    "plt.subplot(212)\n",
    "plt.hist(series)\n",
    "plt.show()"
   ]
  },
  {
   "cell_type": "code",
   "execution_count": null,
   "id": "0dbe593c",
   "metadata": {},
   "outputs": [],
   "source": [
    "#przykład 1: trend zmienia się jak funkcja kwadratowa\n",
    "series = [i**2 for i in range(1,20)]\n",
    "plt.figure(1)\n",
    "# linia\n",
    "plt.subplot(211)\n",
    "plt.plot(series)\n",
    "# histogram\n",
    "plt.subplot(212)\n",
    "plt.hist(series)\n",
    "plt.show()"
   ]
  },
  {
   "cell_type": "code",
   "execution_count": null,
   "id": "89c680eb",
   "metadata": {},
   "outputs": [],
   "source": [
    "#Przykład 1\n",
    "series = [i**2 for i in range(1,20)]\n",
    "#usunięcie trendu polega na spierwiastkowaniu szeregu\n",
    "transform = np.sqrt(series)\n",
    "plt.figure(1)\n",
    "# linia\n",
    "plt.subplot(211)\n",
    "plt.plot(transform)\n",
    "# histogram\n",
    "plt.subplot(212)\n",
    "plt.hist(transform)\n",
    "plt.show()"
   ]
  },
  {
   "cell_type": "code",
   "execution_count": null,
   "id": "6b70aba7",
   "metadata": {},
   "outputs": [],
   "source": [
    "#poprzez pierwiastkowanie próbujemy zmienić trend na liniowy, a rozkład na gaussowski\n",
    "series = read_csv('dane/airline-passengers.csv',\n",
    "                  header=0,\n",
    "                  index_col=0,\n",
    "                  parse_dates=True, squeeze=True)\n",
    "\n",
    "dataframe = pd.DataFrame(series.values)\n",
    "dataframe.columns = ['passengers']\n",
    "dataframe['passengers'] = np.sqrt(dataframe['passengers'])\n",
    "\n",
    "plt.figure(1)\n",
    "# linia\n",
    "plt.subplot(211)\n",
    "plt.plot(dataframe['passengers'])\n",
    "# histogram\n",
    "plt.subplot(212)\n",
    "plt.hist(dataframe['passengers'])\n",
    "plt.show()"
   ]
  },
  {
   "cell_type": "code",
   "execution_count": null,
   "id": "b04ca8ed",
   "metadata": {},
   "outputs": [],
   "source": [
    "#jeżeli jednak trend rośnie wykładniczo możemy zlogarytmować szereg\n",
    "series = read_csv('dane/airline-passengers.csv', header=0, index_col=0, parse_dates=True, squeeze=True)\n",
    "\n",
    "dataframe = pd.DataFrame(series.values)\n",
    "dataframe.columns = ['passengers']\n",
    "dataframe['passengers'] = np.log(dataframe['passengers'])\n",
    "\n",
    "plt.figure(1)\n",
    "# linia\n",
    "plt.subplot(211)\n",
    "plt.plot(dataframe['passengers'])\n",
    "# histogram\n",
    "plt.subplot(212)\n",
    "plt.hist(dataframe['passengers'])\n",
    "plt.show()"
   ]
  },
  {
   "cell_type": "code",
   "execution_count": null,
   "id": "1d550b0c",
   "metadata": {},
   "outputs": [],
   "source": [
    "# transformacja Box-Cox jest transformacją parametryczną, w której sterujemy parametrem lambda\n",
    "#w zależności od wartości tego parametru otrzymujemy różne przekształcenia szeregów\n",
    "#np. lambda = 0.0 logarytmowanie, lambda = 0.5 pierwiastkowanie, lambda = 1.0 brak transformacji\n",
    "from scipy.stats import boxcox\n",
    "\n",
    "series = read_csv('dane/airline-passengers.csv', header=0, index_col=0, parse_dates=True, squeeze=True)\n",
    "dataframe = pd.DataFrame(series.values)\n",
    "dataframe.columns = ['passengers']\n",
    "dataframe['passengers'] = boxcox(dataframe['passengers'], lmbda=0.5)\n",
    "\n",
    "plt.figure(1)\n",
    "# line plot\n",
    "plt.subplot(211)\n",
    "plt.plot(dataframe['passengers'])\n",
    "# histogram\n",
    "plt.subplot(212)\n",
    "plt.hist(dataframe['passengers'])\n",
    "plt.show()"
   ]
  },
  {
   "cell_type": "code",
   "execution_count": null,
   "id": "98e69b97",
   "metadata": {},
   "outputs": [],
   "source": [
    "#możemy również automatycznie wyznaczyć najlepszy parametr lambda dla rozważanego szeregu\n",
    "series = read_csv('dane/airline-passengers.csv', header=0, index_col=0, parse_dates=True, squeeze=True)\n",
    "dataframe = pd.DataFrame(series.values)\n",
    "dataframe.columns = ['passengers']\n",
    "dataframe['passengers'], lam = boxcox(dataframe['passengers'])\n",
    "\n",
    "print('Lambda: %f' % lam)\n",
    "\n",
    "plt.figure(1)\n",
    "# line plot\n",
    "plt.subplot(211)\n",
    "plt.plot(dataframe['passengers'])\n",
    "# histogram\n",
    "plt.subplot(212)\n",
    "plt.hist(dataframe['passengers'])\n",
    "plt.show()"
   ]
  },
  {
   "cell_type": "code",
   "execution_count": null,
   "id": "53db2bf7",
   "metadata": {},
   "outputs": [],
   "source": [
    "# zastosowanie średniej kroczącej w celu przygotowania danych\n",
    "#wczytanie danych\n",
    "series = read_csv('dane/daily-total-female-births.csv',\n",
    "                  header=0,\n",
    "                  index_col=0, parse_dates=True, squeeze=True)"
   ]
  },
  {
   "cell_type": "code",
   "execution_count": null,
   "id": "71c4cd55",
   "metadata": {},
   "outputs": [],
   "source": [
    "series[:30].plot()"
   ]
  },
  {
   "cell_type": "code",
   "execution_count": null,
   "id": "f49bf9ef",
   "metadata": {},
   "outputs": [],
   "source": [
    "series.head(10)"
   ]
  },
  {
   "cell_type": "code",
   "execution_count": null,
   "id": "ef3a0d40",
   "metadata": {},
   "outputs": [],
   "source": [
    "# wyznaczenie wartości średniej dla trzech wartości t-2, t-1 i t\n",
    "rolling = series.rolling(window=7)\n",
    "print(rolling)\n"
   ]
  },
  {
   "cell_type": "code",
   "execution_count": null,
   "id": "e6152c41",
   "metadata": {},
   "outputs": [],
   "source": [
    "rolling_mean = rolling.mean()\n",
    "print(rolling_mean.head(10))"
   ]
  },
  {
   "cell_type": "code",
   "execution_count": null,
   "id": "89738211",
   "metadata": {},
   "outputs": [],
   "source": [
    "rolling_mean.tail(10)"
   ]
  },
  {
   "cell_type": "code",
   "execution_count": null,
   "id": "eb0c1bc4",
   "metadata": {},
   "outputs": [],
   "source": [
    "#wykres danych oryginalnych i po zastosowaniu średniej kroczącej\n",
    "series.plot()\n",
    "rolling_mean.plot(color='red')\n",
    "plt.show()"
   ]
  },
  {
   "cell_type": "code",
   "execution_count": null,
   "id": "84a168e8",
   "metadata": {},
   "outputs": [],
   "source": [
    "# wykres części danych oryginalnych i po zastosowaniu średniej kroczącej\n",
    "series[:100].plot()\n",
    "rolling_mean[:100].plot(color='red')\n",
    "plt.show()"
   ]
  },
  {
   "cell_type": "code",
   "execution_count": null,
   "id": "3b90aa92",
   "metadata": {},
   "outputs": [],
   "source": [
    "# średnia krocząca w celu tworzenia\n",
    "# nowych cech szeregu (feature engineering)\n",
    "\n",
    "#wczytanie danych\n",
    "series = read_csv('dane/daily-total-female-births.csv', header=0, index_col=0, parse_dates=True, squeeze=True)\n",
    "df = pd.DataFrame(series.values)\n",
    "\n"
   ]
  },
  {
   "cell_type": "code",
   "execution_count": null,
   "id": "7cb88970",
   "metadata": {},
   "outputs": [],
   "source": [
    "df"
   ]
  },
  {
   "cell_type": "code",
   "execution_count": null,
   "id": "18236c0b",
   "metadata": {},
   "outputs": [],
   "source": [
    "width = 4 #szerokość okna\n",
    "\n",
    "lag1 = df.shift(2) #przesunięcie oryginalnego szeregu o jeden krok czasowy\n",
    "lag3 = df.shift(width - 1) #przesunięcie oryginalnego szeregu o krok czasowy zależny od rozmiaru okna\n",
    "window = lag3.rolling(window=width) \n",
    "means = window.mean() #wyznaczenie średniej kroczącej\n",
    "\n",
    "dataframe = pd.concat([means, lag1, df], axis=1) #połączenie kolumn w jedną ramkę danych\n",
    "dataframe.columns = ['mean', 't', 't+1']\n",
    "dataframe.head(20)"
   ]
  },
  {
   "cell_type": "code",
   "execution_count": null,
   "id": "698c37a3",
   "metadata": {},
   "outputs": [],
   "source": [
    "#średnia krocząca jako naiwny podel predykcyjny\n",
    "from sklearn.metrics import mean_squared_error\n",
    "\n",
    "series = read_csv('dane/daily-total-female-births.csv',\n",
    "                  header=0,\n",
    "                  index_col=0, parse_dates=True, squeeze=True)\n",
    "\n",
    "# przygotowanie zmiennych\n",
    "X = series.values\n",
    "window = 3\n",
    "history = [X[i] for i in range(window)]\n",
    "test = [X[i] for i in range(window, len(X))]\n",
    "predictions = list()\n",
    "\n",
    "# wyznaczanie średniej kroczącej w celu obliczenia przyszłych wartości szeregu czasowego\n",
    "for t in range(len(test)):\n",
    "    length = len(history)\n",
    "    yhat = np.mean([history[i] for i in range(length-window,length)])\n",
    "    obs = test[t]\n",
    "    predictions.append(yhat)\n",
    "    history.append(obs)\n",
    "    print('predicted=%f, expected=%f' % (yhat, obs))\n",
    "rmse = mean_squared_error(test, predictions, squared=False)\n",
    "print('Test RMSE: %.3f' % rmse)"
   ]
  },
  {
   "cell_type": "code",
   "execution_count": null,
   "id": "cd4bcec3",
   "metadata": {},
   "outputs": [],
   "source": [
    "series = read_csv('dane/daily-total-female-births.csv',\n",
    "                  header=0,\n",
    "                  index_col=0, parse_dates=True, squeeze=True)\n",
    "\n",
    "# przygotowanie zmiennych\n",
    "X = series.values\n",
    "window = 3\n",
    "history = [X[i] for i in range(window)]\n",
    "test = [X[i] for i in range(window, len(X))]\n",
    "predictions = list()\n",
    "\n",
    "# wyznaczanie średniej kroczącej w celu obliczenia przyszłych wartości szeregu czasowego\n",
    "for t in range(len(test)):\n",
    "    length = len(history)\n",
    "    yhat = np.mean([history[i] for i in range(length-window,length)])\n",
    "    obs = test[t]\n",
    "    predictions.append(yhat)\n",
    "    history.append(obs)\n",
    "    print('predicted=%f, expected=%f' % (yhat, obs))\n",
    "rmse = mean_squared_error(test, predictions, squared=False)\n",
    "print('Test RMSE: %.3f' % rmse)"
   ]
  },
  {
   "cell_type": "code",
   "execution_count": null,
   "id": "4093c228",
   "metadata": {},
   "outputs": [],
   "source": [
    "series = read_csv('dane/daily-total-female-births.csv',\n",
    "                  header=0,\n",
    "                  index_col=0, parse_dates=True, squeeze=True)\n",
    "\n",
    "# przygotowanie zmiennych\n",
    "X = series.values\n",
    "window = 1\n",
    "history = [X[i] for i in range(window)]\n",
    "test = [X[i] for i in range(window, len(X))]\n",
    "predictions = list()\n",
    "\n",
    "# wyznaczanie średniej kroczącej w celu obliczenia przyszłych wartości szeregu czasowego\n",
    "for t in range(len(test)):\n",
    "    length = len(history)\n",
    "    yhat = np.mean([history[i] for i in range(length-window,length)])\n",
    "    obs = test[t]\n",
    "    predictions.append(yhat)\n",
    "    history.append(obs)\n",
    "    print('predicted=%f, expected=%f' % (yhat, obs))\n",
    "rmse = mean_squared_error(test, predictions, squared=False)\n",
    "print('Test RMSE: %.3f' % rmse)"
   ]
  },
  {
   "cell_type": "code",
   "execution_count": null,
   "id": "edcb0632",
   "metadata": {},
   "outputs": [],
   "source": [
    "# wykres\n",
    "plt.plot(test)\n",
    "plt.plot(predictions, color='red')\n",
    "plt.show()"
   ]
  },
  {
   "cell_type": "code",
   "execution_count": null,
   "id": "1d41b48b",
   "metadata": {},
   "outputs": [],
   "source": [
    "#biały szum\n",
    "#jeżeli szereg czasowy okaże się być białym szumem (całkowita losowość) wówczas rozsądna predykcja nie jest możliwa\n",
    "#błąd predykcji szeregu czasowego powinien być białym szumem, wówczas jesteśmy pewni,\n",
    "#że model został zbudowany na esencji sygnału\n",
    "#szereg czasowy nie jest białym szumem jeżeli któreś z poniższych pytań jest prawdziwe:\n",
    "#1. czy średnia jest niezerowa?\n",
    "#2. czy wariancja zmienia się w czasie?\n",
    "#3. czy wartości szeregu korelują ze sobą po przesunięciu o lag?"
   ]
  },
  {
   "cell_type": "code",
   "execution_count": null,
   "id": "eff48c51",
   "metadata": {},
   "outputs": [],
   "source": [
    "#przykład białego szumu\n",
    "\n",
    "from random import gauss\n",
    "from random import seed\n",
    "\n",
    "seed(1)\n",
    "series = [gauss(0.0, 1.0) for i in range(1000)]\n",
    "series = pd.Series(series)"
   ]
  },
  {
   "cell_type": "code",
   "execution_count": null,
   "id": "aba4ced5",
   "metadata": {},
   "outputs": [],
   "source": [
    "series.describe()"
   ]
  },
  {
   "cell_type": "code",
   "execution_count": null,
   "id": "fa003f67",
   "metadata": {},
   "outputs": [],
   "source": [
    "# wykres\n",
    "series.plot()\n",
    "plt.show()"
   ]
  },
  {
   "cell_type": "code",
   "execution_count": null,
   "id": "b9ce6aaa",
   "metadata": {},
   "outputs": [],
   "source": [
    "# histogram\n",
    "series.hist()\n",
    "plt.show()"
   ]
  },
  {
   "cell_type": "code",
   "execution_count": null,
   "id": "2574c243",
   "metadata": {},
   "outputs": [],
   "source": [
    "# funkcja autokorelacji\n",
    "pd.plotting.autocorrelation_plot(series)\n",
    "plt.show()"
   ]
  },
  {
   "cell_type": "code",
   "execution_count": null,
   "id": "ed1b3e20",
   "metadata": {},
   "outputs": [],
   "source": [
    "#błądzenie losowe (random walk)\n",
    "#błądzenie losowe pozwala na zrozumienie przewidywalności szeregu czasowego\n",
    "\n",
    "# tworzymy i rysujemy przykładowe błądzenie losowe\n",
    "seed(123)\n",
    "random_walk = list()\n",
    "random_walk.append(-1 if rnd.random() < 0.5 else 1)\n",
    "for i in range(1, 1000):\n",
    "    movement = -1 if rnd.random() < 0.5 else 1\n",
    "    value = random_walk[i-1] + movement\n",
    "    random_walk.append(value)\n",
    "plt.plot(random_walk)\n",
    "plt.show()"
   ]
  },
  {
   "cell_type": "code",
   "execution_count": null,
   "id": "2e0fbe4e",
   "metadata": {},
   "outputs": [],
   "source": [
    "# funkcja autokorelacji (FA) błądzenia losowego\n",
    "# FA pokazuje, że błądzenie losowe nie jest szeregiem stacjonarnym\n",
    "pd.plotting.autocorrelation_plot(random_walk)\n",
    "plt.show()"
   ]
  },
  {
   "cell_type": "code",
   "execution_count": null,
   "id": "6a9fdec9",
   "metadata": {},
   "outputs": [],
   "source": [
    "np.mean(random_walk)"
   ]
  },
  {
   "cell_type": "code",
   "execution_count": null,
   "id": "f1d0ccbf",
   "metadata": {},
   "outputs": [],
   "source": [
    "# do wiarygodnego sprawdzenia stacjonarności szeregu służy\n",
    "#rozszerzony test Dickey-Fullera (ADF)\n",
    "# hipoteza zerowa testu to szereg czasowy jest niestacjonarny\n",
    "# w wyniku testu dostajemy wartość większą od wszystkich\n",
    "#krytycznych poziomów ufności\n",
    "# zatem szereg czasowy jest niestacjonarny\n",
    "from statsmodels.tsa.stattools import adfuller\n",
    "\n",
    "result = adfuller(series)\n",
    "print('ADF Statistic: %f' % result[0])\n",
    "print('p-value: %f' % result[1])\n",
    "print('Critical Values:')\n",
    "for key, value in result[4].items():\n",
    "    print('\\t%s: %.3f' % (key, value))"
   ]
  },
  {
   "cell_type": "code",
   "execution_count": null,
   "id": "00ae8b56",
   "metadata": {},
   "outputs": [],
   "source": [
    "series = read_csv('dane/daily-total-female-births.csv',\n",
    "                  header=0,\n",
    "                  index_col=0, parse_dates=True, squeeze=True)"
   ]
  },
  {
   "cell_type": "code",
   "execution_count": null,
   "id": "aab3ef00",
   "metadata": {},
   "outputs": [],
   "source": [
    "series.plot()"
   ]
  },
  {
   "cell_type": "code",
   "execution_count": null,
   "id": "3e031a1c",
   "metadata": {},
   "outputs": [],
   "source": [
    "pd.plotting.autocorrelation_plot(random_walk)\n",
    "plt.show()"
   ]
  },
  {
   "cell_type": "code",
   "execution_count": null,
   "id": "890dd317",
   "metadata": {},
   "outputs": [],
   "source": [
    "series.describe()"
   ]
  },
  {
   "cell_type": "code",
   "execution_count": null,
   "id": "dff7cfd5",
   "metadata": {},
   "outputs": [],
   "source": [
    "result = adfuller(diff)\n",
    "print('ADF Statistic: %f' % result[0])\n",
    "print('p-value: %f' % result[1])\n",
    "print('Critical Values:')\n",
    "for key, value in result[4].items():\n",
    "    print('\\t%s: %.3f' % (key, value))"
   ]
  },
  {
   "cell_type": "code",
   "execution_count": null,
   "id": "39fb7e84",
   "metadata": {},
   "outputs": [],
   "source": [
    "(series-series.mean()).mean()"
   ]
  },
  {
   "cell_type": "code",
   "execution_count": null,
   "id": "24218a8f",
   "metadata": {},
   "outputs": [],
   "source": [
    "#z szeregu, który jest błądzeniem losowym możemy stworzyć szereg stacjonarny\n",
    "\n",
    "#skoro w błądzeniu losowym kolejne wartości zależą od poprzednich, usunięcie tych róźnic stworzy szereg stacjonarny\n",
    "#szereg nie zawiera teraz żadnych struktur które można wykorzystać w uczeniu maszynowym\n",
    "diff = list()\n",
    "for i in range(1, len(random_walk)):\n",
    "    value = random_walk[i] - random_walk[i - 1]\n",
    "    diff.append(value)\n",
    "# wykres różnic\n",
    "plt.plot(diff)\n",
    "plt.show()"
   ]
  },
  {
   "cell_type": "code",
   "execution_count": null,
   "id": "b2d281dd",
   "metadata": {},
   "outputs": [],
   "source": [
    "plt.hist(diff)\n",
    "plt.show()"
   ]
  },
  {
   "cell_type": "code",
   "execution_count": null,
   "id": "ae488441",
   "metadata": {},
   "outputs": [],
   "source": [
    "#i jeszcze FA\n",
    "#wyraźnie widać, że korelacje są małe i poniżej 95% i 99% przedziału ufności\n",
    "pd.plotting.autocorrelation_plot(diff)\n",
    "plt.ylim(-0.5,0.5)\n",
    "plt.show()\n"
   ]
  },
  {
   "cell_type": "code",
   "execution_count": null,
   "id": "c1850bc0",
   "metadata": {},
   "outputs": [],
   "source": [
    "plt.plot(random_walk)\n",
    "plt.show()"
   ]
  },
  {
   "cell_type": "code",
   "execution_count": null,
   "id": "3f7f3ac7",
   "metadata": {},
   "outputs": [],
   "source": [
    "#nie można przeprowadzić rozsądnej predykcji błądzenia losowego\n",
    "#można jedynie wykonać naiwną predykcję bazując na najbliższych wartościach szeregu t-1 -> t\n",
    "\n",
    "# dzielimy dane na zbiór uczący i testowy\n",
    "train_size = int(len(random_walk) * 0.66)\n",
    "train, test = random_walk[0:train_size], random_walk[train_size:]\n",
    "\n",
    "# naiwna predykcja uwzględniająca zmianę między kolejnymi\n",
    "# elementami równą 1\n",
    "predictions = list()\n",
    "history = train[-1]\n",
    "for i in range(len(test)):\n",
    "    yhat = history\n",
    "    predictions.append(yhat)\n",
    "    history = test[i]\n",
    "rmse = np.sqrt(mean_squared_error(test, predictions))\n",
    "print('RMSE: %.3f' % rmse)\n"
   ]
  },
  {
   "cell_type": "code",
   "execution_count": null,
   "id": "05e80df5",
   "metadata": {},
   "outputs": [],
   "source": [
    "# naiwna predykcja uwzględniająca kierunek i wartość zmiany między kolejnymi elementami równą +/-1\n",
    "predictions = list()\n",
    "history = train[-1]\n",
    "for i in range(len(test)):\n",
    "    yhat = history + (-1 if rnd.random() < 0.5 else 1)\n",
    "    predictions.append(yhat)\n",
    "    history = test[i]\n",
    "rmse = np.sqrt(mean_squared_error(test, predictions))\n",
    "print('RMSE: %.3f' % rmse)"
   ]
  },
  {
   "cell_type": "code",
   "execution_count": null,
   "id": "d357b130",
   "metadata": {},
   "outputs": [],
   "source": [
    "#dekompozycja szeregów czasowych\n",
    "#szereg czasowy można rozłożyć na dwa główne komponenty\n",
    "#1. systematyczne - elementy szeregu, które są konsystentne lub\n",
    "# rekurencyjne i mogą opisane i modelowane\n",
    "#2. niesystematyczne - elementy szeregu, które nie mogą być\n",
    "# bezpośrednio modelowane\n",
    "\n",
    "#Komponenty systematyczne to: poziom (wartość średnia),\n",
    "# trend (występuje opcjonalnie) i sezonowość (występuje opcjonalnie)\n",
    "#Komponent niesystematyczny to szum.\n",
    "\n",
    "#Możemy rozważać dwa modele szeregów czasowych:\n",
    "#1. addytywne (liniowe): poziom + trend + sezonowość + szum\n",
    "#2. multiplikatywne (nieliniowe): poziom * trend * sezonowość * szum"
   ]
  },
  {
   "cell_type": "code",
   "execution_count": null,
   "id": "684bfec8",
   "metadata": {},
   "outputs": [],
   "source": [
    "# przykład dekompozycji szeregu czasowego przy założeniu modelu addytywnego\n",
    "\n",
    "from statsmodels.tsa.seasonal import seasonal_decompose\n",
    "series = [i + rnd.randrange(10) for i in range(1,100)]\n",
    "result_add = seasonal_decompose(series, model='additive', freq=1)\n",
    "result_add.plot()\n",
    "plt.show()"
   ]
  },
  {
   "cell_type": "code",
   "execution_count": null,
   "id": "b65c2784",
   "metadata": {},
   "outputs": [],
   "source": [
    "#poszczególne składowe dekompozycji są zapisywane w odpowiednich zmiennych\n",
    "print(result_add.trend)\n",
    "print(result_add.seasonal)\n",
    "print(result_add.resid)\n",
    "print(result_add.observed)"
   ]
  },
  {
   "cell_type": "code",
   "execution_count": null,
   "id": "6537b6c6",
   "metadata": {},
   "outputs": [],
   "source": [
    "series = [i**2.0 for i in range(1,100)]\n",
    "result_multi = seasonal_decompose(series, model='multiplicative', freq=1)\n",
    "result_multi.plot()\n",
    "plt.show()"
   ]
  },
  {
   "cell_type": "code",
   "execution_count": null,
   "id": "49f176e9",
   "metadata": {},
   "outputs": [],
   "source": [
    "series = [np.sin(i)+1 for i in range(1,100)]\n",
    "result_multi = seasonal_decompose(series, model='multiplicative', freq=1)\n",
    "result_multi.plot()\n",
    "plt.show()"
   ]
  },
  {
   "cell_type": "code",
   "execution_count": null,
   "id": "463d0165",
   "metadata": {},
   "outputs": [],
   "source": [
    "# dekompozycja rzeczywistego szeregu czasowego - model multiplikatywny\n",
    "series = read_csv('dane/airline-passengers.csv', header=0, index_col=0, parse_dates=True, squeeze=True)\n",
    "series.plot()"
   ]
  },
  {
   "cell_type": "code",
   "execution_count": null,
   "id": "8a5ff5e9",
   "metadata": {},
   "outputs": [],
   "source": [
    "result = seasonal_decompose(series, model='multiplicative')\n",
    "result.plot()\n",
    "plt.show()"
   ]
  },
  {
   "cell_type": "code",
   "execution_count": null,
   "id": "5cd9855a",
   "metadata": {},
   "outputs": [],
   "source": [
    "result = seasonal_decompose(series, model='additive')\n",
    "result.plot()\n",
    "plt.show()"
   ]
  },
  {
   "cell_type": "code",
   "execution_count": null,
   "id": "78c77717",
   "metadata": {},
   "outputs": [],
   "source": [
    "#Usuwanie trendu z szeregu czasowego\n",
    "#Możemy wyróżnić kilka cech trendów:\n",
    "#1. Deterministyczne (monotonicznie rosnące lub malejące) \n",
    "# i stochastyczne (monotoniczność trendu się zmienia)\n",
    "#2. Globalne i lokalne\n",
    "\n",
    "#Szereg czasowy z trendem to szereg niestacjonarny.\n",
    "#Usunięcie trendu z szeregu czasowego powoduje, że staje się on stacjonarny.\n",
    "\n",
    "#Z punktu widzenia uczenia maszynowego usunięcie trendu\n",
    "# zmniejsza zaburzenia pomiędzy danymi wejściowymi i wyjściowymi.\n",
    "#Z drugiej strony dodanie trendu może poprawić relację pomiędzy predyktorami a zmienną celu.\n",
    "\n"
   ]
  },
  {
   "cell_type": "code",
   "execution_count": null,
   "id": "39595f76",
   "metadata": {},
   "outputs": [],
   "source": [
    "#Usuwanie trendu poprzez różnicowanie szeregu czasowego\n",
    "\n",
    "def parser(x):\n",
    "    return datetime.strptime('202'+x, '%Y-%m')\n",
    "\n",
    "series = read_csv('dane/shampoo-sales.csv', header=0, index_col=0, parse_dates=True, squeeze=True, date_parser=parser)\n",
    "X = series.values\n",
    "print(np.mean(X))"
   ]
  },
  {
   "cell_type": "code",
   "execution_count": null,
   "id": "2e57a55c",
   "metadata": {},
   "outputs": [],
   "source": [
    "#trend wznoszący jest wyraźnie widoczny na wykresie\n",
    "plt.plot(X)\n",
    "plt.show()"
   ]
  },
  {
   "cell_type": "code",
   "execution_count": null,
   "id": "9cba26b3",
   "metadata": {},
   "outputs": [],
   "source": [
    "# tworzymy nową zmienną, która jest różnicą dwóch\n",
    "# kolejnych wartości szeregu\n",
    "# new_x(t) = x(t) - x(t-1)\n",
    "diff = list()\n",
    "for i in range(1, len(X)):\n",
    "    value = X[i] - X[i - 1]\n",
    "    diff.append(value)\n",
    "\n",
    "print(np.mean(diff))\n",
    "#plt.plot(X)\n",
    "plt.plot(diff)\n",
    "plt.show()"
   ]
  },
  {
   "cell_type": "code",
   "execution_count": null,
   "id": "8172d2c5",
   "metadata": {},
   "outputs": [],
   "source": [
    "#Usuwanie trendu poprzez budowanie modelu regresyjnego \n",
    "\n",
    "from sklearn.linear_model import LinearRegression\n",
    "\n",
    "# budujemy model regrsji liniowej\n",
    "X = [i for i in range(0, len(series))]\n",
    "X = np.reshape(X, (len(X), 1))\n",
    "y = series.values\n",
    "model = LinearRegression()\n",
    "model.fit(X, y)"
   ]
  },
  {
   "cell_type": "code",
   "execution_count": null,
   "id": "9465edd0",
   "metadata": {},
   "outputs": [],
   "source": [
    "# wyznaczamy trend liniowy korzystając z modelu\n",
    "trend = model.predict(X)\n",
    "\n",
    "# wykres danych i trendu\n",
    "plt.plot(y)\n",
    "plt.plot(trend)\n",
    "plt.show()"
   ]
  },
  {
   "cell_type": "code",
   "execution_count": null,
   "id": "4142fa56",
   "metadata": {},
   "outputs": [],
   "source": [
    "# usuwamy trend \n",
    "detrended = [y[i]-trend[i] for i in range(0, len(series))]\n",
    "\n",
    "# rusujemy dane bez trendu\n",
    "print(np.mean(detrended))\n",
    "plt.plot(detrended)\n",
    "plt.show()"
   ]
  },
  {
   "cell_type": "code",
   "execution_count": null,
   "id": "d2c7483d",
   "metadata": {},
   "outputs": [],
   "source": [
    "plt.hist(detrended)\n",
    "plt.show()"
   ]
  },
  {
   "cell_type": "code",
   "execution_count": null,
   "id": "eb4c8935",
   "metadata": {},
   "outputs": [],
   "source": [
    "result = adfuller(detrended)\n",
    "print('ADF Statistic: %f' % result[0])\n",
    "print('p-value: %f' % result[1])\n",
    "print('Critical Values:')\n",
    "for key, value in result[4].items():\n",
    "    print('\\t%s: %.3f' % (key, value))"
   ]
  },
  {
   "cell_type": "code",
   "execution_count": null,
   "id": "5dd4c390",
   "metadata": {},
   "outputs": [],
   "source": [
    "result = seasonal_decompose(series, model='multiplicative')\n",
    "result.plot()\n",
    "plt.show()"
   ]
  },
  {
   "cell_type": "code",
   "execution_count": null,
   "id": "ccc4cddf",
   "metadata": {},
   "outputs": [],
   "source": [
    "#Wyodrębnianie sezonowości\n",
    "\n",
    "#Sezonowość może mieć znaczny wpływ na modelowanie szeregów czasowych\n",
    "#1. Czysty sygnał - usunięcie sezonowości może poprawić związek pomiędzy\n",
    "#danymi wejściowymi i wyjściowymi\n",
    "#2. Dodatkowe informacja - sezonowść może stać się kolejnym predyktorem\n",
    "\n",
    "#Szereg czasowy z usuniętą sezonowością nazywamy sezonowo stacjnarnym."
   ]
  },
  {
   "cell_type": "code",
   "execution_count": null,
   "id": "a1cec11a",
   "metadata": {},
   "outputs": [],
   "source": [
    "#wczytanie danych i wyświetlenie wykresu\n",
    "\n",
    "series = read_csv('dane/daily-minimum-temperatures.csv', header=0, index_col=0,\n",
    "                  parse_dates=True, squeeze=True)\n",
    "plt.plot(series)\n",
    "plt.show()"
   ]
  },
  {
   "cell_type": "code",
   "execution_count": null,
   "id": "8d630e9d",
   "metadata": {},
   "outputs": [],
   "source": [
    "# usunięcie sezonowości poprzez różnicowanie\n",
    "# dnia w roku do dnia w roku kolejnym\n",
    "#uwaga na lata przestępne\n",
    "X = series.values\n",
    "diff = list()\n",
    "days_in_year = 365\n",
    "for i in range(days_in_year, len(X)):\n",
    "    value = X[i] - X[i - days_in_year]\n",
    "    diff.append(value)\n",
    "plt.plot(diff)\n",
    "plt.show()\n",
    "print(np.mean(diff))"
   ]
  },
  {
   "cell_type": "code",
   "execution_count": null,
   "id": "26db4bb7",
   "metadata": {},
   "outputs": [],
   "source": [
    "#może warto rozważyć sezonowść w odstępach miesięcznych\n",
    "series = read_csv('dane/daily-minimum-temperatures.csv', header=0, index_col=0,\n",
    "                  parse_dates=True, squeeze=True)\n",
    "resample = series.resample('M')\n",
    "monthly_mean = resample.mean()\n",
    "\n",
    "print(monthly_mean.head(18))\n",
    "monthly_mean.plot()\n",
    "plt.show()"
   ]
  },
  {
   "cell_type": "code",
   "execution_count": null,
   "id": "0a1259bf",
   "metadata": {},
   "outputs": [],
   "source": [
    "# usunięcie sezonowości poprzez różnicowanie miesiąca\n",
    "# w roku do miesiąca w roku kolejnym\n",
    "\n",
    "series = read_csv('dane/daily-minimum-temperatures.csv', header=0, index_col=0,\n",
    "                  parse_dates=True, squeeze=True)\n",
    "\n",
    "resample = series.resample('M')\n",
    "monthly_mean = resample.mean()\n",
    "\n",
    "X = series.values\n",
    "diff = list()\n",
    "months_in_year = 12\n",
    "for i in range(months_in_year, len(monthly_mean)):\n",
    "    value = monthly_mean[i] - monthly_mean[i - months_in_year]\n",
    "    diff.append(value)\n",
    "plt.plot(diff)\n",
    "plt.show()\n",
    "print(np.mean(diff))"
   ]
  },
  {
   "cell_type": "code",
   "execution_count": null,
   "id": "dfe4187c",
   "metadata": {},
   "outputs": [],
   "source": [
    "# usunięcie sezonowości poprzez różnicowanie średniej miesięcznej w roku\n",
    "#do dnia w roku kolejnym\n",
    "\n",
    "series = read_csv('dane/daily-minimum-temperatures.csv', header=0, index_col=0,\n",
    "                  parse_dates=True, squeeze=True)\n",
    "X = series.values\n",
    "diff = list()\n",
    "days_in_year = 365\n",
    "for i in range(days_in_year, len(X)):\n",
    "    month_str = str(series.index[i].year-1)+'-'+str(series.index[i].month)\n",
    "    month_mean_last_year = series[month_str].mean()\n",
    "    value = X[i] - month_mean_last_year\n",
    "    diff.append(value)\n",
    "\n",
    "plt.plot(diff)\n",
    "plt.show()\n",
    "print(np.mean(diff))"
   ]
  },
  {
   "cell_type": "code",
   "execution_count": null,
   "id": "45500b54",
   "metadata": {},
   "outputs": [],
   "source": [
    "#podobnie jak trend, sezonowość możemy modelować za pomocą fitowania\n",
    "#funkcji okresowych (np. sinus lub cosinus) lub wielomianem w ramach sezonu (okresu)\n",
    "\n",
    "#jeżeli znajdziemy funkcję szacującą sezonowść, możemy jej użyć do predykcji \n",
    "\n",
    "# modelowanie sezonowości poprzez wielomian wybranego stopnia - super sprawa!!!\n",
    "#uwaga na lata przestępne\n",
    "\n",
    "series = read_csv('dane/daily-minimum-temperatures.csv', header=0, index_col=0,\n",
    "                  parse_dates=True, squeeze=True)\n",
    "\n",
    "# znajdujemy wielomian postaci: x^n*b1 + x^(n-1)*b2 + ... + bn dla k\n",
    "\n",
    "X = [i%365 for i in range(0, len(series))]\n",
    "y = series.values\n",
    "degree = 4\n",
    "coef = np.polyfit(X, y, degree)\n",
    "print('Coefficients: %s' % coef)\n",
    "\n",
    "\n",
    "# wyznaczamy krzywą\n",
    "curve = list()\n",
    "for i in range(len(X)):\n",
    "    value = coef[-1]\n",
    "    for d in range(degree):\n",
    "        value += X[i]**(degree-d) * coef[d]\n",
    "    curve.append(value)\n",
    "\n",
    "# tworzymy wykres porównawczy\n",
    "plt.plot(series.values)\n",
    "plt.plot(curve, color='red', linewidth=3)\n",
    "plt.show()"
   ]
  },
  {
   "cell_type": "code",
   "execution_count": null,
   "id": "c68b5c4b",
   "metadata": {},
   "outputs": [],
   "source": [
    "#posiadając wymodelowaną sezonowość możemy ją usunąć z szeregu czasowego\n",
    "#poprzez różnicowanie wartości rzeczywistej i oszacowanej\n",
    "\n",
    "values = series.values\n",
    "diff = list()\n",
    "for i in range(len(values)):\n",
    "    value = values[i] - curve[i]\n",
    "    diff.append(value)\n",
    "plt.plot(diff)\n",
    "plt.show()\n",
    "print(np.mean(diff))"
   ]
  },
  {
   "cell_type": "code",
   "execution_count": null,
   "id": "22fa7738",
   "metadata": {},
   "outputs": [],
   "source": [
    "np.std(diff)"
   ]
  },
  {
   "cell_type": "code",
   "execution_count": null,
   "id": "1d917325",
   "metadata": {},
   "outputs": [],
   "source": [
    "plt.hist(diff)\n",
    "plt.show()"
   ]
  },
  {
   "cell_type": "code",
   "execution_count": null,
   "id": "50e48ac3",
   "metadata": {},
   "outputs": [],
   "source": [
    "result = adfuller(diff)\n",
    "print('ADF Statistic: %f' % result[0])\n",
    "print('p-value: %f' % result[1])\n",
    "print('Critical Values:')\n",
    "for key, value in result[4].items():\n",
    "    print('\\t%s: %.3f' % (key, value))"
   ]
  },
  {
   "cell_type": "code",
   "execution_count": null,
   "id": "e4237016",
   "metadata": {},
   "outputs": [],
   "source": []
  }
 ],
 "metadata": {
  "kernelspec": {
   "display_name": "Python 3 (ipykernel)",
   "language": "python",
   "name": "python3"
  },
  "language_info": {
   "codemirror_mode": {
    "name": "ipython",
    "version": 3
   },
   "file_extension": ".py",
   "mimetype": "text/x-python",
   "name": "python",
   "nbconvert_exporter": "python",
   "pygments_lexer": "ipython3",
   "version": "3.7.16"
  }
 },
 "nbformat": 4,
 "nbformat_minor": 5
}
