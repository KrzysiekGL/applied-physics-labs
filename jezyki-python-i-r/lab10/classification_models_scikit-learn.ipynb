{
 "cells": [
  {
   "cell_type": "markdown",
   "id": "f462c714",
   "metadata": {},
   "source": [
    "# Języki Programowania Python i R\n",
    "\n",
    "\n",
    "## dr inż. Patryk Jasik\n",
    "### Division of Theoretical Physics and Quantum Information\n",
    "### Institute of Physics and Computer Science\n",
    "### Faculty of Applied Physics and Mathematics\n",
    "### Gdansk University of Technology"
   ]
  },
  {
   "cell_type": "markdown",
   "id": "662e8f79",
   "metadata": {},
   "source": [
    "# scikit-learn docs\n",
    "## https://scikit-learn.org/stable/"
   ]
  },
  {
   "cell_type": "code",
   "execution_count": 1,
   "id": "debf460e",
   "metadata": {
    "tags": []
   },
   "outputs": [],
   "source": [
    "#%config Completer.use_jedi = False"
   ]
  },
  {
   "cell_type": "markdown",
   "id": "bbe1da13",
   "metadata": {},
   "source": [
    "**Classification** is the problem of identifying which of a set of categories (sub-populations) an observation (or observations) belongs to."
   ]
  },
  {
   "cell_type": "code",
   "execution_count": 2,
   "id": "75003367",
   "metadata": {
    "tags": []
   },
   "outputs": [],
   "source": [
    "#loading the necessary packages\n",
    "import numpy as np\n",
    "import pandas as pd\n",
    "import matplotlib.pyplot as plt\n",
    "import seaborn as sns\n",
    "import sklearn"
   ]
  },
  {
   "cell_type": "code",
   "execution_count": 3,
   "id": "426c37bb",
   "metadata": {
    "tags": []
   },
   "outputs": [
    {
     "data": {
      "text/html": [
       "<div>\n",
       "<style scoped>\n",
       "    .dataframe tbody tr th:only-of-type {\n",
       "        vertical-align: middle;\n",
       "    }\n",
       "\n",
       "    .dataframe tbody tr th {\n",
       "        vertical-align: top;\n",
       "    }\n",
       "\n",
       "    .dataframe thead th {\n",
       "        text-align: right;\n",
       "    }\n",
       "</style>\n",
       "<table border=\"1\" class=\"dataframe\">\n",
       "  <thead>\n",
       "    <tr style=\"text-align: right;\">\n",
       "      <th></th>\n",
       "      <th>fixed.acidity</th>\n",
       "      <th>volatile.acidity</th>\n",
       "      <th>citric.acid</th>\n",
       "      <th>residual.sugar</th>\n",
       "      <th>chlorides</th>\n",
       "      <th>free.sulfur.dioxide</th>\n",
       "      <th>total.sulfur.dioxide</th>\n",
       "      <th>density</th>\n",
       "      <th>pH</th>\n",
       "      <th>sulphates</th>\n",
       "      <th>alcohol</th>\n",
       "      <th>response</th>\n",
       "      <th>color</th>\n",
       "    </tr>\n",
       "  </thead>\n",
       "  <tbody>\n",
       "    <tr>\n",
       "      <th>0</th>\n",
       "      <td>7.4</td>\n",
       "      <td>0.70</td>\n",
       "      <td>0.00</td>\n",
       "      <td>1.9</td>\n",
       "      <td>0.076</td>\n",
       "      <td>11.0</td>\n",
       "      <td>34.0</td>\n",
       "      <td>0.9978</td>\n",
       "      <td>3.51</td>\n",
       "      <td>0.56</td>\n",
       "      <td>9.4</td>\n",
       "      <td>3</td>\n",
       "      <td>red</td>\n",
       "    </tr>\n",
       "    <tr>\n",
       "      <th>1</th>\n",
       "      <td>7.8</td>\n",
       "      <td>0.88</td>\n",
       "      <td>0.00</td>\n",
       "      <td>2.6</td>\n",
       "      <td>0.098</td>\n",
       "      <td>25.0</td>\n",
       "      <td>67.0</td>\n",
       "      <td>0.9968</td>\n",
       "      <td>3.20</td>\n",
       "      <td>0.68</td>\n",
       "      <td>9.8</td>\n",
       "      <td>3</td>\n",
       "      <td>red</td>\n",
       "    </tr>\n",
       "    <tr>\n",
       "      <th>2</th>\n",
       "      <td>7.8</td>\n",
       "      <td>0.76</td>\n",
       "      <td>0.04</td>\n",
       "      <td>2.3</td>\n",
       "      <td>0.092</td>\n",
       "      <td>15.0</td>\n",
       "      <td>54.0</td>\n",
       "      <td>0.9970</td>\n",
       "      <td>3.26</td>\n",
       "      <td>0.65</td>\n",
       "      <td>9.8</td>\n",
       "      <td>3</td>\n",
       "      <td>red</td>\n",
       "    </tr>\n",
       "    <tr>\n",
       "      <th>3</th>\n",
       "      <td>11.2</td>\n",
       "      <td>0.28</td>\n",
       "      <td>0.56</td>\n",
       "      <td>1.9</td>\n",
       "      <td>0.075</td>\n",
       "      <td>17.0</td>\n",
       "      <td>60.0</td>\n",
       "      <td>0.9980</td>\n",
       "      <td>3.16</td>\n",
       "      <td>0.58</td>\n",
       "      <td>9.8</td>\n",
       "      <td>4</td>\n",
       "      <td>red</td>\n",
       "    </tr>\n",
       "    <tr>\n",
       "      <th>4</th>\n",
       "      <td>7.4</td>\n",
       "      <td>0.66</td>\n",
       "      <td>0.00</td>\n",
       "      <td>1.8</td>\n",
       "      <td>0.075</td>\n",
       "      <td>13.0</td>\n",
       "      <td>40.0</td>\n",
       "      <td>0.9978</td>\n",
       "      <td>3.51</td>\n",
       "      <td>0.56</td>\n",
       "      <td>9.4</td>\n",
       "      <td>3</td>\n",
       "      <td>red</td>\n",
       "    </tr>\n",
       "  </tbody>\n",
       "</table>\n",
       "</div>"
      ],
      "text/plain": [
       "   fixed.acidity  volatile.acidity  citric.acid  residual.sugar  chlorides  \\\n",
       "0            7.4              0.70         0.00             1.9      0.076   \n",
       "1            7.8              0.88         0.00             2.6      0.098   \n",
       "2            7.8              0.76         0.04             2.3      0.092   \n",
       "3           11.2              0.28         0.56             1.9      0.075   \n",
       "4            7.4              0.66         0.00             1.8      0.075   \n",
       "\n",
       "   free.sulfur.dioxide  total.sulfur.dioxide  density    pH  sulphates  \\\n",
       "0                 11.0                  34.0   0.9978  3.51       0.56   \n",
       "1                 25.0                  67.0   0.9968  3.20       0.68   \n",
       "2                 15.0                  54.0   0.9970  3.26       0.65   \n",
       "3                 17.0                  60.0   0.9980  3.16       0.58   \n",
       "4                 13.0                  40.0   0.9978  3.51       0.56   \n",
       "\n",
       "   alcohol  response color  \n",
       "0      9.4         3   red  \n",
       "1      9.8         3   red  \n",
       "2      9.8         3   red  \n",
       "3      9.8         4   red  \n",
       "4      9.4         3   red  "
      ]
     },
     "execution_count": 3,
     "metadata": {},
     "output_type": "execute_result"
    }
   ],
   "source": [
    "#loading the dataset\n",
    "wine = pd.read_csv(\"data/winequality-all.csv\", comment=\"#\")\n",
    "wine.head()"
   ]
  },
  {
   "cell_type": "code",
   "execution_count": 4,
   "id": "851fb601",
   "metadata": {
    "tags": []
   },
   "outputs": [
    {
     "data": {
      "text/plain": [
       "1      30\n",
       "2     206\n",
       "3    1752\n",
       "4    2323\n",
       "5     856\n",
       "6     148\n",
       "7       5\n",
       "Name: response, dtype: int64"
      ]
     },
     "execution_count": 4,
     "metadata": {},
     "output_type": "execute_result"
    }
   ],
   "source": [
    "# the goal - classification of wines according to the 'response' variable\n",
    "# 'response' determines the quality of the wine (median of three experts' opinions)\n",
    "# scale from 0 (very bad) to 10 (excellent)\n",
    "# let's examine the class size distribution\n",
    "response_levels = wine[\"response\"].value_counts()\n",
    "response_levels.iloc[np.argsort(response_levels.index)]"
   ]
  },
  {
   "cell_type": "code",
   "execution_count": 7,
   "id": "c2e50ae3",
   "metadata": {
    "tags": []
   },
   "outputs": [
    {
     "data": {
      "text/plain": [
       "bad     4311\n",
       "good    1009\n",
       "Name: quality, dtype: int64"
      ]
     },
     "execution_count": 7,
     "metadata": {},
     "output_type": "execute_result"
    }
   ],
   "source": [
    "# the distribution is not even, the values 8, 9 and 10 are missing\n",
    "# Therefore, we propose two classes: response <5 (bad wines) and response> = 5 (good wines)\n",
    "\n",
    "#homework\n",
    "#wine[\"quality\"] = pd.cut(wine[\"response\"], [0, 4, 5, 10], right=False, labels=[\"bad\",\"mid\", \"good\"])\n",
    "\n",
    "wine[\"quality\"] = pd.cut(wine[\"response\"], [0, 5, 10], right=False, labels=[\"bad\", \"good\"])\n",
    "wine[\"quality\"].value_counts()\n",
    "\n",
    "\n",
    "# uwaga, moze sie zdarzyc, ze model bedzie rozpoznawal elementu jedynie jednej klasy (szczegolne zagrozenie, jezeli jedna klasa przewaza: 75%, 90%, 99%...)"
   ]
  },
  {
   "cell_type": "code",
   "execution_count": 6,
   "id": "2a1d3d34",
   "metadata": {
    "tags": []
   },
   "outputs": [
    {
     "data": {
      "text/html": [
       "<div>\n",
       "<style scoped>\n",
       "    .dataframe tbody tr th:only-of-type {\n",
       "        vertical-align: middle;\n",
       "    }\n",
       "\n",
       "    .dataframe tbody tr th {\n",
       "        vertical-align: top;\n",
       "    }\n",
       "\n",
       "    .dataframe thead th {\n",
       "        text-align: right;\n",
       "    }\n",
       "</style>\n",
       "<table border=\"1\" class=\"dataframe\">\n",
       "  <thead>\n",
       "    <tr style=\"text-align: right;\">\n",
       "      <th></th>\n",
       "      <th>fixed.acidity</th>\n",
       "      <th>volatile.acidity</th>\n",
       "      <th>citric.acid</th>\n",
       "      <th>residual.sugar</th>\n",
       "      <th>chlorides</th>\n",
       "      <th>free.sulfur.dioxide</th>\n",
       "      <th>total.sulfur.dioxide</th>\n",
       "      <th>density</th>\n",
       "      <th>pH</th>\n",
       "      <th>sulphates</th>\n",
       "      <th>alcohol</th>\n",
       "      <th>response</th>\n",
       "      <th>color</th>\n",
       "      <th>quality</th>\n",
       "    </tr>\n",
       "  </thead>\n",
       "  <tbody>\n",
       "    <tr>\n",
       "      <th>0</th>\n",
       "      <td>7.4</td>\n",
       "      <td>0.70</td>\n",
       "      <td>0.00</td>\n",
       "      <td>1.9</td>\n",
       "      <td>0.076</td>\n",
       "      <td>11.0</td>\n",
       "      <td>34.0</td>\n",
       "      <td>0.99780</td>\n",
       "      <td>3.51</td>\n",
       "      <td>0.56</td>\n",
       "      <td>9.4</td>\n",
       "      <td>3</td>\n",
       "      <td>red</td>\n",
       "      <td>bad</td>\n",
       "    </tr>\n",
       "    <tr>\n",
       "      <th>1</th>\n",
       "      <td>7.8</td>\n",
       "      <td>0.88</td>\n",
       "      <td>0.00</td>\n",
       "      <td>2.6</td>\n",
       "      <td>0.098</td>\n",
       "      <td>25.0</td>\n",
       "      <td>67.0</td>\n",
       "      <td>0.99680</td>\n",
       "      <td>3.20</td>\n",
       "      <td>0.68</td>\n",
       "      <td>9.8</td>\n",
       "      <td>3</td>\n",
       "      <td>red</td>\n",
       "      <td>bad</td>\n",
       "    </tr>\n",
       "    <tr>\n",
       "      <th>2</th>\n",
       "      <td>7.8</td>\n",
       "      <td>0.76</td>\n",
       "      <td>0.04</td>\n",
       "      <td>2.3</td>\n",
       "      <td>0.092</td>\n",
       "      <td>15.0</td>\n",
       "      <td>54.0</td>\n",
       "      <td>0.99700</td>\n",
       "      <td>3.26</td>\n",
       "      <td>0.65</td>\n",
       "      <td>9.8</td>\n",
       "      <td>3</td>\n",
       "      <td>red</td>\n",
       "      <td>bad</td>\n",
       "    </tr>\n",
       "    <tr>\n",
       "      <th>3</th>\n",
       "      <td>11.2</td>\n",
       "      <td>0.28</td>\n",
       "      <td>0.56</td>\n",
       "      <td>1.9</td>\n",
       "      <td>0.075</td>\n",
       "      <td>17.0</td>\n",
       "      <td>60.0</td>\n",
       "      <td>0.99800</td>\n",
       "      <td>3.16</td>\n",
       "      <td>0.58</td>\n",
       "      <td>9.8</td>\n",
       "      <td>4</td>\n",
       "      <td>red</td>\n",
       "      <td>bad</td>\n",
       "    </tr>\n",
       "    <tr>\n",
       "      <th>4</th>\n",
       "      <td>7.4</td>\n",
       "      <td>0.66</td>\n",
       "      <td>0.00</td>\n",
       "      <td>1.8</td>\n",
       "      <td>0.075</td>\n",
       "      <td>13.0</td>\n",
       "      <td>40.0</td>\n",
       "      <td>0.99780</td>\n",
       "      <td>3.51</td>\n",
       "      <td>0.56</td>\n",
       "      <td>9.4</td>\n",
       "      <td>3</td>\n",
       "      <td>red</td>\n",
       "      <td>bad</td>\n",
       "    </tr>\n",
       "    <tr>\n",
       "      <th>...</th>\n",
       "      <td>...</td>\n",
       "      <td>...</td>\n",
       "      <td>...</td>\n",
       "      <td>...</td>\n",
       "      <td>...</td>\n",
       "      <td>...</td>\n",
       "      <td>...</td>\n",
       "      <td>...</td>\n",
       "      <td>...</td>\n",
       "      <td>...</td>\n",
       "      <td>...</td>\n",
       "      <td>...</td>\n",
       "      <td>...</td>\n",
       "      <td>...</td>\n",
       "    </tr>\n",
       "    <tr>\n",
       "      <th>5315</th>\n",
       "      <td>6.2</td>\n",
       "      <td>0.21</td>\n",
       "      <td>0.29</td>\n",
       "      <td>1.6</td>\n",
       "      <td>0.039</td>\n",
       "      <td>24.0</td>\n",
       "      <td>92.0</td>\n",
       "      <td>0.99114</td>\n",
       "      <td>3.27</td>\n",
       "      <td>0.50</td>\n",
       "      <td>11.2</td>\n",
       "      <td>4</td>\n",
       "      <td>white</td>\n",
       "      <td>bad</td>\n",
       "    </tr>\n",
       "    <tr>\n",
       "      <th>5316</th>\n",
       "      <td>6.6</td>\n",
       "      <td>0.32</td>\n",
       "      <td>0.36</td>\n",
       "      <td>8.0</td>\n",
       "      <td>0.047</td>\n",
       "      <td>57.0</td>\n",
       "      <td>168.0</td>\n",
       "      <td>0.99490</td>\n",
       "      <td>3.15</td>\n",
       "      <td>0.46</td>\n",
       "      <td>9.6</td>\n",
       "      <td>3</td>\n",
       "      <td>white</td>\n",
       "      <td>bad</td>\n",
       "    </tr>\n",
       "    <tr>\n",
       "      <th>5317</th>\n",
       "      <td>6.5</td>\n",
       "      <td>0.24</td>\n",
       "      <td>0.19</td>\n",
       "      <td>1.2</td>\n",
       "      <td>0.041</td>\n",
       "      <td>30.0</td>\n",
       "      <td>111.0</td>\n",
       "      <td>0.99254</td>\n",
       "      <td>2.99</td>\n",
       "      <td>0.46</td>\n",
       "      <td>9.4</td>\n",
       "      <td>4</td>\n",
       "      <td>white</td>\n",
       "      <td>bad</td>\n",
       "    </tr>\n",
       "    <tr>\n",
       "      <th>5318</th>\n",
       "      <td>5.5</td>\n",
       "      <td>0.29</td>\n",
       "      <td>0.30</td>\n",
       "      <td>1.1</td>\n",
       "      <td>0.022</td>\n",
       "      <td>20.0</td>\n",
       "      <td>110.0</td>\n",
       "      <td>0.98869</td>\n",
       "      <td>3.34</td>\n",
       "      <td>0.38</td>\n",
       "      <td>12.8</td>\n",
       "      <td>5</td>\n",
       "      <td>white</td>\n",
       "      <td>good</td>\n",
       "    </tr>\n",
       "    <tr>\n",
       "      <th>5319</th>\n",
       "      <td>6.0</td>\n",
       "      <td>0.21</td>\n",
       "      <td>0.38</td>\n",
       "      <td>0.8</td>\n",
       "      <td>0.020</td>\n",
       "      <td>22.0</td>\n",
       "      <td>98.0</td>\n",
       "      <td>0.98941</td>\n",
       "      <td>3.26</td>\n",
       "      <td>0.32</td>\n",
       "      <td>11.8</td>\n",
       "      <td>4</td>\n",
       "      <td>white</td>\n",
       "      <td>bad</td>\n",
       "    </tr>\n",
       "  </tbody>\n",
       "</table>\n",
       "<p>5320 rows × 14 columns</p>\n",
       "</div>"
      ],
      "text/plain": [
       "      fixed.acidity  volatile.acidity  citric.acid  residual.sugar  chlorides  \\\n",
       "0               7.4              0.70         0.00             1.9      0.076   \n",
       "1               7.8              0.88         0.00             2.6      0.098   \n",
       "2               7.8              0.76         0.04             2.3      0.092   \n",
       "3              11.2              0.28         0.56             1.9      0.075   \n",
       "4               7.4              0.66         0.00             1.8      0.075   \n",
       "...             ...               ...          ...             ...        ...   \n",
       "5315            6.2              0.21         0.29             1.6      0.039   \n",
       "5316            6.6              0.32         0.36             8.0      0.047   \n",
       "5317            6.5              0.24         0.19             1.2      0.041   \n",
       "5318            5.5              0.29         0.30             1.1      0.022   \n",
       "5319            6.0              0.21         0.38             0.8      0.020   \n",
       "\n",
       "      free.sulfur.dioxide  total.sulfur.dioxide  density    pH  sulphates  \\\n",
       "0                    11.0                  34.0  0.99780  3.51       0.56   \n",
       "1                    25.0                  67.0  0.99680  3.20       0.68   \n",
       "2                    15.0                  54.0  0.99700  3.26       0.65   \n",
       "3                    17.0                  60.0  0.99800  3.16       0.58   \n",
       "4                    13.0                  40.0  0.99780  3.51       0.56   \n",
       "...                   ...                   ...      ...   ...        ...   \n",
       "5315                 24.0                  92.0  0.99114  3.27       0.50   \n",
       "5316                 57.0                 168.0  0.99490  3.15       0.46   \n",
       "5317                 30.0                 111.0  0.99254  2.99       0.46   \n",
       "5318                 20.0                 110.0  0.98869  3.34       0.38   \n",
       "5319                 22.0                  98.0  0.98941  3.26       0.32   \n",
       "\n",
       "      alcohol  response  color quality  \n",
       "0         9.4         3    red     bad  \n",
       "1         9.8         3    red     bad  \n",
       "2         9.8         3    red     bad  \n",
       "3         9.8         4    red     bad  \n",
       "4         9.4         3    red     bad  \n",
       "...       ...       ...    ...     ...  \n",
       "5315     11.2         4  white     bad  \n",
       "5316      9.6         3  white     bad  \n",
       "5317      9.4         4  white     bad  \n",
       "5318     12.8         5  white    good  \n",
       "5319     11.8         4  white     bad  \n",
       "\n",
       "[5320 rows x 14 columns]"
      ]
     },
     "execution_count": 6,
     "metadata": {},
     "output_type": "execute_result"
    }
   ],
   "source": [
    "wine"
   ]
  },
  {
   "cell_type": "code",
   "execution_count": 8,
   "id": "50e0c1db",
   "metadata": {
    "tags": []
   },
   "outputs": [
    {
     "data": {
      "text/html": [
       "<div>\n",
       "<style scoped>\n",
       "    .dataframe tbody tr th:only-of-type {\n",
       "        vertical-align: middle;\n",
       "    }\n",
       "\n",
       "    .dataframe tbody tr th {\n",
       "        vertical-align: top;\n",
       "    }\n",
       "\n",
       "    .dataframe thead th {\n",
       "        text-align: right;\n",
       "    }\n",
       "</style>\n",
       "<table border=\"1\" class=\"dataframe\">\n",
       "  <thead>\n",
       "    <tr style=\"text-align: right;\">\n",
       "      <th></th>\n",
       "      <th>fixed.acidity</th>\n",
       "      <th>volatile.acidity</th>\n",
       "      <th>citric.acid</th>\n",
       "      <th>residual.sugar</th>\n",
       "      <th>chlorides</th>\n",
       "      <th>free.sulfur.dioxide</th>\n",
       "      <th>total.sulfur.dioxide</th>\n",
       "      <th>density</th>\n",
       "      <th>pH</th>\n",
       "      <th>sulphates</th>\n",
       "      <th>alcohol</th>\n",
       "    </tr>\n",
       "  </thead>\n",
       "  <tbody>\n",
       "    <tr>\n",
       "      <th>0</th>\n",
       "      <td>7.4</td>\n",
       "      <td>0.70</td>\n",
       "      <td>0.00</td>\n",
       "      <td>1.9</td>\n",
       "      <td>0.076</td>\n",
       "      <td>11.0</td>\n",
       "      <td>34.0</td>\n",
       "      <td>0.9978</td>\n",
       "      <td>3.51</td>\n",
       "      <td>0.56</td>\n",
       "      <td>9.4</td>\n",
       "    </tr>\n",
       "    <tr>\n",
       "      <th>1</th>\n",
       "      <td>7.8</td>\n",
       "      <td>0.88</td>\n",
       "      <td>0.00</td>\n",
       "      <td>2.6</td>\n",
       "      <td>0.098</td>\n",
       "      <td>25.0</td>\n",
       "      <td>67.0</td>\n",
       "      <td>0.9968</td>\n",
       "      <td>3.20</td>\n",
       "      <td>0.68</td>\n",
       "      <td>9.8</td>\n",
       "    </tr>\n",
       "    <tr>\n",
       "      <th>2</th>\n",
       "      <td>7.8</td>\n",
       "      <td>0.76</td>\n",
       "      <td>0.04</td>\n",
       "      <td>2.3</td>\n",
       "      <td>0.092</td>\n",
       "      <td>15.0</td>\n",
       "      <td>54.0</td>\n",
       "      <td>0.9970</td>\n",
       "      <td>3.26</td>\n",
       "      <td>0.65</td>\n",
       "      <td>9.8</td>\n",
       "    </tr>\n",
       "    <tr>\n",
       "      <th>3</th>\n",
       "      <td>11.2</td>\n",
       "      <td>0.28</td>\n",
       "      <td>0.56</td>\n",
       "      <td>1.9</td>\n",
       "      <td>0.075</td>\n",
       "      <td>17.0</td>\n",
       "      <td>60.0</td>\n",
       "      <td>0.9980</td>\n",
       "      <td>3.16</td>\n",
       "      <td>0.58</td>\n",
       "      <td>9.8</td>\n",
       "    </tr>\n",
       "    <tr>\n",
       "      <th>4</th>\n",
       "      <td>7.4</td>\n",
       "      <td>0.66</td>\n",
       "      <td>0.00</td>\n",
       "      <td>1.8</td>\n",
       "      <td>0.075</td>\n",
       "      <td>13.0</td>\n",
       "      <td>40.0</td>\n",
       "      <td>0.9978</td>\n",
       "      <td>3.51</td>\n",
       "      <td>0.56</td>\n",
       "      <td>9.4</td>\n",
       "    </tr>\n",
       "  </tbody>\n",
       "</table>\n",
       "</div>"
      ],
      "text/plain": [
       "   fixed.acidity  volatile.acidity  citric.acid  residual.sugar  chlorides  \\\n",
       "0            7.4              0.70         0.00             1.9      0.076   \n",
       "1            7.8              0.88         0.00             2.6      0.098   \n",
       "2            7.8              0.76         0.04             2.3      0.092   \n",
       "3           11.2              0.28         0.56             1.9      0.075   \n",
       "4            7.4              0.66         0.00             1.8      0.075   \n",
       "\n",
       "   free.sulfur.dioxide  total.sulfur.dioxide  density    pH  sulphates  \\\n",
       "0                 11.0                  34.0   0.9978  3.51       0.56   \n",
       "1                 25.0                  67.0   0.9968  3.20       0.68   \n",
       "2                 15.0                  54.0   0.9970  3.26       0.65   \n",
       "3                 17.0                  60.0   0.9980  3.16       0.58   \n",
       "4                 13.0                  40.0   0.9978  3.51       0.56   \n",
       "\n",
       "   alcohol  \n",
       "0      9.4  \n",
       "1      9.8  \n",
       "2      9.8  \n",
       "3      9.8  \n",
       "4      9.4  "
      ]
     },
     "execution_count": 8,
     "metadata": {},
     "output_type": "execute_result"
    }
   ],
   "source": [
    "#we prepare dataset for analysis and modeling\n",
    "#predictors\n",
    "X = wine.iloc[:, 0:11]\n",
    "X.head()"
   ]
  },
  {
   "cell_type": "code",
   "execution_count": 9,
   "id": "554afa72",
   "metadata": {
    "tags": []
   },
   "outputs": [
    {
     "data": {
      "text/plain": [
       "0      bad\n",
       "1      bad\n",
       "2      bad\n",
       "3      bad\n",
       "4      bad\n",
       "5      bad\n",
       "6     good\n",
       "7     good\n",
       "8      bad\n",
       "9      bad\n",
       "10     bad\n",
       "11     bad\n",
       "12     bad\n",
       "13     bad\n",
       "14    good\n",
       "15     bad\n",
       "16     bad\n",
       "17     bad\n",
       "18     bad\n",
       "19     bad\n",
       "20     bad\n",
       "21     bad\n",
       "22     bad\n",
       "23     bad\n",
       "24     bad\n",
       "25     bad\n",
       "26     bad\n",
       "27     bad\n",
       "28     bad\n",
       "29     bad\n",
       "Name: quality, dtype: category\n",
       "Categories (2, object): ['bad' < 'good']"
      ]
     },
     "execution_count": 9,
     "metadata": {},
     "output_type": "execute_result"
    }
   ],
   "source": [
    "#the target variable\n",
    "y = wine[\"quality\"]\n",
    "y[0:30]"
   ]
  },
  {
   "cell_type": "code",
   "execution_count": 21,
   "id": "ff97cdfc",
   "metadata": {
    "tags": []
   },
   "outputs": [],
   "source": [
    "#skoro mamy do czynienia z klasyfikacją binarną (\"złe\" - \"dobre\") - y(i) należy do zbioru {0,1}\n",
    "#to warto przekodować wartości zmiennej y na zbiór liczb całkowitych\n",
    "from sklearn.preprocessing import OrdinalEncoder\n",
    "\n",
    "# metody do liczenia wola nie pracowac ze zeminnymi kategroycznimi, wola raczej jakies liczbowe\n",
    "# trzeba jednak uwazac jakie wartosci liczbowe przypisuje sie kategoriom\n",
    "# np. [bad, mid, good -> [0, 1, 2] faoryzuje '2', przez co moze zaburzyc model\n",
    "# lepiej reprezentowac kategorie przy pomocy wektrów: [bad, mid, good] -> [[1,0,0], [0,1,0], [0,0,1]] (tzw. one hot encorder; kazdy wektor ma taka sama wage)\n",
    "# to jest klasyfikacja wieloklasowa\n",
    "\n",
    "# tutaj zostanie przedstawione przy pomocy 0 i 1 (zle i dobre); to jest klasyfikacja binarna\n",
    "oe = OrdinalEncoder(categories = [['bad', 'good']], # kategorie\n",
    "                   handle_unknown = 'use_encoded_value', # co sie stanie, jezeli zadna z obserwacji nie bedzie pasowac z kat. podanych wyzej\n",
    "                   unknown_value = np.NaN) # ... to użuj 'NaN'\n",
    "\n",
    "# mozna tez uzywac innego encodera; np. James-Stein Encoder: patrzy na caly zbior i na podstawie wiekszej ilosci danych dobiera wartosci dla kategorii\n",
    "# jest lepsze dla tego, ze uwzglednia sie rozklad innych zmiennych"
   ]
  },
  {
   "cell_type": "code",
   "execution_count": 11,
   "id": "639c369f-e27c-4b0b-9013-72725cf7eeec",
   "metadata": {
    "tags": []
   },
   "outputs": [
    {
     "data": {
      "text/html": [
       "<style>#sk-container-id-1 {color: black;background-color: white;}#sk-container-id-1 pre{padding: 0;}#sk-container-id-1 div.sk-toggleable {background-color: white;}#sk-container-id-1 label.sk-toggleable__label {cursor: pointer;display: block;width: 100%;margin-bottom: 0;padding: 0.3em;box-sizing: border-box;text-align: center;}#sk-container-id-1 label.sk-toggleable__label-arrow:before {content: \"▸\";float: left;margin-right: 0.25em;color: #696969;}#sk-container-id-1 label.sk-toggleable__label-arrow:hover:before {color: black;}#sk-container-id-1 div.sk-estimator:hover label.sk-toggleable__label-arrow:before {color: black;}#sk-container-id-1 div.sk-toggleable__content {max-height: 0;max-width: 0;overflow: hidden;text-align: left;background-color: #f0f8ff;}#sk-container-id-1 div.sk-toggleable__content pre {margin: 0.2em;color: black;border-radius: 0.25em;background-color: #f0f8ff;}#sk-container-id-1 input.sk-toggleable__control:checked~div.sk-toggleable__content {max-height: 200px;max-width: 100%;overflow: auto;}#sk-container-id-1 input.sk-toggleable__control:checked~label.sk-toggleable__label-arrow:before {content: \"▾\";}#sk-container-id-1 div.sk-estimator input.sk-toggleable__control:checked~label.sk-toggleable__label {background-color: #d4ebff;}#sk-container-id-1 div.sk-label input.sk-toggleable__control:checked~label.sk-toggleable__label {background-color: #d4ebff;}#sk-container-id-1 input.sk-hidden--visually {border: 0;clip: rect(1px 1px 1px 1px);clip: rect(1px, 1px, 1px, 1px);height: 1px;margin: -1px;overflow: hidden;padding: 0;position: absolute;width: 1px;}#sk-container-id-1 div.sk-estimator {font-family: monospace;background-color: #f0f8ff;border: 1px dotted black;border-radius: 0.25em;box-sizing: border-box;margin-bottom: 0.5em;}#sk-container-id-1 div.sk-estimator:hover {background-color: #d4ebff;}#sk-container-id-1 div.sk-parallel-item::after {content: \"\";width: 100%;border-bottom: 1px solid gray;flex-grow: 1;}#sk-container-id-1 div.sk-label:hover label.sk-toggleable__label {background-color: #d4ebff;}#sk-container-id-1 div.sk-serial::before {content: \"\";position: absolute;border-left: 1px solid gray;box-sizing: border-box;top: 0;bottom: 0;left: 50%;z-index: 0;}#sk-container-id-1 div.sk-serial {display: flex;flex-direction: column;align-items: center;background-color: white;padding-right: 0.2em;padding-left: 0.2em;position: relative;}#sk-container-id-1 div.sk-item {position: relative;z-index: 1;}#sk-container-id-1 div.sk-parallel {display: flex;align-items: stretch;justify-content: center;background-color: white;position: relative;}#sk-container-id-1 div.sk-item::before, #sk-container-id-1 div.sk-parallel-item::before {content: \"\";position: absolute;border-left: 1px solid gray;box-sizing: border-box;top: 0;bottom: 0;left: 50%;z-index: -1;}#sk-container-id-1 div.sk-parallel-item {display: flex;flex-direction: column;z-index: 1;position: relative;background-color: white;}#sk-container-id-1 div.sk-parallel-item:first-child::after {align-self: flex-end;width: 50%;}#sk-container-id-1 div.sk-parallel-item:last-child::after {align-self: flex-start;width: 50%;}#sk-container-id-1 div.sk-parallel-item:only-child::after {width: 0;}#sk-container-id-1 div.sk-dashed-wrapped {border: 1px dashed gray;margin: 0 0.4em 0.5em 0.4em;box-sizing: border-box;padding-bottom: 0.4em;background-color: white;}#sk-container-id-1 div.sk-label label {font-family: monospace;font-weight: bold;display: inline-block;line-height: 1.2em;}#sk-container-id-1 div.sk-label-container {text-align: center;}#sk-container-id-1 div.sk-container {/* jupyter's `normalize.less` sets `[hidden] { display: none; }` but bootstrap.min.css set `[hidden] { display: none !important; }` so we also need the `!important` here to be able to override the default hidden behavior on the sphinx rendered scikit-learn.org. See: https://github.com/scikit-learn/scikit-learn/issues/21755 */display: inline-block !important;position: relative;}#sk-container-id-1 div.sk-text-repr-fallback {display: none;}</style><div id=\"sk-container-id-1\" class=\"sk-top-container\"><div class=\"sk-text-repr-fallback\"><pre>OrdinalEncoder(categories=[[&#x27;bad&#x27;, &#x27;good&#x27;]], handle_unknown=&#x27;use_encoded_value&#x27;,\n",
       "               unknown_value=nan)</pre><b>In a Jupyter environment, please rerun this cell to show the HTML representation or trust the notebook. <br />On GitHub, the HTML representation is unable to render, please try loading this page with nbviewer.org.</b></div><div class=\"sk-container\" hidden><div class=\"sk-item\"><div class=\"sk-estimator sk-toggleable\"><input class=\"sk-toggleable__control sk-hidden--visually\" id=\"sk-estimator-id-1\" type=\"checkbox\" checked><label for=\"sk-estimator-id-1\" class=\"sk-toggleable__label sk-toggleable__label-arrow\">OrdinalEncoder</label><div class=\"sk-toggleable__content\"><pre>OrdinalEncoder(categories=[[&#x27;bad&#x27;, &#x27;good&#x27;]], handle_unknown=&#x27;use_encoded_value&#x27;,\n",
       "               unknown_value=nan)</pre></div></div></div></div></div>"
      ],
      "text/plain": [
       "OrdinalEncoder(categories=[['bad', 'good']], handle_unknown='use_encoded_value',\n",
       "               unknown_value=nan)"
      ]
     },
     "execution_count": 11,
     "metadata": {},
     "output_type": "execute_result"
    }
   ],
   "source": [
    "oe"
   ]
  },
  {
   "cell_type": "code",
   "execution_count": 15,
   "id": "20d10066-eea0-4ad8-a164-1ab38bc967e0",
   "metadata": {
    "tags": []
   },
   "outputs": [
    {
     "data": {
      "text/plain": [
       "pandas.core.series.Series"
      ]
     },
     "execution_count": 15,
     "metadata": {},
     "output_type": "execute_result"
    }
   ],
   "source": [
    "type(y)"
   ]
  },
  {
   "cell_type": "markdown",
   "id": "435fa1a7",
   "metadata": {},
   "source": [
    "<div class=\"alert alert-block alert-danger\">\n",
    "<b>Attention!</b> \n",
    "    \n",
    "When coding the attributes, you should be aware that the new data may contain previously unseen values that need to be handled in some way. The default behavior of OrdinalEncoder in this case is to throw an exception, here we used to assign it a fixed value, where we chose to assign a null value. Then such a value can be replaced, for example, with a dominant from the dataset.\n",
    "</div>"
   ]
  },
  {
   "cell_type": "code",
   "execution_count": 12,
   "id": "d31f7bca",
   "metadata": {
    "tags": []
   },
   "outputs": [],
   "source": [
    "# using OrdinalEncoder we will code the target value\n",
    "oe.fit(np.asanyarray(y).reshape(-1, 1))\n",
    "yk = oe.transform(np.asanyarray(y).reshape(-1, 1)).flatten()"
   ]
  },
  {
   "cell_type": "code",
   "execution_count": 16,
   "id": "c3cb785f-e92a-4547-a346-de3676a11a09",
   "metadata": {
    "tags": []
   },
   "outputs": [
    {
     "data": {
      "text/plain": [
       "numpy.ndarray"
      ]
     },
     "execution_count": 16,
     "metadata": {},
     "output_type": "execute_result"
    }
   ],
   "source": [
    "type(yk)"
   ]
  },
  {
   "cell_type": "code",
   "execution_count": 18,
   "id": "5199d123-6a15-4073-9d7d-be3ff0863662",
   "metadata": {
    "tags": []
   },
   "outputs": [
    {
     "data": {
      "text/plain": [
       "(5320,)"
      ]
     },
     "execution_count": 18,
     "metadata": {},
     "output_type": "execute_result"
    }
   ],
   "source": [
    "yk.shape"
   ]
  },
  {
   "cell_type": "code",
   "execution_count": 13,
   "id": "b4d1a523",
   "metadata": {
    "tags": []
   },
   "outputs": [
    {
     "data": {
      "text/plain": [
       "array([['bad'],\n",
       "       ['bad'],\n",
       "       ['bad'],\n",
       "       ...,\n",
       "       ['bad'],\n",
       "       ['good'],\n",
       "       ['bad']], dtype=object)"
      ]
     },
     "execution_count": 13,
     "metadata": {},
     "output_type": "execute_result"
    }
   ],
   "source": [
    "np.asanyarray(y).reshape(-1, 1)"
   ]
  },
  {
   "cell_type": "code",
   "execution_count": 14,
   "id": "b31a478e",
   "metadata": {
    "tags": []
   },
   "outputs": [
    {
     "data": {
      "text/plain": [
       "array([0., 0., 0., 0., 0., 1., 1., 0., 0., 0., 0., 0., 0., 1., 0., 0., 0.,\n",
       "       0., 0., 0., 0., 0., 0., 0., 0., 0., 0., 0., 0.])"
      ]
     },
     "execution_count": 14,
     "metadata": {},
     "output_type": "execute_result"
    }
   ],
   "source": [
    "yk[1:30]"
   ]
  },
  {
   "cell_type": "code",
   "execution_count": 19,
   "id": "922bcc67",
   "metadata": {
    "tags": []
   },
   "outputs": [
    {
     "data": {
      "text/plain": [
       "array([0, 1, 2, 3])"
      ]
     },
     "execution_count": 19,
     "metadata": {},
     "output_type": "execute_result"
    }
   ],
   "source": [
    "#Division of the dataset into the training and test datasets\n",
    "import sklearn.model_selection\n",
    "\n",
    "np.arange(4)"
   ]
  },
  {
   "cell_type": "code",
   "execution_count": 22,
   "id": "4e5e79b2",
   "metadata": {
    "tags": []
   },
   "outputs": [
    {
     "data": {
      "text/plain": [
       "(5320, 11)"
      ]
     },
     "execution_count": 22,
     "metadata": {},
     "output_type": "execute_result"
    }
   ],
   "source": [
    "X.shape"
   ]
  },
  {
   "cell_type": "code",
   "execution_count": 23,
   "id": "71238529-1680-46b0-b240-70036d4e955c",
   "metadata": {
    "tags": []
   },
   "outputs": [
    {
     "data": {
      "text/html": [
       "<div>\n",
       "<style scoped>\n",
       "    .dataframe tbody tr th:only-of-type {\n",
       "        vertical-align: middle;\n",
       "    }\n",
       "\n",
       "    .dataframe tbody tr th {\n",
       "        vertical-align: top;\n",
       "    }\n",
       "\n",
       "    .dataframe thead th {\n",
       "        text-align: right;\n",
       "    }\n",
       "</style>\n",
       "<table border=\"1\" class=\"dataframe\">\n",
       "  <thead>\n",
       "    <tr style=\"text-align: right;\">\n",
       "      <th></th>\n",
       "      <th>fixed.acidity</th>\n",
       "      <th>volatile.acidity</th>\n",
       "      <th>citric.acid</th>\n",
       "      <th>residual.sugar</th>\n",
       "      <th>chlorides</th>\n",
       "      <th>free.sulfur.dioxide</th>\n",
       "      <th>total.sulfur.dioxide</th>\n",
       "      <th>density</th>\n",
       "      <th>pH</th>\n",
       "      <th>sulphates</th>\n",
       "      <th>alcohol</th>\n",
       "    </tr>\n",
       "  </thead>\n",
       "  <tbody>\n",
       "    <tr>\n",
       "      <th>0</th>\n",
       "      <td>7.4</td>\n",
       "      <td>0.70</td>\n",
       "      <td>0.00</td>\n",
       "      <td>1.9</td>\n",
       "      <td>0.076</td>\n",
       "      <td>11.0</td>\n",
       "      <td>34.0</td>\n",
       "      <td>0.9978</td>\n",
       "      <td>3.51</td>\n",
       "      <td>0.56</td>\n",
       "      <td>9.4</td>\n",
       "    </tr>\n",
       "    <tr>\n",
       "      <th>1</th>\n",
       "      <td>7.8</td>\n",
       "      <td>0.88</td>\n",
       "      <td>0.00</td>\n",
       "      <td>2.6</td>\n",
       "      <td>0.098</td>\n",
       "      <td>25.0</td>\n",
       "      <td>67.0</td>\n",
       "      <td>0.9968</td>\n",
       "      <td>3.20</td>\n",
       "      <td>0.68</td>\n",
       "      <td>9.8</td>\n",
       "    </tr>\n",
       "    <tr>\n",
       "      <th>2</th>\n",
       "      <td>7.8</td>\n",
       "      <td>0.76</td>\n",
       "      <td>0.04</td>\n",
       "      <td>2.3</td>\n",
       "      <td>0.092</td>\n",
       "      <td>15.0</td>\n",
       "      <td>54.0</td>\n",
       "      <td>0.9970</td>\n",
       "      <td>3.26</td>\n",
       "      <td>0.65</td>\n",
       "      <td>9.8</td>\n",
       "    </tr>\n",
       "    <tr>\n",
       "      <th>3</th>\n",
       "      <td>11.2</td>\n",
       "      <td>0.28</td>\n",
       "      <td>0.56</td>\n",
       "      <td>1.9</td>\n",
       "      <td>0.075</td>\n",
       "      <td>17.0</td>\n",
       "      <td>60.0</td>\n",
       "      <td>0.9980</td>\n",
       "      <td>3.16</td>\n",
       "      <td>0.58</td>\n",
       "      <td>9.8</td>\n",
       "    </tr>\n",
       "    <tr>\n",
       "      <th>4</th>\n",
       "      <td>7.4</td>\n",
       "      <td>0.66</td>\n",
       "      <td>0.00</td>\n",
       "      <td>1.8</td>\n",
       "      <td>0.075</td>\n",
       "      <td>13.0</td>\n",
       "      <td>40.0</td>\n",
       "      <td>0.9978</td>\n",
       "      <td>3.51</td>\n",
       "      <td>0.56</td>\n",
       "      <td>9.4</td>\n",
       "    </tr>\n",
       "  </tbody>\n",
       "</table>\n",
       "</div>"
      ],
      "text/plain": [
       "   fixed.acidity  volatile.acidity  citric.acid  residual.sugar  chlorides  \\\n",
       "0            7.4              0.70         0.00             1.9      0.076   \n",
       "1            7.8              0.88         0.00             2.6      0.098   \n",
       "2            7.8              0.76         0.04             2.3      0.092   \n",
       "3           11.2              0.28         0.56             1.9      0.075   \n",
       "4            7.4              0.66         0.00             1.8      0.075   \n",
       "\n",
       "   free.sulfur.dioxide  total.sulfur.dioxide  density    pH  sulphates  \\\n",
       "0                 11.0                  34.0   0.9978  3.51       0.56   \n",
       "1                 25.0                  67.0   0.9968  3.20       0.68   \n",
       "2                 15.0                  54.0   0.9970  3.26       0.65   \n",
       "3                 17.0                  60.0   0.9980  3.16       0.58   \n",
       "4                 13.0                  40.0   0.9978  3.51       0.56   \n",
       "\n",
       "   alcohol  \n",
       "0      9.4  \n",
       "1      9.8  \n",
       "2      9.8  \n",
       "3      9.8  \n",
       "4      9.4  "
      ]
     },
     "execution_count": 23,
     "metadata": {},
     "output_type": "execute_result"
    }
   ],
   "source": [
    "X.head()"
   ]
  },
  {
   "cell_type": "code",
   "execution_count": 24,
   "id": "7f88ee99",
   "metadata": {
    "tags": []
   },
   "outputs": [
    {
     "data": {
      "text/plain": [
       "array([   0,    1,    2, ..., 5317, 5318, 5319])"
      ]
     },
     "execution_count": 24,
     "metadata": {},
     "output_type": "execute_result"
    }
   ],
   "source": [
    "# now we will randomly select indexes\n",
    "np.arange(X.shape[0])"
   ]
  },
  {
   "cell_type": "code",
   "execution_count": 37,
   "id": "92906aac",
   "metadata": {
    "tags": []
   },
   "outputs": [
    {
     "data": {
      "text/plain": [
       "((4256, 11), (1064, 11), (4256,), (1064,))"
      ]
     },
     "execution_count": 37,
     "metadata": {},
     "output_type": "execute_result"
    }
   ],
   "source": [
    "# podzial zbioru danych; uwaga na wielkość podziału; 20% i 20%\n",
    "# przy pechu moze sie okazać, że w podzbiorze będą (przeważały) rekordy tej samej kategorii (np. niemal same wina dobre)\n",
    "# trzeba sprawdzić jaki jest udział kategorii w całym zbiorze i tak przygotować zbiory treningowe i testowe\n",
    "# chcemy żeby udział każdej kategorii w zbiorach testowych/treningowych wygldądał tak samo jak w zbiorze ogólnym\n",
    "\n",
    "idx_train, idx_test = sklearn.model_selection.train_test_split(np.arange(X.shape[0]),\n",
    "                                                             test_size=0.2,\n",
    "                                                             random_state=12345)\n",
    "X_train, X_test = X.iloc[idx_train, :], X.iloc[idx_test, :]\n",
    "y_train, y_test = y[idx_train], y[idx_test]\n",
    "yk_train, yk_test = yk[idx_train], yk[idx_test]\n",
    "\n",
    "X_train.shape, X_test.shape, y_train.shape, y_test.shape"
   ]
  },
  {
   "cell_type": "code",
   "execution_count": 27,
   "id": "b0971856",
   "metadata": {
    "tags": []
   },
   "outputs": [
    {
     "data": {
      "text/plain": [
       "bad     4311\n",
       "good    1009\n",
       "Name: quality, dtype: int64"
      ]
     },
     "execution_count": 27,
     "metadata": {},
     "output_type": "execute_result"
    }
   ],
   "source": [
    "wine.quality.value_counts()"
   ]
  },
  {
   "cell_type": "code",
   "execution_count": 28,
   "id": "ef2d418e",
   "metadata": {
    "tags": []
   },
   "outputs": [
    {
     "data": {
      "text/plain": [
       "bad     3436\n",
       "good     820\n",
       "Name: quality, dtype: int64"
      ]
     },
     "execution_count": 28,
     "metadata": {},
     "output_type": "execute_result"
    }
   ],
   "source": [
    "#distribution of classes in the train dataset\n",
    "y_train.value_counts()"
   ]
  },
  {
   "cell_type": "code",
   "execution_count": 29,
   "id": "a5f2e58b",
   "metadata": {
    "tags": []
   },
   "outputs": [
    {
     "data": {
      "text/plain": [
       "bad     875\n",
       "good    189\n",
       "Name: quality, dtype: int64"
      ]
     },
     "execution_count": 29,
     "metadata": {},
     "output_type": "execute_result"
    }
   ],
   "source": [
    "#distribution of classes in the test dataset\n",
    "y_test.value_counts()"
   ]
  },
  {
   "cell_type": "code",
   "execution_count": 34,
   "id": "c1f4904c",
   "metadata": {
    "tags": []
   },
   "outputs": [
    {
     "data": {
      "text/plain": [
       "23.9"
      ]
     },
     "execution_count": 34,
     "metadata": {},
     "output_type": "execute_result"
    }
   ],
   "source": [
    "np.round((820/3436)*100,1) # w zbiorze treningowym udział dobrych win"
   ]
  },
  {
   "cell_type": "code",
   "execution_count": 32,
   "id": "28146a3c",
   "metadata": {
    "tags": []
   },
   "outputs": [
    {
     "data": {
      "text/plain": [
       "21.6"
      ]
     },
     "execution_count": 32,
     "metadata": {},
     "output_type": "execute_result"
    }
   ],
   "source": [
    "np.round((189/875)*100,1) # w zbiorze testowym udział dobrych win"
   ]
  },
  {
   "cell_type": "code",
   "execution_count": 36,
   "id": "e30874a9",
   "metadata": {
    "tags": []
   },
   "outputs": [
    {
     "data": {
      "text/plain": [
       "23.4"
      ]
     },
     "execution_count": 36,
     "metadata": {},
     "output_type": "execute_result"
    }
   ],
   "source": [
    "#distribution of classes in the dataset\n",
    "np.round((1009/4311)*100,1) # w zbiorze ogólnym udział dobrych win"
   ]
  },
  {
   "cell_type": "code",
   "execution_count": 41,
   "id": "a08220ad-70bc-46f8-aee6-54dff569ba20",
   "metadata": {
    "tags": []
   },
   "outputs": [],
   "source": [
    "train_train_X, train_train_y, test_test_X, test_test_y = sklearn.model_selection.train_test_split(X, y, test_size=0.2, stratify=y) \n",
    "# stratify -> idealny podział"
   ]
  },
  {
   "cell_type": "code",
   "execution_count": 43,
   "id": "a5e7e768-6ea0-41f6-ba4e-1e72664537e7",
   "metadata": {
    "tags": []
   },
   "outputs": [
    {
     "ename": "AttributeError",
     "evalue": "'Series' object has no attribute 'value_count'",
     "output_type": "error",
     "traceback": [
      "\u001b[0;31m---------------------------------------------------------------------------\u001b[0m",
      "\u001b[0;31mAttributeError\u001b[0m                            Traceback (most recent call last)",
      "Cell \u001b[0;32mIn[43], line 1\u001b[0m\n\u001b[0;32m----> 1\u001b[0m \u001b[43mtest_test_X\u001b[49m\u001b[38;5;241;43m.\u001b[39;49m\u001b[43mvalue_count\u001b[49m()\n",
      "File \u001b[0;32m/opt/conda/lib/python3.10/site-packages/pandas/core/generic.py:5902\u001b[0m, in \u001b[0;36mNDFrame.__getattr__\u001b[0;34m(self, name)\u001b[0m\n\u001b[1;32m   5895\u001b[0m \u001b[38;5;28;01mif\u001b[39;00m (\n\u001b[1;32m   5896\u001b[0m     name \u001b[38;5;129;01mnot\u001b[39;00m \u001b[38;5;129;01min\u001b[39;00m \u001b[38;5;28mself\u001b[39m\u001b[38;5;241m.\u001b[39m_internal_names_set\n\u001b[1;32m   5897\u001b[0m     \u001b[38;5;129;01mand\u001b[39;00m name \u001b[38;5;129;01mnot\u001b[39;00m \u001b[38;5;129;01min\u001b[39;00m \u001b[38;5;28mself\u001b[39m\u001b[38;5;241m.\u001b[39m_metadata\n\u001b[1;32m   5898\u001b[0m     \u001b[38;5;129;01mand\u001b[39;00m name \u001b[38;5;129;01mnot\u001b[39;00m \u001b[38;5;129;01min\u001b[39;00m \u001b[38;5;28mself\u001b[39m\u001b[38;5;241m.\u001b[39m_accessors\n\u001b[1;32m   5899\u001b[0m     \u001b[38;5;129;01mand\u001b[39;00m \u001b[38;5;28mself\u001b[39m\u001b[38;5;241m.\u001b[39m_info_axis\u001b[38;5;241m.\u001b[39m_can_hold_identifiers_and_holds_name(name)\n\u001b[1;32m   5900\u001b[0m ):\n\u001b[1;32m   5901\u001b[0m     \u001b[38;5;28;01mreturn\u001b[39;00m \u001b[38;5;28mself\u001b[39m[name]\n\u001b[0;32m-> 5902\u001b[0m \u001b[38;5;28;01mreturn\u001b[39;00m \u001b[38;5;28;43mobject\u001b[39;49m\u001b[38;5;241;43m.\u001b[39;49m\u001b[38;5;21;43m__getattribute__\u001b[39;49m\u001b[43m(\u001b[49m\u001b[38;5;28;43mself\u001b[39;49m\u001b[43m,\u001b[49m\u001b[43m \u001b[49m\u001b[43mname\u001b[49m\u001b[43m)\u001b[49m\n",
      "\u001b[0;31mAttributeError\u001b[0m: 'Series' object has no attribute 'value_count'"
     ]
    }
   ],
   "source": [
    "test_test_X.value_count()"
   ]
  },
  {
   "cell_type": "code",
   "execution_count": null,
   "id": "efc7e543-3982-4e4a-949b-7bef82d46604",
   "metadata": {},
   "outputs": [],
   "source": [
    "## k-nearest neighbors algorithm (k-NN)\n",
    "### https://en.wikipedia.org/wiki/K-nearest_neighbors_algorithm"
   ]
  },
  {
   "cell_type": "code",
   "execution_count": 62,
   "id": "3702b4ac",
   "metadata": {
    "tags": []
   },
   "outputs": [
    {
     "data": {
      "text/html": [
       "<style>#sk-container-id-5 {color: black;background-color: white;}#sk-container-id-5 pre{padding: 0;}#sk-container-id-5 div.sk-toggleable {background-color: white;}#sk-container-id-5 label.sk-toggleable__label {cursor: pointer;display: block;width: 100%;margin-bottom: 0;padding: 0.3em;box-sizing: border-box;text-align: center;}#sk-container-id-5 label.sk-toggleable__label-arrow:before {content: \"▸\";float: left;margin-right: 0.25em;color: #696969;}#sk-container-id-5 label.sk-toggleable__label-arrow:hover:before {color: black;}#sk-container-id-5 div.sk-estimator:hover label.sk-toggleable__label-arrow:before {color: black;}#sk-container-id-5 div.sk-toggleable__content {max-height: 0;max-width: 0;overflow: hidden;text-align: left;background-color: #f0f8ff;}#sk-container-id-5 div.sk-toggleable__content pre {margin: 0.2em;color: black;border-radius: 0.25em;background-color: #f0f8ff;}#sk-container-id-5 input.sk-toggleable__control:checked~div.sk-toggleable__content {max-height: 200px;max-width: 100%;overflow: auto;}#sk-container-id-5 input.sk-toggleable__control:checked~label.sk-toggleable__label-arrow:before {content: \"▾\";}#sk-container-id-5 div.sk-estimator input.sk-toggleable__control:checked~label.sk-toggleable__label {background-color: #d4ebff;}#sk-container-id-5 div.sk-label input.sk-toggleable__control:checked~label.sk-toggleable__label {background-color: #d4ebff;}#sk-container-id-5 input.sk-hidden--visually {border: 0;clip: rect(1px 1px 1px 1px);clip: rect(1px, 1px, 1px, 1px);height: 1px;margin: -1px;overflow: hidden;padding: 0;position: absolute;width: 1px;}#sk-container-id-5 div.sk-estimator {font-family: monospace;background-color: #f0f8ff;border: 1px dotted black;border-radius: 0.25em;box-sizing: border-box;margin-bottom: 0.5em;}#sk-container-id-5 div.sk-estimator:hover {background-color: #d4ebff;}#sk-container-id-5 div.sk-parallel-item::after {content: \"\";width: 100%;border-bottom: 1px solid gray;flex-grow: 1;}#sk-container-id-5 div.sk-label:hover label.sk-toggleable__label {background-color: #d4ebff;}#sk-container-id-5 div.sk-serial::before {content: \"\";position: absolute;border-left: 1px solid gray;box-sizing: border-box;top: 0;bottom: 0;left: 50%;z-index: 0;}#sk-container-id-5 div.sk-serial {display: flex;flex-direction: column;align-items: center;background-color: white;padding-right: 0.2em;padding-left: 0.2em;position: relative;}#sk-container-id-5 div.sk-item {position: relative;z-index: 1;}#sk-container-id-5 div.sk-parallel {display: flex;align-items: stretch;justify-content: center;background-color: white;position: relative;}#sk-container-id-5 div.sk-item::before, #sk-container-id-5 div.sk-parallel-item::before {content: \"\";position: absolute;border-left: 1px solid gray;box-sizing: border-box;top: 0;bottom: 0;left: 50%;z-index: -1;}#sk-container-id-5 div.sk-parallel-item {display: flex;flex-direction: column;z-index: 1;position: relative;background-color: white;}#sk-container-id-5 div.sk-parallel-item:first-child::after {align-self: flex-end;width: 50%;}#sk-container-id-5 div.sk-parallel-item:last-child::after {align-self: flex-start;width: 50%;}#sk-container-id-5 div.sk-parallel-item:only-child::after {width: 0;}#sk-container-id-5 div.sk-dashed-wrapped {border: 1px dashed gray;margin: 0 0.4em 0.5em 0.4em;box-sizing: border-box;padding-bottom: 0.4em;background-color: white;}#sk-container-id-5 div.sk-label label {font-family: monospace;font-weight: bold;display: inline-block;line-height: 1.2em;}#sk-container-id-5 div.sk-label-container {text-align: center;}#sk-container-id-5 div.sk-container {/* jupyter's `normalize.less` sets `[hidden] { display: none; }` but bootstrap.min.css set `[hidden] { display: none !important; }` so we also need the `!important` here to be able to override the default hidden behavior on the sphinx rendered scikit-learn.org. See: https://github.com/scikit-learn/scikit-learn/issues/21755 */display: inline-block !important;position: relative;}#sk-container-id-5 div.sk-text-repr-fallback {display: none;}</style><div id=\"sk-container-id-5\" class=\"sk-top-container\"><div class=\"sk-text-repr-fallback\"><pre>KNeighborsClassifier()</pre><b>In a Jupyter environment, please rerun this cell to show the HTML representation or trust the notebook. <br />On GitHub, the HTML representation is unable to render, please try loading this page with nbviewer.org.</b></div><div class=\"sk-container\" hidden><div class=\"sk-item\"><div class=\"sk-estimator sk-toggleable\"><input class=\"sk-toggleable__control sk-hidden--visually\" id=\"sk-estimator-id-5\" type=\"checkbox\" checked><label for=\"sk-estimator-id-5\" class=\"sk-toggleable__label sk-toggleable__label-arrow\">KNeighborsClassifier</label><div class=\"sk-toggleable__content\"><pre>KNeighborsClassifier()</pre></div></div></div></div></div>"
      ],
      "text/plain": [
       "KNeighborsClassifier()"
      ]
     },
     "execution_count": 62,
     "metadata": {},
     "output_type": "execute_result"
    }
   ],
   "source": [
    "# k-nearest neighbors method -> jedna z prostrzych metod klasyfikacji; głosowanie większości sąsiadów - im większa ilość sąsiadów danej kategorii,\n",
    "# tym więcej głosów, że przewidywana/szacowana jest taka jak większość; można dołożyć wagi np. w postaci odgległości w sensie odległości euklidesowej\n",
    "import sklearn.neighbors\n",
    "\n",
    "knn = sklearn.neighbors.KNeighborsClassifier() # knn to model; będzie to model bazaowy dla dalszych rozważań \n",
    "knn.fit(X_train, yk_train) # model trenuje na zestawie \"train\""
   ]
  },
  {
   "cell_type": "code",
   "execution_count": 50,
   "id": "87fe4c71",
   "metadata": {
    "tags": []
   },
   "outputs": [
    {
     "data": {
      "text/plain": [
       "{'algorithm': 'auto',\n",
       " 'leaf_size': 30,\n",
       " 'metric': 'minkowski',\n",
       " 'metric_params': None,\n",
       " 'n_jobs': None,\n",
       " 'n_neighbors': 5,\n",
       " 'p': 2,\n",
       " 'weights': 'uniform'}"
      ]
     },
     "execution_count": 50,
     "metadata": {},
     "output_type": "execute_result"
    }
   ],
   "source": [
    "knn.get_params() # metryka minkowskiego to jest odległość euklidesowa, wagi uniform - nieistotne, k=5 sasiadów"
   ]
  },
  {
   "cell_type": "code",
   "execution_count": 52,
   "id": "dc5e7dff",
   "metadata": {
    "tags": []
   },
   "outputs": [],
   "source": [
    "# prediction based na train dataset\n",
    "yk_pred_train = knn.predict(X_train) # wkładam zbiór treningowy"
   ]
  },
  {
   "cell_type": "code",
   "execution_count": 51,
   "id": "dc4a303f",
   "metadata": {
    "tags": []
   },
   "outputs": [],
   "source": [
    "# prediction based na test dataset\n",
    "yk_pred_test = knn.predict(X_test) # wkładam zbiór testowy"
   ]
  },
  {
   "cell_type": "code",
   "execution_count": 55,
   "id": "c9025a6e",
   "metadata": {
    "tags": []
   },
   "outputs": [
    {
     "data": {
      "text/plain": [
       "0.8583176691729323"
      ]
     },
     "execution_count": 55,
     "metadata": {},
     "output_type": "execute_result"
    }
   ],
   "source": [
    "sklearn.metrics.accuracy_score(yk_train, yk_pred_train) # liczba poprawnie zaklasyfikowanych obsweracji do wszystkich obserwacji"
   ]
  },
  {
   "cell_type": "code",
   "execution_count": 54,
   "id": "a651879a",
   "metadata": {
    "tags": []
   },
   "outputs": [
    {
     "data": {
      "text/plain": [
       "0.7913533834586466"
      ]
     },
     "execution_count": 54,
     "metadata": {},
     "output_type": "execute_result"
    }
   ],
   "source": [
    "sklearn.metrics.accuracy_score(yk_test, yk_pred_test)"
   ]
  },
  {
   "cell_type": "markdown",
   "id": "771efd9b",
   "metadata": {},
   "source": [
    "### Confusion Matrix\n",
    "### [true negative, false positive]\n",
    "### [false negative, true positive]\n",
    "\n",
    "### https://en.wikipedia.org/wiki/Confusion_matrix"
   ]
  },
  {
   "cell_type": "code",
   "execution_count": 56,
   "id": "71c2cc5f",
   "metadata": {
    "tags": []
   },
   "outputs": [
    {
     "data": {
      "text/plain": [
       "array([[805,  70],\n",
       "       [152,  37]])"
      ]
     },
     "execution_count": 56,
     "metadata": {},
     "output_type": "execute_result"
    }
   ],
   "source": [
    "#Confusion Matrix [[true negative, false positive], [false negative, true positive]]\n",
    "sklearn.metrics.confusion_matrix(yk_test, yk_pred_test)"
   ]
  },
  {
   "cell_type": "code",
   "execution_count": 57,
   "id": "3b5b506b",
   "metadata": {
    "tags": []
   },
   "outputs": [
    {
     "data": {
      "text/plain": [
       "bad     875\n",
       "good    189\n",
       "Name: quality, dtype: int64"
      ]
     },
     "execution_count": 57,
     "metadata": {},
     "output_type": "execute_result"
    }
   ],
   "source": [
    "y_test.value_counts()"
   ]
  },
  {
   "cell_type": "code",
   "execution_count": 58,
   "id": "86a2eea4",
   "metadata": {
    "tags": []
   },
   "outputs": [
    {
     "ename": "ImportError",
     "evalue": "cannot import name 'plot_confusion_matrix' from 'sklearn.metrics' (/opt/conda/lib/python3.10/site-packages/sklearn/metrics/__init__.py)",
     "output_type": "error",
     "traceback": [
      "\u001b[0;31m---------------------------------------------------------------------------\u001b[0m",
      "\u001b[0;31mImportError\u001b[0m                               Traceback (most recent call last)",
      "Cell \u001b[0;32mIn[58], line 1\u001b[0m\n\u001b[0;32m----> 1\u001b[0m \u001b[38;5;28;01mfrom\u001b[39;00m \u001b[38;5;21;01msklearn\u001b[39;00m\u001b[38;5;21;01m.\u001b[39;00m\u001b[38;5;21;01mmetrics\u001b[39;00m \u001b[38;5;28;01mimport\u001b[39;00m plot_confusion_matrix\n",
      "\u001b[0;31mImportError\u001b[0m: cannot import name 'plot_confusion_matrix' from 'sklearn.metrics' (/opt/conda/lib/python3.10/site-packages/sklearn/metrics/__init__.py)"
     ]
    }
   ],
   "source": [
    "from sklearn.metrics import plot_confusion_matrix"
   ]
  },
  {
   "cell_type": "code",
   "execution_count": 65,
   "id": "268901b8",
   "metadata": {
    "tags": []
   },
   "outputs": [
    {
     "ename": "TypeError",
     "evalue": "ConfusionMatrixDisplay.__init__() takes 2 positional arguments but 4 were given",
     "output_type": "error",
     "traceback": [
      "\u001b[0;31m---------------------------------------------------------------------------\u001b[0m",
      "\u001b[0;31mTypeError\u001b[0m                                 Traceback (most recent call last)",
      "Cell \u001b[0;32mIn[65], line 3\u001b[0m\n\u001b[1;32m      1\u001b[0m \u001b[38;5;66;03m#plot_confusion_matrix(knn, X_train, yk_train)\u001b[39;00m\n\u001b[1;32m      2\u001b[0m \u001b[38;5;66;03m#plt.show()\u001b[39;00m\n\u001b[0;32m----> 3\u001b[0m \u001b[43msklearn\u001b[49m\u001b[38;5;241;43m.\u001b[39;49m\u001b[43mmetrics\u001b[49m\u001b[38;5;241;43m.\u001b[39;49m\u001b[43mConfusionMatrixDisplay\u001b[49m\u001b[43m(\u001b[49m\u001b[43mknn\u001b[49m\u001b[43m,\u001b[49m\u001b[43m \u001b[49m\u001b[43mX_train\u001b[49m\u001b[43m,\u001b[49m\u001b[43m \u001b[49m\u001b[43myk_train\u001b[49m\u001b[43m)\u001b[49m\n\u001b[1;32m      4\u001b[0m plt\u001b[38;5;241m.\u001b[39mshow()\n",
      "\u001b[0;31mTypeError\u001b[0m: ConfusionMatrixDisplay.__init__() takes 2 positional arguments but 4 were given"
     ]
    }
   ],
   "source": [
    "#plot_confusion_matrix(knn, X_train, yk_train)\n",
    "#plt.show()\n",
    "sklearn.metrics.ConfusionMatrixDisplay(knn, X_train, yk_train)\n",
    "plt.show()"
   ]
  },
  {
   "cell_type": "code",
   "execution_count": 60,
   "id": "6b7a8138",
   "metadata": {
    "tags": []
   },
   "outputs": [
    {
     "data": {
      "text/plain": [
       "bad     3436\n",
       "good     820\n",
       "Name: quality, dtype: int64"
      ]
     },
     "execution_count": 60,
     "metadata": {},
     "output_type": "execute_result"
    }
   ],
   "source": [
    "y_train.value_counts()"
   ]
  },
  {
   "cell_type": "code",
   "execution_count": 61,
   "id": "9519b8c2",
   "metadata": {
    "tags": []
   },
   "outputs": [
    {
     "ename": "NameError",
     "evalue": "name 'plot_confusion_matrix' is not defined",
     "output_type": "error",
     "traceback": [
      "\u001b[0;31m---------------------------------------------------------------------------\u001b[0m",
      "\u001b[0;31mNameError\u001b[0m                                 Traceback (most recent call last)",
      "Cell \u001b[0;32mIn[61], line 1\u001b[0m\n\u001b[0;32m----> 1\u001b[0m \u001b[43mplot_confusion_matrix\u001b[49m(knn, X_test, yk_test)\n\u001b[1;32m      2\u001b[0m plt\u001b[38;5;241m.\u001b[39mshow()\n",
      "\u001b[0;31mNameError\u001b[0m: name 'plot_confusion_matrix' is not defined"
     ]
    }
   ],
   "source": [
    "plot_confusion_matrix(knn, X_test, yk_test)\n",
    "plt.show()"
   ]
  },
  {
   "cell_type": "code",
   "execution_count": 66,
   "id": "b695b8aa",
   "metadata": {
    "tags": []
   },
   "outputs": [
    {
     "ename": "AttributeError",
     "evalue": "module 'sklearn.metrics' has no attribute 'plot_roc_curve'",
     "output_type": "error",
     "traceback": [
      "\u001b[0;31m---------------------------------------------------------------------------\u001b[0m",
      "\u001b[0;31mAttributeError\u001b[0m                            Traceback (most recent call last)",
      "Cell \u001b[0;32mIn[66], line 2\u001b[0m\n\u001b[1;32m      1\u001b[0m \u001b[38;5;66;03m#Plot Receiver operating characteristic (ROC) curve.\u001b[39;00m\n\u001b[0;32m----> 2\u001b[0m \u001b[43msklearn\u001b[49m\u001b[38;5;241;43m.\u001b[39;49m\u001b[43mmetrics\u001b[49m\u001b[38;5;241;43m.\u001b[39;49m\u001b[43mplot_roc_curve\u001b[49m(knn, X_test, yk_test)\n\u001b[1;32m      3\u001b[0m plt\u001b[38;5;241m.\u001b[39mplot([\u001b[38;5;241m0\u001b[39m, \u001b[38;5;241m1\u001b[39m], [\u001b[38;5;241m0\u001b[39m, \u001b[38;5;241m1\u001b[39m], color\u001b[38;5;241m=\u001b[39m\u001b[38;5;124m\"\u001b[39m\u001b[38;5;124mnavy\u001b[39m\u001b[38;5;124m\"\u001b[39m, lw\u001b[38;5;241m=\u001b[39m\u001b[38;5;241m2\u001b[39m, linestyle\u001b[38;5;241m=\u001b[39m\u001b[38;5;124m\"\u001b[39m\u001b[38;5;124m--\u001b[39m\u001b[38;5;124m\"\u001b[39m)\n\u001b[1;32m      4\u001b[0m plt\u001b[38;5;241m.\u001b[39mshow()\n",
      "\u001b[0;31mAttributeError\u001b[0m: module 'sklearn.metrics' has no attribute 'plot_roc_curve'"
     ]
    }
   ],
   "source": [
    "#Plot Receiver operating characteristic (ROC) curve.\n",
    "sklearn.metrics.plot_roc_curve(knn, X_test, yk_test)\n",
    "plt.plot([0, 1], [0, 1], color=\"navy\", lw=2, linestyle=\"--\")\n",
    "plt.show()"
   ]
  },
  {
   "cell_type": "code",
   "execution_count": 71,
   "id": "11125133",
   "metadata": {
    "tags": []
   },
   "outputs": [],
   "source": [
    "def fit_classifier(alg, X_train, X_test, y_train, y_test):\n",
    "    \"\"\"\n",
    "    A method that trains a selected alg model on the training dataset (X_train, y_train),\n",
    "    makes predictions on the both datasets (X_train, y_train) and (X_test, y_test)\n",
    "    and validates it through four selected metrics: accuracy, precision, recall and F1.\n",
    "    \n",
    "    Parameters:\n",
    "        alg: an object representing the selected algorithm,\n",
    "                e.g. sklearn.neighbors.classification.KNeighborsClassifier algorithm used for classification\n",
    "        X_train: pandas.core.frame.DataFrame\n",
    "            training dataset - predictors\n",
    "        X_test: pandas.core.frame.DataFrame\n",
    "            test dataset - predictors\n",
    "        y_train: pandas.core.series.Series or numpy.array\n",
    "            training dataset - target variable\n",
    "        y_test: pandas.core.series.Series or numpy.array\n",
    "            test dataset - target variable\n",
    "    \n",
    "    Returns:\n",
    "        dict: a dictionary containing the keys ACC, P, R and F1,\n",
    "             for which model validation values have been determined, such as: accuracy, precision, recall and F1.\n",
    "        \n",
    "    \"\"\"\n",
    "      \n",
    "    alg.fit(X_train, y_train)\n",
    "    y_pred_train = alg.predict(X_train)\n",
    "    y_pred_test = alg.predict(X_test)\n",
    "    \n",
    "    # ZAWSZE trzeba oceniac model pod kątem kilku metryk\n",
    "    # metryki sprawdzic w dokumentacji do dokładnie oznaczają\n",
    "    return {\n",
    "        \"ACC_train\":  sklearn.metrics.accuracy_score(y_pred_train, y_train),\n",
    "        \"ACC_test\": sklearn.metrics.accuracy_score(y_pred_test, y_test),\n",
    "        \"P_train\":    sklearn.metrics.precision_score(y_pred_train, y_train), # P = tp/(tp+fp) -> zdolność rozpoznawania klasy positive\n",
    "        \"P_test\":   sklearn.metrics.precision_score(y_pred_test, y_test),\n",
    "        \"R_train\":    sklearn.metrics.recall_score(y_pred_train, y_train),\n",
    "        \"R_test\":   sklearn.metrics.recall_score(y_pred_test, y_test),\n",
    "        \"F1_train\":   sklearn.metrics.f1_score(y_pred_train, y_train), # metryka F1 jest mocna; jak F1 jest duża, to model jest dobry\n",
    "        \"F1_test\":  sklearn.metrics.f1_score(y_pred_test, y_test)\n",
    "    }"
   ]
  },
  {
   "cell_type": "code",
   "execution_count": 68,
   "id": "7865c75a",
   "metadata": {
    "tags": []
   },
   "outputs": [
    {
     "name": "stdout",
     "output_type": "stream",
     "text": [
      "Help on function fit_classifier in module __main__:\n",
      "\n",
      "fit_classifier(alg, X_train, X_test, y_train, y_test)\n",
      "    A method that trains a selected alg model on the training dataset (X_train, y_train),\n",
      "    makes predictions on the both datasets (X_train, y_train) and (X_test, y_test)\n",
      "    and validates it through four selected metrics: accuracy, precision, recall and F1.\n",
      "    \n",
      "    Parameters:\n",
      "        alg: an object representing the selected algorithm,\n",
      "                e.g. sklearn.neighbors.classification.KNeighborsClassifier algorithm used for classification\n",
      "        X_train: pandas.core.frame.DataFrame\n",
      "            training dataset - predictors\n",
      "        X_test: pandas.core.frame.DataFrame\n",
      "            test dataset - predictors\n",
      "        y_train: pandas.core.series.Series or numpy.array\n",
      "            training dataset - target variable\n",
      "        y_test: pandas.core.series.Series or numpy.array\n",
      "            test dataset - target variable\n",
      "    \n",
      "    Returns:\n",
      "        dict: a dictionary containing the keys ACC, P, R and F1,\n",
      "             for which model validation values have been determined, such as: accuracy, precision, recall and F1.\n",
      "\n"
     ]
    }
   ],
   "source": [
    "help(fit_classifier)"
   ]
  },
  {
   "cell_type": "code",
   "execution_count": 72,
   "id": "23ebfdd7",
   "metadata": {
    "tags": []
   },
   "outputs": [],
   "source": [
    "#we create DataFrame with metrics\n",
    "params = [\"knn\"]\n",
    "res = [fit_classifier(sklearn.neighbors.KNeighborsClassifier(),\n",
    "                      X_train, X_test, yk_train, yk_test)]\n",
    "df_results = pd.DataFrame(res, index=params)"
   ]
  },
  {
   "cell_type": "code",
   "execution_count": 73,
   "id": "5051cc23",
   "metadata": {
    "tags": []
   },
   "outputs": [
    {
     "name": "stderr",
     "output_type": "stream",
     "text": [
      "/tmp/ipykernel_76/1238526269.py:2: FutureWarning: The frame.append method is deprecated and will be removed from pandas in a future version. Use pandas.concat instead.\n",
      "  results = results.append(df_results)\n"
     ]
    }
   ],
   "source": [
    "results = pd.DataFrame()\n",
    "results = results.append(df_results)"
   ]
  },
  {
   "cell_type": "code",
   "execution_count": 74,
   "id": "63968304",
   "metadata": {
    "tags": []
   },
   "outputs": [
    {
     "data": {
      "text/html": [
       "<div>\n",
       "<style scoped>\n",
       "    .dataframe tbody tr th:only-of-type {\n",
       "        vertical-align: middle;\n",
       "    }\n",
       "\n",
       "    .dataframe tbody tr th {\n",
       "        vertical-align: top;\n",
       "    }\n",
       "\n",
       "    .dataframe thead th {\n",
       "        text-align: right;\n",
       "    }\n",
       "</style>\n",
       "<table border=\"1\" class=\"dataframe\">\n",
       "  <thead>\n",
       "    <tr style=\"text-align: right;\">\n",
       "      <th></th>\n",
       "      <th>ACC_train</th>\n",
       "      <th>ACC_test</th>\n",
       "      <th>P_train</th>\n",
       "      <th>P_test</th>\n",
       "      <th>R_train</th>\n",
       "      <th>R_test</th>\n",
       "      <th>F1_train</th>\n",
       "      <th>F1_test</th>\n",
       "    </tr>\n",
       "  </thead>\n",
       "  <tbody>\n",
       "    <tr>\n",
       "      <th>knn</th>\n",
       "      <td>0.858318</td>\n",
       "      <td>0.791353</td>\n",
       "      <td>0.404878</td>\n",
       "      <td>0.195767</td>\n",
       "      <td>0.742729</td>\n",
       "      <td>0.345794</td>\n",
       "      <td>0.524073</td>\n",
       "      <td>0.25</td>\n",
       "    </tr>\n",
       "  </tbody>\n",
       "</table>\n",
       "</div>"
      ],
      "text/plain": [
       "     ACC_train  ACC_test   P_train    P_test   R_train    R_test  F1_train  \\\n",
       "knn   0.858318  0.791353  0.404878  0.195767  0.742729  0.345794  0.524073   \n",
       "\n",
       "     F1_test  \n",
       "knn     0.25  "
      ]
     },
     "execution_count": 74,
     "metadata": {},
     "output_type": "execute_result"
    }
   ],
   "source": [
    "results"
   ]
  },
  {
   "cell_type": "code",
   "execution_count": 79,
   "id": "e3cb7161",
   "metadata": {
    "tags": []
   },
   "outputs": [],
   "source": [
    "# jak widać, model dobrze rozpoznaje tylko elementy jednej klasy (negative; stąd w miarę duże ACCuracy)\n",
    "\n",
    "#we check the metrics of the model for the dataset after standardization; czy na wyniki wpływa standaryzacja?\n",
    "m = X.mean()\n",
    "s = X.std()"
   ]
  },
  {
   "cell_type": "code",
   "execution_count": 77,
   "id": "38f3d068",
   "metadata": {
    "tags": []
   },
   "outputs": [],
   "source": [
    "X_train_std = (X_train - m)/s\n",
    "X_test_std = (X_test - m)/s"
   ]
  },
  {
   "cell_type": "code",
   "execution_count": 80,
   "id": "19c0ca7c",
   "metadata": {
    "tags": []
   },
   "outputs": [
    {
     "data": {
      "text/html": [
       "<div>\n",
       "<style scoped>\n",
       "    .dataframe tbody tr th:only-of-type {\n",
       "        vertical-align: middle;\n",
       "    }\n",
       "\n",
       "    .dataframe tbody tr th {\n",
       "        vertical-align: top;\n",
       "    }\n",
       "\n",
       "    .dataframe thead th {\n",
       "        text-align: right;\n",
       "    }\n",
       "</style>\n",
       "<table border=\"1\" class=\"dataframe\">\n",
       "  <thead>\n",
       "    <tr style=\"text-align: right;\">\n",
       "      <th></th>\n",
       "      <th>fixed.acidity</th>\n",
       "      <th>volatile.acidity</th>\n",
       "      <th>citric.acid</th>\n",
       "      <th>residual.sugar</th>\n",
       "      <th>chlorides</th>\n",
       "      <th>free.sulfur.dioxide</th>\n",
       "      <th>total.sulfur.dioxide</th>\n",
       "      <th>density</th>\n",
       "      <th>pH</th>\n",
       "      <th>sulphates</th>\n",
       "      <th>alcohol</th>\n",
       "    </tr>\n",
       "  </thead>\n",
       "  <tbody>\n",
       "    <tr>\n",
       "      <th>count</th>\n",
       "      <td>4256.000000</td>\n",
       "      <td>4256.000000</td>\n",
       "      <td>4256.000000</td>\n",
       "      <td>4256.000000</td>\n",
       "      <td>4256.000000</td>\n",
       "      <td>4256.000000</td>\n",
       "      <td>4256.000000</td>\n",
       "      <td>4256.000000</td>\n",
       "      <td>4256.000000</td>\n",
       "      <td>4256.000000</td>\n",
       "      <td>4256.000000</td>\n",
       "    </tr>\n",
       "    <tr>\n",
       "      <th>mean</th>\n",
       "      <td>-0.003757</td>\n",
       "      <td>-0.001321</td>\n",
       "      <td>-0.002622</td>\n",
       "      <td>0.008570</td>\n",
       "      <td>-0.000937</td>\n",
       "      <td>0.003233</td>\n",
       "      <td>0.010694</td>\n",
       "      <td>0.005759</td>\n",
       "      <td>0.009452</td>\n",
       "      <td>-0.000013</td>\n",
       "      <td>-0.002293</td>\n",
       "    </tr>\n",
       "    <tr>\n",
       "      <th>std</th>\n",
       "      <td>0.995667</td>\n",
       "      <td>0.999152</td>\n",
       "      <td>0.989494</td>\n",
       "      <td>1.004635</td>\n",
       "      <td>0.980603</td>\n",
       "      <td>0.993751</td>\n",
       "      <td>0.999382</td>\n",
       "      <td>1.000756</td>\n",
       "      <td>1.007276</td>\n",
       "      <td>0.986945</td>\n",
       "      <td>0.991881</td>\n",
       "    </tr>\n",
       "    <tr>\n",
       "      <th>min</th>\n",
       "      <td>-2.587902</td>\n",
       "      <td>-1.569881</td>\n",
       "      <td>-2.164312</td>\n",
       "      <td>-0.988511</td>\n",
       "      <td>-1.293694</td>\n",
       "      <td>-1.630811</td>\n",
       "      <td>-1.904192</td>\n",
       "      <td>-2.466797</td>\n",
       "      <td>-3.146689</td>\n",
       "      <td>-2.092634</td>\n",
       "      <td>-2.149566</td>\n",
       "    </tr>\n",
       "    <tr>\n",
       "      <th>25%</th>\n",
       "      <td>-0.617714</td>\n",
       "      <td>-0.678341</td>\n",
       "      <td>-0.465450</td>\n",
       "      <td>-0.721855</td>\n",
       "      <td>-0.507004</td>\n",
       "      <td>-0.788353</td>\n",
       "      <td>-0.688852</td>\n",
       "      <td>-0.767255</td>\n",
       "      <td>-0.652600</td>\n",
       "      <td>-0.690231</td>\n",
       "      <td>-0.884739</td>\n",
       "    </tr>\n",
       "    <tr>\n",
       "      <th>50%</th>\n",
       "      <td>-0.163055</td>\n",
       "      <td>-0.262289</td>\n",
       "      <td>-0.057723</td>\n",
       "      <td>-0.499642</td>\n",
       "      <td>-0.262859</td>\n",
       "      <td>-0.114386</td>\n",
       "      <td>0.050921</td>\n",
       "      <td>0.035306</td>\n",
       "      <td>-0.029078</td>\n",
       "      <td>-0.155982</td>\n",
       "      <td>-0.125843</td>\n",
       "    </tr>\n",
       "    <tr>\n",
       "      <th>75%</th>\n",
       "      <td>0.367381</td>\n",
       "      <td>0.391507</td>\n",
       "      <td>0.553867</td>\n",
       "      <td>0.544761</td>\n",
       "      <td>0.252559</td>\n",
       "      <td>0.615744</td>\n",
       "      <td>0.702625</td>\n",
       "      <td>0.757780</td>\n",
       "      <td>0.656796</td>\n",
       "      <td>0.445048</td>\n",
       "      <td>0.717375</td>\n",
       "    </tr>\n",
       "    <tr>\n",
       "      <th>max</th>\n",
       "      <td>6.581052</td>\n",
       "      <td>7.345516</td>\n",
       "      <td>9.116132</td>\n",
       "      <td>13.499798</td>\n",
       "      <td>11.130582</td>\n",
       "      <td>14.544381</td>\n",
       "      <td>5.740122</td>\n",
       "      <td>14.987228</td>\n",
       "      <td>4.896748</td>\n",
       "      <td>9.460499</td>\n",
       "      <td>3.668638</td>\n",
       "    </tr>\n",
       "  </tbody>\n",
       "</table>\n",
       "</div>"
      ],
      "text/plain": [
       "       fixed.acidity  volatile.acidity  citric.acid  residual.sugar  \\\n",
       "count    4256.000000       4256.000000  4256.000000     4256.000000   \n",
       "mean       -0.003757         -0.001321    -0.002622        0.008570   \n",
       "std         0.995667          0.999152     0.989494        1.004635   \n",
       "min        -2.587902         -1.569881    -2.164312       -0.988511   \n",
       "25%        -0.617714         -0.678341    -0.465450       -0.721855   \n",
       "50%        -0.163055         -0.262289    -0.057723       -0.499642   \n",
       "75%         0.367381          0.391507     0.553867        0.544761   \n",
       "max         6.581052          7.345516     9.116132       13.499798   \n",
       "\n",
       "         chlorides  free.sulfur.dioxide  total.sulfur.dioxide      density  \\\n",
       "count  4256.000000          4256.000000           4256.000000  4256.000000   \n",
       "mean     -0.000937             0.003233              0.010694     0.005759   \n",
       "std       0.980603             0.993751              0.999382     1.000756   \n",
       "min      -1.293694            -1.630811             -1.904192    -2.466797   \n",
       "25%      -0.507004            -0.788353             -0.688852    -0.767255   \n",
       "50%      -0.262859            -0.114386              0.050921     0.035306   \n",
       "75%       0.252559             0.615744              0.702625     0.757780   \n",
       "max      11.130582            14.544381              5.740122    14.987228   \n",
       "\n",
       "                pH    sulphates      alcohol  \n",
       "count  4256.000000  4256.000000  4256.000000  \n",
       "mean      0.009452    -0.000013    -0.002293  \n",
       "std       1.007276     0.986945     0.991881  \n",
       "min      -3.146689    -2.092634    -2.149566  \n",
       "25%      -0.652600    -0.690231    -0.884739  \n",
       "50%      -0.029078    -0.155982    -0.125843  \n",
       "75%       0.656796     0.445048     0.717375  \n",
       "max       4.896748     9.460499     3.668638  "
      ]
     },
     "execution_count": 80,
     "metadata": {},
     "output_type": "execute_result"
    }
   ],
   "source": [
    "X_train_std.describe()"
   ]
  },
  {
   "cell_type": "code",
   "execution_count": 81,
   "id": "651e5884",
   "metadata": {
    "tags": []
   },
   "outputs": [],
   "source": [
    "params = [\"knn_std\"]\n",
    "res = [fit_classifier(sklearn.neighbors.KNeighborsClassifier(),\n",
    "                          X_train_std, X_test_std, yk_train, yk_test)]\n",
    "df_results = pd.DataFrame(res, index=params)"
   ]
  },
  {
   "cell_type": "code",
   "execution_count": 82,
   "id": "3913f12d",
   "metadata": {
    "tags": []
   },
   "outputs": [
    {
     "name": "stderr",
     "output_type": "stream",
     "text": [
      "/tmp/ipykernel_76/3892660430.py:1: FutureWarning: The frame.append method is deprecated and will be removed from pandas in a future version. Use pandas.concat instead.\n",
      "  results = results.append(df_results)\n"
     ]
    }
   ],
   "source": [
    "results = results.append(df_results)"
   ]
  },
  {
   "cell_type": "code",
   "execution_count": 85,
   "id": "81157c6a",
   "metadata": {
    "tags": []
   },
   "outputs": [
    {
     "data": {
      "text/html": [
       "<div>\n",
       "<style scoped>\n",
       "    .dataframe tbody tr th:only-of-type {\n",
       "        vertical-align: middle;\n",
       "    }\n",
       "\n",
       "    .dataframe tbody tr th {\n",
       "        vertical-align: top;\n",
       "    }\n",
       "\n",
       "    .dataframe thead th {\n",
       "        text-align: right;\n",
       "    }\n",
       "</style>\n",
       "<table border=\"1\" class=\"dataframe\">\n",
       "  <thead>\n",
       "    <tr style=\"text-align: right;\">\n",
       "      <th></th>\n",
       "      <th>ACC_train</th>\n",
       "      <th>ACC_test</th>\n",
       "      <th>P_train</th>\n",
       "      <th>P_test</th>\n",
       "      <th>R_train</th>\n",
       "      <th>R_test</th>\n",
       "      <th>F1_train</th>\n",
       "      <th>F1_test</th>\n",
       "    </tr>\n",
       "  </thead>\n",
       "  <tbody>\n",
       "    <tr>\n",
       "      <th>knn</th>\n",
       "      <td>0.858318</td>\n",
       "      <td>0.791353</td>\n",
       "      <td>0.404878</td>\n",
       "      <td>0.195767</td>\n",
       "      <td>0.742729</td>\n",
       "      <td>0.345794</td>\n",
       "      <td>0.524073</td>\n",
       "      <td>0.250000</td>\n",
       "    </tr>\n",
       "    <tr>\n",
       "      <th>knn_std</th>\n",
       "      <td>0.883224</td>\n",
       "      <td>0.839286</td>\n",
       "      <td>0.587805</td>\n",
       "      <td>0.465608</td>\n",
       "      <td>0.751950</td>\n",
       "      <td>0.556962</td>\n",
       "      <td>0.659822</td>\n",
       "      <td>0.507205</td>\n",
       "    </tr>\n",
       "  </tbody>\n",
       "</table>\n",
       "</div>"
      ],
      "text/plain": [
       "         ACC_train  ACC_test   P_train    P_test   R_train    R_test  \\\n",
       "knn       0.858318  0.791353  0.404878  0.195767  0.742729  0.345794   \n",
       "knn_std   0.883224  0.839286  0.587805  0.465608  0.751950  0.556962   \n",
       "\n",
       "         F1_train   F1_test  \n",
       "knn      0.524073  0.250000  \n",
       "knn_std  0.659822  0.507205  "
      ]
     },
     "execution_count": 85,
     "metadata": {},
     "output_type": "execute_result"
    }
   ],
   "source": [
    "results # w przypadku klasyfikacji (KNN) po standaryzacji wyniki uległy poprawie"
   ]
  },
  {
   "cell_type": "code",
   "execution_count": 84,
   "id": "b7efbbf9-c585-4aa5-9783-bce8a1924a63",
   "metadata": {
    "tags": []
   },
   "outputs": [],
   "source": [
    "# w związku z tym, że zmienna celu ma wartości 0 i 1, nie muszę dokownyać odwrotnej trasformacji (tak jak w przypadku regresji)"
   ]
  },
  {
   "cell_type": "code",
   "execution_count": null,
   "id": "9c542a1d",
   "metadata": {},
   "outputs": [],
   "source": [
    "# confusion matrix\n",
    "knn.fit(X_train_std, yk_train)\n",
    "#knn.predict(X_test_std)\n",
    "\n",
    "plot_confusion_matrix(knn, X_test_std, yk_test)\n",
    "plt.show()"
   ]
  },
  {
   "cell_type": "code",
   "execution_count": null,
   "id": "be518989",
   "metadata": {
    "scrolled": true
   },
   "outputs": [],
   "source": [
    "#Classification report\n",
    "help(sklearn.metrics.classification_report)"
   ]
  },
  {
   "cell_type": "code",
   "execution_count": null,
   "id": "af995dfa",
   "metadata": {},
   "outputs": [],
   "source": [
    "yk_pred_test = knn.predict(X_test_std)"
   ]
  },
  {
   "cell_type": "code",
   "execution_count": null,
   "id": "74640295",
   "metadata": {},
   "outputs": [],
   "source": [
    "print(sklearn.metrics.classification_report(yk_test, yk_pred_test, target_names=['bad', 'good']))"
   ]
  },
  {
   "cell_type": "code",
   "execution_count": null,
   "id": "a14c17d3",
   "metadata": {},
   "outputs": [],
   "source": [
    "#Plot Receiver operating characteristic (ROC) curve.\n",
    "sklearn.metrics.plot_roc_curve(knn, X_test_std, yk_test)\n",
    "plt.plot([0, 1], [0, 1], color=\"navy\", lw=2, linestyle=\"--\")\n",
    "plt.show()"
   ]
  },
  {
   "cell_type": "code",
   "execution_count": null,
   "id": "8e153775",
   "metadata": {},
   "outputs": [],
   "source": [
    "# have a look on pairplot figure\n",
    "X_std = (X-m)/s\n",
    "sns.pairplot(X_std)\n",
    "plt.show()"
   ]
  },
  {
   "cell_type": "markdown",
   "id": "c3ba1211",
   "metadata": {},
   "source": [
    "## Isolation Forest method for outliers detection\n",
    "## https://scikit-learn.org/stable/modules/generated/sklearn.ensemble.IsolationForest.html"
   ]
  },
  {
   "cell_type": "code",
   "execution_count": null,
   "id": "6d1ce600",
   "metadata": {},
   "outputs": [],
   "source": [
    "from sklearn.ensemble import IsolationForest"
   ]
  },
  {
   "cell_type": "code",
   "execution_count": null,
   "id": "05676d61",
   "metadata": {},
   "outputs": [],
   "source": [
    "# let's train the model and mark outliers\n",
    "clf = IsolationForest(n_estimators=1000, random_state=12345)\n",
    "clf.fit(X)\n",
    "isf_pred = clf.predict(X)"
   ]
  },
  {
   "cell_type": "code",
   "execution_count": null,
   "id": "9d94fca9",
   "metadata": {},
   "outputs": [],
   "source": [
    "isf_pred[:30]"
   ]
  },
  {
   "cell_type": "code",
   "execution_count": null,
   "id": "12a4d588",
   "metadata": {},
   "outputs": [],
   "source": [
    "# values -1 are the outliers\n",
    "unique, counts = np.unique(isf_pred, return_counts=True)\n",
    "print(np.asarray((unique, counts)).T)"
   ]
  },
  {
   "cell_type": "code",
   "execution_count": null,
   "id": "9baa468b",
   "metadata": {},
   "outputs": [],
   "source": [
    "len(isf_pred[isf_pred == 1])"
   ]
  },
  {
   "cell_type": "code",
   "execution_count": null,
   "id": "f2de4dc4",
   "metadata": {},
   "outputs": [],
   "source": [
    "len(isf_pred[isf_pred == -1])"
   ]
  },
  {
   "cell_type": "code",
   "execution_count": null,
   "id": "4b086651",
   "metadata": {},
   "outputs": [],
   "source": [
    "np.round((len(isf_pred[isf_pred == -1])/X.shape[0])*100,1)"
   ]
  },
  {
   "cell_type": "code",
   "execution_count": null,
   "id": "b4a8a216",
   "metadata": {},
   "outputs": [],
   "source": [
    "# we will use values 1 as a mask\n",
    "X_wout_outl = X[isf_pred == 1]"
   ]
  },
  {
   "cell_type": "code",
   "execution_count": null,
   "id": "cf4fc01f",
   "metadata": {},
   "outputs": [],
   "source": [
    "X_wout_outl"
   ]
  },
  {
   "cell_type": "code",
   "execution_count": null,
   "id": "fa42b306",
   "metadata": {},
   "outputs": [],
   "source": [
    "yk_wout_outl = yk[isf_pred == 1]"
   ]
  },
  {
   "cell_type": "code",
   "execution_count": null,
   "id": "6204c72e",
   "metadata": {},
   "outputs": [],
   "source": [
    "len(yk_wout_outl)"
   ]
  },
  {
   "cell_type": "code",
   "execution_count": null,
   "id": "2cf4706b",
   "metadata": {},
   "outputs": [],
   "source": [
    "sns.pairplot(X_wout_outl)\n",
    "plt.show()"
   ]
  },
  {
   "cell_type": "code",
   "execution_count": null,
   "id": "c4e1e48c",
   "metadata": {},
   "outputs": [],
   "source": [
    "X_wout_outl.reset_index(drop=True, inplace=True)\n",
    "#yk_wout_outl.reset_index(drop=True, inplace=True)\n"
   ]
  },
  {
   "cell_type": "code",
   "execution_count": null,
   "id": "97554ac8",
   "metadata": {},
   "outputs": [],
   "source": [
    "X_wout_outl"
   ]
  },
  {
   "cell_type": "code",
   "execution_count": null,
   "id": "59d14abc",
   "metadata": {},
   "outputs": [],
   "source": [
    "len(yk_wout_outl)"
   ]
  },
  {
   "cell_type": "code",
   "execution_count": null,
   "id": "f76b515f",
   "metadata": {},
   "outputs": [],
   "source": [
    "# let's train the model on dataset without outliers\n",
    "idx_train, idx_test = sklearn.model_selection.train_test_split(np.arange(X_wout_outl.shape[0]),\n",
    "                                                             test_size=0.2,\n",
    "                                                             random_state=12345)\n",
    "\n",
    "X_train_wo, X_test_wo = X_wout_outl.iloc[idx_train, :], X_wout_outl.iloc[idx_test, :]\n",
    "yk_train_wo, yk_test_wo = yk_wout_outl[idx_train], yk_wout_outl[idx_test]\n",
    "\n",
    "X_train_wo.shape, X_test_wo.shape, yk_train_wo.shape, yk_test_wo.shape"
   ]
  },
  {
   "cell_type": "code",
   "execution_count": null,
   "id": "58150ce8",
   "metadata": {},
   "outputs": [],
   "source": [
    "params = [\"knn_isf\"]\n",
    "res = [fit_classifier(sklearn.neighbors.KNeighborsClassifier(),\n",
    "                          X_train_wo, X_test_wo, yk_train_wo, yk_test_wo)]\n",
    "\n",
    "df_results = pd.DataFrame(res, index=params)"
   ]
  },
  {
   "cell_type": "code",
   "execution_count": null,
   "id": "28ab4391",
   "metadata": {},
   "outputs": [],
   "source": [
    "results = results.append(df_results)\n",
    "results"
   ]
  },
  {
   "cell_type": "code",
   "execution_count": null,
   "id": "01411198",
   "metadata": {},
   "outputs": [],
   "source": [
    "# we will stdandardize the dataset without outliers\n",
    "m_wo = X_wout_outl.mean()\n",
    "s_wo = X_wout_outl.std()\n",
    "X_wo_std = (X_wout_outl - m_wo)/s_wo"
   ]
  },
  {
   "cell_type": "code",
   "execution_count": null,
   "id": "89dee46f",
   "metadata": {},
   "outputs": [],
   "source": [
    "X_train_wo_std = (X_train_wo - m_wo)/s_wo\n",
    "X_test_wo_std = (X_test_wo - m_wo)/s_wo"
   ]
  },
  {
   "cell_type": "code",
   "execution_count": null,
   "id": "b49a6902",
   "metadata": {},
   "outputs": [],
   "source": [
    "params = [\"knn_isf_std\"]\n",
    "res = [fit_classifier(sklearn.neighbors.KNeighborsClassifier(),\n",
    "                          X_train_wo_std, X_test_wo_std, yk_train_wo, yk_test_wo)]\n",
    "df_results = pd.DataFrame(res, index=params)"
   ]
  },
  {
   "cell_type": "code",
   "execution_count": null,
   "id": "a1cd2190",
   "metadata": {},
   "outputs": [],
   "source": [
    "results = results.append(df_results)\n",
    "results"
   ]
  },
  {
   "cell_type": "code",
   "execution_count": null,
   "id": "20d24c0f",
   "metadata": {},
   "outputs": [],
   "source": [
    "X_test_std"
   ]
  },
  {
   "cell_type": "code",
   "execution_count": null,
   "id": "2eb682d8",
   "metadata": {},
   "outputs": [],
   "source": [
    "#let's create a set of classification models\n",
    "#we start with one model and we will add other models later on\n",
    "methods = pd.Series({\n",
    "    \"knn std cv\": sklearn.neighbors.KNeighborsClassifier()\n",
    "})\n",
    "\n",
    "#evaluation function\n",
    "def eval_function(X_train, X_test, y_train, y_test):\n",
    "    cv_models = pd.concat([\n",
    "        pd.Series(fit_classifier(alg,\n",
    "                                 X_train, X_test, y_train, y_test)) for alg in methods], axis=1).T\n",
    "    cv_models.index = methods.index\n",
    "    return cv_models"
   ]
  },
  {
   "cell_type": "code",
   "execution_count": null,
   "id": "16afdded",
   "metadata": {},
   "outputs": [],
   "source": [
    "#application of the evaluation function\n",
    "#results summarizing the cross validation\n",
    "from sklearn.model_selection import KFold\n",
    "\n",
    "kf = KFold(n_splits=5)\n",
    "\n",
    "n_folds = 5\n",
    "\n",
    "results_cv = [eval_function(X_std.iloc[train,:],\n",
    "                            X_std.iloc[test,:],\n",
    "                            yk[train],\n",
    "                            yk[test]) for train, test in kf.split(X_std)]\n",
    "\n",
    "sum(results_cv)/n_folds"
   ]
  },
  {
   "cell_type": "code",
   "execution_count": null,
   "id": "c4d91f70",
   "metadata": {},
   "outputs": [],
   "source": [
    "#dictionary with metric form cross validation\n",
    "dict_metrics_cv = (sum(results_cv)/n_folds).to_dict()"
   ]
  },
  {
   "cell_type": "code",
   "execution_count": null,
   "id": "f139c138",
   "metadata": {},
   "outputs": [],
   "source": [
    "dict_metrics_cv"
   ]
  },
  {
   "cell_type": "code",
   "execution_count": null,
   "id": "dd6f6f73",
   "metadata": {},
   "outputs": [],
   "source": [
    "params = [\"knn_std_cv\"]\n",
    "res = [{\n",
    " 'ACC_train': dict_metrics_cv['ACC_train']['knn std cv'],\n",
    " 'ACC_test': dict_metrics_cv['ACC_test']['knn std cv'],\n",
    " 'P_train': dict_metrics_cv['P_train']['knn std cv'],\n",
    " 'P_test': dict_metrics_cv['P_test']['knn std cv'],\n",
    " 'R_train': dict_metrics_cv['R_train']['knn std cv'],\n",
    " 'R_test': dict_metrics_cv['R_test']['knn std cv'],\n",
    " 'F1_train': dict_metrics_cv['F1_train']['knn std cv'],\n",
    " 'F1_test': dict_metrics_cv['F1_test']['knn std cv']\n",
    "}]\n",
    "df_results = pd.DataFrame(res, index=params)"
   ]
  },
  {
   "cell_type": "code",
   "execution_count": null,
   "id": "2d8ed9eb",
   "metadata": {},
   "outputs": [],
   "source": [
    "results = results.append(df_results)\n",
    "results"
   ]
  },
  {
   "cell_type": "code",
   "execution_count": null,
   "id": "789fbda0",
   "metadata": {},
   "outputs": [],
   "source": [
    "results_cv = [eval_function(X_wo_std.iloc[train,:],\n",
    "                            X_wo_std.iloc[test,:],\n",
    "                            yk_wout_outl[train],\n",
    "                            yk_wout_outl[test]) for train, test in kf.split(X_wo_std)]\n",
    "\n",
    "sum(results_cv)/n_folds"
   ]
  },
  {
   "cell_type": "code",
   "execution_count": null,
   "id": "e82f4ac3",
   "metadata": {},
   "outputs": [],
   "source": [
    "#dictionary with metric form cross validation\n",
    "dict_metrics_cv = (sum(results_cv)/n_folds).to_dict()"
   ]
  },
  {
   "cell_type": "code",
   "execution_count": null,
   "id": "85ff0fdc",
   "metadata": {},
   "outputs": [],
   "source": [
    "params = [\"knn_isf_std_cv\"]\n",
    "res = [{\n",
    " 'ACC_train': dict_metrics_cv['ACC_train']['knn std cv'],\n",
    " 'ACC_test': dict_metrics_cv['ACC_test']['knn std cv'],\n",
    " 'P_train': dict_metrics_cv['P_train']['knn std cv'],\n",
    " 'P_test': dict_metrics_cv['P_test']['knn std cv'],\n",
    " 'R_train': dict_metrics_cv['R_train']['knn std cv'],\n",
    " 'R_test': dict_metrics_cv['R_test']['knn std cv'],\n",
    " 'F1_train': dict_metrics_cv['F1_train']['knn std cv'],\n",
    " 'F1_test': dict_metrics_cv['F1_test']['knn std cv']\n",
    "}]\n",
    "df_results = pd.DataFrame(res, index=params)"
   ]
  },
  {
   "cell_type": "code",
   "execution_count": null,
   "id": "62ed055e",
   "metadata": {},
   "outputs": [],
   "source": [
    "results = results.append(df_results)\n",
    "results"
   ]
  },
  {
   "cell_type": "markdown",
   "id": "44e0c829",
   "metadata": {},
   "source": [
    "## Playing with hyperparameters of the models"
   ]
  },
  {
   "cell_type": "code",
   "execution_count": null,
   "id": "d2da8a3d",
   "metadata": {},
   "outputs": [],
   "source": [
    "# let's check how the accuracy depends on number of neighbors\n",
    "tab_train = list()\n",
    "tab_test = list()\n",
    "\n",
    "for i in range(1,31):\n",
    "    cl_model = sklearn.neighbors.KNeighborsClassifier(n_neighbors=i) #creation of the model\n",
    "    print(cl_model)\n",
    "    cl_model.fit(X_train_std, yk_train) #training of the model\n",
    "    \n",
    "    y_tr_pred = cl_model.predict(X_train_std) #prediction for the train dataset\n",
    "    y_te_pred = cl_model.predict(X_test_std) #prediction for the test dataset\n",
    "    \n",
    "    tab_train.append(sklearn.metrics.accuracy_score(yk_train, y_tr_pred))\n",
    "    tab_test.append(sklearn.metrics.accuracy_score(yk_test, y_te_pred))"
   ]
  },
  {
   "cell_type": "code",
   "execution_count": null,
   "id": "2754c7c9",
   "metadata": {},
   "outputs": [],
   "source": [
    "#and the winner is!!!\n",
    "plt.figure(figsize=(14,7))\n",
    "plt.plot(tab_train, label='train')\n",
    "plt.plot(tab_test, label='test')\n",
    "plt.legend()\n",
    "plt.show()"
   ]
  },
  {
   "cell_type": "code",
   "execution_count": null,
   "id": "4437e0dc",
   "metadata": {},
   "outputs": [],
   "source": [
    "params = [\"knn10_std\"]\n",
    "res = [fit_classifier(sklearn.neighbors.KNeighborsClassifier(n_neighbors=10),\n",
    "                          X_train_std, X_test_std, yk_train, yk_test)]\n",
    "df_results = pd.DataFrame(res, index=params)"
   ]
  },
  {
   "cell_type": "code",
   "execution_count": null,
   "id": "e78e2940",
   "metadata": {},
   "outputs": [],
   "source": [
    "results = results.append(df_results)\n",
    "results"
   ]
  },
  {
   "cell_type": "code",
   "execution_count": null,
   "id": "069842b0",
   "metadata": {},
   "outputs": [],
   "source": [
    "knn10 = sklearn.neighbors.KNeighborsClassifier(n_neighbors=10)\n",
    "knn10.fit(X_train_std, yk_train)\n",
    "knn10.predict(X_test_std)\n",
    "\n",
    "plot_confusion_matrix(knn10, X_test_std, yk_test)\n",
    "plt.show()"
   ]
  },
  {
   "cell_type": "code",
   "execution_count": null,
   "id": "9b1ced99",
   "metadata": {},
   "outputs": [],
   "source": [
    "#Plot Receiver operating characteristic (ROC) curve.\n",
    "sklearn.metrics.plot_roc_curve(knn10, X_test_std, yk_test)\n",
    "plt.plot([0, 1], [0, 1], color=\"navy\", lw=2, linestyle=\"--\")\n",
    "plt.show()"
   ]
  },
  {
   "cell_type": "code",
   "execution_count": null,
   "id": "496bb960",
   "metadata": {},
   "outputs": [],
   "source": [
    "# let's check how the F1 depends on number of neighbors\n",
    "tab_train = list()\n",
    "tab_test = list()\n",
    "\n",
    "for i in range(1,31):\n",
    "    cl_model = sklearn.neighbors.KNeighborsClassifier(n_neighbors=i) #creation of the model\n",
    "    print(cl_model)\n",
    "    cl_model.fit(X_train_std, yk_train) #training of the model\n",
    "    \n",
    "    y_tr_pred = cl_model.predict(X_train_std) #prediction for the train dataset\n",
    "    y_te_pred = cl_model.predict(X_test_std) #prediction for the test dataset\n",
    "    \n",
    "    tab_train.append(sklearn.metrics.f1_score(yk_train, y_tr_pred))\n",
    "    tab_test.append(sklearn.metrics.f1_score(yk_test, y_te_pred))"
   ]
  },
  {
   "cell_type": "code",
   "execution_count": null,
   "id": "b2441274",
   "metadata": {},
   "outputs": [],
   "source": [
    "#and now the winner is!!!\n",
    "plt.figure(figsize=(14,7))\n",
    "plt.plot(tab_train, label='train')\n",
    "plt.plot(tab_test, label='test')\n",
    "plt.legend()\n",
    "plt.show()"
   ]
  },
  {
   "cell_type": "code",
   "execution_count": null,
   "id": "2748dc0d",
   "metadata": {},
   "outputs": [],
   "source": [
    "params = [\"knn13_std\"]\n",
    "res = [fit_classifier(sklearn.neighbors.KNeighborsClassifier(n_neighbors=13),\n",
    "                          X_train_std, X_test_std, yk_train, yk_test)]\n",
    "df_results = pd.DataFrame(res, index=params)"
   ]
  },
  {
   "cell_type": "code",
   "execution_count": null,
   "id": "6a86c73d",
   "metadata": {},
   "outputs": [],
   "source": [
    "results = results.append(df_results)\n",
    "results"
   ]
  },
  {
   "cell_type": "code",
   "execution_count": null,
   "id": "0646bb8f",
   "metadata": {},
   "outputs": [],
   "source": [
    "knn13 = sklearn.neighbors.KNeighborsClassifier(n_neighbors=13)\n",
    "knn13.fit(X_train_std, yk_train)\n",
    "knn13.predict(X_test_std)\n",
    "\n",
    "plot_confusion_matrix(knn13, X_test_std, yk_test)\n",
    "plt.show()"
   ]
  },
  {
   "cell_type": "code",
   "execution_count": null,
   "id": "f1dbb23e",
   "metadata": {},
   "outputs": [],
   "source": [
    "#Plot Receiver operating characteristic (ROC) curve.\n",
    "sklearn.metrics.plot_roc_curve(knn13, X_test_std, yk_test)\n",
    "plt.plot([0, 1], [0, 1], color=\"navy\", lw=2, linestyle=\"--\")\n",
    "plt.show()"
   ]
  },
  {
   "cell_type": "markdown",
   "id": "bd6f264b",
   "metadata": {},
   "source": [
    "# Decision Trees (DTs) and Random Forests (RFs)\n",
    "## https://scikit-learn.org/stable/modules/tree.html"
   ]
  },
  {
   "cell_type": "code",
   "execution_count": null,
   "id": "954bebb6",
   "metadata": {},
   "outputs": [],
   "source": [
    "import sklearn.tree"
   ]
  },
  {
   "cell_type": "code",
   "execution_count": null,
   "id": "9e24a212",
   "metadata": {},
   "outputs": [],
   "source": [
    "# let's create the model based on decision tree\n",
    "params = [\"dt\"]\n",
    "res = [fit_classifier(sklearn.tree.DecisionTreeClassifier(),\n",
    "                          X_train, X_test, yk_train, yk_test)]\n",
    "df_results = pd.DataFrame(res, index=params)"
   ]
  },
  {
   "cell_type": "code",
   "execution_count": null,
   "id": "c0de1595",
   "metadata": {},
   "outputs": [],
   "source": [
    "results = results.append(df_results)\n",
    "results"
   ]
  },
  {
   "cell_type": "code",
   "execution_count": null,
   "id": "ccf59afd",
   "metadata": {},
   "outputs": [],
   "source": [
    "dt = sklearn.tree.DecisionTreeClassifier()\n",
    "dt.fit(X_train, yk_train)\n",
    "dt.predict(X_test)\n",
    "\n",
    "plot_confusion_matrix(dt, X_test, yk_test)\n",
    "plt.show()"
   ]
  },
  {
   "cell_type": "code",
   "execution_count": null,
   "id": "8687a982",
   "metadata": {},
   "outputs": [],
   "source": [
    "#Plot Receiver operating characteristic (ROC) curve.\n",
    "sklearn.metrics.plot_roc_curve(dt, X_test, yk_test)\n",
    "plt.plot([0, 1], [0, 1], color=\"navy\", lw=2, linestyle=\"--\")\n",
    "plt.show()"
   ]
  },
  {
   "cell_type": "code",
   "execution_count": null,
   "id": "f6c6c316",
   "metadata": {},
   "outputs": [],
   "source": [
    "dt.get_params()"
   ]
  },
  {
   "cell_type": "code",
   "execution_count": null,
   "id": "ecd82615",
   "metadata": {},
   "outputs": [],
   "source": [
    "dt.get_depth()"
   ]
  },
  {
   "cell_type": "code",
   "execution_count": null,
   "id": "f2b01c7d",
   "metadata": {
    "scrolled": true
   },
   "outputs": [],
   "source": [
    "# plotting the tree\n",
    "# sklearn.tree.plot_tree(dt)"
   ]
  },
  {
   "cell_type": "code",
   "execution_count": null,
   "id": "f9f59a57",
   "metadata": {},
   "outputs": [],
   "source": [
    "# we definitely have to prune the tree\n",
    "params = [\"dt_maxd12\"]\n",
    "res = [fit_classifier(sklearn.tree.DecisionTreeClassifier(max_depth=12),\n",
    "                          X_train, X_test, yk_train, yk_test)]\n",
    "df_results = pd.DataFrame(res, index=params)"
   ]
  },
  {
   "cell_type": "code",
   "execution_count": null,
   "id": "bd7e7d07",
   "metadata": {},
   "outputs": [],
   "source": [
    "results = results.append(df_results)\n",
    "results"
   ]
  },
  {
   "cell_type": "code",
   "execution_count": null,
   "id": "9af14b40",
   "metadata": {},
   "outputs": [],
   "source": [
    "# and let's check what happened after standardization and max_depth decreasing\n",
    "params = [\"dt_maxd12_std\"]\n",
    "res = [fit_classifier(sklearn.tree.DecisionTreeClassifier(max_depth=12),\n",
    "                          X_train_std, X_test_std, yk_train, yk_test)]\n",
    "df_results = pd.DataFrame(res, index=params)"
   ]
  },
  {
   "cell_type": "code",
   "execution_count": null,
   "id": "3c4ade2e",
   "metadata": {},
   "outputs": [],
   "source": [
    "results = results.append(df_results)\n",
    "results"
   ]
  },
  {
   "cell_type": "code",
   "execution_count": null,
   "id": "65228f1b",
   "metadata": {},
   "outputs": [],
   "source": [
    "dt = sklearn.tree.DecisionTreeClassifier(max_depth=6)\n",
    "dt.fit(X_train_std, yk_train)\n",
    "dt.predict(X_test_std)\n",
    "\n",
    "plot_confusion_matrix(dt, X_test_std, yk_test)\n",
    "plt.show()"
   ]
  },
  {
   "cell_type": "code",
   "execution_count": null,
   "id": "f0a4ffe7",
   "metadata": {
    "scrolled": true
   },
   "outputs": [],
   "source": [
    "# plotting the tree\n",
    "sklearn.tree.plot_tree(dt)"
   ]
  },
  {
   "cell_type": "code",
   "execution_count": null,
   "id": "913e25f5",
   "metadata": {},
   "outputs": [],
   "source": [
    "from sklearn.tree import export_text\n",
    "r = export_text(dt, feature_names=['fixed.acidity', 'volatile.acidity', 'citric.acid', 'residual.sugar',\n",
    "       'chlorides', 'free.sulfur.dioxide', 'total.sulfur.dioxide', 'density',\n",
    "       'pH', 'sulphates', 'alcohol'])"
   ]
  },
  {
   "cell_type": "code",
   "execution_count": null,
   "id": "0c22875f",
   "metadata": {},
   "outputs": [],
   "source": [
    "print(X.columns)"
   ]
  },
  {
   "cell_type": "code",
   "execution_count": null,
   "id": "7fd2f1a9",
   "metadata": {},
   "outputs": [],
   "source": [
    "print(r)"
   ]
  },
  {
   "cell_type": "code",
   "execution_count": null,
   "id": "5ded7c40",
   "metadata": {},
   "outputs": [],
   "source": [
    "#Random Forests\n",
    "import sklearn.ensemble"
   ]
  },
  {
   "cell_type": "code",
   "execution_count": null,
   "id": "5e959135",
   "metadata": {},
   "outputs": [],
   "source": [
    "params = [\"rf\"]\n",
    "res = [fit_classifier(sklearn.ensemble.RandomForestClassifier(random_state=12345),\n",
    "                          X_train, X_test, yk_train, yk_test)]\n",
    "df_results = pd.DataFrame(res, index=params)"
   ]
  },
  {
   "cell_type": "code",
   "execution_count": null,
   "id": "b0177659",
   "metadata": {},
   "outputs": [],
   "source": [
    "results = results.append(df_results)\n",
    "results"
   ]
  },
  {
   "cell_type": "code",
   "execution_count": null,
   "id": "0389890b",
   "metadata": {},
   "outputs": [],
   "source": [
    "rf = sklearn.ensemble.RandomForestClassifier(random_state=12345)\n",
    "rf.fit(X_train, yk_train)\n",
    "rf.predict(X_test)\n",
    "\n",
    "plot_confusion_matrix(rf, X_test, yk_test)\n",
    "plt.show()"
   ]
  },
  {
   "cell_type": "code",
   "execution_count": null,
   "id": "7a02e7ff",
   "metadata": {},
   "outputs": [],
   "source": [
    "rf.get_params()"
   ]
  },
  {
   "cell_type": "code",
   "execution_count": null,
   "id": "aa4dea39",
   "metadata": {},
   "outputs": [],
   "source": [
    "params = [\"rf new\"]\n",
    "res = [fit_classifier(sklearn.ensemble.RandomForestClassifier(n_estimators=500,\n",
    "                                                              max_depth=10,\n",
    "                                                              random_state=12345),\n",
    "                          X_train, X_test, yk_train, yk_test)]\n",
    "df_results = pd.DataFrame(res, index=params)"
   ]
  },
  {
   "cell_type": "code",
   "execution_count": null,
   "id": "fe363818",
   "metadata": {},
   "outputs": [],
   "source": [
    "results = results.append(df_results)\n",
    "results"
   ]
  },
  {
   "cell_type": "code",
   "execution_count": null,
   "id": "17910526",
   "metadata": {},
   "outputs": [],
   "source": [
    "# Intro to XAI\n",
    "# Feature importances\n",
    "\n",
    "pd.Series(rf.feature_importances_, index = X.columns[0:11]).sort_values(ascending=False)\n"
   ]
  },
  {
   "cell_type": "code",
   "execution_count": null,
   "id": "06c952fa",
   "metadata": {},
   "outputs": [],
   "source": [
    "#conclusion - good wine is strong wine :)\n",
    "wine.alcohol.groupby(wine.quality).mean()"
   ]
  },
  {
   "cell_type": "markdown",
   "id": "75718e01",
   "metadata": {},
   "source": [
    "And now, you can play with standardization, removing outliers, features selection, hyperparameters tuning, ...\n",
    "\n",
    "You can do almost everything, which directing you to create stable, not overfitted, as simple as possible, as general as possible, ... model, which helps you to solve your problem.\n",
    "\n",
    "And it is not so simple :)"
   ]
  },
  {
   "cell_type": "markdown",
   "id": "b4f49853",
   "metadata": {},
   "source": [
    "## Few words about cross validation "
   ]
  },
  {
   "cell_type": "code",
   "execution_count": null,
   "id": "cfe7b555",
   "metadata": {},
   "outputs": [],
   "source": [
    "from sklearn.linear_model import LogisticRegression\n",
    "from sklearn.svm import SVC\n",
    "from sklearn.linear_model import SGDClassifier\n",
    "from sklearn.gaussian_process import GaussianProcessClassifier"
   ]
  },
  {
   "cell_type": "code",
   "execution_count": null,
   "id": "478ee4ff",
   "metadata": {},
   "outputs": [],
   "source": [
    "# cross validation for several models based on std dataset\n",
    "methods = pd.Series({\n",
    "    \"knn\": sklearn.neighbors.KNeighborsClassifier(n_neighbors=10),\n",
    "    \"dt\": sklearn.tree.DecisionTreeClassifier(max_depth=10),\n",
    "    \"rf\": sklearn.ensemble.RandomForestClassifier(max_depth=10),\n",
    "    \"lr\": LogisticRegression(),\n",
    "    \"SVC\": SVC(),\n",
    "    \"SGD\": SGDClassifier(),\n",
    "    \"GP\": GaussianProcessClassifier(),\n",
    "})\n",
    "\n",
    "#evaluation function\n",
    "def eval_function(X_train, X_test, y_train, y_test):\n",
    "    cv_models = pd.concat([\n",
    "        pd.Series(fit_classifier(alg,\n",
    "                                 X_train, X_test, y_train, y_test)) for alg in methods], axis=1).T\n",
    "    cv_models.index = methods.index\n",
    "    return cv_models\n",
    "\n",
    "kf = KFold(n_splits=5)\n",
    "\n",
    "n_folds = 5\n",
    "\n",
    "results_cv = [eval_function(X_std.iloc[train,:],\n",
    "                            X_std.iloc[test,:],\n",
    "                            yk[train],\n",
    "                            yk[test]) for train, test in kf.split(X_std)]\n",
    "\n",
    "sum(results_cv)/n_folds"
   ]
  },
  {
   "cell_type": "code",
   "execution_count": null,
   "id": "9c2316cc",
   "metadata": {},
   "outputs": [],
   "source": []
  }
 ],
 "metadata": {
  "kernelspec": {
   "display_name": "Python 3 (ipykernel)",
   "language": "python",
   "name": "python3"
  },
  "language_info": {
   "codemirror_mode": {
    "name": "ipython",
    "version": 3
   },
   "file_extension": ".py",
   "mimetype": "text/x-python",
   "name": "python",
   "nbconvert_exporter": "python",
   "pygments_lexer": "ipython3",
   "version": "3.10.9"
  }
 },
 "nbformat": 4,
 "nbformat_minor": 5
}
