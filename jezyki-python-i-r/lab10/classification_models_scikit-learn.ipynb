{
 "cells": [
  {
   "cell_type": "markdown",
   "id": "f462c714",
   "metadata": {},
   "source": [
    "# Języki Programowania Python i R\n",
    "\n",
    "\n",
    "## dr inż. Patryk Jasik\n",
    "### Division of Theoretical Physics and Quantum Information\n",
    "### Institute of Physics and Computer Science\n",
    "### Faculty of Applied Physics and Mathematics\n",
    "### Gdansk University of Technology"
   ]
  },
  {
   "cell_type": "markdown",
   "id": "662e8f79",
   "metadata": {},
   "source": [
    "# scikit-learn docs\n",
    "## https://scikit-learn.org/stable/"
   ]
  },
  {
   "cell_type": "code",
   "execution_count": null,
   "id": "debf460e",
   "metadata": {},
   "outputs": [],
   "source": [
    "#%config Completer.use_jedi = False"
   ]
  },
  {
   "cell_type": "markdown",
   "id": "bbe1da13",
   "metadata": {},
   "source": [
    "**Classification** is the problem of identifying which of a set of categories (sub-populations) an observation (or observations) belongs to."
   ]
  },
  {
   "cell_type": "code",
   "execution_count": null,
   "id": "75003367",
   "metadata": {},
   "outputs": [],
   "source": [
    "#loading the necessary packages\n",
    "import numpy as np\n",
    "import pandas as pd\n",
    "import matplotlib.pyplot as plt\n",
    "import seaborn as sns\n",
    "import sklearn"
   ]
  },
  {
   "cell_type": "code",
   "execution_count": null,
   "id": "426c37bb",
   "metadata": {},
   "outputs": [],
   "source": [
    "#loading the dataset\n",
    "wine = pd.read_csv(\"data/winequality-all.csv\", comment=\"#\")\n",
    "wine.head()"
   ]
  },
  {
   "cell_type": "code",
   "execution_count": null,
   "id": "851fb601",
   "metadata": {},
   "outputs": [],
   "source": [
    "# the goal - classification of wines according to the 'response' variable\n",
    "# 'response' determines the quality of the wine (median of three experts' opinions)\n",
    "# scale from 0 (very bad) to 10 (excellent)\n",
    "# let's examine the class size distribution\n",
    "response_levels = wine[\"response\"].value_counts()\n",
    "response_levels.iloc[np.argsort(response_levels.index)]"
   ]
  },
  {
   "cell_type": "code",
   "execution_count": null,
   "id": "c2e50ae3",
   "metadata": {},
   "outputs": [],
   "source": [
    "# the distribution is not even, the values 8, 9 and 10 are missing\n",
    "# Therefore, we propose two classes: response <5 (bad wines) and response> = 5 (good wines)\n",
    "\n",
    "#homework\n",
    "#wine[\"quality\"] = pd.cut(wine[\"response\"], [0, 4, 5, 10], right=False, labels=[\"bad\",\"mid\", \"good\"])\n",
    "\n",
    "wine[\"quality\"] = pd.cut(wine[\"response\"], [0, 5, 10], right=False, labels=[\"bad\", \"good\"])\n",
    "wine[\"quality\"].value_counts()"
   ]
  },
  {
   "cell_type": "code",
   "execution_count": null,
   "id": "2a1d3d34",
   "metadata": {},
   "outputs": [],
   "source": [
    "wine"
   ]
  },
  {
   "cell_type": "code",
   "execution_count": null,
   "id": "50e0c1db",
   "metadata": {},
   "outputs": [],
   "source": [
    "#we prepare dataset for analysis and modeling\n",
    "#predictors\n",
    "X = wine.iloc[:, 0:11]\n",
    "X.head()"
   ]
  },
  {
   "cell_type": "code",
   "execution_count": null,
   "id": "554afa72",
   "metadata": {},
   "outputs": [],
   "source": [
    "#the target variable\n",
    "y = wine[\"quality\"]\n",
    "y[0:30]"
   ]
  },
  {
   "cell_type": "code",
   "execution_count": null,
   "id": "ff97cdfc",
   "metadata": {},
   "outputs": [],
   "source": [
    "#skoro mamy do czynienia z klasyfikacją binarną (\"złe\" - \"dobre\") - y(i) należy do zbioru {0,1}\n",
    "#to warto przekodować wartości zmiennej y na zbiór liczb całkowitych\n",
    "from sklearn.preprocessing import OrdinalEncoder\n",
    "\n",
    "oe = OrdinalEncoder(categories = [['bad', 'good']],\n",
    "                   handle_unknown = 'use_encoded_value',\n",
    "                   unknown_value = np.NaN)"
   ]
  },
  {
   "cell_type": "markdown",
   "id": "435fa1a7",
   "metadata": {},
   "source": [
    "<div class=\"alert alert-block alert-danger\">\n",
    "<b>Attention!</b> \n",
    "    \n",
    "When coding the attributes, you should be aware that the new data may contain previously unseen values that need to be handled in some way. The default behavior of OrdinalEncoder in this case is to throw an exception, here we used to assign it a fixed value, where we chose to assign a null value. Then such a value can be replaced, for example, with a dominant from the dataset.\n",
    "</div>"
   ]
  },
  {
   "cell_type": "code",
   "execution_count": null,
   "id": "d31f7bca",
   "metadata": {},
   "outputs": [],
   "source": [
    "# using OrdinalEncoder we will code the target value\n",
    "oe.fit(np.asanyarray(y).reshape(-1, 1))\n",
    "yk = oe.transform(np.asanyarray(y).reshape(-1, 1)).flatten()"
   ]
  },
  {
   "cell_type": "code",
   "execution_count": null,
   "id": "b4d1a523",
   "metadata": {},
   "outputs": [],
   "source": [
    "np.asanyarray(y).reshape(-1, 1)"
   ]
  },
  {
   "cell_type": "code",
   "execution_count": null,
   "id": "b31a478e",
   "metadata": {},
   "outputs": [],
   "source": [
    "yk[1:30]"
   ]
  },
  {
   "cell_type": "code",
   "execution_count": null,
   "id": "922bcc67",
   "metadata": {},
   "outputs": [],
   "source": [
    "#Division of the dataset into the training and test datasets\n",
    "import sklearn.model_selection\n",
    "\n",
    "np.arange(4)"
   ]
  },
  {
   "cell_type": "code",
   "execution_count": null,
   "id": "4e5e79b2",
   "metadata": {},
   "outputs": [],
   "source": [
    "X.shape"
   ]
  },
  {
   "cell_type": "code",
   "execution_count": null,
   "id": "7f88ee99",
   "metadata": {},
   "outputs": [],
   "source": [
    "# now we will randomly select indexes\n",
    "np.arange(X.shape[0])"
   ]
  },
  {
   "cell_type": "code",
   "execution_count": null,
   "id": "92906aac",
   "metadata": {},
   "outputs": [],
   "source": [
    "idx_train, idx_test = sklearn.model_selection.train_test_split(np.arange(X.shape[0]),\n",
    "                                                             test_size=0.2,\n",
    "                                                             random_state=12345)\n",
    "X_train, X_test = X.iloc[idx_train, :], X.iloc[idx_test, :]\n",
    "y_train, y_test = y[idx_train], y[idx_test]\n",
    "yk_train, yk_test = yk[idx_train], yk[idx_test]\n",
    "\n",
    "X_train.shape, X_test.shape, y_train.shape, y_test.shape"
   ]
  },
  {
   "cell_type": "code",
   "execution_count": null,
   "id": "b0971856",
   "metadata": {},
   "outputs": [],
   "source": [
    "wine.quality.value_counts()"
   ]
  },
  {
   "cell_type": "code",
   "execution_count": null,
   "id": "ef2d418e",
   "metadata": {},
   "outputs": [],
   "source": [
    "#distribution of classes in the train dataset\n",
    "y_train.value_counts()"
   ]
  },
  {
   "cell_type": "code",
   "execution_count": null,
   "id": "a5f2e58b",
   "metadata": {},
   "outputs": [],
   "source": [
    "#distribution of classes in the test dataset\n",
    "y_test.value_counts()"
   ]
  },
  {
   "cell_type": "code",
   "execution_count": null,
   "id": "c1f4904c",
   "metadata": {},
   "outputs": [],
   "source": [
    "np.round((820/3436)*100,1)"
   ]
  },
  {
   "cell_type": "code",
   "execution_count": null,
   "id": "28146a3c",
   "metadata": {},
   "outputs": [],
   "source": [
    "np.round((189/875)*100,1)"
   ]
  },
  {
   "cell_type": "code",
   "execution_count": null,
   "id": "e30874a9",
   "metadata": {},
   "outputs": [],
   "source": [
    "#distribution of classes in the dataset\n",
    "np.round((1009/4311)*100,1)"
   ]
  },
  {
   "cell_type": "markdown",
   "id": "ddc6ae2c",
   "metadata": {},
   "source": [
    "## k-nearest neighbors algorithm (k-NN)\n",
    "### https://en.wikipedia.org/wiki/K-nearest_neighbors_algorithm"
   ]
  },
  {
   "cell_type": "code",
   "execution_count": null,
   "id": "3702b4ac",
   "metadata": {},
   "outputs": [],
   "source": [
    "# k-nearest neighbors method\n",
    "import sklearn.neighbors\n",
    "\n",
    "knn = sklearn.neighbors.KNeighborsClassifier()\n",
    "knn.fit(X_train, yk_train)"
   ]
  },
  {
   "cell_type": "code",
   "execution_count": null,
   "id": "87fe4c71",
   "metadata": {},
   "outputs": [],
   "source": [
    "knn.get_params()"
   ]
  },
  {
   "cell_type": "code",
   "execution_count": null,
   "id": "dc5e7dff",
   "metadata": {},
   "outputs": [],
   "source": [
    "# prediction based na train dataset\n",
    "yk_pred_train = knn.predict(X_train)"
   ]
  },
  {
   "cell_type": "code",
   "execution_count": null,
   "id": "dc4a303f",
   "metadata": {},
   "outputs": [],
   "source": [
    "# prediction based na test dataset\n",
    "yk_pred_test = knn.predict(X_test)"
   ]
  },
  {
   "cell_type": "code",
   "execution_count": null,
   "id": "c9025a6e",
   "metadata": {},
   "outputs": [],
   "source": [
    "sklearn.metrics.accuracy_score(yk_train, yk_pred_train)"
   ]
  },
  {
   "cell_type": "code",
   "execution_count": null,
   "id": "a651879a",
   "metadata": {},
   "outputs": [],
   "source": [
    "sklearn.metrics.accuracy_score(yk_test, yk_pred_test)"
   ]
  },
  {
   "cell_type": "markdown",
   "id": "771efd9b",
   "metadata": {},
   "source": [
    "### Confusion Matrix\n",
    "### [true negative, false positive]\n",
    "### [false negative, true positive]\n",
    "\n",
    "### https://en.wikipedia.org/wiki/Confusion_matrix"
   ]
  },
  {
   "cell_type": "code",
   "execution_count": null,
   "id": "71c2cc5f",
   "metadata": {},
   "outputs": [],
   "source": [
    "#Confusion Matrix [[true negative, false positive], [false negative, true positive]]\n",
    "sklearn.metrics.confusion_matrix(yk_test, yk_pred_test)"
   ]
  },
  {
   "cell_type": "code",
   "execution_count": null,
   "id": "3b5b506b",
   "metadata": {},
   "outputs": [],
   "source": [
    "y_test.value_counts()"
   ]
  },
  {
   "cell_type": "code",
   "execution_count": null,
   "id": "86a2eea4",
   "metadata": {},
   "outputs": [],
   "source": [
    "from sklearn.metrics import plot_confusion_matrix"
   ]
  },
  {
   "cell_type": "code",
   "execution_count": null,
   "id": "268901b8",
   "metadata": {},
   "outputs": [],
   "source": [
    "plot_confusion_matrix(knn, X_train, yk_train)\n",
    "plt.show()"
   ]
  },
  {
   "cell_type": "code",
   "execution_count": null,
   "id": "6b7a8138",
   "metadata": {},
   "outputs": [],
   "source": [
    "y_train.value_counts()"
   ]
  },
  {
   "cell_type": "code",
   "execution_count": null,
   "id": "9519b8c2",
   "metadata": {},
   "outputs": [],
   "source": [
    "plot_confusion_matrix(knn, X_test, yk_test)\n",
    "plt.show()"
   ]
  },
  {
   "cell_type": "code",
   "execution_count": null,
   "id": "b695b8aa",
   "metadata": {},
   "outputs": [],
   "source": [
    "#Plot Receiver operating characteristic (ROC) curve.\n",
    "sklearn.metrics.plot_roc_curve(knn, X_test, yk_test)\n",
    "plt.plot([0, 1], [0, 1], color=\"navy\", lw=2, linestyle=\"--\")\n",
    "plt.show()"
   ]
  },
  {
   "cell_type": "code",
   "execution_count": null,
   "id": "11125133",
   "metadata": {},
   "outputs": [],
   "source": [
    "def fit_classifier(alg, X_train, X_test, y_train, y_test):\n",
    "    \"\"\"\n",
    "    A method that trains a selected alg model on the training dataset (X_train, y_train),\n",
    "    makes predictions on the both datasets (X_train, y_train) and (X_test, y_test)\n",
    "    and validates it through four selected metrics: accuracy, precision, recall and F1.\n",
    "    \n",
    "    Parameters:\n",
    "        alg: an object representing the selected algorithm,\n",
    "                e.g. sklearn.neighbors.classification.KNeighborsClassifier algorithm used for classification\n",
    "        X_train: pandas.core.frame.DataFrame\n",
    "            training dataset - predictors\n",
    "        X_test: pandas.core.frame.DataFrame\n",
    "            test dataset - predictors\n",
    "        y_train: pandas.core.series.Series or numpy.array\n",
    "            training dataset - target variable\n",
    "        y_test: pandas.core.series.Series or numpy.array\n",
    "            test dataset - target variable\n",
    "    \n",
    "    Returns:\n",
    "        dict: a dictionary containing the keys ACC, P, R and F1,\n",
    "             for which model validation values have been determined, such as: accuracy, precision, recall and F1.\n",
    "        \n",
    "    \"\"\"\n",
    "      \n",
    "    alg.fit(X_train, y_train)\n",
    "    y_pred_train = alg.predict(X_train)\n",
    "    y_pred_test = alg.predict(X_test)\n",
    "    \n",
    "    return {\n",
    "        \"ACC_train\":  sklearn.metrics.accuracy_score(y_pred_train, y_train),\n",
    "        \"ACC_test\": sklearn.metrics.accuracy_score(y_pred_test, y_test),\n",
    "        \"P_train\":    sklearn.metrics.precision_score(y_pred_train, y_train),\n",
    "        \"P_test\":   sklearn.metrics.precision_score(y_pred_test, y_test),\n",
    "        \"R_train\":    sklearn.metrics.recall_score(y_pred_train, y_train),\n",
    "        \"R_test\":   sklearn.metrics.recall_score(y_pred_test, y_test),\n",
    "        \"F1_train\":   sklearn.metrics.f1_score(y_pred_train, y_train),\n",
    "        \"F1_test\":  sklearn.metrics.f1_score(y_pred_test, y_test)\n",
    "    }"
   ]
  },
  {
   "cell_type": "code",
   "execution_count": null,
   "id": "7865c75a",
   "metadata": {},
   "outputs": [],
   "source": [
    "help(fit_classifier)"
   ]
  },
  {
   "cell_type": "code",
   "execution_count": null,
   "id": "23ebfdd7",
   "metadata": {},
   "outputs": [],
   "source": [
    "#we create DataFrame with metrics\n",
    "params = [\"knn\"]\n",
    "res = [fit_classifier(sklearn.neighbors.KNeighborsClassifier(),\n",
    "                      X_train, X_test, yk_train, yk_test)]\n",
    "df_results = pd.DataFrame(res, index=params)"
   ]
  },
  {
   "cell_type": "code",
   "execution_count": null,
   "id": "5051cc23",
   "metadata": {},
   "outputs": [],
   "source": [
    "results = pd.DataFrame()\n",
    "results = results.append(df_results)"
   ]
  },
  {
   "cell_type": "code",
   "execution_count": null,
   "id": "63968304",
   "metadata": {},
   "outputs": [],
   "source": [
    "results"
   ]
  },
  {
   "cell_type": "code",
   "execution_count": null,
   "id": "e3cb7161",
   "metadata": {},
   "outputs": [],
   "source": [
    "#we check the metrics of the model for the dataset after standardization\n",
    "m = X.mean()\n",
    "s = X.std()"
   ]
  },
  {
   "cell_type": "code",
   "execution_count": null,
   "id": "38f3d068",
   "metadata": {},
   "outputs": [],
   "source": [
    "X_train_std = (X_train - m)/s\n",
    "X_test_std = (X_test - m)/s"
   ]
  },
  {
   "cell_type": "code",
   "execution_count": null,
   "id": "19c0ca7c",
   "metadata": {},
   "outputs": [],
   "source": [
    "X_train_std.describe()"
   ]
  },
  {
   "cell_type": "code",
   "execution_count": null,
   "id": "651e5884",
   "metadata": {},
   "outputs": [],
   "source": [
    "params = [\"knn_std\"]\n",
    "res = [fit_classifier(sklearn.neighbors.KNeighborsClassifier(),\n",
    "                          X_train_std, X_test_std, yk_train, yk_test)]\n",
    "df_results = pd.DataFrame(res, index=params)"
   ]
  },
  {
   "cell_type": "code",
   "execution_count": null,
   "id": "3913f12d",
   "metadata": {},
   "outputs": [],
   "source": [
    "results = results.append(df_results)"
   ]
  },
  {
   "cell_type": "code",
   "execution_count": null,
   "id": "81157c6a",
   "metadata": {},
   "outputs": [],
   "source": [
    "results"
   ]
  },
  {
   "cell_type": "code",
   "execution_count": null,
   "id": "9c542a1d",
   "metadata": {},
   "outputs": [],
   "source": [
    "# confusion matrix\n",
    "knn.fit(X_train_std, yk_train)\n",
    "#knn.predict(X_test_std)\n",
    "\n",
    "plot_confusion_matrix(knn, X_test_std, yk_test)\n",
    "plt.show()"
   ]
  },
  {
   "cell_type": "code",
   "execution_count": null,
   "id": "be518989",
   "metadata": {
    "scrolled": true
   },
   "outputs": [],
   "source": [
    "#Classification report\n",
    "help(sklearn.metrics.classification_report)"
   ]
  },
  {
   "cell_type": "code",
   "execution_count": null,
   "id": "af995dfa",
   "metadata": {},
   "outputs": [],
   "source": [
    "yk_pred_test = knn.predict(X_test_std)"
   ]
  },
  {
   "cell_type": "code",
   "execution_count": null,
   "id": "74640295",
   "metadata": {},
   "outputs": [],
   "source": [
    "print(sklearn.metrics.classification_report(yk_test, yk_pred_test, target_names=['bad', 'good']))"
   ]
  },
  {
   "cell_type": "code",
   "execution_count": null,
   "id": "a14c17d3",
   "metadata": {},
   "outputs": [],
   "source": [
    "#Plot Receiver operating characteristic (ROC) curve.\n",
    "sklearn.metrics.plot_roc_curve(knn, X_test_std, yk_test)\n",
    "plt.plot([0, 1], [0, 1], color=\"navy\", lw=2, linestyle=\"--\")\n",
    "plt.show()"
   ]
  },
  {
   "cell_type": "code",
   "execution_count": null,
   "id": "8e153775",
   "metadata": {},
   "outputs": [],
   "source": [
    "# have a look on pairplot figure\n",
    "X_std = (X-m)/s\n",
    "sns.pairplot(X_std)\n",
    "plt.show()"
   ]
  },
  {
   "cell_type": "markdown",
   "id": "c3ba1211",
   "metadata": {},
   "source": [
    "## Isolation Forest method for outliers detection\n",
    "## https://scikit-learn.org/stable/modules/generated/sklearn.ensemble.IsolationForest.html"
   ]
  },
  {
   "cell_type": "code",
   "execution_count": null,
   "id": "6d1ce600",
   "metadata": {},
   "outputs": [],
   "source": [
    "from sklearn.ensemble import IsolationForest"
   ]
  },
  {
   "cell_type": "code",
   "execution_count": null,
   "id": "05676d61",
   "metadata": {},
   "outputs": [],
   "source": [
    "# let's train the model and mark outliers\n",
    "clf = IsolationForest(n_estimators=1000, random_state=12345)\n",
    "clf.fit(X)\n",
    "isf_pred = clf.predict(X)"
   ]
  },
  {
   "cell_type": "code",
   "execution_count": null,
   "id": "9d94fca9",
   "metadata": {},
   "outputs": [],
   "source": [
    "isf_pred[:30]"
   ]
  },
  {
   "cell_type": "code",
   "execution_count": null,
   "id": "12a4d588",
   "metadata": {},
   "outputs": [],
   "source": [
    "# values -1 are the outliers\n",
    "unique, counts = np.unique(isf_pred, return_counts=True)\n",
    "print(np.asarray((unique, counts)).T)"
   ]
  },
  {
   "cell_type": "code",
   "execution_count": null,
   "id": "9baa468b",
   "metadata": {},
   "outputs": [],
   "source": [
    "len(isf_pred[isf_pred == 1])"
   ]
  },
  {
   "cell_type": "code",
   "execution_count": null,
   "id": "f2de4dc4",
   "metadata": {},
   "outputs": [],
   "source": [
    "len(isf_pred[isf_pred == -1])"
   ]
  },
  {
   "cell_type": "code",
   "execution_count": null,
   "id": "4b086651",
   "metadata": {},
   "outputs": [],
   "source": [
    "np.round((len(isf_pred[isf_pred == -1])/X.shape[0])*100,1)"
   ]
  },
  {
   "cell_type": "code",
   "execution_count": null,
   "id": "b4a8a216",
   "metadata": {},
   "outputs": [],
   "source": [
    "# we will use values 1 as a mask\n",
    "X_wout_outl = X[isf_pred == 1]"
   ]
  },
  {
   "cell_type": "code",
   "execution_count": null,
   "id": "cf4fc01f",
   "metadata": {},
   "outputs": [],
   "source": [
    "X_wout_outl"
   ]
  },
  {
   "cell_type": "code",
   "execution_count": null,
   "id": "fa42b306",
   "metadata": {},
   "outputs": [],
   "source": [
    "yk_wout_outl = yk[isf_pred == 1]"
   ]
  },
  {
   "cell_type": "code",
   "execution_count": null,
   "id": "6204c72e",
   "metadata": {},
   "outputs": [],
   "source": [
    "len(yk_wout_outl)"
   ]
  },
  {
   "cell_type": "code",
   "execution_count": null,
   "id": "2cf4706b",
   "metadata": {},
   "outputs": [],
   "source": [
    "sns.pairplot(X_wout_outl)\n",
    "plt.show()"
   ]
  },
  {
   "cell_type": "code",
   "execution_count": null,
   "id": "c4e1e48c",
   "metadata": {},
   "outputs": [],
   "source": [
    "X_wout_outl.reset_index(drop=True, inplace=True)\n",
    "#yk_wout_outl.reset_index(drop=True, inplace=True)\n"
   ]
  },
  {
   "cell_type": "code",
   "execution_count": null,
   "id": "97554ac8",
   "metadata": {},
   "outputs": [],
   "source": [
    "X_wout_outl"
   ]
  },
  {
   "cell_type": "code",
   "execution_count": null,
   "id": "59d14abc",
   "metadata": {},
   "outputs": [],
   "source": [
    "len(yk_wout_outl)"
   ]
  },
  {
   "cell_type": "code",
   "execution_count": null,
   "id": "f76b515f",
   "metadata": {},
   "outputs": [],
   "source": [
    "# let's train the model on dataset without outliers\n",
    "idx_train, idx_test = sklearn.model_selection.train_test_split(np.arange(X_wout_outl.shape[0]),\n",
    "                                                             test_size=0.2,\n",
    "                                                             random_state=12345)\n",
    "\n",
    "X_train_wo, X_test_wo = X_wout_outl.iloc[idx_train, :], X_wout_outl.iloc[idx_test, :]\n",
    "yk_train_wo, yk_test_wo = yk_wout_outl[idx_train], yk_wout_outl[idx_test]\n",
    "\n",
    "X_train_wo.shape, X_test_wo.shape, yk_train_wo.shape, yk_test_wo.shape"
   ]
  },
  {
   "cell_type": "code",
   "execution_count": null,
   "id": "58150ce8",
   "metadata": {},
   "outputs": [],
   "source": [
    "params = [\"knn_isf\"]\n",
    "res = [fit_classifier(sklearn.neighbors.KNeighborsClassifier(),\n",
    "                          X_train_wo, X_test_wo, yk_train_wo, yk_test_wo)]\n",
    "\n",
    "df_results = pd.DataFrame(res, index=params)"
   ]
  },
  {
   "cell_type": "code",
   "execution_count": null,
   "id": "28ab4391",
   "metadata": {},
   "outputs": [],
   "source": [
    "results = results.append(df_results)\n",
    "results"
   ]
  },
  {
   "cell_type": "code",
   "execution_count": null,
   "id": "01411198",
   "metadata": {},
   "outputs": [],
   "source": [
    "# we will stdandardize the dataset without outliers\n",
    "m_wo = X_wout_outl.mean()\n",
    "s_wo = X_wout_outl.std()\n",
    "X_wo_std = (X_wout_outl - m_wo)/s_wo"
   ]
  },
  {
   "cell_type": "code",
   "execution_count": null,
   "id": "89dee46f",
   "metadata": {},
   "outputs": [],
   "source": [
    "X_train_wo_std = (X_train_wo - m_wo)/s_wo\n",
    "X_test_wo_std = (X_test_wo - m_wo)/s_wo"
   ]
  },
  {
   "cell_type": "code",
   "execution_count": null,
   "id": "b49a6902",
   "metadata": {},
   "outputs": [],
   "source": [
    "params = [\"knn_isf_std\"]\n",
    "res = [fit_classifier(sklearn.neighbors.KNeighborsClassifier(),\n",
    "                          X_train_wo_std, X_test_wo_std, yk_train_wo, yk_test_wo)]\n",
    "df_results = pd.DataFrame(res, index=params)"
   ]
  },
  {
   "cell_type": "code",
   "execution_count": null,
   "id": "a1cd2190",
   "metadata": {},
   "outputs": [],
   "source": [
    "results = results.append(df_results)\n",
    "results"
   ]
  },
  {
   "cell_type": "code",
   "execution_count": null,
   "id": "20d24c0f",
   "metadata": {},
   "outputs": [],
   "source": [
    "X_test_std"
   ]
  },
  {
   "cell_type": "code",
   "execution_count": null,
   "id": "2eb682d8",
   "metadata": {},
   "outputs": [],
   "source": [
    "#let's create a set of classification models\n",
    "#we start with one model and we will add other models later on\n",
    "methods = pd.Series({\n",
    "    \"knn std cv\": sklearn.neighbors.KNeighborsClassifier()\n",
    "})\n",
    "\n",
    "#evaluation function\n",
    "def eval_function(X_train, X_test, y_train, y_test):\n",
    "    cv_models = pd.concat([\n",
    "        pd.Series(fit_classifier(alg,\n",
    "                                 X_train, X_test, y_train, y_test)) for alg in methods], axis=1).T\n",
    "    cv_models.index = methods.index\n",
    "    return cv_models"
   ]
  },
  {
   "cell_type": "code",
   "execution_count": null,
   "id": "16afdded",
   "metadata": {},
   "outputs": [],
   "source": [
    "#application of the evaluation function\n",
    "#results summarizing the cross validation\n",
    "from sklearn.model_selection import KFold\n",
    "\n",
    "kf = KFold(n_splits=5)\n",
    "\n",
    "n_folds = 5\n",
    "\n",
    "results_cv = [eval_function(X_std.iloc[train,:],\n",
    "                            X_std.iloc[test,:],\n",
    "                            yk[train],\n",
    "                            yk[test]) for train, test in kf.split(X_std)]\n",
    "\n",
    "sum(results_cv)/n_folds"
   ]
  },
  {
   "cell_type": "code",
   "execution_count": null,
   "id": "c4d91f70",
   "metadata": {},
   "outputs": [],
   "source": [
    "#dictionary with metric form cross validation\n",
    "dict_metrics_cv = (sum(results_cv)/n_folds).to_dict()"
   ]
  },
  {
   "cell_type": "code",
   "execution_count": null,
   "id": "f139c138",
   "metadata": {},
   "outputs": [],
   "source": [
    "dict_metrics_cv"
   ]
  },
  {
   "cell_type": "code",
   "execution_count": null,
   "id": "dd6f6f73",
   "metadata": {},
   "outputs": [],
   "source": [
    "params = [\"knn_std_cv\"]\n",
    "res = [{\n",
    " 'ACC_train': dict_metrics_cv['ACC_train']['knn std cv'],\n",
    " 'ACC_test': dict_metrics_cv['ACC_test']['knn std cv'],\n",
    " 'P_train': dict_metrics_cv['P_train']['knn std cv'],\n",
    " 'P_test': dict_metrics_cv['P_test']['knn std cv'],\n",
    " 'R_train': dict_metrics_cv['R_train']['knn std cv'],\n",
    " 'R_test': dict_metrics_cv['R_test']['knn std cv'],\n",
    " 'F1_train': dict_metrics_cv['F1_train']['knn std cv'],\n",
    " 'F1_test': dict_metrics_cv['F1_test']['knn std cv']\n",
    "}]\n",
    "df_results = pd.DataFrame(res, index=params)"
   ]
  },
  {
   "cell_type": "code",
   "execution_count": null,
   "id": "2d8ed9eb",
   "metadata": {},
   "outputs": [],
   "source": [
    "results = results.append(df_results)\n",
    "results"
   ]
  },
  {
   "cell_type": "code",
   "execution_count": null,
   "id": "789fbda0",
   "metadata": {},
   "outputs": [],
   "source": [
    "results_cv = [eval_function(X_wo_std.iloc[train,:],\n",
    "                            X_wo_std.iloc[test,:],\n",
    "                            yk_wout_outl[train],\n",
    "                            yk_wout_outl[test]) for train, test in kf.split(X_wo_std)]\n",
    "\n",
    "sum(results_cv)/n_folds"
   ]
  },
  {
   "cell_type": "code",
   "execution_count": null,
   "id": "e82f4ac3",
   "metadata": {},
   "outputs": [],
   "source": [
    "#dictionary with metric form cross validation\n",
    "dict_metrics_cv = (sum(results_cv)/n_folds).to_dict()"
   ]
  },
  {
   "cell_type": "code",
   "execution_count": null,
   "id": "85ff0fdc",
   "metadata": {},
   "outputs": [],
   "source": [
    "params = [\"knn_isf_std_cv\"]\n",
    "res = [{\n",
    " 'ACC_train': dict_metrics_cv['ACC_train']['knn std cv'],\n",
    " 'ACC_test': dict_metrics_cv['ACC_test']['knn std cv'],\n",
    " 'P_train': dict_metrics_cv['P_train']['knn std cv'],\n",
    " 'P_test': dict_metrics_cv['P_test']['knn std cv'],\n",
    " 'R_train': dict_metrics_cv['R_train']['knn std cv'],\n",
    " 'R_test': dict_metrics_cv['R_test']['knn std cv'],\n",
    " 'F1_train': dict_metrics_cv['F1_train']['knn std cv'],\n",
    " 'F1_test': dict_metrics_cv['F1_test']['knn std cv']\n",
    "}]\n",
    "df_results = pd.DataFrame(res, index=params)"
   ]
  },
  {
   "cell_type": "code",
   "execution_count": null,
   "id": "62ed055e",
   "metadata": {},
   "outputs": [],
   "source": [
    "results = results.append(df_results)\n",
    "results"
   ]
  },
  {
   "cell_type": "markdown",
   "id": "44e0c829",
   "metadata": {},
   "source": [
    "## Playing with hyperparameters of the models"
   ]
  },
  {
   "cell_type": "code",
   "execution_count": null,
   "id": "d2da8a3d",
   "metadata": {},
   "outputs": [],
   "source": [
    "# let's check how the accuracy depends on number of neighbors\n",
    "tab_train = list()\n",
    "tab_test = list()\n",
    "\n",
    "for i in range(1,31):\n",
    "    cl_model = sklearn.neighbors.KNeighborsClassifier(n_neighbors=i) #creation of the model\n",
    "    print(cl_model)\n",
    "    cl_model.fit(X_train_std, yk_train) #training of the model\n",
    "    \n",
    "    y_tr_pred = cl_model.predict(X_train_std) #prediction for the train dataset\n",
    "    y_te_pred = cl_model.predict(X_test_std) #prediction for the test dataset\n",
    "    \n",
    "    tab_train.append(sklearn.metrics.accuracy_score(yk_train, y_tr_pred))\n",
    "    tab_test.append(sklearn.metrics.accuracy_score(yk_test, y_te_pred))"
   ]
  },
  {
   "cell_type": "code",
   "execution_count": null,
   "id": "2754c7c9",
   "metadata": {},
   "outputs": [],
   "source": [
    "#and the winner is!!!\n",
    "plt.figure(figsize=(14,7))\n",
    "plt.plot(tab_train, label='train')\n",
    "plt.plot(tab_test, label='test')\n",
    "plt.legend()\n",
    "plt.show()"
   ]
  },
  {
   "cell_type": "code",
   "execution_count": null,
   "id": "4437e0dc",
   "metadata": {},
   "outputs": [],
   "source": [
    "params = [\"knn10_std\"]\n",
    "res = [fit_classifier(sklearn.neighbors.KNeighborsClassifier(n_neighbors=10),\n",
    "                          X_train_std, X_test_std, yk_train, yk_test)]\n",
    "df_results = pd.DataFrame(res, index=params)"
   ]
  },
  {
   "cell_type": "code",
   "execution_count": null,
   "id": "e78e2940",
   "metadata": {},
   "outputs": [],
   "source": [
    "results = results.append(df_results)\n",
    "results"
   ]
  },
  {
   "cell_type": "code",
   "execution_count": null,
   "id": "069842b0",
   "metadata": {},
   "outputs": [],
   "source": [
    "knn10 = sklearn.neighbors.KNeighborsClassifier(n_neighbors=10)\n",
    "knn10.fit(X_train_std, yk_train)\n",
    "knn10.predict(X_test_std)\n",
    "\n",
    "plot_confusion_matrix(knn10, X_test_std, yk_test)\n",
    "plt.show()"
   ]
  },
  {
   "cell_type": "code",
   "execution_count": null,
   "id": "9b1ced99",
   "metadata": {},
   "outputs": [],
   "source": [
    "#Plot Receiver operating characteristic (ROC) curve.\n",
    "sklearn.metrics.plot_roc_curve(knn10, X_test_std, yk_test)\n",
    "plt.plot([0, 1], [0, 1], color=\"navy\", lw=2, linestyle=\"--\")\n",
    "plt.show()"
   ]
  },
  {
   "cell_type": "code",
   "execution_count": null,
   "id": "496bb960",
   "metadata": {},
   "outputs": [],
   "source": [
    "# let's check how the F1 depends on number of neighbors\n",
    "tab_train = list()\n",
    "tab_test = list()\n",
    "\n",
    "for i in range(1,31):\n",
    "    cl_model = sklearn.neighbors.KNeighborsClassifier(n_neighbors=i) #creation of the model\n",
    "    print(cl_model)\n",
    "    cl_model.fit(X_train_std, yk_train) #training of the model\n",
    "    \n",
    "    y_tr_pred = cl_model.predict(X_train_std) #prediction for the train dataset\n",
    "    y_te_pred = cl_model.predict(X_test_std) #prediction for the test dataset\n",
    "    \n",
    "    tab_train.append(sklearn.metrics.f1_score(yk_train, y_tr_pred))\n",
    "    tab_test.append(sklearn.metrics.f1_score(yk_test, y_te_pred))"
   ]
  },
  {
   "cell_type": "code",
   "execution_count": null,
   "id": "b2441274",
   "metadata": {},
   "outputs": [],
   "source": [
    "#and now the winner is!!!\n",
    "plt.figure(figsize=(14,7))\n",
    "plt.plot(tab_train, label='train')\n",
    "plt.plot(tab_test, label='test')\n",
    "plt.legend()\n",
    "plt.show()"
   ]
  },
  {
   "cell_type": "code",
   "execution_count": null,
   "id": "2748dc0d",
   "metadata": {},
   "outputs": [],
   "source": [
    "params = [\"knn13_std\"]\n",
    "res = [fit_classifier(sklearn.neighbors.KNeighborsClassifier(n_neighbors=13),\n",
    "                          X_train_std, X_test_std, yk_train, yk_test)]\n",
    "df_results = pd.DataFrame(res, index=params)"
   ]
  },
  {
   "cell_type": "code",
   "execution_count": null,
   "id": "6a86c73d",
   "metadata": {},
   "outputs": [],
   "source": [
    "results = results.append(df_results)\n",
    "results"
   ]
  },
  {
   "cell_type": "code",
   "execution_count": null,
   "id": "0646bb8f",
   "metadata": {},
   "outputs": [],
   "source": [
    "knn13 = sklearn.neighbors.KNeighborsClassifier(n_neighbors=13)\n",
    "knn13.fit(X_train_std, yk_train)\n",
    "knn13.predict(X_test_std)\n",
    "\n",
    "plot_confusion_matrix(knn13, X_test_std, yk_test)\n",
    "plt.show()"
   ]
  },
  {
   "cell_type": "code",
   "execution_count": null,
   "id": "f1dbb23e",
   "metadata": {},
   "outputs": [],
   "source": [
    "#Plot Receiver operating characteristic (ROC) curve.\n",
    "sklearn.metrics.plot_roc_curve(knn13, X_test_std, yk_test)\n",
    "plt.plot([0, 1], [0, 1], color=\"navy\", lw=2, linestyle=\"--\")\n",
    "plt.show()"
   ]
  },
  {
   "cell_type": "markdown",
   "id": "bd6f264b",
   "metadata": {},
   "source": [
    "# Decision Trees (DTs) and Random Forests (RFs)\n",
    "## https://scikit-learn.org/stable/modules/tree.html"
   ]
  },
  {
   "cell_type": "code",
   "execution_count": null,
   "id": "954bebb6",
   "metadata": {},
   "outputs": [],
   "source": [
    "import sklearn.tree"
   ]
  },
  {
   "cell_type": "code",
   "execution_count": null,
   "id": "9e24a212",
   "metadata": {},
   "outputs": [],
   "source": [
    "# let's create the model based on decision tree\n",
    "params = [\"dt\"]\n",
    "res = [fit_classifier(sklearn.tree.DecisionTreeClassifier(),\n",
    "                          X_train, X_test, yk_train, yk_test)]\n",
    "df_results = pd.DataFrame(res, index=params)"
   ]
  },
  {
   "cell_type": "code",
   "execution_count": null,
   "id": "c0de1595",
   "metadata": {},
   "outputs": [],
   "source": [
    "results = results.append(df_results)\n",
    "results"
   ]
  },
  {
   "cell_type": "code",
   "execution_count": null,
   "id": "ccf59afd",
   "metadata": {},
   "outputs": [],
   "source": [
    "dt = sklearn.tree.DecisionTreeClassifier()\n",
    "dt.fit(X_train, yk_train)\n",
    "dt.predict(X_test)\n",
    "\n",
    "plot_confusion_matrix(dt, X_test, yk_test)\n",
    "plt.show()"
   ]
  },
  {
   "cell_type": "code",
   "execution_count": null,
   "id": "8687a982",
   "metadata": {},
   "outputs": [],
   "source": [
    "#Plot Receiver operating characteristic (ROC) curve.\n",
    "sklearn.metrics.plot_roc_curve(dt, X_test, yk_test)\n",
    "plt.plot([0, 1], [0, 1], color=\"navy\", lw=2, linestyle=\"--\")\n",
    "plt.show()"
   ]
  },
  {
   "cell_type": "code",
   "execution_count": null,
   "id": "f6c6c316",
   "metadata": {},
   "outputs": [],
   "source": [
    "dt.get_params()"
   ]
  },
  {
   "cell_type": "code",
   "execution_count": null,
   "id": "ecd82615",
   "metadata": {},
   "outputs": [],
   "source": [
    "dt.get_depth()"
   ]
  },
  {
   "cell_type": "code",
   "execution_count": null,
   "id": "f2b01c7d",
   "metadata": {
    "scrolled": true
   },
   "outputs": [],
   "source": [
    "# plotting the tree\n",
    "# sklearn.tree.plot_tree(dt)"
   ]
  },
  {
   "cell_type": "code",
   "execution_count": null,
   "id": "f9f59a57",
   "metadata": {},
   "outputs": [],
   "source": [
    "# we definitely have to prune the tree\n",
    "params = [\"dt_maxd12\"]\n",
    "res = [fit_classifier(sklearn.tree.DecisionTreeClassifier(max_depth=12),\n",
    "                          X_train, X_test, yk_train, yk_test)]\n",
    "df_results = pd.DataFrame(res, index=params)"
   ]
  },
  {
   "cell_type": "code",
   "execution_count": null,
   "id": "bd7e7d07",
   "metadata": {},
   "outputs": [],
   "source": [
    "results = results.append(df_results)\n",
    "results"
   ]
  },
  {
   "cell_type": "code",
   "execution_count": null,
   "id": "9af14b40",
   "metadata": {},
   "outputs": [],
   "source": [
    "# and let's check what happened after standardization and max_depth decreasing\n",
    "params = [\"dt_maxd12_std\"]\n",
    "res = [fit_classifier(sklearn.tree.DecisionTreeClassifier(max_depth=12),\n",
    "                          X_train_std, X_test_std, yk_train, yk_test)]\n",
    "df_results = pd.DataFrame(res, index=params)"
   ]
  },
  {
   "cell_type": "code",
   "execution_count": null,
   "id": "3c4ade2e",
   "metadata": {},
   "outputs": [],
   "source": [
    "results = results.append(df_results)\n",
    "results"
   ]
  },
  {
   "cell_type": "code",
   "execution_count": null,
   "id": "65228f1b",
   "metadata": {},
   "outputs": [],
   "source": [
    "dt = sklearn.tree.DecisionTreeClassifier(max_depth=6)\n",
    "dt.fit(X_train_std, yk_train)\n",
    "dt.predict(X_test_std)\n",
    "\n",
    "plot_confusion_matrix(dt, X_test_std, yk_test)\n",
    "plt.show()"
   ]
  },
  {
   "cell_type": "code",
   "execution_count": null,
   "id": "f0a4ffe7",
   "metadata": {
    "scrolled": true
   },
   "outputs": [],
   "source": [
    "# plotting the tree\n",
    "sklearn.tree.plot_tree(dt)"
   ]
  },
  {
   "cell_type": "code",
   "execution_count": null,
   "id": "913e25f5",
   "metadata": {},
   "outputs": [],
   "source": [
    "from sklearn.tree import export_text\n",
    "r = export_text(dt, feature_names=['fixed.acidity', 'volatile.acidity', 'citric.acid', 'residual.sugar',\n",
    "       'chlorides', 'free.sulfur.dioxide', 'total.sulfur.dioxide', 'density',\n",
    "       'pH', 'sulphates', 'alcohol'])"
   ]
  },
  {
   "cell_type": "code",
   "execution_count": null,
   "id": "0c22875f",
   "metadata": {},
   "outputs": [],
   "source": [
    "print(X.columns)"
   ]
  },
  {
   "cell_type": "code",
   "execution_count": null,
   "id": "7fd2f1a9",
   "metadata": {},
   "outputs": [],
   "source": [
    "print(r)"
   ]
  },
  {
   "cell_type": "code",
   "execution_count": null,
   "id": "5ded7c40",
   "metadata": {},
   "outputs": [],
   "source": [
    "#Random Forests\n",
    "import sklearn.ensemble"
   ]
  },
  {
   "cell_type": "code",
   "execution_count": null,
   "id": "5e959135",
   "metadata": {},
   "outputs": [],
   "source": [
    "params = [\"rf\"]\n",
    "res = [fit_classifier(sklearn.ensemble.RandomForestClassifier(random_state=12345),\n",
    "                          X_train, X_test, yk_train, yk_test)]\n",
    "df_results = pd.DataFrame(res, index=params)"
   ]
  },
  {
   "cell_type": "code",
   "execution_count": null,
   "id": "b0177659",
   "metadata": {},
   "outputs": [],
   "source": [
    "results = results.append(df_results)\n",
    "results"
   ]
  },
  {
   "cell_type": "code",
   "execution_count": null,
   "id": "0389890b",
   "metadata": {},
   "outputs": [],
   "source": [
    "rf = sklearn.ensemble.RandomForestClassifier(random_state=12345)\n",
    "rf.fit(X_train, yk_train)\n",
    "rf.predict(X_test)\n",
    "\n",
    "plot_confusion_matrix(rf, X_test, yk_test)\n",
    "plt.show()"
   ]
  },
  {
   "cell_type": "code",
   "execution_count": null,
   "id": "7a02e7ff",
   "metadata": {},
   "outputs": [],
   "source": [
    "rf.get_params()"
   ]
  },
  {
   "cell_type": "code",
   "execution_count": null,
   "id": "aa4dea39",
   "metadata": {},
   "outputs": [],
   "source": [
    "params = [\"rf new\"]\n",
    "res = [fit_classifier(sklearn.ensemble.RandomForestClassifier(n_estimators=500,\n",
    "                                                              max_depth=10,\n",
    "                                                              random_state=12345),\n",
    "                          X_train, X_test, yk_train, yk_test)]\n",
    "df_results = pd.DataFrame(res, index=params)"
   ]
  },
  {
   "cell_type": "code",
   "execution_count": null,
   "id": "fe363818",
   "metadata": {},
   "outputs": [],
   "source": [
    "results = results.append(df_results)\n",
    "results"
   ]
  },
  {
   "cell_type": "code",
   "execution_count": null,
   "id": "17910526",
   "metadata": {},
   "outputs": [],
   "source": [
    "# Intro to XAI\n",
    "# Feature importances\n",
    "\n",
    "pd.Series(rf.feature_importances_, index = X.columns[0:11]).sort_values(ascending=False)\n"
   ]
  },
  {
   "cell_type": "code",
   "execution_count": null,
   "id": "06c952fa",
   "metadata": {},
   "outputs": [],
   "source": [
    "#conclusion - good wine is strong wine :)\n",
    "wine.alcohol.groupby(wine.quality).mean()"
   ]
  },
  {
   "cell_type": "markdown",
   "id": "75718e01",
   "metadata": {},
   "source": [
    "And now, you can play with standardization, removing outliers, features selection, hyperparameters tuning, ...\n",
    "\n",
    "You can do almost everything, which directing you to create stable, not overfitted, as simple as possible, as general as possible, ... model, which helps you to solve your problem.\n",
    "\n",
    "And it is not so simple :)"
   ]
  },
  {
   "cell_type": "markdown",
   "id": "b4f49853",
   "metadata": {},
   "source": [
    "## Few words about cross validation "
   ]
  },
  {
   "cell_type": "code",
   "execution_count": null,
   "id": "cfe7b555",
   "metadata": {},
   "outputs": [],
   "source": [
    "from sklearn.linear_model import LogisticRegression\n",
    "from sklearn.svm import SVC\n",
    "from sklearn.linear_model import SGDClassifier\n",
    "from sklearn.gaussian_process import GaussianProcessClassifier"
   ]
  },
  {
   "cell_type": "code",
   "execution_count": null,
   "id": "478ee4ff",
   "metadata": {},
   "outputs": [],
   "source": [
    "# cross validation for several models based on std dataset\n",
    "methods = pd.Series({\n",
    "    \"knn\": sklearn.neighbors.KNeighborsClassifier(n_neighbors=10),\n",
    "    \"dt\": sklearn.tree.DecisionTreeClassifier(max_depth=10),\n",
    "    \"rf\": sklearn.ensemble.RandomForestClassifier(max_depth=10),\n",
    "    \"lr\": LogisticRegression(),\n",
    "    \"SVC\": SVC(),\n",
    "    \"SGD\": SGDClassifier(),\n",
    "    \"GP\": GaussianProcessClassifier(),\n",
    "})\n",
    "\n",
    "#evaluation function\n",
    "def eval_function(X_train, X_test, y_train, y_test):\n",
    "    cv_models = pd.concat([\n",
    "        pd.Series(fit_classifier(alg,\n",
    "                                 X_train, X_test, y_train, y_test)) for alg in methods], axis=1).T\n",
    "    cv_models.index = methods.index\n",
    "    return cv_models\n",
    "\n",
    "kf = KFold(n_splits=5)\n",
    "\n",
    "n_folds = 5\n",
    "\n",
    "results_cv = [eval_function(X_std.iloc[train,:],\n",
    "                            X_std.iloc[test,:],\n",
    "                            yk[train],\n",
    "                            yk[test]) for train, test in kf.split(X_std)]\n",
    "\n",
    "sum(results_cv)/n_folds"
   ]
  },
  {
   "cell_type": "code",
   "execution_count": null,
   "id": "9c2316cc",
   "metadata": {},
   "outputs": [],
   "source": []
  }
 ],
 "metadata": {
  "kernelspec": {
   "display_name": "Python 3 (ipykernel)",
   "language": "python",
   "name": "python3"
  },
  "language_info": {
   "codemirror_mode": {
    "name": "ipython",
    "version": 3
   },
   "file_extension": ".py",
   "mimetype": "text/x-python",
   "name": "python",
   "nbconvert_exporter": "python",
   "pygments_lexer": "ipython3",
   "version": "3.7.16"
  }
 },
 "nbformat": 4,
 "nbformat_minor": 5
}
