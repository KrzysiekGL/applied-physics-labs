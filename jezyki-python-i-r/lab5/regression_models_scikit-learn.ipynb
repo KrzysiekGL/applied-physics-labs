{
 "cells": [
  {
   "cell_type": "markdown",
   "id": "29da0aa2",
   "metadata": {},
   "source": [
    "# Języki Programowania Python i R\n",
    "\n",
    "\n",
    "## dr inż. Patryk Jasik\n",
    "### Division of Theoretical Physics and Quantum Information\n",
    "### Institute of Physics and Computer Science\n",
    "### Faculty of Applied Physics and Mathematics\n",
    "### Gdansk University of Technology"
   ]
  },
  {
   "cell_type": "markdown",
   "id": "3e62054e",
   "metadata": {},
   "source": [
    "# scikit-learn docs\n",
    "## https://scikit-learn.org/stable/"
   ]
  },
  {
   "cell_type": "code",
   "execution_count": null,
   "id": "b0db6a71",
   "metadata": {},
   "outputs": [],
   "source": [
    "#%config Completer.use_jedi = False"
   ]
  },
  {
   "cell_type": "markdown",
   "id": "808cb5cf",
   "metadata": {},
   "source": [
    "**Regression** - is an approach for modelling the relationship between a scalar response and one or more explanatory variables (also known as dependent and independent variables).\n",
    "\n",
    "2D problem\\\n",
    "$$\n",
    "y_i = a*x_i + b\n",
    "$$\n",
    "\n",
    "\n",
    "Multidimensional problem\\\n",
    "$$\n",
    "y_i = a_1*x_{i1} + a_2*x_{i2} + ... + a_p*x_{ip} + intercept\n",
    "$$"
   ]
  },
  {
   "cell_type": "code",
   "execution_count": null,
   "id": "be6e0c72",
   "metadata": {},
   "outputs": [],
   "source": [
    "#loading the necessary packages\n",
    "import numpy as np\n",
    "import pandas as pd\n",
    "import matplotlib.pyplot as plt\n",
    "import seaborn as sns\n",
    "import sklearn"
   ]
  },
  {
   "cell_type": "code",
   "execution_count": null,
   "id": "e521badc",
   "metadata": {},
   "outputs": [],
   "source": [
    "#measurements of physical and chemical properties of Portuguese Vinho Verde wines (white and red) \n",
    "wine = pd.read_csv(\"data/winequality-all.csv\", comment=\"#\")\n",
    "wine.head()"
   ]
  },
  {
   "cell_type": "code",
   "execution_count": null,
   "id": "30f41814",
   "metadata": {},
   "outputs": [],
   "source": [
    "#helpful information about the dataset that can be saved as variables\n",
    "wine.shape"
   ]
  },
  {
   "cell_type": "code",
   "execution_count": null,
   "id": "ddd5ed02",
   "metadata": {},
   "outputs": [],
   "source": [
    "wine.columns"
   ]
  },
  {
   "cell_type": "code",
   "execution_count": null,
   "id": "52cf6a4b",
   "metadata": {},
   "outputs": [],
   "source": [
    "wine.info()"
   ]
  },
  {
   "cell_type": "code",
   "execution_count": null,
   "id": "70839f53",
   "metadata": {},
   "outputs": [],
   "source": [
    "#the color of the wine is of type object, so we need to change this variable to a categorical one\n",
    "wine.color = wine.color.astype(\"category\")\n",
    "wine.info()"
   ]
  },
  {
   "cell_type": "code",
   "execution_count": null,
   "id": "4fd7a139",
   "metadata": {},
   "outputs": [],
   "source": [
    "wine"
   ]
  },
  {
   "cell_type": "code",
   "execution_count": null,
   "id": "abe694c8",
   "metadata": {},
   "outputs": [],
   "source": [
    "#basic statistics\n",
    "wine.describe()"
   ]
  },
  {
   "cell_type": "code",
   "execution_count": null,
   "id": "2cae8d0f",
   "metadata": {},
   "outputs": [],
   "source": [
    "pd.DataFrame(wine['free.sulfur.dioxide']).boxplot()"
   ]
  },
  {
   "cell_type": "code",
   "execution_count": null,
   "id": "443a3aba",
   "metadata": {},
   "outputs": [],
   "source": [
    "pd.DataFrame(wine['free.sulfur.dioxide']).hist()"
   ]
  },
  {
   "cell_type": "code",
   "execution_count": null,
   "id": "09ac3903",
   "metadata": {},
   "outputs": [],
   "source": [
    "wine.describe(include='all')"
   ]
  },
  {
   "cell_type": "markdown",
   "id": "b0206a1f",
   "metadata": {},
   "source": [
    "### goal - we will check whether alcohol is a function of the remaining 10 variables and what is the relationship.\n",
    "### Thanks to this, we will be able to explain the derivative of what set of factors the given alcohol content is, as well as predict the alcohol content in the newly produced batch of wine."
   ]
  },
  {
   "cell_type": "code",
   "execution_count": null,
   "id": "f2d58dd2",
   "metadata": {},
   "outputs": [],
   "source": [
    "#we check how many red wines and how many white wines are in our collection\n",
    "wine.color.value_counts()"
   ]
  },
  {
   "cell_type": "code",
   "execution_count": null,
   "id": "48e2af9c",
   "metadata": {},
   "outputs": [],
   "source": [
    "#We check how the statistics for red and white wines differ\n",
    "\n",
    "#creation of the subsets\n",
    "white_wine = wine[wine.color == 'white']\n",
    "red_wine = wine[wine.color == 'red']"
   ]
  },
  {
   "cell_type": "code",
   "execution_count": null,
   "id": "dc7988d4",
   "metadata": {},
   "outputs": [],
   "source": [
    "white_wine.describe()"
   ]
  },
  {
   "cell_type": "code",
   "execution_count": null,
   "id": "ad87182d",
   "metadata": {},
   "outputs": [],
   "source": [
    "red_wine.describe()"
   ]
  },
  {
   "cell_type": "code",
   "execution_count": null,
   "id": "5132d01f",
   "metadata": {},
   "outputs": [],
   "source": [
    "#the target variable\n",
    "y = white_wine.iloc[:, -3]\n",
    "y.head(10)"
   ]
  },
  {
   "cell_type": "code",
   "execution_count": null,
   "id": "98413706",
   "metadata": {},
   "outputs": [],
   "source": [
    "y.tail(10)"
   ]
  },
  {
   "cell_type": "code",
   "execution_count": null,
   "id": "2aba2f66",
   "metadata": {},
   "outputs": [],
   "source": [
    "#predictors\n",
    "X = white_wine.iloc[:, :-3]\n",
    "X.head()"
   ]
  },
  {
   "cell_type": "code",
   "execution_count": null,
   "id": "612d029a",
   "metadata": {},
   "outputs": [],
   "source": [
    "X.shape"
   ]
  },
  {
   "cell_type": "markdown",
   "id": "5e6d6b5e",
   "metadata": {},
   "source": [
    "# Correlation Study"
   ]
  },
  {
   "cell_type": "markdown",
   "id": "5b39652c",
   "metadata": {},
   "source": [
    "An important element in statistical analysis is the study of the correlation of variables. It is thanks to it that we know if there is any relationship between the data sets.\n",
    "\n",
    "It is very important to investigate the correlation when building a regression model. By examining the correlation of our goal (in this example 'alcohol') with the features, we can find out which of the featues is the most important and which will not help us create the appropriate model."
   ]
  },
  {
   "cell_type": "markdown",
   "id": "5c26f7d6",
   "metadata": {},
   "source": [
    "The most frequently studied correlations are:\n",
    " - <a href = https://en.wikipedia.org/wiki/Pearson_correlation_coefficient> **Pearson** </a> - examines the linear relationship in the X and Y data\n",
    " \n",
    "$$\n",
    "r_{p}= \\frac{cov(X,Y)}{\\sigma_X \\sigma_Y}\n",
    "$$\n",
    "\n",
    " - <a href = https://en.wikipedia.org/wiki/Spearman%27s_rank_correlation_coefficient> **Spearman** </a> - examines the rank dependence of X and Y data. A high value of the correlation coefficient does not mean that the data is linearly correlated, but as the value of X increases, the values of Y increase, but not necessarily always by the same value\n",
    " \n",
    " $$\n",
    " r_s = \\frac{cov(R(X)R(Y))}{\\sigma_{R(X)}\\sigma_{R(Y)}}\n",
    " $$\n",
    " \n",
    "*where*:\n",
    " \n",
    " $cov()$ - covariance, \n",
    " \n",
    " $\\sigma$ - standard deviation\n",
    " \n",
    " $R()$ - data rank"
   ]
  },
  {
   "cell_type": "code",
   "execution_count": null,
   "id": "cfa044e7",
   "metadata": {},
   "outputs": [],
   "source": [
    "#let's calculate the Pearson's linear correlation coefficients\n",
    "corr_P = white_wine.corr(\"pearson\")\n",
    "corr_P.shape"
   ]
  },
  {
   "cell_type": "code",
   "execution_count": null,
   "id": "a26508c0",
   "metadata": {},
   "outputs": [],
   "source": [
    "corr_P"
   ]
  },
  {
   "cell_type": "code",
   "execution_count": null,
   "id": "f5fa6896",
   "metadata": {},
   "outputs": [],
   "source": [
    "#we create a triangular matrix and display a correlation coefficients greater than 0.4\n",
    "corr_P_tri = corr_P.where(np.triu(np.ones(corr_P.shape, dtype=bool), k=1)).stack().sort_values()\n",
    "corr_P_tri"
   ]
  },
  {
   "cell_type": "code",
   "execution_count": null,
   "id": "cc48fb77",
   "metadata": {},
   "outputs": [],
   "source": [
    "corr_P_tri[abs(corr_P_tri)>0.4]"
   ]
  },
  {
   "cell_type": "code",
   "execution_count": null,
   "id": "920c2d80",
   "metadata": {},
   "outputs": [],
   "source": [
    "#visualization of correlation using seaborn pairplot figure\n",
    "sns.pairplot(white_wine)\n",
    "plt.show()"
   ]
  },
  {
   "cell_type": "code",
   "execution_count": null,
   "id": "83e70152",
   "metadata": {},
   "outputs": [],
   "source": [
    "#let's calculate the Spearman's correlation coefficients\n",
    "corr_S = white_wine.corr(\"spearman\")\n",
    "corr_S.shape"
   ]
  },
  {
   "cell_type": "code",
   "execution_count": null,
   "id": "d7fb7625",
   "metadata": {},
   "outputs": [],
   "source": [
    "corr_S"
   ]
  },
  {
   "cell_type": "code",
   "execution_count": null,
   "id": "6a2027cf",
   "metadata": {},
   "outputs": [],
   "source": [
    "#we create a triangular matrix and display a correlation coefficients greater than 0.4\n",
    "corr_S_tri = corr_S.where(np.triu(np.ones(corr_S.shape, dtype=bool), k=1)).stack().sort_values()\n",
    "corr_S_tri[abs(corr_S_tri)>0.4]"
   ]
  },
  {
   "cell_type": "code",
   "execution_count": null,
   "id": "a3e3f3a2",
   "metadata": {},
   "outputs": [],
   "source": [
    "#we create a linear regression model\n",
    "import sklearn.linear_model\n",
    "lm = sklearn.linear_model.LinearRegression()"
   ]
  },
  {
   "cell_type": "code",
   "execution_count": null,
   "id": "7e05f788",
   "metadata": {},
   "outputs": [],
   "source": [
    "lm"
   ]
  },
  {
   "cell_type": "code",
   "execution_count": null,
   "id": "cf059804",
   "metadata": {},
   "outputs": [],
   "source": [
    "help(sklearn.linear_model.LinearRegression())"
   ]
  },
  {
   "cell_type": "code",
   "execution_count": null,
   "id": "37660318",
   "metadata": {},
   "outputs": [],
   "source": [
    "lm"
   ]
  },
  {
   "cell_type": "code",
   "execution_count": null,
   "id": "3bdf8f52",
   "metadata": {},
   "outputs": [],
   "source": [
    "#let's train linear model\n",
    "lm.fit(X,y)"
   ]
  },
  {
   "cell_type": "code",
   "execution_count": null,
   "id": "2f2d98f6",
   "metadata": {},
   "outputs": [],
   "source": [
    "#coefficients of the linear model\n",
    "lm.coef_"
   ]
  },
  {
   "cell_type": "code",
   "execution_count": null,
   "id": "68291a39",
   "metadata": {},
   "outputs": [],
   "source": [
    "X.columns"
   ]
  },
  {
   "cell_type": "code",
   "execution_count": null,
   "id": "c847979f",
   "metadata": {},
   "outputs": [],
   "source": [
    "#intercept\n",
    "lm.intercept_"
   ]
  },
  {
   "cell_type": "code",
   "execution_count": null,
   "id": "de68fec5",
   "metadata": {},
   "outputs": [],
   "source": [
    "X.describe()"
   ]
  },
  {
   "cell_type": "code",
   "execution_count": null,
   "id": "a2165216",
   "metadata": {},
   "outputs": [],
   "source": [
    "#the mean value of the target variable\n",
    "y.mean()"
   ]
  },
  {
   "cell_type": "code",
   "execution_count": null,
   "id": "795d45e1",
   "metadata": {},
   "outputs": [],
   "source": [
    "x_new = X.mean().values.reshape(1,-1)\n",
    "x_new"
   ]
  },
  {
   "cell_type": "code",
   "execution_count": null,
   "id": "8fa5b1d0",
   "metadata": {},
   "outputs": [],
   "source": [
    "#let's do prediction for the mean value of all predictors\n",
    "lm.predict(x_new+0.001)"
   ]
  },
  {
   "cell_type": "code",
   "execution_count": null,
   "id": "08833666",
   "metadata": {},
   "outputs": [],
   "source": [
    "#for a standardized dataset, the regression coefficients gain a useful interpretation\n",
    "#i.e. the greater the value of the coefficient's modulus,\n",
    "#the more significant it has an impact on the value of the objective variable\n",
    "X_std = (X-X.mean(axis=0))/X.std(axis=0) # axis=0 => columns\n",
    "X_std.describe()"
   ]
  },
  {
   "cell_type": "code",
   "execution_count": null,
   "id": "d1c0c112",
   "metadata": {},
   "outputs": [],
   "source": [
    "lm_std = sklearn.linear_model.LinearRegression()\n",
    "lm_std.fit(X_std, (y-y.mean())/y.std())"
   ]
  },
  {
   "cell_type": "code",
   "execution_count": null,
   "id": "a1f71563",
   "metadata": {},
   "outputs": [],
   "source": [
    "pd.Series(np.abs(lm_std.coef_), index=X.columns.to_list()).round(4).sort_values(ascending=False)"
   ]
  },
  {
   "cell_type": "code",
   "execution_count": null,
   "id": "299e7cde",
   "metadata": {},
   "outputs": [],
   "source": [
    "# assessment of the quality of the model\n",
    "# compare the fitted values calculated by the model with the original values\n",
    "y_pred = lm.predict(X)\n",
    "y_pred[0:15]"
   ]
  },
  {
   "cell_type": "code",
   "execution_count": null,
   "id": "2e7b32b2",
   "metadata": {},
   "outputs": [],
   "source": [
    "y[0:15]"
   ]
  },
  {
   "cell_type": "code",
   "execution_count": null,
   "id": "c70f99a3",
   "metadata": {},
   "outputs": [],
   "source": [
    "#R2 - determination coefficient\n",
    "lm.score(X,y)"
   ]
  },
  {
   "cell_type": "code",
   "execution_count": null,
   "id": "2125bc6a",
   "metadata": {},
   "outputs": [],
   "source": [
    "sklearn.metrics.r2_score(y,y_pred)"
   ]
  },
  {
   "cell_type": "code",
   "execution_count": null,
   "id": "04800257",
   "metadata": {},
   "outputs": [],
   "source": [
    "#MAE\n",
    "sklearn.metrics.mean_absolute_error(y,y_pred)"
   ]
  },
  {
   "cell_type": "code",
   "execution_count": null,
   "id": "8b6081a3",
   "metadata": {},
   "outputs": [],
   "source": [
    "#MSE\n",
    "sklearn.metrics.mean_squared_error(y,y_pred)"
   ]
  },
  {
   "cell_type": "code",
   "execution_count": null,
   "id": "65d81b98",
   "metadata": {},
   "outputs": [],
   "source": [
    "#RMSE\n",
    "sklearn.metrics.mean_squared_error(y,y_pred, squared=False)"
   ]
  },
  {
   "cell_type": "code",
   "execution_count": null,
   "id": "87b4662f",
   "metadata": {
    "scrolled": true
   },
   "outputs": [],
   "source": [
    "help(sklearn.metrics.mean_squared_error)"
   ]
  },
  {
   "cell_type": "code",
   "execution_count": null,
   "id": "09599b89",
   "metadata": {},
   "outputs": [],
   "source": [
    "#MAPE\n",
    "sklearn.metrics.mean_absolute_percentage_error(y,y_pred)*100"
   ]
  },
  {
   "cell_type": "code",
   "execution_count": null,
   "id": "474b7e04",
   "metadata": {},
   "outputs": [],
   "source": [
    "# we care about the model's good predictive ability\n",
    "#but we also make sure not to overfit the model,\n",
    "#so we divide the dataset into a training dataset (80%) and a test dataset (20%)\n",
    "X_train, X_test, y_train, y_test = sklearn.model_selection.train_test_split(X,\n",
    "                                                                        y,\n",
    "                                                                        test_size=0.2,\n",
    "                                                                        random_state=12345)\n",
    "\n",
    "print(X_train.shape)\n",
    "print(X_test.shape)\n",
    "print(y_train.shape)\n",
    "print(y_test.shape)"
   ]
  },
  {
   "cell_type": "code",
   "execution_count": null,
   "id": "ea26d899",
   "metadata": {},
   "outputs": [],
   "source": [
    "#we will create a function that fits the linear regression model to a given sample\n",
    "#and computes errors of prediction\n",
    "def fit_regression(model, X_train, X_test, y_train, y_test):\n",
    "    model.fit(X_train, y_train)\n",
    "    \n",
    "    y_train_pred = model.predict(X_train)\n",
    "    y_test_pred = model.predict(X_test)\n",
    "    \n",
    "    r2 = sklearn.metrics.r2_score\n",
    "    rmse = sklearn.metrics.mean_squared_error\n",
    "    mae = sklearn.metrics.mean_absolute_error\n",
    "    \n",
    "    return {\n",
    "        \"r_score_tr\": r2(y_train, y_train_pred),\n",
    "        \"r_score_te\": r2(y_test, y_test_pred),\n",
    "        \"RMSE_tr\": rmse(y_train, y_train_pred, squared=False),\n",
    "        \"RMSE_te\": rmse(y_test, y_test_pred, squared=False),\n",
    "        \"MAE_tr\": mae(y_train, y_train_pred),\n",
    "        \"MAE_te\": mae(y_test, y_test_pred)\n",
    "    }"
   ]
  },
  {
   "cell_type": "code",
   "execution_count": null,
   "id": "10307da0",
   "metadata": {},
   "outputs": [],
   "source": [
    "#operation of the above function and results\n",
    "params = [\"Lin. Reg.\"]\n",
    "res = [fit_regression(sklearn.linear_model.LinearRegression(),\n",
    "                      X_train,\n",
    "                      X_test,\n",
    "                      y_train,\n",
    "                      y_test)]\n",
    "\n",
    "results = pd.DataFrame(res, index=params)"
   ]
  },
  {
   "cell_type": "code",
   "execution_count": null,
   "id": "72ef51fb",
   "metadata": {},
   "outputs": [],
   "source": [
    "results"
   ]
  },
  {
   "cell_type": "code",
   "execution_count": null,
   "id": "f00a48c1",
   "metadata": {},
   "outputs": [],
   "source": [
    "#let's change the random state\n",
    "X_train_rs123, X_test_rs123, y_train_rs123, y_test_rs123 = sklearn.model_selection.train_test_split(\n",
    "                                                                        X,\n",
    "                                                                        y,\n",
    "                                                                        test_size=0.2,\n",
    "                                                                        random_state=123)"
   ]
  },
  {
   "cell_type": "code",
   "execution_count": null,
   "id": "e7e947d7",
   "metadata": {},
   "outputs": [],
   "source": [
    "params.append(\"Lin. Reg. rs123\")\n",
    "res.append(fit_regression(sklearn.linear_model.LinearRegression(),\n",
    "                          X_train_rs123, X_test_rs123, y_train_rs123, y_test_rs123))\n",
    "results = pd.DataFrame(res, index=params)"
   ]
  },
  {
   "cell_type": "code",
   "execution_count": null,
   "id": "e5932be0",
   "metadata": {},
   "outputs": [],
   "source": [
    "results"
   ]
  },
  {
   "cell_type": "code",
   "execution_count": null,
   "id": "ae38febc",
   "metadata": {},
   "outputs": [],
   "source": [
    "#let's change the size of the test dataset\n",
    "X_train_70, X_test_70, y_train_70, y_test_70 = sklearn.model_selection.train_test_split(\n",
    "                                                                        X,\n",
    "                                                                        y,\n",
    "                                                                        test_size=0.3,\n",
    "                                                                        random_state=12345)"
   ]
  },
  {
   "cell_type": "code",
   "execution_count": null,
   "id": "8de758af",
   "metadata": {},
   "outputs": [],
   "source": [
    "params.append(\"Lin. Reg. test size 70\")\n",
    "res.append(fit_regression(sklearn.linear_model.LinearRegression(),\n",
    "                          X_train_70, X_test_70, y_train_70, y_test_70))\n",
    "results = pd.DataFrame(res, index=params)"
   ]
  },
  {
   "cell_type": "code",
   "execution_count": null,
   "id": "23eba0a6",
   "metadata": {},
   "outputs": [],
   "source": [
    "results"
   ]
  },
  {
   "cell_type": "code",
   "execution_count": null,
   "id": "b865996b",
   "metadata": {},
   "outputs": [],
   "source": [
    "from sklearn.model_selection import KFold\n",
    "kf = KFold(n_splits=5)\n",
    "kf.get_n_splits(X)"
   ]
  },
  {
   "cell_type": "code",
   "execution_count": null,
   "id": "32e81f90",
   "metadata": {},
   "outputs": [],
   "source": [
    "kf"
   ]
  },
  {
   "cell_type": "code",
   "execution_count": null,
   "id": "a4e2b3e3",
   "metadata": {},
   "outputs": [],
   "source": [
    "X.reset_index(drop=True)"
   ]
  },
  {
   "cell_type": "code",
   "execution_count": null,
   "id": "63b783e0",
   "metadata": {
    "scrolled": true
   },
   "outputs": [],
   "source": [
    "for train_index, test_index in kf.split(X):\n",
    "    print(\"TRAIN:\", train_index, \"TEST:\", test_index)\n",
    "    X_train_kf, X_test_kf = X.iloc[train_index,:], X.iloc[test_index,:]\n",
    "    y_train_kf, y_test_kf = y.iloc[train_index], y.iloc[test_index]\n",
    "    display(X_train_kf)\n",
    "    display(y_train_kf)\n",
    "    display(X_test_kf)\n",
    "    display(y_test_kf)"
   ]
  },
  {
   "cell_type": "code",
   "execution_count": null,
   "id": "3fc9b4d6",
   "metadata": {},
   "outputs": [],
   "source": [
    "#let's create a set of regression models\n",
    "#we start with one model and we will add other models later on\n",
    "methods = pd.Series({\n",
    "    \"lin_reg\": sklearn.linear_model.LinearRegression()\n",
    "})"
   ]
  },
  {
   "cell_type": "code",
   "execution_count": null,
   "id": "efb0a353",
   "metadata": {},
   "outputs": [],
   "source": [
    "#evaluation function\n",
    "def eval_function(X_train, X_test, y_train, y_test):\n",
    "    cv_models = pd.concat([\n",
    "        pd.Series(fit_regression(alg,\n",
    "                                 X_train, X_test, y_train, y_test)) for alg in methods], axis=1).T\n",
    "    cv_models.index = methods.index\n",
    "    return cv_models"
   ]
  },
  {
   "cell_type": "code",
   "execution_count": null,
   "id": "5bfe2e1f",
   "metadata": {},
   "outputs": [],
   "source": [
    "#application of the evaluation function\n",
    "#results summarizing the cross validation\n",
    "from sklearn.model_selection import KFold\n",
    "\n",
    "n_folds = 5\n",
    "\n",
    "results_cv = [eval_function(X.iloc[train,:],\n",
    "                            X.iloc[test,:],\n",
    "                            y.iloc[train],\n",
    "                            y.iloc[test]) for train, test in kf.split(X)]\n",
    "\n",
    "sum(results_cv)/n_folds"
   ]
  },
  {
   "cell_type": "code",
   "execution_count": null,
   "id": "85ff2a18",
   "metadata": {},
   "outputs": [],
   "source": [
    "results_cv"
   ]
  },
  {
   "cell_type": "code",
   "execution_count": null,
   "id": "78b280c0",
   "metadata": {},
   "outputs": [],
   "source": [
    "(sum(results_cv)/n_folds).to_dict()"
   ]
  },
  {
   "cell_type": "code",
   "execution_count": null,
   "id": "ddbd8b94",
   "metadata": {},
   "outputs": [],
   "source": [
    "#we append the cross validation results to our main dataframe with all results\n",
    "params.append(\" \")\n",
    "res.append( )\n",
    "results = pd.DataFrame(res, index=params)"
   ]
  },
  {
   "cell_type": "code",
   "execution_count": null,
   "id": "624cf3f1",
   "metadata": {},
   "outputs": [],
   "source": [
    "results"
   ]
  },
  {
   "cell_type": "code",
   "execution_count": null,
   "id": "d44dae6b",
   "metadata": {},
   "outputs": [],
   "source": [
    "#cross validation could be done in a simpler way\n",
    "from sklearn.model_selection import cross_validate\n",
    "\n",
    "#scoring parameters \n",
    "#https://scikit-learn.org/stable/modules/model_evaluation.html#scoring-parameter\n",
    "\n",
    "cv_results = cross_validate(sklearn.linear_model.LinearRegression(),\n",
    "                            X,\n",
    "                            y,\n",
    "                            scoring=('r2', 'neg_root_mean_squared_error', 'neg_mean_absolute_error'),\n",
    "                            cv=5,\n",
    "                            return_train_score=True)"
   ]
  },
  {
   "cell_type": "code",
   "execution_count": null,
   "id": "65ed7f85",
   "metadata": {},
   "outputs": [],
   "source": [
    "cv_results"
   ]
  },
  {
   "cell_type": "code",
   "execution_count": null,
   "id": "d5f65771",
   "metadata": {},
   "outputs": [],
   "source": [
    "print(\"r_score_tr:\", cv_results['train_r2'].mean().round(6))\n",
    "print(\"r_score_te:\", cv_results['test_r2'].mean().round(6))\n",
    "print(\"RMSE_tr:\", (cv_results['train_neg_root_mean_squared_error']*-1).mean().round(6))\n",
    "print(\"RMSE_te:\", (cv_results['test_neg_root_mean_squared_error']*-1).mean().round(6))\n",
    "print(\"MAE_tr:\", (cv_results['train_neg_mean_absolute_error']*-1).mean().round(6))\n",
    "print(\"MAE_te:\", (cv_results['test_neg_mean_absolute_error']*-1).mean().round(6))"
   ]
  },
  {
   "cell_type": "markdown",
   "id": "b20ac361",
   "metadata": {},
   "source": [
    "## Introduction to statistical tests"
   ]
  },
  {
   "cell_type": "markdown",
   "id": "6dbc8a27",
   "metadata": {},
   "source": [
    "<div class=\"alert alert-block alert-success\">\n",
    "   <b> Definitions </b>\n",
    "    \n",
    "**Statistical test** - a mathematical formula that allows you to estimate the probability of meeting a certain statistical hypothesis in a population based on a random sample from that population.\n",
    "    \n",
    "$\\newline$\n",
    "\n",
    "**Statistical hypothesis** - any assumption about the distribution of the population\n",
    "\n",
    "$\\newline$\n",
    "\n",
    "**Null hypothesis $𝐻_0$** - Supposition we want to check with statistical tests.\n",
    "\n",
    "$\\newline$\n",
    "\n",
    "**P-value** - the cumulative probability of drawing a sample of the same or more extreme as observed, assuming that the null hypothesis is true\n",
    "\n",
    "</div>"
   ]
  },
  {
   "cell_type": "markdown",
   "id": "b4bd4fa3",
   "metadata": {},
   "source": [
    "<div class=\"alert alert-block alert-warning\">\n",
    "A certain threshold (<b>significance level</b> $\\alpha$) is set when using statistical tests. If the P-value is less than this level, the null hypothesis can be rejected. Usually $\\alpha$ = 0.05\n",
    "</div>"
   ]
  },
  {
   "cell_type": "markdown",
   "id": "ffb407bc",
   "metadata": {},
   "source": [
    "<div class=\"alert alert-block alert-info\">\n",
    "    \n",
    "Using P-value and significance level, we can reject the null hypothesis. However, this does not mean that we confirm the alternative hypothesis ($H_1$).\n",
    "</div>"
   ]
  },
  {
   "cell_type": "markdown",
   "id": "3c8345b2",
   "metadata": {},
   "source": [
    "Using statistical tests, we can also check whether the data has a specific distribution.\n",
    "\n",
    "So let's check if **pH** follow a normal distribution. We can do this with the <a href = https://docs.scipy.org/doc/scipy/reference/generated/scipy.stats.normaltest.html> *scipy.stats.normaltest()* </a> method.\n",
    "\n",
    "The null hypothesis in this method is that the data is normally distributed.\n",
    "\n",
    "Let us assume the significance level of $\\alpha$ = 0.05. We can reject this hypothesis and say that **pH** is not normally distributed."
   ]
  },
  {
   "cell_type": "code",
   "execution_count": null,
   "id": "ffb57701",
   "metadata": {},
   "outputs": [],
   "source": [
    "from scipy.stats import normaltest, anderson"
   ]
  },
  {
   "cell_type": "code",
   "execution_count": null,
   "id": "5b7e29b8",
   "metadata": {},
   "outputs": [],
   "source": [
    "white_wine.columns"
   ]
  },
  {
   "cell_type": "code",
   "execution_count": null,
   "id": "fbdac572",
   "metadata": {},
   "outputs": [],
   "source": [
    "normaltest(white_wine['pH'])"
   ]
  },
  {
   "cell_type": "code",
   "execution_count": null,
   "id": "2b303995",
   "metadata": {},
   "outputs": [],
   "source": [
    "plt.hist(white_wine['pH'], bins = 20)"
   ]
  },
  {
   "cell_type": "code",
   "execution_count": null,
   "id": "42a9453d",
   "metadata": {},
   "outputs": [],
   "source": [
    "#example of normal distribution\n",
    "np.random.seed(42)\n",
    "norm = [np.random.normal() for i in range(100000)]"
   ]
  },
  {
   "cell_type": "code",
   "execution_count": null,
   "id": "1af10f01",
   "metadata": {},
   "outputs": [],
   "source": [
    "plt.hist(norm, bins = 20)"
   ]
  },
  {
   "cell_type": "code",
   "execution_count": null,
   "id": "e7ec4d32",
   "metadata": {},
   "outputs": [],
   "source": [
    "normaltest(norm)"
   ]
  },
  {
   "cell_type": "markdown",
   "id": "f3a055f5",
   "metadata": {},
   "source": [
    "Let's check if the **pH** has a different distribution.\n",
    "\n",
    "A method for checking other common distributions is <a href = https://docs.scipy.org/doc/scipy/reference/generated/scipy.stats.anderson.html> *scipy.stats.anderson()* </a>\n",
    "\n",
    "With its help, we can check such distributions as:\n",
    "\n",
    "- norm - normal distribution\n",
    "- expon - exponential distribution\n",
    "- logistic - logistic distribution\n",
    "- gumbel - Gumbel distribution"
   ]
  },
  {
   "cell_type": "code",
   "execution_count": null,
   "id": "30066d6a",
   "metadata": {},
   "outputs": [],
   "source": [
    "for test in ['norm', 'expon', 'logistic', 'gumbel']:\n",
    "    print('\\nWe check whether the distribution is ', test)\n",
    "    print( anderson(white_wine['pH'], dist = test))"
   ]
  },
  {
   "cell_type": "markdown",
   "id": "cdd73595",
   "metadata": {},
   "source": [
    "So, the **pH** distribution does not belong to any of the above-mentioned."
   ]
  },
  {
   "cell_type": "markdown",
   "id": "7b572cd4",
   "metadata": {},
   "source": [
    "## Outliers analysis"
   ]
  },
  {
   "cell_type": "code",
   "execution_count": null,
   "id": "adf13336",
   "metadata": {},
   "outputs": [],
   "source": [
    "#let's remove from the dataframe the categorical feature: color\n",
    "white_wine = white_wine.iloc[:,:-1].copy()"
   ]
  },
  {
   "cell_type": "code",
   "execution_count": null,
   "id": "77a5afd0",
   "metadata": {},
   "outputs": [],
   "source": [
    "white_wine"
   ]
  },
  {
   "cell_type": "markdown",
   "id": "41670f49",
   "metadata": {},
   "source": [
    "## Z-score method\n",
    "## https://en.wikipedia.org/wiki/Standard_score"
   ]
  },
  {
   "cell_type": "code",
   "execution_count": null,
   "id": "59b4e126",
   "metadata": {},
   "outputs": [],
   "source": [
    "import scipy as sc\n",
    "\n",
    "z_scores = sc.stats.zscore(white_wine)\n",
    "z_scores"
   ]
  },
  {
   "cell_type": "code",
   "execution_count": null,
   "id": "a5e2c699",
   "metadata": {},
   "outputs": [],
   "source": [
    "abs_z_scores = np.abs(z_scores)\n",
    "filtered_z_scores = (abs_z_scores < 3.5).all(axis=1) #kind of mask"
   ]
  },
  {
   "cell_type": "code",
   "execution_count": null,
   "id": "be73c3b0",
   "metadata": {},
   "outputs": [],
   "source": [
    "filtered_z_scores"
   ]
  },
  {
   "cell_type": "code",
   "execution_count": null,
   "id": "ee499c2c",
   "metadata": {},
   "outputs": [],
   "source": [
    "white_wine_wout_outl = white_wine[filtered_z_scores]"
   ]
  },
  {
   "cell_type": "code",
   "execution_count": null,
   "id": "07cbb93e",
   "metadata": {},
   "outputs": [],
   "source": [
    "#the dataframe without outliers\n",
    "white_wine_wout_outl"
   ]
  },
  {
   "cell_type": "code",
   "execution_count": null,
   "id": "b06908c4",
   "metadata": {},
   "outputs": [],
   "source": [
    "white_wine.shape"
   ]
  },
  {
   "cell_type": "code",
   "execution_count": null,
   "id": "55fc14fb",
   "metadata": {},
   "outputs": [],
   "source": [
    "# % of rejected observations\n",
    "np.round(((3961 - 3765)/3961)*100, 1)"
   ]
  },
  {
   "cell_type": "code",
   "execution_count": null,
   "id": "4dfb84e7",
   "metadata": {},
   "outputs": [],
   "source": [
    "white_wine.describe()"
   ]
  },
  {
   "cell_type": "code",
   "execution_count": null,
   "id": "be213878",
   "metadata": {},
   "outputs": [],
   "source": [
    "white_wine_wout_outl.describe()"
   ]
  },
  {
   "cell_type": "code",
   "execution_count": null,
   "id": "b439a3f7",
   "metadata": {},
   "outputs": [],
   "source": [
    "# pairplot after removing outliers\n",
    "sns.pairplot(white_wine_wout_outl)\n",
    "plt.show()"
   ]
  },
  {
   "cell_type": "code",
   "execution_count": null,
   "id": "235865f6",
   "metadata": {},
   "outputs": [],
   "source": [
    "#let's look on the correlations after removing outliers\n",
    "corr_P_wout_outl = white_wine_wout_outl.corr(\"pearson\")\n",
    "\n",
    "corr_P_tri_wout_outl = corr_P_wout_outl.where(np.triu(np.ones(corr_P_wout_outl.shape, dtype=bool), k=1)).stack().sort_values()\n",
    "\n",
    "corr_P_tri_wout_outl[abs(corr_P_tri_wout_outl)>0.4]"
   ]
  },
  {
   "cell_type": "code",
   "execution_count": null,
   "id": "7d5c8ae4",
   "metadata": {},
   "outputs": [],
   "source": [
    "# now, we will create the new reg model based on dataset without outliers\n",
    "X_wout_out = white_wine_wout_outl.iloc[:,:-2]"
   ]
  },
  {
   "cell_type": "code",
   "execution_count": null,
   "id": "8d7203f0",
   "metadata": {},
   "outputs": [],
   "source": [
    "X_wout_out"
   ]
  },
  {
   "cell_type": "code",
   "execution_count": null,
   "id": "8ade7eb3",
   "metadata": {},
   "outputs": [],
   "source": [
    "y_wout_out = white_wine_wout_outl.iloc[:,-2]"
   ]
  },
  {
   "cell_type": "code",
   "execution_count": null,
   "id": "286d7996",
   "metadata": {},
   "outputs": [],
   "source": [
    "y_wout_out"
   ]
  },
  {
   "cell_type": "code",
   "execution_count": null,
   "id": "1e3c309b",
   "metadata": {},
   "outputs": [],
   "source": [
    "X_train_wo, X_test_wo, y_train_wo, y_test_wo = sklearn.model_selection.train_test_split(X_wout_out,\n",
    "                                                                        y_wout_out,\n",
    "                                                                        test_size=0.2,\n",
    "                                                                        random_state=12345)"
   ]
  },
  {
   "cell_type": "code",
   "execution_count": null,
   "id": "2721c236",
   "metadata": {},
   "outputs": [],
   "source": [
    "params.append(\"Lin. Reg. wout out\")\n",
    "res.append(fit_regression(sklearn.linear_model.LinearRegression(),\n",
    "                          X_train_wo, X_test_wo, y_train_wo, y_test_wo))\n",
    "results = pd.DataFrame(res, index=params)"
   ]
  },
  {
   "cell_type": "code",
   "execution_count": null,
   "id": "c047b709",
   "metadata": {},
   "outputs": [],
   "source": [
    "#list with models' labels\n",
    "params"
   ]
  },
  {
   "cell_type": "code",
   "execution_count": null,
   "id": "0cfa872a",
   "metadata": {
    "scrolled": true
   },
   "outputs": [],
   "source": [
    "#list of dictionaries with models' metrics\n",
    "res"
   ]
  },
  {
   "cell_type": "code",
   "execution_count": null,
   "id": "b62b9a74",
   "metadata": {},
   "outputs": [],
   "source": [
    "#dictionary with metric form cross validation\n",
    "(sum(results_cv)/n_folds).to_dict()"
   ]
  },
  {
   "cell_type": "code",
   "execution_count": null,
   "id": "fb8b4ee8",
   "metadata": {},
   "outputs": [],
   "source": [
    "#we append the cross validation results to our main dataframe with all results\n",
    "params.append(\"Lin. Reg. cv\")\n",
    "res.append({'r_score_tr': 0.8586248173163549,\n",
    " 'r_score_te': 0.8108207931849465,\n",
    " 'RMSE_tr': 0.4533127781833432,\n",
    " 'RMSE_te': 0.4716703237761769,\n",
    " 'MAE_tr': 0.3009219857242825,\n",
    " 'MAE_te': 0.31508307320096673})\n",
    "results = pd.DataFrame(res, index=params)"
   ]
  },
  {
   "cell_type": "code",
   "execution_count": null,
   "id": "78ef8cae",
   "metadata": {},
   "outputs": [],
   "source": [
    "results"
   ]
  },
  {
   "cell_type": "code",
   "execution_count": null,
   "id": "a92eb099",
   "metadata": {},
   "outputs": [],
   "source": [
    "# cross validation for dataset without outliers\n",
    "methods = pd.Series({\n",
    "    \"lin_reg cv\": sklearn.linear_model.LinearRegression()\n",
    "})\n",
    "\n",
    "kf = KFold(n_splits=5)\n",
    "\n",
    "n_folds = 5\n",
    "\n",
    "results_cv = [eval_function(X_wout_out.iloc[train,:],\n",
    "                            X_wout_out.iloc[test,:],\n",
    "                            y_wout_out.iloc[train],\n",
    "                            y_wout_out.iloc[test]) for train, test in kf.split(X_wout_out)]\n",
    "\n",
    "sum(results_cv)/n_folds"
   ]
  },
  {
   "cell_type": "code",
   "execution_count": null,
   "id": "2c08a75a",
   "metadata": {},
   "outputs": [],
   "source": [
    "results_cv"
   ]
  },
  {
   "cell_type": "code",
   "execution_count": null,
   "id": "d3dfb7b4",
   "metadata": {},
   "outputs": [],
   "source": [
    "#dictionary with metric form cross validation\n",
    "(sum(results_cv)/n_folds).to_dict()"
   ]
  },
  {
   "cell_type": "code",
   "execution_count": null,
   "id": "36d44dc0",
   "metadata": {},
   "outputs": [],
   "source": [
    "params.append(\"Lin. Reg. wout outl cv\")\n",
    "res.append({'r_score_tr': 0.9132987305047608,\n",
    " 'r_score_te': 0.8960650144709106,\n",
    " 'RMSE_tr': 0.35508883398984054,\n",
    " 'RMSE_te': 0.36592675298535493,\n",
    " 'MAE_tr': 0.27634804874826024,\n",
    " 'MAE_te': 0.28516400829616273})\n",
    "results = pd.DataFrame(res, index=params)"
   ]
  },
  {
   "cell_type": "code",
   "execution_count": null,
   "id": "440c213f",
   "metadata": {},
   "outputs": [],
   "source": [
    "results"
   ]
  },
  {
   "cell_type": "markdown",
   "id": "574665e3",
   "metadata": {},
   "source": [
    "## Standarization and normalization of data"
   ]
  },
  {
   "cell_type": "code",
   "execution_count": null,
   "id": "3ce884b6",
   "metadata": {},
   "outputs": [],
   "source": [
    "# we will work with dataset without outliers\n",
    "X_wout_out.describe()"
   ]
  },
  {
   "cell_type": "code",
   "execution_count": null,
   "id": "2be50885",
   "metadata": {},
   "outputs": [],
   "source": [
    "y_wout_out.describe()"
   ]
  },
  {
   "cell_type": "code",
   "execution_count": null,
   "id": "684a0fc5",
   "metadata": {},
   "outputs": [],
   "source": [
    "# let's calculate the mean values\n",
    "X_wout_out_mean = X_wout_out.mean()\n",
    "X_wout_out_mean"
   ]
  },
  {
   "cell_type": "code",
   "execution_count": null,
   "id": "f6a1152e",
   "metadata": {},
   "outputs": [],
   "source": [
    "# and standard deviation\n",
    "X_wout_out_std = X_wout_out.std()"
   ]
  },
  {
   "cell_type": "code",
   "execution_count": null,
   "id": "f81e3ded",
   "metadata": {},
   "outputs": [],
   "source": [
    "# standarization of the predictors\n",
    "X_wo_std = (X_wout_out - X_wout_out_mean)/X_wout_out_std"
   ]
  },
  {
   "cell_type": "code",
   "execution_count": null,
   "id": "c05bf247",
   "metadata": {},
   "outputs": [],
   "source": [
    "X_wo_std.describe()"
   ]
  },
  {
   "cell_type": "code",
   "execution_count": null,
   "id": "903a23db",
   "metadata": {},
   "outputs": [],
   "source": [
    "# and the same we will do with target variable\n",
    "y_wo_m = y_wout_out.mean()\n",
    "y_wo_sd = y_wout_out.std()"
   ]
  },
  {
   "cell_type": "code",
   "execution_count": null,
   "id": "6df9a229",
   "metadata": {},
   "outputs": [],
   "source": [
    "y_wo_std = (y_wout_out-y_wo_m)/y_wo_sd"
   ]
  },
  {
   "cell_type": "code",
   "execution_count": null,
   "id": "8d19002f",
   "metadata": {},
   "outputs": [],
   "source": [
    "y_wo_std.describe()"
   ]
  },
  {
   "cell_type": "code",
   "execution_count": null,
   "id": "f93a1c99",
   "metadata": {},
   "outputs": [],
   "source": [
    "X_train_wo_std, X_test_wo_std, y_train_wo_std, y_test_wo_std = sklearn.model_selection.train_test_split(\n",
    "    X_wo_std, y_wout_out, test_size=0.2, random_state=12345)"
   ]
  },
  {
   "cell_type": "code",
   "execution_count": null,
   "id": "8e987e94",
   "metadata": {},
   "outputs": [],
   "source": [
    "params.append(\"Lin. Reg. wout outl std\")\n",
    "res.append(fit_regression(sklearn.linear_model.LinearRegression(),\n",
    "                          X_train_wo_std, X_test_wo_std, y_train_wo_std, y_test_wo_std))\n",
    "results = pd.DataFrame(res, index=params)"
   ]
  },
  {
   "cell_type": "code",
   "execution_count": null,
   "id": "3b23429e",
   "metadata": {},
   "outputs": [],
   "source": [
    "results"
   ]
  },
  {
   "cell_type": "code",
   "execution_count": null,
   "id": "379df178",
   "metadata": {},
   "outputs": [],
   "source": [
    "# the same model with standardized target variable\n",
    "X_train_wo_std_y, X_test_wo_std_y, y_train_wo_std_y, y_test_wo_std_y = sklearn.model_selection.train_test_split(\n",
    "    X_wo_std, y_wo_std, test_size=0.2, random_state=12345)"
   ]
  },
  {
   "cell_type": "code",
   "execution_count": null,
   "id": "584dda0d",
   "metadata": {},
   "outputs": [],
   "source": [
    "params.append(\"Lin. Reg. wout outl std y\")\n",
    "res.append(fit_regression(sklearn.linear_model.LinearRegression(),\n",
    "                          X_train_wo_std_y, X_test_wo_std_y, y_train_wo_std_y, y_test_wo_std_y))\n",
    "results = pd.DataFrame(res, index=params)"
   ]
  },
  {
   "cell_type": "code",
   "execution_count": null,
   "id": "24d367da",
   "metadata": {},
   "outputs": [],
   "source": [
    "results"
   ]
  },
  {
   "cell_type": "code",
   "execution_count": null,
   "id": "668f5179",
   "metadata": {},
   "outputs": [],
   "source": [
    "# MinMax normalization of the dataset\n",
    "X_wo_norm = (X_wout_out - X_wout_out.min())/(X_wout_out.max() - X_wout_out.min())\n",
    "y_wo_norm = (y_wout_out - y_wout_out.min())/(y_wout_out.max() - y_wout_out.min())"
   ]
  },
  {
   "cell_type": "code",
   "execution_count": null,
   "id": "3959ea04",
   "metadata": {},
   "outputs": [],
   "source": [
    "X_wo_norm.describe()"
   ]
  },
  {
   "cell_type": "code",
   "execution_count": null,
   "id": "1cbeb537",
   "metadata": {},
   "outputs": [],
   "source": [
    "X_train_wo_norm, X_test_wo_norm, y_train_wo_norm, y_test_wo_norm = sklearn.model_selection.train_test_split(\n",
    "    X_wo_norm, y_wout_out, test_size=0.2, random_state=12345)"
   ]
  },
  {
   "cell_type": "code",
   "execution_count": null,
   "id": "b3ade3a8",
   "metadata": {},
   "outputs": [],
   "source": [
    "params.append(\"Lin. Reg. wout outl norm\")\n",
    "res.append(fit_regression(sklearn.linear_model.LinearRegression(),\n",
    "                          X_train_wo_norm, X_test_wo_norm, y_train_wo_norm, y_test_wo_norm))\n",
    "results = pd.DataFrame(res, index=params)"
   ]
  },
  {
   "cell_type": "code",
   "execution_count": null,
   "id": "f5d5e49b",
   "metadata": {},
   "outputs": [],
   "source": [
    "results"
   ]
  },
  {
   "cell_type": "code",
   "execution_count": null,
   "id": "a78c5fb2",
   "metadata": {},
   "outputs": [],
   "source": [
    "# the same model with normalized target variable\n",
    "# THE BIG TRAP!!!\n",
    "X_train_wo_norm_y, X_test_wo_norm_y, y_train_wo_norm_y, y_test_wo_norm_y = sklearn.model_selection.train_test_split(\n",
    "    X_wo_norm, y_wo_norm, test_size=0.2, random_state=12345)"
   ]
  },
  {
   "cell_type": "code",
   "execution_count": null,
   "id": "8dcc5af8",
   "metadata": {},
   "outputs": [],
   "source": [
    "params.append(\"Lin. Reg. wout outl norm y\")\n",
    "res.append(fit_regression(sklearn.linear_model.LinearRegression(),\n",
    "                          X_train_wo_norm_y, X_test_wo_norm_y, y_train_wo_norm_y, y_test_wo_norm_y))\n",
    "results = pd.DataFrame(res, index=params)"
   ]
  },
  {
   "cell_type": "code",
   "execution_count": null,
   "id": "52c2fc28",
   "metadata": {},
   "outputs": [],
   "source": [
    "results"
   ]
  },
  {
   "cell_type": "markdown",
   "id": "ed6f1f1b",
   "metadata": {},
   "source": [
    "## Reduction of the problem dimension"
   ]
  },
  {
   "cell_type": "code",
   "execution_count": null,
   "id": "8b1c9a4b",
   "metadata": {},
   "outputs": [],
   "source": [
    "# let's have a look on variables importance in the dataset without outliers\n",
    "lm_wo_std = sklearn.linear_model.LinearRegression()\n",
    "lm_wo_std.fit(X_wo_std, y_wo_std)"
   ]
  },
  {
   "cell_type": "code",
   "execution_count": null,
   "id": "b5e7c818",
   "metadata": {},
   "outputs": [],
   "source": [
    "pd.Series(np.abs(lm_wo_std.coef_), index=X_wo_std.columns.to_list()).round(4).sort_values(ascending=False)"
   ]
  },
  {
   "cell_type": "code",
   "execution_count": null,
   "id": "f5e8f3a1",
   "metadata": {},
   "outputs": [],
   "source": [
    "# chlorides is the least important feature, so we will remove it\n",
    "X_wout_out_chl = X_wout_out.drop(columns=['chlorides']).copy()"
   ]
  },
  {
   "cell_type": "code",
   "execution_count": null,
   "id": "1af4d385",
   "metadata": {},
   "outputs": [],
   "source": [
    "X_wout_out_chl"
   ]
  },
  {
   "cell_type": "code",
   "execution_count": null,
   "id": "fcd42ec0",
   "metadata": {},
   "outputs": [],
   "source": [
    "X_train_wo_chl, X_test_wo_chl, y_train_wo_chl, y_test_wo_chl = sklearn.model_selection.train_test_split(\n",
    "    X_wout_out_chl, y_wout_out, test_size=0.2, random_state=12345)"
   ]
  },
  {
   "cell_type": "code",
   "execution_count": null,
   "id": "4b4ed138",
   "metadata": {},
   "outputs": [],
   "source": [
    "params.append(\"Lin. Reg. wout outl chl\")\n",
    "res.append(fit_regression(sklearn.linear_model.LinearRegression(),\n",
    "                          X_train_wo_chl, X_test_wo_chl, y_train_wo_chl, y_test_wo_chl))\n",
    "results = pd.DataFrame(res, index=params)"
   ]
  },
  {
   "cell_type": "code",
   "execution_count": null,
   "id": "570dad4c",
   "metadata": {},
   "outputs": [],
   "source": [
    "results"
   ]
  },
  {
   "cell_type": "code",
   "execution_count": null,
   "id": "6c8c04ce",
   "metadata": {},
   "outputs": [],
   "source": [
    "# the residual.sugar and density are strongly correlate\n",
    "# but the correlation of the residual.sugar with the target value (alcohol) is smaller\n",
    "# so let's remove the residual.sugar\n",
    "corr_P_wout_outl"
   ]
  },
  {
   "cell_type": "code",
   "execution_count": null,
   "id": "4c49bf0d",
   "metadata": {},
   "outputs": [],
   "source": [
    "X_wout_out_res = X_wout_out.drop(columns=['residual.sugar']).copy()"
   ]
  },
  {
   "cell_type": "code",
   "execution_count": null,
   "id": "d322f9bb",
   "metadata": {},
   "outputs": [],
   "source": [
    "X_wout_out_res"
   ]
  },
  {
   "cell_type": "code",
   "execution_count": null,
   "id": "4703fe22",
   "metadata": {},
   "outputs": [],
   "source": [
    "X_train_wo_res, X_test_wo_res, y_train_wo_res, y_test_wo_res = sklearn.model_selection.train_test_split(\n",
    "    X_wout_out_res, y_wout_out, test_size=0.2, random_state=12345)"
   ]
  },
  {
   "cell_type": "code",
   "execution_count": null,
   "id": "596e3c96",
   "metadata": {},
   "outputs": [],
   "source": [
    "params.append(\"Lin. Reg. wout outl res\")\n",
    "res.append(fit_regression(sklearn.linear_model.LinearRegression(),\n",
    "                          X_train_wo_res, X_test_wo_res, y_train_wo_res, y_test_wo_res))\n",
    "results = pd.DataFrame(res, index=params)"
   ]
  },
  {
   "cell_type": "code",
   "execution_count": null,
   "id": "69b993d6",
   "metadata": {},
   "outputs": [],
   "source": [
    "# ANOTHER BIG TRAP!!!\n",
    "results"
   ]
  },
  {
   "cell_type": "markdown",
   "id": "30cb14fc",
   "metadata": {},
   "source": [
    "## The regression model based on polynomials"
   ]
  },
  {
   "cell_type": "code",
   "execution_count": null,
   "id": "afe74d11",
   "metadata": {},
   "outputs": [],
   "source": [
    "# we use the PolynomialFeatures function with grade 2,\n",
    "# to generate new features that are the product of the base features,\n",
    "#for example [x1,x2,x3] -> [x1, x2, x3, x1^2, x1x2, x1x3, x2^2, x2x3, x3^2]\n",
    "\n",
    "import sklearn.preprocessing\n",
    "polynomial2_feature = sklearn.preprocessing.PolynomialFeatures(degree=2, include_bias=False)\n",
    "polynomial2_feature.fit_transform(np.array([[2,3,5],[1,2,3]]))"
   ]
  },
  {
   "cell_type": "code",
   "execution_count": null,
   "id": "5997724a",
   "metadata": {},
   "outputs": [],
   "source": [
    "#we can check the powers of individual variables (we look at the columns)\n",
    "polynomial2_feature.powers_.T"
   ]
  },
  {
   "cell_type": "code",
   "execution_count": null,
   "id": "49e35c3c",
   "metadata": {},
   "outputs": [],
   "source": [
    "# we build a polynomial model transforming the training dataset of predictors X_train_wo\n",
    "# and the test dataset of predictors X_test_wo\n",
    "polynomial2 = sklearn.preprocessing.PolynomialFeatures(degree=2, include_bias=False)\n",
    "X2_wo_train = polynomial2.fit_transform(X_train_wo)\n",
    "X2_wo_test = polynomial2.fit_transform(X_test_wo)"
   ]
  },
  {
   "cell_type": "code",
   "execution_count": null,
   "id": "c69f8b06",
   "metadata": {},
   "outputs": [],
   "source": [
    "#now we have 65 columns\n",
    "X2_wo_train.shape"
   ]
  },
  {
   "cell_type": "code",
   "execution_count": null,
   "id": "69137943",
   "metadata": {},
   "outputs": [],
   "source": [
    "#we check the new model\n",
    "params.append(\"Lin. Reg. wout outl Poly\")\n",
    "res.append(fit_regression(sklearn.linear_model.LinearRegression(),\n",
    "                          X2_wo_train, X2_wo_test, y_train_wo, y_test_wo))\n",
    "results = pd.DataFrame(res, index=params)\n"
   ]
  },
  {
   "cell_type": "code",
   "execution_count": null,
   "id": "e2250d6e",
   "metadata": {},
   "outputs": [],
   "source": [
    "results"
   ]
  },
  {
   "cell_type": "markdown",
   "id": "f4d0760a",
   "metadata": {},
   "source": [
    "#### we obtained smaller prediction errors, but the number of model parameters increased significantly"
   ]
  },
  {
   "cell_type": "markdown",
   "id": "f72d4500",
   "metadata": {},
   "source": [
    "#### we are looking for a balance between the complexity of the model and its quality"
   ]
  },
  {
   "cell_type": "code",
   "execution_count": null,
   "id": "970d4795",
   "metadata": {},
   "outputs": [],
   "source": [
    "# the choice of variables for the model can be made using the Schwarz criterion (BIC - Bayesian Information Criterion)\n",
    "# we choose a regression model that minimizes the function\n",
    "# BIC (MSE_p, p, n) = n * log (MSE_p) + p * log (n)\n",
    "# MSE_p is calculated for the model built on the basis of p <= d variables\n",
    "# p * log (n) is a penalty for the complexity of the model"
   ]
  },
  {
   "cell_type": "code",
   "execution_count": null,
   "id": "2af56e50",
   "metadata": {},
   "outputs": [],
   "source": [
    "def BIC(mse, p, n):\n",
    "    return n*np.log(mse) + p*np.log(n)"
   ]
  },
  {
   "cell_type": "code",
   "execution_count": null,
   "id": "af45c37d",
   "metadata": {},
   "outputs": [],
   "source": [
    "# the number of all possible cases to be considered is in the order of 2^d\n",
    "# 1. we start with the empty model, BIC = +infinity\n",
    "# 2. we extend the model with the variable for which BIC is the smallest and\n",
    "# simultaneously decreases the current BIC value\n",
    "# if there is no such value, we return the current model\n",
    "# 3. we repeat the 2nd until exhausted"
   ]
  },
  {
   "cell_type": "code",
   "execution_count": null,
   "id": "8bfa331b",
   "metadata": {},
   "outputs": [],
   "source": [
    "def forward_selection(X, y):\n",
    "    n, m = X.shape\n",
    "    best_idx = []\n",
    "    best_free = set(range(m))\n",
    "    best_fit = np.inf\n",
    "    res = []\n",
    "    \n",
    "    for i in range(0, m):\n",
    "        cur_idx = -1\n",
    "        cur_fit = np.inf\n",
    "        for e in best_free:\n",
    "            r = sklearn.linear_model.LinearRegression()\n",
    "            test_idx = best_idx + [e]\n",
    "            r.fit(X[:, test_idx], y)\n",
    "            test_fit = BIC(sklearn.metrics.mean_squared_error(y, r.predict(X[:, test_idx])), i+2, n)\n",
    "            if test_fit < cur_fit: cur_idx, cur_fit = e, test_fit\n",
    "        if cur_fit > best_fit: break\n",
    "        \n",
    "        best_idx, best_fit = best_idx + [cur_idx], cur_fit\n",
    "        best_free.discard(cur_idx)\n",
    "        res.append((cur_idx, cur_fit))\n",
    "    return res"
   ]
  },
  {
   "cell_type": "code",
   "execution_count": null,
   "id": "b80d083c",
   "metadata": {},
   "outputs": [],
   "source": [
    "#we apply the variable selection algorithm to the polynomial transformed dataset\n",
    "\n",
    "chosen_df = pd.DataFrame(forward_selection(X2_wo_train, y_train_wo), columns=[\"variable\", \"BIC\"])\n",
    "\n",
    "chosen_variables = chosen_df[\"variable\"].tolist()\n",
    "\n",
    "chosen_df[\"name_of_variable\"] =\\\n",
    "[X_wout_out.columns[w>=1].append(X_wout_out.columns[w==2]).str.cat(sep=\"*\") for w in polynomial2.powers_[chosen_variables]]\n",
    "\n",
    "chosen_df"
   ]
  },
  {
   "cell_type": "code",
   "execution_count": null,
   "id": "ff245eaf",
   "metadata": {},
   "outputs": [],
   "source": [
    "chosen_variables"
   ]
  },
  {
   "cell_type": "code",
   "execution_count": null,
   "id": "fb6ff468",
   "metadata": {},
   "outputs": [],
   "source": [
    "#and the results\n",
    "params.append(\"Lin. Reg. BIC\")\n",
    "\n",
    "res.append(fit_regression(sklearn.linear_model.LinearRegression(),\n",
    "                          X2_wo_train[:, chosen_variables],\n",
    "                          X2_wo_test[:, chosen_variables],\n",
    "                          y_train_wo, y_test_wo))\n",
    "\n",
    "results = pd.DataFrame(res, index=params)\n"
   ]
  },
  {
   "cell_type": "code",
   "execution_count": null,
   "id": "6fc979aa",
   "metadata": {},
   "outputs": [],
   "source": [
    "results"
   ]
  },
  {
   "cell_type": "markdown",
   "id": "33ef1439",
   "metadata": {},
   "source": [
    "## Please check the BIC chosen features with cross validation"
   ]
  },
  {
   "cell_type": "code",
   "execution_count": null,
   "id": "489c8e9c",
   "metadata": {},
   "outputs": [],
   "source": [
    "# and summary with some figures\n",
    "plt.figure(figsize=(12,6))\n",
    "\n",
    "plt.plot(results['RMSE_tr'], label='traning')\n",
    "plt.plot(results['RMSE_te'], label='test')\n",
    "plt.legend()\n",
    "plt.xticks(np.arange(len(results.index.tolist())), results.index.tolist(), rotation=75)\n",
    "\n",
    "plt.show()"
   ]
  },
  {
   "cell_type": "code",
   "execution_count": null,
   "id": "3185b8db",
   "metadata": {},
   "outputs": [],
   "source": [
    "plt.figure(figsize=(12,6))\n",
    "\n",
    "plt.plot(results['MAE_tr'], label='traning')\n",
    "plt.plot(results['MAE_te'], label='test')\n",
    "plt.legend()\n",
    "plt.xticks(np.arange(len(results.index.tolist())), results.index.tolist(), rotation=75)\n",
    "\n",
    "plt.show()"
   ]
  },
  {
   "cell_type": "code",
   "execution_count": null,
   "id": "1c35d96e",
   "metadata": {},
   "outputs": [],
   "source": [
    "plt.figure(figsize=(12,6))\n",
    "\n",
    "plt.plot(results['r_score_tr'], label='traning')\n",
    "plt.plot(results['r_score_te'], label='test')\n",
    "plt.legend()\n",
    "plt.xticks(np.arange(len(results.index.tolist())), results.index.tolist(), rotation=75)\n",
    "\n",
    "plt.show()"
   ]
  },
  {
   "cell_type": "code",
   "execution_count": null,
   "id": "aaa7049f",
   "metadata": {},
   "outputs": [],
   "source": [
    "from sklearn.neighbors import KNeighborsRegressor\n",
    "from sklearn.gaussian_process import GaussianProcessRegressor\n",
    "from sklearn.ensemble import RandomForestRegressor\n",
    "from sklearn.svm import SVR"
   ]
  },
  {
   "cell_type": "code",
   "execution_count": null,
   "id": "8b91a0d7",
   "metadata": {},
   "outputs": [],
   "source": [
    "# cross validation for several models based on dataset without outliers\n",
    "methods = pd.Series({\n",
    "    \"LinearRegression\": sklearn.linear_model.LinearRegression(),\n",
    "    \"ElasticNet\": sklearn.linear_model.ElasticNet(),\n",
    "    \"Ridge\": sklearn.linear_model.Ridge(),\n",
    "    \"KNN\": KNeighborsRegressor(),\n",
    "    \"GP\": GaussianProcessRegressor(),\n",
    "    \"RF\": RandomForestRegressor(),\n",
    "    \"SVR\": SVR()\n",
    "})\n",
    "\n",
    "#evaluation function\n",
    "def eval_function(X_train, X_test, y_train, y_test):\n",
    "    cv_models = pd.concat([\n",
    "        pd.Series(fit_regression(alg,\n",
    "                                 X_train, X_test, y_train, y_test)) for alg in methods], axis=1).T\n",
    "    cv_models.index = methods.index\n",
    "    return cv_models\n",
    "\n",
    "kf = KFold(n_splits=5)\n",
    "\n",
    "n_folds = 5\n",
    "\n",
    "results_cv = [eval_function(X_wout_out.iloc[train,:],\n",
    "                            X_wout_out.iloc[test,:],\n",
    "                            y_wout_out.iloc[train],\n",
    "                            y_wout_out.iloc[test]) for train, test in kf.split(X_wout_out)]\n",
    "\n",
    "sum(results_cv)/n_folds"
   ]
  },
  {
   "cell_type": "markdown",
   "id": "07b1c820",
   "metadata": {},
   "source": [
    "# :) We have to discuss these results."
   ]
  },
  {
   "cell_type": "code",
   "execution_count": null,
   "id": "5e502207",
   "metadata": {},
   "outputs": [],
   "source": [
    "results_cv = [eval_function(X.iloc[train,:],\n",
    "                            X.iloc[test,:],\n",
    "                            y.iloc[train],\n",
    "                            y.iloc[test]) for train, test in kf.split(X)]\n",
    "\n",
    "sum(results_cv)/n_folds"
   ]
  },
  {
   "cell_type": "code",
   "execution_count": null,
   "id": "41d013f6",
   "metadata": {},
   "outputs": [],
   "source": []
  }
 ],
 "metadata": {
  "kernelspec": {
   "display_name": "Python 3 (ipykernel)",
   "language": "python",
   "name": "python3"
  },
  "language_info": {
   "codemirror_mode": {
    "name": "ipython",
    "version": 3
   },
   "file_extension": ".py",
   "mimetype": "text/x-python",
   "name": "python",
   "nbconvert_exporter": "python",
   "pygments_lexer": "ipython3",
   "version": "3.7.16"
  }
 },
 "nbformat": 4,
 "nbformat_minor": 5
}
