{
 "cells": [
  {
   "cell_type": "markdown",
   "id": "29da0aa2",
   "metadata": {},
   "source": [
    "# Języki Programowania Python i R\n",
    "\n",
    "\n",
    "## dr inż. Patryk Jasik\n",
    "### Division of Theoretical Physics and Quantum Information\n",
    "### Institute of Physics and Computer Science\n",
    "### Faculty of Applied Physics and Mathematics\n",
    "### Gdansk University of Technology"
   ]
  },
  {
   "cell_type": "markdown",
   "id": "3e62054e",
   "metadata": {},
   "source": [
    "# scikit-learn docs\n",
    "## https://scikit-learn.org/stable/"
   ]
  },
  {
   "cell_type": "code",
   "execution_count": 2,
   "id": "b0db6a71",
   "metadata": {
    "tags": []
   },
   "outputs": [],
   "source": [
    "#%config Completer.use_jedi = False"
   ]
  },
  {
   "cell_type": "markdown",
   "id": "808cb5cf",
   "metadata": {},
   "source": [
    "**Regression** - is an approach for modelling the relationship between a scalar response and one or more explanatory variables (also known as dependent and independent variables).\n",
    "\n",
    "2D problem\\\n",
    "$$\n",
    "y_i = a*x_i + b\n",
    "$$\n",
    "\n",
    "\n",
    "Multidimensional problem\\\n",
    "$$\n",
    "y_i = a_1*x_{i1} + a_2*x_{i2} + ... + a_p*x_{ip} + intercept\n",
    "$$"
   ]
  },
  {
   "cell_type": "code",
   "execution_count": 3,
   "id": "be6e0c72",
   "metadata": {
    "tags": []
   },
   "outputs": [],
   "source": [
    "#loading the necessary packages\n",
    "import numpy as np\n",
    "import pandas as pd\n",
    "import matplotlib.pyplot as plt\n",
    "import seaborn as sns\n",
    "import sklearn\n",
    "from sklearn import model_selection\n",
    "from sklearn import linear_model\n",
    "from sklearn.model_selection import KFold"
   ]
  },
  {
   "cell_type": "code",
   "execution_count": 4,
   "id": "e521badc",
   "metadata": {
    "tags": []
   },
   "outputs": [
    {
     "data": {
      "text/html": [
       "<div>\n",
       "<style scoped>\n",
       "    .dataframe tbody tr th:only-of-type {\n",
       "        vertical-align: middle;\n",
       "    }\n",
       "\n",
       "    .dataframe tbody tr th {\n",
       "        vertical-align: top;\n",
       "    }\n",
       "\n",
       "    .dataframe thead th {\n",
       "        text-align: right;\n",
       "    }\n",
       "</style>\n",
       "<table border=\"1\" class=\"dataframe\">\n",
       "  <thead>\n",
       "    <tr style=\"text-align: right;\">\n",
       "      <th></th>\n",
       "      <th>fixed.acidity</th>\n",
       "      <th>volatile.acidity</th>\n",
       "      <th>citric.acid</th>\n",
       "      <th>residual.sugar</th>\n",
       "      <th>chlorides</th>\n",
       "      <th>free.sulfur.dioxide</th>\n",
       "      <th>total.sulfur.dioxide</th>\n",
       "      <th>density</th>\n",
       "      <th>pH</th>\n",
       "      <th>sulphates</th>\n",
       "      <th>alcohol</th>\n",
       "      <th>response</th>\n",
       "    </tr>\n",
       "  </thead>\n",
       "  <tbody>\n",
       "    <tr>\n",
       "      <th>0</th>\n",
       "      <td>7.0</td>\n",
       "      <td>0.27</td>\n",
       "      <td>0.36</td>\n",
       "      <td>20.7</td>\n",
       "      <td>0.045</td>\n",
       "      <td>45.0</td>\n",
       "      <td>170.0</td>\n",
       "      <td>1.0010</td>\n",
       "      <td>3.00</td>\n",
       "      <td>0.45</td>\n",
       "      <td>8.8</td>\n",
       "      <td>4</td>\n",
       "    </tr>\n",
       "    <tr>\n",
       "      <th>1</th>\n",
       "      <td>6.3</td>\n",
       "      <td>0.30</td>\n",
       "      <td>0.34</td>\n",
       "      <td>1.6</td>\n",
       "      <td>0.049</td>\n",
       "      <td>14.0</td>\n",
       "      <td>132.0</td>\n",
       "      <td>0.9940</td>\n",
       "      <td>3.30</td>\n",
       "      <td>0.49</td>\n",
       "      <td>9.5</td>\n",
       "      <td>4</td>\n",
       "    </tr>\n",
       "    <tr>\n",
       "      <th>2</th>\n",
       "      <td>8.1</td>\n",
       "      <td>0.28</td>\n",
       "      <td>0.40</td>\n",
       "      <td>6.9</td>\n",
       "      <td>0.050</td>\n",
       "      <td>30.0</td>\n",
       "      <td>97.0</td>\n",
       "      <td>0.9951</td>\n",
       "      <td>3.26</td>\n",
       "      <td>0.44</td>\n",
       "      <td>10.1</td>\n",
       "      <td>4</td>\n",
       "    </tr>\n",
       "    <tr>\n",
       "      <th>3</th>\n",
       "      <td>7.2</td>\n",
       "      <td>0.23</td>\n",
       "      <td>0.32</td>\n",
       "      <td>8.5</td>\n",
       "      <td>0.058</td>\n",
       "      <td>47.0</td>\n",
       "      <td>186.0</td>\n",
       "      <td>0.9956</td>\n",
       "      <td>3.19</td>\n",
       "      <td>0.40</td>\n",
       "      <td>9.9</td>\n",
       "      <td>4</td>\n",
       "    </tr>\n",
       "    <tr>\n",
       "      <th>4</th>\n",
       "      <td>6.2</td>\n",
       "      <td>0.32</td>\n",
       "      <td>0.16</td>\n",
       "      <td>7.0</td>\n",
       "      <td>0.045</td>\n",
       "      <td>30.0</td>\n",
       "      <td>136.0</td>\n",
       "      <td>0.9949</td>\n",
       "      <td>3.18</td>\n",
       "      <td>0.47</td>\n",
       "      <td>9.6</td>\n",
       "      <td>4</td>\n",
       "    </tr>\n",
       "  </tbody>\n",
       "</table>\n",
       "</div>"
      ],
      "text/plain": [
       "   fixed.acidity  volatile.acidity  citric.acid  residual.sugar  chlorides  \\\n",
       "0            7.0              0.27         0.36            20.7      0.045   \n",
       "1            6.3              0.30         0.34             1.6      0.049   \n",
       "2            8.1              0.28         0.40             6.9      0.050   \n",
       "3            7.2              0.23         0.32             8.5      0.058   \n",
       "4            6.2              0.32         0.16             7.0      0.045   \n",
       "\n",
       "   free.sulfur.dioxide  total.sulfur.dioxide  density    pH  sulphates  \\\n",
       "0                 45.0                 170.0   1.0010  3.00       0.45   \n",
       "1                 14.0                 132.0   0.9940  3.30       0.49   \n",
       "2                 30.0                  97.0   0.9951  3.26       0.44   \n",
       "3                 47.0                 186.0   0.9956  3.19       0.40   \n",
       "4                 30.0                 136.0   0.9949  3.18       0.47   \n",
       "\n",
       "   alcohol  response  \n",
       "0      8.8         4  \n",
       "1      9.5         4  \n",
       "2     10.1         4  \n",
       "3      9.9         4  \n",
       "4      9.6         4  "
      ]
     },
     "execution_count": 4,
     "metadata": {},
     "output_type": "execute_result"
    }
   ],
   "source": [
    "#measurements of physical and chemical properties of Portuguese Vinho Verde wines (white and red) \n",
    "white_wine = pd.read_csv(\"data/white_wine.csv\")\n",
    "white_wine.head()"
   ]
  },
  {
   "cell_type": "markdown",
   "id": "b0206a1f",
   "metadata": {},
   "source": [
    "### goal - we will check whether alcohol is a function of the remaining 10 variables and what is the relationship.\n",
    "### Thanks to this, we will be able to explain the derivative of what set of factors the given alcohol content is, as well as predict the alcohol content in the newly produced batch of wine."
   ]
  },
  {
   "cell_type": "code",
   "execution_count": 5,
   "id": "dc7988d4",
   "metadata": {
    "tags": []
   },
   "outputs": [
    {
     "data": {
      "text/html": [
       "<div>\n",
       "<style scoped>\n",
       "    .dataframe tbody tr th:only-of-type {\n",
       "        vertical-align: middle;\n",
       "    }\n",
       "\n",
       "    .dataframe tbody tr th {\n",
       "        vertical-align: top;\n",
       "    }\n",
       "\n",
       "    .dataframe thead th {\n",
       "        text-align: right;\n",
       "    }\n",
       "</style>\n",
       "<table border=\"1\" class=\"dataframe\">\n",
       "  <thead>\n",
       "    <tr style=\"text-align: right;\">\n",
       "      <th></th>\n",
       "      <th>fixed.acidity</th>\n",
       "      <th>volatile.acidity</th>\n",
       "      <th>citric.acid</th>\n",
       "      <th>residual.sugar</th>\n",
       "      <th>chlorides</th>\n",
       "      <th>free.sulfur.dioxide</th>\n",
       "      <th>total.sulfur.dioxide</th>\n",
       "      <th>density</th>\n",
       "      <th>pH</th>\n",
       "      <th>sulphates</th>\n",
       "      <th>alcohol</th>\n",
       "      <th>response</th>\n",
       "    </tr>\n",
       "  </thead>\n",
       "  <tbody>\n",
       "    <tr>\n",
       "      <th>count</th>\n",
       "      <td>3961.000000</td>\n",
       "      <td>3961.000000</td>\n",
       "      <td>3961.000000</td>\n",
       "      <td>3961.000000</td>\n",
       "      <td>3961.000000</td>\n",
       "      <td>3961.000000</td>\n",
       "      <td>3961.000000</td>\n",
       "      <td>3961.000000</td>\n",
       "      <td>3961.000000</td>\n",
       "      <td>3961.000000</td>\n",
       "      <td>3961.000000</td>\n",
       "      <td>3961.000000</td>\n",
       "    </tr>\n",
       "    <tr>\n",
       "      <th>mean</th>\n",
       "      <td>6.839346</td>\n",
       "      <td>0.280538</td>\n",
       "      <td>0.334332</td>\n",
       "      <td>5.914819</td>\n",
       "      <td>0.045905</td>\n",
       "      <td>34.889169</td>\n",
       "      <td>137.193512</td>\n",
       "      <td>0.993790</td>\n",
       "      <td>3.195458</td>\n",
       "      <td>0.490351</td>\n",
       "      <td>10.589358</td>\n",
       "      <td>3.854835</td>\n",
       "    </tr>\n",
       "    <tr>\n",
       "      <th>std</th>\n",
       "      <td>0.866860</td>\n",
       "      <td>0.103437</td>\n",
       "      <td>0.122446</td>\n",
       "      <td>4.861646</td>\n",
       "      <td>0.023103</td>\n",
       "      <td>17.210021</td>\n",
       "      <td>43.129065</td>\n",
       "      <td>0.002905</td>\n",
       "      <td>0.151546</td>\n",
       "      <td>0.113523</td>\n",
       "      <td>1.217076</td>\n",
       "      <td>0.890683</td>\n",
       "    </tr>\n",
       "    <tr>\n",
       "      <th>min</th>\n",
       "      <td>3.800000</td>\n",
       "      <td>0.080000</td>\n",
       "      <td>0.000000</td>\n",
       "      <td>0.600000</td>\n",
       "      <td>0.009000</td>\n",
       "      <td>2.000000</td>\n",
       "      <td>9.000000</td>\n",
       "      <td>0.987110</td>\n",
       "      <td>2.720000</td>\n",
       "      <td>0.220000</td>\n",
       "      <td>8.000000</td>\n",
       "      <td>1.000000</td>\n",
       "    </tr>\n",
       "    <tr>\n",
       "      <th>25%</th>\n",
       "      <td>6.300000</td>\n",
       "      <td>0.210000</td>\n",
       "      <td>0.270000</td>\n",
       "      <td>1.600000</td>\n",
       "      <td>0.035000</td>\n",
       "      <td>23.000000</td>\n",
       "      <td>106.000000</td>\n",
       "      <td>0.991620</td>\n",
       "      <td>3.090000</td>\n",
       "      <td>0.410000</td>\n",
       "      <td>9.500000</td>\n",
       "      <td>3.000000</td>\n",
       "    </tr>\n",
       "    <tr>\n",
       "      <th>50%</th>\n",
       "      <td>6.800000</td>\n",
       "      <td>0.260000</td>\n",
       "      <td>0.320000</td>\n",
       "      <td>4.700000</td>\n",
       "      <td>0.042000</td>\n",
       "      <td>33.000000</td>\n",
       "      <td>133.000000</td>\n",
       "      <td>0.993500</td>\n",
       "      <td>3.180000</td>\n",
       "      <td>0.480000</td>\n",
       "      <td>10.400000</td>\n",
       "      <td>4.000000</td>\n",
       "    </tr>\n",
       "    <tr>\n",
       "      <th>75%</th>\n",
       "      <td>7.300000</td>\n",
       "      <td>0.330000</td>\n",
       "      <td>0.390000</td>\n",
       "      <td>8.900000</td>\n",
       "      <td>0.050000</td>\n",
       "      <td>45.000000</td>\n",
       "      <td>166.000000</td>\n",
       "      <td>0.995710</td>\n",
       "      <td>3.290000</td>\n",
       "      <td>0.550000</td>\n",
       "      <td>11.400000</td>\n",
       "      <td>4.000000</td>\n",
       "    </tr>\n",
       "    <tr>\n",
       "      <th>max</th>\n",
       "      <td>14.200000</td>\n",
       "      <td>1.100000</td>\n",
       "      <td>1.660000</td>\n",
       "      <td>65.800000</td>\n",
       "      <td>0.346000</td>\n",
       "      <td>289.000000</td>\n",
       "      <td>440.000000</td>\n",
       "      <td>1.038980</td>\n",
       "      <td>3.820000</td>\n",
       "      <td>1.080000</td>\n",
       "      <td>14.200000</td>\n",
       "      <td>7.000000</td>\n",
       "    </tr>\n",
       "  </tbody>\n",
       "</table>\n",
       "</div>"
      ],
      "text/plain": [
       "       fixed.acidity  volatile.acidity  citric.acid  residual.sugar  \\\n",
       "count    3961.000000       3961.000000  3961.000000     3961.000000   \n",
       "mean        6.839346          0.280538     0.334332        5.914819   \n",
       "std         0.866860          0.103437     0.122446        4.861646   \n",
       "min         3.800000          0.080000     0.000000        0.600000   \n",
       "25%         6.300000          0.210000     0.270000        1.600000   \n",
       "50%         6.800000          0.260000     0.320000        4.700000   \n",
       "75%         7.300000          0.330000     0.390000        8.900000   \n",
       "max        14.200000          1.100000     1.660000       65.800000   \n",
       "\n",
       "         chlorides  free.sulfur.dioxide  total.sulfur.dioxide      density  \\\n",
       "count  3961.000000          3961.000000           3961.000000  3961.000000   \n",
       "mean      0.045905            34.889169            137.193512     0.993790   \n",
       "std       0.023103            17.210021             43.129065     0.002905   \n",
       "min       0.009000             2.000000              9.000000     0.987110   \n",
       "25%       0.035000            23.000000            106.000000     0.991620   \n",
       "50%       0.042000            33.000000            133.000000     0.993500   \n",
       "75%       0.050000            45.000000            166.000000     0.995710   \n",
       "max       0.346000           289.000000            440.000000     1.038980   \n",
       "\n",
       "                pH    sulphates      alcohol     response  \n",
       "count  3961.000000  3961.000000  3961.000000  3961.000000  \n",
       "mean      3.195458     0.490351    10.589358     3.854835  \n",
       "std       0.151546     0.113523     1.217076     0.890683  \n",
       "min       2.720000     0.220000     8.000000     1.000000  \n",
       "25%       3.090000     0.410000     9.500000     3.000000  \n",
       "50%       3.180000     0.480000    10.400000     4.000000  \n",
       "75%       3.290000     0.550000    11.400000     4.000000  \n",
       "max       3.820000     1.080000    14.200000     7.000000  "
      ]
     },
     "execution_count": 5,
     "metadata": {},
     "output_type": "execute_result"
    }
   ],
   "source": [
    "white_wine.describe()"
   ]
  },
  {
   "cell_type": "code",
   "execution_count": 6,
   "id": "6afe9779",
   "metadata": {
    "tags": []
   },
   "outputs": [
    {
     "data": {
      "text/plain": [
       "Index(['fixed.acidity', 'volatile.acidity', 'citric.acid', 'residual.sugar',\n",
       "       'chlorides', 'free.sulfur.dioxide', 'total.sulfur.dioxide', 'density',\n",
       "       'pH', 'sulphates', 'alcohol', 'response'],\n",
       "      dtype='object')"
      ]
     },
     "execution_count": 6,
     "metadata": {},
     "output_type": "execute_result"
    }
   ],
   "source": [
    "white_wine.columns"
   ]
  },
  {
   "cell_type": "code",
   "execution_count": 7,
   "id": "fecbe234",
   "metadata": {
    "tags": []
   },
   "outputs": [
    {
     "data": {
      "text/html": [
       "<div>\n",
       "<style scoped>\n",
       "    .dataframe tbody tr th:only-of-type {\n",
       "        vertical-align: middle;\n",
       "    }\n",
       "\n",
       "    .dataframe tbody tr th {\n",
       "        vertical-align: top;\n",
       "    }\n",
       "\n",
       "    .dataframe thead th {\n",
       "        text-align: right;\n",
       "    }\n",
       "</style>\n",
       "<table border=\"1\" class=\"dataframe\">\n",
       "  <thead>\n",
       "    <tr style=\"text-align: right;\">\n",
       "      <th></th>\n",
       "      <th>fixed.acidity</th>\n",
       "      <th>volatile.acidity</th>\n",
       "      <th>citric.acid</th>\n",
       "      <th>residual.sugar</th>\n",
       "      <th>chlorides</th>\n",
       "      <th>free.sulfur.dioxide</th>\n",
       "      <th>total.sulfur.dioxide</th>\n",
       "      <th>density</th>\n",
       "      <th>pH</th>\n",
       "      <th>sulphates</th>\n",
       "    </tr>\n",
       "  </thead>\n",
       "  <tbody>\n",
       "    <tr>\n",
       "      <th>0</th>\n",
       "      <td>7.0</td>\n",
       "      <td>0.27</td>\n",
       "      <td>0.36</td>\n",
       "      <td>20.7</td>\n",
       "      <td>0.045</td>\n",
       "      <td>45.0</td>\n",
       "      <td>170.0</td>\n",
       "      <td>1.0010</td>\n",
       "      <td>3.00</td>\n",
       "      <td>0.45</td>\n",
       "    </tr>\n",
       "    <tr>\n",
       "      <th>1</th>\n",
       "      <td>6.3</td>\n",
       "      <td>0.30</td>\n",
       "      <td>0.34</td>\n",
       "      <td>1.6</td>\n",
       "      <td>0.049</td>\n",
       "      <td>14.0</td>\n",
       "      <td>132.0</td>\n",
       "      <td>0.9940</td>\n",
       "      <td>3.30</td>\n",
       "      <td>0.49</td>\n",
       "    </tr>\n",
       "    <tr>\n",
       "      <th>2</th>\n",
       "      <td>8.1</td>\n",
       "      <td>0.28</td>\n",
       "      <td>0.40</td>\n",
       "      <td>6.9</td>\n",
       "      <td>0.050</td>\n",
       "      <td>30.0</td>\n",
       "      <td>97.0</td>\n",
       "      <td>0.9951</td>\n",
       "      <td>3.26</td>\n",
       "      <td>0.44</td>\n",
       "    </tr>\n",
       "    <tr>\n",
       "      <th>3</th>\n",
       "      <td>7.2</td>\n",
       "      <td>0.23</td>\n",
       "      <td>0.32</td>\n",
       "      <td>8.5</td>\n",
       "      <td>0.058</td>\n",
       "      <td>47.0</td>\n",
       "      <td>186.0</td>\n",
       "      <td>0.9956</td>\n",
       "      <td>3.19</td>\n",
       "      <td>0.40</td>\n",
       "    </tr>\n",
       "    <tr>\n",
       "      <th>4</th>\n",
       "      <td>6.2</td>\n",
       "      <td>0.32</td>\n",
       "      <td>0.16</td>\n",
       "      <td>7.0</td>\n",
       "      <td>0.045</td>\n",
       "      <td>30.0</td>\n",
       "      <td>136.0</td>\n",
       "      <td>0.9949</td>\n",
       "      <td>3.18</td>\n",
       "      <td>0.47</td>\n",
       "    </tr>\n",
       "  </tbody>\n",
       "</table>\n",
       "</div>"
      ],
      "text/plain": [
       "   fixed.acidity  volatile.acidity  citric.acid  residual.sugar  chlorides  \\\n",
       "0            7.0              0.27         0.36            20.7      0.045   \n",
       "1            6.3              0.30         0.34             1.6      0.049   \n",
       "2            8.1              0.28         0.40             6.9      0.050   \n",
       "3            7.2              0.23         0.32             8.5      0.058   \n",
       "4            6.2              0.32         0.16             7.0      0.045   \n",
       "\n",
       "   free.sulfur.dioxide  total.sulfur.dioxide  density    pH  sulphates  \n",
       "0                 45.0                 170.0   1.0010  3.00       0.45  \n",
       "1                 14.0                 132.0   0.9940  3.30       0.49  \n",
       "2                 30.0                  97.0   0.9951  3.26       0.44  \n",
       "3                 47.0                 186.0   0.9956  3.19       0.40  \n",
       "4                 30.0                 136.0   0.9949  3.18       0.47  "
      ]
     },
     "execution_count": 7,
     "metadata": {},
     "output_type": "execute_result"
    }
   ],
   "source": [
    "#predictors\n",
    "X = white_wine.iloc[:, :-2]\n",
    "X.head()"
   ]
  },
  {
   "cell_type": "code",
   "execution_count": 8,
   "id": "5132d01f",
   "metadata": {
    "tags": []
   },
   "outputs": [
    {
     "data": {
      "text/plain": [
       "0     8.8\n",
       "1     9.5\n",
       "2    10.1\n",
       "3     9.9\n",
       "4     9.6\n",
       "5    11.0\n",
       "6    12.0\n",
       "7     9.7\n",
       "8    10.8\n",
       "9    12.4\n",
       "Name: alcohol, dtype: float64"
      ]
     },
     "execution_count": 8,
     "metadata": {},
     "output_type": "execute_result"
    }
   ],
   "source": [
    "#the target variable\n",
    "y = white_wine.iloc[:, -2]\n",
    "y.head(10)"
   ]
  },
  {
   "cell_type": "code",
   "execution_count": 9,
   "id": "98413706",
   "metadata": {
    "tags": []
   },
   "outputs": [
    {
     "data": {
      "text/plain": [
       "3951     9.2\n",
       "3952     9.4\n",
       "3953    11.8\n",
       "3954    10.6\n",
       "3955     9.7\n",
       "3956    11.2\n",
       "3957     9.6\n",
       "3958     9.4\n",
       "3959    12.8\n",
       "3960    11.8\n",
       "Name: alcohol, dtype: float64"
      ]
     },
     "execution_count": 9,
     "metadata": {},
     "output_type": "execute_result"
    }
   ],
   "source": [
    "y.tail(10)"
   ]
  },
  {
   "cell_type": "code",
   "execution_count": 10,
   "id": "ea26d899",
   "metadata": {
    "tags": []
   },
   "outputs": [],
   "source": [
    "#we will create a function that fits the linear regression model to a given sample\n",
    "#and computes errors of prediction\n",
    "def fit_regression(model, X_train, X_test, y_train, y_test):\n",
    "    model.fit(X_train, y_train)\n",
    "    \n",
    "    y_train_pred = model.predict(X_train)\n",
    "    y_test_pred = model.predict(X_test)\n",
    "    \n",
    "    r2 = sklearn.metrics.r2_score\n",
    "    rmse = sklearn.metrics.mean_squared_error\n",
    "    mae = sklearn.metrics.mean_absolute_error\n",
    "    \n",
    "    return {\n",
    "        \"r_score_tr\": r2(y_train, y_train_pred),\n",
    "        \"r_score_te\": r2(y_test, y_test_pred),\n",
    "        \"RMSE_tr\": rmse(y_train, y_train_pred, squared=False),\n",
    "        \"RMSE_te\": rmse(y_test, y_test_pred, squared=False),\n",
    "        \"MAE_tr\": mae(y_train, y_train_pred),\n",
    "        \"MAE_te\": mae(y_test, y_test_pred)\n",
    "    }"
   ]
  },
  {
   "cell_type": "code",
   "execution_count": 13,
   "id": "517823b8",
   "metadata": {
    "tags": []
   },
   "outputs": [],
   "source": [
    "results_final = pd.read_csv(\"data/results_final.csv\", index_col=0)"
   ]
  },
  {
   "cell_type": "code",
   "execution_count": 12,
   "id": "ff5b3ddb",
   "metadata": {
    "tags": []
   },
   "outputs": [
    {
     "ename": "NameError",
     "evalue": "name 'results_final' is not defined",
     "output_type": "error",
     "traceback": [
      "\u001b[0;31m---------------------------------------------------------------------------\u001b[0m",
      "\u001b[0;31mNameError\u001b[0m                                 Traceback (most recent call last)",
      "Cell \u001b[0;32mIn[12], line 1\u001b[0m\n\u001b[0;32m----> 1\u001b[0m \u001b[43mresults_final\u001b[49m\n",
      "\u001b[0;31mNameError\u001b[0m: name 'results_final' is not defined"
     ]
    }
   ],
   "source": [
    "results_final"
   ]
  },
  {
   "cell_type": "code",
   "execution_count": null,
   "id": "b3d3526e",
   "metadata": {},
   "outputs": [],
   "source": [
    "white_wine_wout_outl = pd.read_csv(\"data/white_wine_wout_outl.csv\")"
   ]
  },
  {
   "cell_type": "code",
   "execution_count": null,
   "id": "07cbb93e",
   "metadata": {},
   "outputs": [],
   "source": [
    "#the dataframe without outliers\n",
    "white_wine_wout_outl"
   ]
  },
  {
   "cell_type": "code",
   "execution_count": null,
   "id": "7d5c8ae4",
   "metadata": {},
   "outputs": [],
   "source": [
    "# now, we will create the new reg model based on dataset without outliers\n",
    "X_wout_out = white_wine_wout_outl.iloc[:,:-2]"
   ]
  },
  {
   "cell_type": "code",
   "execution_count": null,
   "id": "8d7203f0",
   "metadata": {},
   "outputs": [],
   "source": [
    "X_wout_out"
   ]
  },
  {
   "cell_type": "code",
   "execution_count": null,
   "id": "8ade7eb3",
   "metadata": {},
   "outputs": [],
   "source": [
    "y_wout_out = white_wine_wout_outl.iloc[:,-2]"
   ]
  },
  {
   "cell_type": "code",
   "execution_count": null,
   "id": "286d7996",
   "metadata": {},
   "outputs": [],
   "source": [
    "y_wout_out"
   ]
  },
  {
   "cell_type": "code",
   "execution_count": null,
   "id": "ea39133a",
   "metadata": {},
   "outputs": [],
   "source": [
    "X_train_wo, X_test_wo, y_train_wo, y_test_wo = sklearn.model_selection.train_test_split(X_wout_out,\n",
    "                                                                        y_wout_out,\n",
    "                                                                        test_size=0.2,\n",
    "                                                                        random_state=12345)"
   ]
  },
  {
   "cell_type": "markdown",
   "id": "574665e3",
   "metadata": {},
   "source": [
    "## Standarization and normalization of data"
   ]
  },
  {
   "cell_type": "code",
   "execution_count": null,
   "id": "3ce884b6",
   "metadata": {},
   "outputs": [],
   "source": [
    "# we will work with dataset without outliers\n",
    "X_wout_out.describe()"
   ]
  },
  {
   "cell_type": "code",
   "execution_count": null,
   "id": "2be50885",
   "metadata": {},
   "outputs": [],
   "source": [
    "y_wout_out.describe()"
   ]
  },
  {
   "cell_type": "code",
   "execution_count": null,
   "id": "684a0fc5",
   "metadata": {},
   "outputs": [],
   "source": [
    "# let's calculate the mean values\n",
    "X_wout_out_mean = X_wout_out.mean()\n",
    "X_wout_out_mean"
   ]
  },
  {
   "cell_type": "code",
   "execution_count": null,
   "id": "f6a1152e",
   "metadata": {},
   "outputs": [],
   "source": [
    "# and standard deviation\n",
    "X_wout_out_std = X_wout_out.std()"
   ]
  },
  {
   "cell_type": "code",
   "execution_count": null,
   "id": "f81e3ded",
   "metadata": {},
   "outputs": [],
   "source": [
    "# standarization of the predictors\n",
    "X_wo_std = (X_wout_out - X_wout_out_mean)/X_wout_out_std"
   ]
  },
  {
   "cell_type": "code",
   "execution_count": null,
   "id": "c05bf247",
   "metadata": {},
   "outputs": [],
   "source": [
    "X_wo_std.describe()"
   ]
  },
  {
   "cell_type": "code",
   "execution_count": null,
   "id": "903a23db",
   "metadata": {},
   "outputs": [],
   "source": [
    "# and the same we will do with target variable\n",
    "y_wo_m = y_wout_out.mean()\n",
    "y_wo_sd = y_wout_out.std()"
   ]
  },
  {
   "cell_type": "code",
   "execution_count": null,
   "id": "6df9a229",
   "metadata": {},
   "outputs": [],
   "source": [
    "y_wo_std = (y_wout_out-y_wo_m)/y_wo_sd"
   ]
  },
  {
   "cell_type": "code",
   "execution_count": null,
   "id": "8d19002f",
   "metadata": {},
   "outputs": [],
   "source": [
    "y_wo_std.describe()"
   ]
  },
  {
   "cell_type": "code",
   "execution_count": null,
   "id": "f93a1c99",
   "metadata": {},
   "outputs": [],
   "source": [
    "X_train_wo_std, X_test_wo_std, y_train_wo_std, y_test_wo_std = model_selection.train_test_split(\n",
    "    X_wo_std, y_wout_out, test_size=0.2, random_state=12345)"
   ]
  },
  {
   "cell_type": "code",
   "execution_count": null,
   "id": "8e987e94",
   "metadata": {},
   "outputs": [],
   "source": [
    "params = [\"Lin. Reg. wout outl std\"]\n",
    "res = [fit_regression(linear_model.LinearRegression(),\n",
    "                          X_train_wo_std, X_test_wo_std, y_train_wo_std, y_test_wo_std)]\n",
    "results = pd.DataFrame(res, index=params)"
   ]
  },
  {
   "cell_type": "code",
   "execution_count": null,
   "id": "3b23429e",
   "metadata": {},
   "outputs": [],
   "source": [
    "results_final = results_final.append(results)"
   ]
  },
  {
   "cell_type": "code",
   "execution_count": null,
   "id": "5e25dbd4",
   "metadata": {},
   "outputs": [],
   "source": [
    "results_final"
   ]
  },
  {
   "cell_type": "code",
   "execution_count": null,
   "id": "379df178",
   "metadata": {},
   "outputs": [],
   "source": [
    "# the same model with standardized target variable\n",
    "X_train_wo_std_y, X_test_wo_std_y, y_train_wo_std_y, y_test_wo_std_y = model_selection.train_test_split(\n",
    "    X_wo_std, y_wo_std, test_size=0.2, random_state=12345)"
   ]
  },
  {
   "cell_type": "code",
   "execution_count": null,
   "id": "584dda0d",
   "metadata": {},
   "outputs": [],
   "source": [
    "params = [\"Lin. Reg. wout outl std y\"]\n",
    "res = [fit_regression(sklearn.linear_model.LinearRegression(),\n",
    "                          X_train_wo_std_y, X_test_wo_std_y, y_train_wo_std_y, y_test_wo_std_y)]\n",
    "results = pd.DataFrame(res, index=params)"
   ]
  },
  {
   "cell_type": "code",
   "execution_count": null,
   "id": "24d367da",
   "metadata": {},
   "outputs": [],
   "source": [
    "results_final = results_final.append(results)"
   ]
  },
  {
   "cell_type": "code",
   "execution_count": null,
   "id": "598abfcb",
   "metadata": {},
   "outputs": [],
   "source": [
    "results_final"
   ]
  },
  {
   "cell_type": "code",
   "execution_count": null,
   "id": "668f5179",
   "metadata": {},
   "outputs": [],
   "source": [
    "# MinMax normalization of the dataset\n",
    "X_wo_norm = (X_wout_out - X_wout_out.min())/(X_wout_out.max() - X_wout_out.min())\n",
    "y_wo_norm = (y_wout_out - y_wout_out.min())/(y_wout_out.max() - y_wout_out.min())"
   ]
  },
  {
   "cell_type": "code",
   "execution_count": null,
   "id": "3959ea04",
   "metadata": {},
   "outputs": [],
   "source": [
    "X_wo_norm.describe()"
   ]
  },
  {
   "cell_type": "code",
   "execution_count": null,
   "id": "1cbeb537",
   "metadata": {},
   "outputs": [],
   "source": [
    "X_train_wo_norm, X_test_wo_norm, y_train_wo_norm, y_test_wo_norm = model_selection.train_test_split(\n",
    "    X_wo_norm, y_wout_out, test_size=0.2, random_state=12345)"
   ]
  },
  {
   "cell_type": "code",
   "execution_count": null,
   "id": "b3ade3a8",
   "metadata": {},
   "outputs": [],
   "source": [
    "params = [\"Lin. Reg. wout outl norm\"]\n",
    "res = [fit_regression(sklearn.linear_model.LinearRegression(),\n",
    "                          X_train_wo_norm, X_test_wo_norm, y_train_wo_norm, y_test_wo_norm)]\n",
    "results = pd.DataFrame(res, index=params)"
   ]
  },
  {
   "cell_type": "code",
   "execution_count": null,
   "id": "6a479432",
   "metadata": {},
   "outputs": [],
   "source": [
    "results_final = results_final.append(results)"
   ]
  },
  {
   "cell_type": "code",
   "execution_count": null,
   "id": "f5d5e49b",
   "metadata": {},
   "outputs": [],
   "source": [
    "results_final"
   ]
  },
  {
   "cell_type": "code",
   "execution_count": null,
   "id": "a78c5fb2",
   "metadata": {},
   "outputs": [],
   "source": [
    "# the same model with normalized target variable\n",
    "# THE BIG TRAP!!!\n",
    "X_train_wo_norm_y, X_test_wo_norm_y, y_train_wo_norm_y, y_test_wo_norm_y = model_selection.train_test_split(\n",
    "    X_wo_norm, y_wo_norm, test_size=0.2, random_state=12345)"
   ]
  },
  {
   "cell_type": "code",
   "execution_count": null,
   "id": "8dcc5af8",
   "metadata": {},
   "outputs": [],
   "source": [
    "params = [\"Lin. Reg. wout outl norm y\"]\n",
    "res = [fit_regression(sklearn.linear_model.LinearRegression(),\n",
    "                          X_train_wo_norm_y, X_test_wo_norm_y, y_train_wo_norm_y, y_test_wo_norm_y)]\n",
    "results = pd.DataFrame(res, index=params)"
   ]
  },
  {
   "cell_type": "code",
   "execution_count": null,
   "id": "8e158de4",
   "metadata": {},
   "outputs": [],
   "source": [
    "results_final = results_final.append(results)"
   ]
  },
  {
   "cell_type": "code",
   "execution_count": null,
   "id": "52c2fc28",
   "metadata": {},
   "outputs": [],
   "source": [
    "results_final"
   ]
  },
  {
   "cell_type": "markdown",
   "id": "ed6f1f1b",
   "metadata": {},
   "source": [
    "## Reduction of the problem dimension"
   ]
  },
  {
   "cell_type": "code",
   "execution_count": null,
   "id": "8b1c9a4b",
   "metadata": {},
   "outputs": [],
   "source": [
    "# let's have a look on variables importance in the dataset without outliers\n",
    "lm_wo_std = linear_model.LinearRegression()\n",
    "lm_wo_std.fit(X_wo_std, y_wo_std)"
   ]
  },
  {
   "cell_type": "code",
   "execution_count": null,
   "id": "b5e7c818",
   "metadata": {},
   "outputs": [],
   "source": [
    "pd.Series(np.abs(lm_wo_std.coef_), index=X_wo_std.columns.to_list()).round(4).sort_values(ascending=False)"
   ]
  },
  {
   "cell_type": "code",
   "execution_count": null,
   "id": "f5e8f3a1",
   "metadata": {},
   "outputs": [],
   "source": [
    "# chlorides is the least important feature, so we will remove it\n",
    "X_wout_out_chl = X_wout_out.drop(columns=['chlorides']).copy()"
   ]
  },
  {
   "cell_type": "code",
   "execution_count": null,
   "id": "1af4d385",
   "metadata": {},
   "outputs": [],
   "source": [
    "X_wout_out_chl"
   ]
  },
  {
   "cell_type": "code",
   "execution_count": null,
   "id": "fcd42ec0",
   "metadata": {},
   "outputs": [],
   "source": [
    "X_train_wo_chl, X_test_wo_chl, y_train_wo_chl, y_test_wo_chl = sklearn.model_selection.train_test_split(\n",
    "    X_wout_out_chl, y_wout_out, test_size=0.2, random_state=12345)"
   ]
  },
  {
   "cell_type": "code",
   "execution_count": null,
   "id": "4b4ed138",
   "metadata": {},
   "outputs": [],
   "source": [
    "params = [\"Lin. Reg. wout outl chl\"]\n",
    "res = [fit_regression(sklearn.linear_model.LinearRegression(),\n",
    "                          X_train_wo_chl, X_test_wo_chl, y_train_wo_chl, y_test_wo_chl)]\n",
    "results = pd.DataFrame(res, index=params)"
   ]
  },
  {
   "cell_type": "code",
   "execution_count": null,
   "id": "fe0e42d8",
   "metadata": {},
   "outputs": [],
   "source": [
    "results_final = results_final.append(results)"
   ]
  },
  {
   "cell_type": "code",
   "execution_count": null,
   "id": "570dad4c",
   "metadata": {},
   "outputs": [],
   "source": [
    "results_final"
   ]
  },
  {
   "cell_type": "code",
   "execution_count": null,
   "id": "6c8c04ce",
   "metadata": {},
   "outputs": [],
   "source": [
    "# the residual.sugar and density are strongly correlate\n",
    "# but the correlation of the residual.sugar with the target value (alcohol) is smaller\n",
    "# so let's remove the residual.sugar"
   ]
  },
  {
   "cell_type": "code",
   "execution_count": null,
   "id": "4c49bf0d",
   "metadata": {},
   "outputs": [],
   "source": [
    "X_wout_out_res = X_wout_out.drop(columns=['residual.sugar']).copy()"
   ]
  },
  {
   "cell_type": "code",
   "execution_count": null,
   "id": "d322f9bb",
   "metadata": {},
   "outputs": [],
   "source": [
    "X_wout_out_res"
   ]
  },
  {
   "cell_type": "code",
   "execution_count": null,
   "id": "4703fe22",
   "metadata": {},
   "outputs": [],
   "source": [
    "X_train_wo_res, X_test_wo_res, y_train_wo_res, y_test_wo_res = sklearn.model_selection.train_test_split(\n",
    "    X_wout_out_res, y_wout_out, test_size=0.2, random_state=12345)"
   ]
  },
  {
   "cell_type": "code",
   "execution_count": null,
   "id": "596e3c96",
   "metadata": {},
   "outputs": [],
   "source": [
    "params = [\"Lin. Reg. wout outl res\"]\n",
    "res = [fit_regression(sklearn.linear_model.LinearRegression(),\n",
    "                          X_train_wo_res, X_test_wo_res, y_train_wo_res, y_test_wo_res)]\n",
    "results = pd.DataFrame(res, index=params)"
   ]
  },
  {
   "cell_type": "code",
   "execution_count": null,
   "id": "beccf018",
   "metadata": {},
   "outputs": [],
   "source": [
    "results_final = results_final.append(results)"
   ]
  },
  {
   "cell_type": "code",
   "execution_count": null,
   "id": "69b993d6",
   "metadata": {},
   "outputs": [],
   "source": [
    "# ANOTHER BIG TRAP!!!\n",
    "results_final"
   ]
  },
  {
   "cell_type": "markdown",
   "id": "30cb14fc",
   "metadata": {},
   "source": [
    "## The regression model based on polynomials"
   ]
  },
  {
   "cell_type": "code",
   "execution_count": null,
   "id": "afe74d11",
   "metadata": {},
   "outputs": [],
   "source": [
    "# we use the PolynomialFeatures function with grade 2,\n",
    "# to generate new features that are the product of the base features,\n",
    "#for example [x1,x2,x3] -> [x1, x2, x3, x1^2, x1x2, x1x3, x2^2, x2x3, x3^2]\n",
    "\n",
    "import sklearn.preprocessing\n",
    "polynomial2_feature = sklearn.preprocessing.PolynomialFeatures(degree=2, include_bias=False)\n",
    "polynomial2_feature.fit_transform(np.array([[2,3,5],[1,2,3]]))"
   ]
  },
  {
   "cell_type": "code",
   "execution_count": null,
   "id": "5997724a",
   "metadata": {},
   "outputs": [],
   "source": [
    "#we can check the powers of individual variables (we look at the columns)\n",
    "polynomial2_feature.powers_.T"
   ]
  },
  {
   "cell_type": "code",
   "execution_count": null,
   "id": "49e35c3c",
   "metadata": {},
   "outputs": [],
   "source": [
    "# we build a polynomial model transforming the training dataset of predictors X_train_wo\n",
    "# and the test dataset of predictors X_test_wo\n",
    "polynomial2 = sklearn.preprocessing.PolynomialFeatures(degree=2, include_bias=False)\n",
    "X2_wo_train = polynomial2.fit_transform(X_train_wo)\n",
    "X2_wo_test = polynomial2.fit_transform(X_test_wo)"
   ]
  },
  {
   "cell_type": "code",
   "execution_count": null,
   "id": "c69f8b06",
   "metadata": {},
   "outputs": [],
   "source": [
    "#now we have 65 columns\n",
    "X2_wo_train.shape"
   ]
  },
  {
   "cell_type": "code",
   "execution_count": null,
   "id": "69137943",
   "metadata": {},
   "outputs": [],
   "source": [
    "#we check the new model\n",
    "params = [\"Lin. Reg. wout outl Poly\"]\n",
    "res = [fit_regression(sklearn.linear_model.LinearRegression(),\n",
    "                          X2_wo_train, X2_wo_test, y_train_wo, y_test_wo)]\n",
    "results = pd.DataFrame(res, index=params)"
   ]
  },
  {
   "cell_type": "code",
   "execution_count": null,
   "id": "2d9f93bd",
   "metadata": {},
   "outputs": [],
   "source": [
    "results_final = results_final.append(results)"
   ]
  },
  {
   "cell_type": "code",
   "execution_count": null,
   "id": "e2250d6e",
   "metadata": {},
   "outputs": [],
   "source": [
    "results_final"
   ]
  },
  {
   "cell_type": "markdown",
   "id": "f4d0760a",
   "metadata": {},
   "source": [
    "#### we obtained smaller prediction errors, but the number of model parameters increased significantly"
   ]
  },
  {
   "cell_type": "markdown",
   "id": "f72d4500",
   "metadata": {},
   "source": [
    "#### we are looking for a balance between the complexity of the model and its quality"
   ]
  },
  {
   "cell_type": "code",
   "execution_count": null,
   "id": "970d4795",
   "metadata": {},
   "outputs": [],
   "source": [
    "# the choice of variables for the model can be made using the Schwarz criterion (BIC - Bayesian Information Criterion)\n",
    "# we choose a regression model that minimizes the function\n",
    "# BIC (MSE_p, p, n) = n * log (MSE_p) + p * log (n)\n",
    "# MSE_p is calculated for the model built on the basis of p <= d variables\n",
    "# p * log (n) is a penalty for the complexity of the model"
   ]
  },
  {
   "cell_type": "code",
   "execution_count": null,
   "id": "2af56e50",
   "metadata": {},
   "outputs": [],
   "source": [
    "def BIC(mse, p, n):\n",
    "    return n*np.log(mse) + p*np.log(n)"
   ]
  },
  {
   "cell_type": "code",
   "execution_count": null,
   "id": "af45c37d",
   "metadata": {},
   "outputs": [],
   "source": [
    "# the number of all possible cases to be considered is in the order of 2^d\n",
    "# 1. we start with the empty model, BIC = +infinity\n",
    "# 2. we extend the model with the variable for which BIC is the smallest and\n",
    "# simultaneously decreases the current BIC value\n",
    "# if there is no such value, we return the current model\n",
    "# 3. we repeat the 2nd until exhausted"
   ]
  },
  {
   "cell_type": "code",
   "execution_count": null,
   "id": "8bfa331b",
   "metadata": {},
   "outputs": [],
   "source": [
    "def forward_selection(X, y):\n",
    "    n, m = X.shape\n",
    "    best_idx = []\n",
    "    best_free = set(range(m))\n",
    "    best_fit = np.inf\n",
    "    res = []\n",
    "    \n",
    "    for i in range(0, m):\n",
    "        cur_idx = -1\n",
    "        cur_fit = np.inf\n",
    "        for e in best_free:\n",
    "            r = sklearn.linear_model.LinearRegression()\n",
    "            test_idx = best_idx + [e]\n",
    "            r.fit(X[:, test_idx], y)\n",
    "            test_fit = BIC(sklearn.metrics.mean_squared_error(y, r.predict(X[:, test_idx])), i+2, n)\n",
    "            if test_fit < cur_fit: cur_idx, cur_fit = e, test_fit\n",
    "        if cur_fit > best_fit: break\n",
    "        \n",
    "        best_idx, best_fit = best_idx + [cur_idx], cur_fit\n",
    "        best_free.discard(cur_idx)\n",
    "        res.append((cur_idx, cur_fit))\n",
    "    return res"
   ]
  },
  {
   "cell_type": "code",
   "execution_count": null,
   "id": "b80d083c",
   "metadata": {},
   "outputs": [],
   "source": [
    "#we apply the variable selection algorithm to the polynomial transformed dataset\n",
    "\n",
    "chosen_df = pd.DataFrame(forward_selection(X2_wo_train, y_train_wo), columns=[\"variable\", \"BIC\"])\n",
    "\n",
    "chosen_variables = chosen_df[\"variable\"].tolist()\n",
    "\n",
    "chosen_df[\"name_of_variable\"] =\\\n",
    "[X_wout_out.columns[w>=1].append(X_wout_out.columns[w==2]).str.cat(sep=\"*\") for w in polynomial2.powers_[chosen_variables]]\n",
    "\n",
    "chosen_df"
   ]
  },
  {
   "cell_type": "code",
   "execution_count": null,
   "id": "ff245eaf",
   "metadata": {},
   "outputs": [],
   "source": [
    "chosen_variables"
   ]
  },
  {
   "cell_type": "code",
   "execution_count": null,
   "id": "fb6ff468",
   "metadata": {},
   "outputs": [],
   "source": [
    "#and the results\n",
    "params = [\"Lin. Reg. BIC\"]\n",
    "\n",
    "res = [fit_regression(sklearn.linear_model.LinearRegression(),\n",
    "                          X2_wo_train[:, chosen_variables],\n",
    "                          X2_wo_test[:, chosen_variables],\n",
    "                          y_train_wo, y_test_wo)]\n",
    "\n",
    "results = pd.DataFrame(res, index=params)\n"
   ]
  },
  {
   "cell_type": "code",
   "execution_count": null,
   "id": "39c1becd",
   "metadata": {},
   "outputs": [],
   "source": [
    "results_final = results_final.append(results)"
   ]
  },
  {
   "cell_type": "code",
   "execution_count": null,
   "id": "6fc979aa",
   "metadata": {},
   "outputs": [],
   "source": [
    "results_final"
   ]
  },
  {
   "cell_type": "markdown",
   "id": "33ef1439",
   "metadata": {},
   "source": [
    "## Please check the BIC chosen features with cross validation"
   ]
  },
  {
   "cell_type": "code",
   "execution_count": null,
   "id": "489c8e9c",
   "metadata": {},
   "outputs": [],
   "source": [
    "# and summary with some figures\n",
    "plt.figure(figsize=(12,6))\n",
    "\n",
    "plt.plot(results_final['RMSE_tr'], label='traning')\n",
    "plt.plot(results_final['RMSE_te'], label='test')\n",
    "plt.legend()\n",
    "plt.xticks(np.arange(len(results_final.index.tolist())), results_final.index.tolist(), rotation=75)\n",
    "\n",
    "plt.show()"
   ]
  },
  {
   "cell_type": "code",
   "execution_count": null,
   "id": "3185b8db",
   "metadata": {},
   "outputs": [],
   "source": [
    "plt.figure(figsize=(12,6))\n",
    "\n",
    "plt.plot(results_final['MAE_tr'], label='traning')\n",
    "plt.plot(results_final['MAE_te'], label='test')\n",
    "plt.legend()\n",
    "plt.xticks(np.arange(len(results_final.index.tolist())), results_final.index.tolist(), rotation=75)\n",
    "\n",
    "plt.show()"
   ]
  },
  {
   "cell_type": "code",
   "execution_count": null,
   "id": "1c35d96e",
   "metadata": {},
   "outputs": [],
   "source": [
    "plt.figure(figsize=(12,6))\n",
    "\n",
    "plt.plot(results_final['r_score_tr'], label='traning')\n",
    "plt.plot(results_final['r_score_te'], label='test')\n",
    "plt.legend()\n",
    "plt.xticks(np.arange(len(results_final.index.tolist())), results_final.index.tolist(), rotation=75)\n",
    "\n",
    "plt.show()"
   ]
  },
  {
   "cell_type": "code",
   "execution_count": null,
   "id": "aaa7049f",
   "metadata": {},
   "outputs": [],
   "source": [
    "from sklearn.neighbors import KNeighborsRegressor\n",
    "from sklearn.gaussian_process import GaussianProcessRegressor\n",
    "from sklearn.ensemble import RandomForestRegressor\n",
    "from sklearn.svm import SVR"
   ]
  },
  {
   "cell_type": "code",
   "execution_count": null,
   "id": "8b91a0d7",
   "metadata": {},
   "outputs": [],
   "source": [
    "# cross validation for several models based on dataset without outliers\n",
    "methods = pd.Series({\n",
    "    \"LinearRegression\": sklearn.linear_model.LinearRegression(),\n",
    "    \"ElasticNet\": sklearn.linear_model.ElasticNet(),\n",
    "    \"Ridge\": sklearn.linear_model.Ridge(),\n",
    "    \"KNN\": KNeighborsRegressor(),\n",
    "    \"GP\": GaussianProcessRegressor(),\n",
    "    \"RF\": RandomForestRegressor(),\n",
    "    \"SVR\": SVR()\n",
    "})\n",
    "\n",
    "#evaluation function\n",
    "def eval_function(X_train, X_test, y_train, y_test):\n",
    "    cv_models = pd.concat([\n",
    "        pd.Series(fit_regression(alg,\n",
    "                                 X_train, X_test, y_train, y_test)) for alg in methods], axis=1).T\n",
    "    cv_models.index = methods.index\n",
    "    return cv_models\n",
    "\n",
    "kf = KFold(n_splits=5)\n",
    "\n",
    "n_folds = 5\n",
    "\n",
    "results_cv = [eval_function(X_wout_out.iloc[train,:],\n",
    "                            X_wout_out.iloc[test,:],\n",
    "                            y_wout_out.iloc[train],\n",
    "                            y_wout_out.iloc[test]) for train, test in kf.split(X_wout_out)]\n",
    "\n",
    "sum(results_cv)/n_folds"
   ]
  },
  {
   "cell_type": "markdown",
   "id": "07b1c820",
   "metadata": {},
   "source": [
    "# :) We have to discuss these results."
   ]
  },
  {
   "cell_type": "code",
   "execution_count": null,
   "id": "5e502207",
   "metadata": {},
   "outputs": [],
   "source": [
    "results_cv = [eval_function(X.iloc[train,:],\n",
    "                            X.iloc[test,:],\n",
    "                            y.iloc[train],\n",
    "                            y.iloc[test]) for train, test in kf.split(X)]\n",
    "\n",
    "sum(results_cv)/n_folds"
   ]
  },
  {
   "cell_type": "code",
   "execution_count": null,
   "id": "41d013f6",
   "metadata": {},
   "outputs": [],
   "source": []
  }
 ],
 "metadata": {
  "kernelspec": {
   "display_name": "Python 3 (ipykernel)",
   "language": "python",
   "name": "python3"
  },
  "language_info": {
   "codemirror_mode": {
    "name": "ipython",
    "version": 3
   },
   "file_extension": ".py",
   "mimetype": "text/x-python",
   "name": "python",
   "nbconvert_exporter": "python",
   "pygments_lexer": "ipython3",
   "version": "3.10.9"
  }
 },
 "nbformat": 4,
 "nbformat_minor": 5
}
