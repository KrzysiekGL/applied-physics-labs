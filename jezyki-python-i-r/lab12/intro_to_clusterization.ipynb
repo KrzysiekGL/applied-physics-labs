{
 "cells": [
  {
   "cell_type": "markdown",
   "id": "0b3c492f",
   "metadata": {},
   "source": [
    "# Języki Programowania Python i R\n",
    "\n",
    "\n",
    "## dr inż. Patryk Jasik\n",
    "### Division of Theoretical Physics and Quantum Information\n",
    "### Institute of Physics and Computer Science\n",
    "### Faculty of Applied Physics and Mathematics\n",
    "### Gdansk University of Technology"
   ]
  },
  {
   "cell_type": "code",
   "execution_count": 1,
   "id": "1e84c8f4",
   "metadata": {
    "tags": []
   },
   "outputs": [],
   "source": [
    "import numpy as np\n",
    "import pandas as pd\n",
    "import matplotlib.pyplot as plt\n",
    "import seaborn as sns\n",
    "import sklearn"
   ]
  },
  {
   "cell_type": "code",
   "execution_count": 2,
   "id": "4f5414c7",
   "metadata": {
    "tags": []
   },
   "outputs": [
    {
     "data": {
      "text/html": [
       "<div>\n",
       "<style scoped>\n",
       "    .dataframe tbody tr th:only-of-type {\n",
       "        vertical-align: middle;\n",
       "    }\n",
       "\n",
       "    .dataframe tbody tr th {\n",
       "        vertical-align: top;\n",
       "    }\n",
       "\n",
       "    .dataframe thead th {\n",
       "        text-align: right;\n",
       "    }\n",
       "</style>\n",
       "<table border=\"1\" class=\"dataframe\">\n",
       "  <thead>\n",
       "    <tr style=\"text-align: right;\">\n",
       "      <th></th>\n",
       "      <th>fixed.acidity</th>\n",
       "      <th>volatile.acidity</th>\n",
       "      <th>citric.acid</th>\n",
       "      <th>residual.sugar</th>\n",
       "      <th>chlorides</th>\n",
       "      <th>free.sulfur.dioxide</th>\n",
       "      <th>total.sulfur.dioxide</th>\n",
       "      <th>density</th>\n",
       "      <th>pH</th>\n",
       "      <th>sulphates</th>\n",
       "      <th>alcohol</th>\n",
       "      <th>response</th>\n",
       "      <th>color</th>\n",
       "    </tr>\n",
       "  </thead>\n",
       "  <tbody>\n",
       "    <tr>\n",
       "      <th>0</th>\n",
       "      <td>7.4</td>\n",
       "      <td>0.70</td>\n",
       "      <td>0.00</td>\n",
       "      <td>1.9</td>\n",
       "      <td>0.076</td>\n",
       "      <td>11.0</td>\n",
       "      <td>34.0</td>\n",
       "      <td>0.9978</td>\n",
       "      <td>3.51</td>\n",
       "      <td>0.56</td>\n",
       "      <td>9.4</td>\n",
       "      <td>3</td>\n",
       "      <td>red</td>\n",
       "    </tr>\n",
       "    <tr>\n",
       "      <th>1</th>\n",
       "      <td>7.8</td>\n",
       "      <td>0.88</td>\n",
       "      <td>0.00</td>\n",
       "      <td>2.6</td>\n",
       "      <td>0.098</td>\n",
       "      <td>25.0</td>\n",
       "      <td>67.0</td>\n",
       "      <td>0.9968</td>\n",
       "      <td>3.20</td>\n",
       "      <td>0.68</td>\n",
       "      <td>9.8</td>\n",
       "      <td>3</td>\n",
       "      <td>red</td>\n",
       "    </tr>\n",
       "    <tr>\n",
       "      <th>2</th>\n",
       "      <td>7.8</td>\n",
       "      <td>0.76</td>\n",
       "      <td>0.04</td>\n",
       "      <td>2.3</td>\n",
       "      <td>0.092</td>\n",
       "      <td>15.0</td>\n",
       "      <td>54.0</td>\n",
       "      <td>0.9970</td>\n",
       "      <td>3.26</td>\n",
       "      <td>0.65</td>\n",
       "      <td>9.8</td>\n",
       "      <td>3</td>\n",
       "      <td>red</td>\n",
       "    </tr>\n",
       "    <tr>\n",
       "      <th>3</th>\n",
       "      <td>11.2</td>\n",
       "      <td>0.28</td>\n",
       "      <td>0.56</td>\n",
       "      <td>1.9</td>\n",
       "      <td>0.075</td>\n",
       "      <td>17.0</td>\n",
       "      <td>60.0</td>\n",
       "      <td>0.9980</td>\n",
       "      <td>3.16</td>\n",
       "      <td>0.58</td>\n",
       "      <td>9.8</td>\n",
       "      <td>4</td>\n",
       "      <td>red</td>\n",
       "    </tr>\n",
       "    <tr>\n",
       "      <th>4</th>\n",
       "      <td>7.4</td>\n",
       "      <td>0.66</td>\n",
       "      <td>0.00</td>\n",
       "      <td>1.8</td>\n",
       "      <td>0.075</td>\n",
       "      <td>13.0</td>\n",
       "      <td>40.0</td>\n",
       "      <td>0.9978</td>\n",
       "      <td>3.51</td>\n",
       "      <td>0.56</td>\n",
       "      <td>9.4</td>\n",
       "      <td>3</td>\n",
       "      <td>red</td>\n",
       "    </tr>\n",
       "  </tbody>\n",
       "</table>\n",
       "</div>"
      ],
      "text/plain": [
       "   fixed.acidity  volatile.acidity  citric.acid  residual.sugar  chlorides  \\\n",
       "0            7.4              0.70         0.00             1.9      0.076   \n",
       "1            7.8              0.88         0.00             2.6      0.098   \n",
       "2            7.8              0.76         0.04             2.3      0.092   \n",
       "3           11.2              0.28         0.56             1.9      0.075   \n",
       "4            7.4              0.66         0.00             1.8      0.075   \n",
       "\n",
       "   free.sulfur.dioxide  total.sulfur.dioxide  density    pH  sulphates  \\\n",
       "0                 11.0                  34.0   0.9978  3.51       0.56   \n",
       "1                 25.0                  67.0   0.9968  3.20       0.68   \n",
       "2                 15.0                  54.0   0.9970  3.26       0.65   \n",
       "3                 17.0                  60.0   0.9980  3.16       0.58   \n",
       "4                 13.0                  40.0   0.9978  3.51       0.56   \n",
       "\n",
       "   alcohol  response color  \n",
       "0      9.4         3   red  \n",
       "1      9.8         3   red  \n",
       "2      9.8         3   red  \n",
       "3      9.8         4   red  \n",
       "4      9.4         3   red  "
      ]
     },
     "execution_count": 2,
     "metadata": {},
     "output_type": "execute_result"
    }
   ],
   "source": [
    "wine = pd.read_csv(\"data/winequality-all.csv\", comment=\"#\")"
   ]
  },
  {
   "cell_type": "code",
   "execution_count": 6,
   "id": "862c65ef-a92c-4035-b588-f2bf057b2ad9",
   "metadata": {
    "tags": []
   },
   "outputs": [
    {
     "data": {
      "text/html": [
       "<div>\n",
       "<style scoped>\n",
       "    .dataframe tbody tr th:only-of-type {\n",
       "        vertical-align: middle;\n",
       "    }\n",
       "\n",
       "    .dataframe tbody tr th {\n",
       "        vertical-align: top;\n",
       "    }\n",
       "\n",
       "    .dataframe thead th {\n",
       "        text-align: right;\n",
       "    }\n",
       "</style>\n",
       "<table border=\"1\" class=\"dataframe\">\n",
       "  <thead>\n",
       "    <tr style=\"text-align: right;\">\n",
       "      <th></th>\n",
       "      <th>fixed.acidity</th>\n",
       "      <th>volatile.acidity</th>\n",
       "      <th>citric.acid</th>\n",
       "      <th>residual.sugar</th>\n",
       "      <th>chlorides</th>\n",
       "      <th>free.sulfur.dioxide</th>\n",
       "      <th>total.sulfur.dioxide</th>\n",
       "      <th>density</th>\n",
       "      <th>pH</th>\n",
       "      <th>sulphates</th>\n",
       "      <th>alcohol</th>\n",
       "      <th>response</th>\n",
       "      <th>color</th>\n",
       "    </tr>\n",
       "  </thead>\n",
       "  <tbody>\n",
       "    <tr>\n",
       "      <th>0</th>\n",
       "      <td>7.4</td>\n",
       "      <td>0.70</td>\n",
       "      <td>0.00</td>\n",
       "      <td>1.9</td>\n",
       "      <td>0.076</td>\n",
       "      <td>11.0</td>\n",
       "      <td>34.0</td>\n",
       "      <td>0.9978</td>\n",
       "      <td>3.51</td>\n",
       "      <td>0.56</td>\n",
       "      <td>9.4</td>\n",
       "      <td>3</td>\n",
       "      <td>red</td>\n",
       "    </tr>\n",
       "    <tr>\n",
       "      <th>1</th>\n",
       "      <td>7.8</td>\n",
       "      <td>0.88</td>\n",
       "      <td>0.00</td>\n",
       "      <td>2.6</td>\n",
       "      <td>0.098</td>\n",
       "      <td>25.0</td>\n",
       "      <td>67.0</td>\n",
       "      <td>0.9968</td>\n",
       "      <td>3.20</td>\n",
       "      <td>0.68</td>\n",
       "      <td>9.8</td>\n",
       "      <td>3</td>\n",
       "      <td>red</td>\n",
       "    </tr>\n",
       "    <tr>\n",
       "      <th>2</th>\n",
       "      <td>7.8</td>\n",
       "      <td>0.76</td>\n",
       "      <td>0.04</td>\n",
       "      <td>2.3</td>\n",
       "      <td>0.092</td>\n",
       "      <td>15.0</td>\n",
       "      <td>54.0</td>\n",
       "      <td>0.9970</td>\n",
       "      <td>3.26</td>\n",
       "      <td>0.65</td>\n",
       "      <td>9.8</td>\n",
       "      <td>3</td>\n",
       "      <td>red</td>\n",
       "    </tr>\n",
       "    <tr>\n",
       "      <th>3</th>\n",
       "      <td>11.2</td>\n",
       "      <td>0.28</td>\n",
       "      <td>0.56</td>\n",
       "      <td>1.9</td>\n",
       "      <td>0.075</td>\n",
       "      <td>17.0</td>\n",
       "      <td>60.0</td>\n",
       "      <td>0.9980</td>\n",
       "      <td>3.16</td>\n",
       "      <td>0.58</td>\n",
       "      <td>9.8</td>\n",
       "      <td>4</td>\n",
       "      <td>red</td>\n",
       "    </tr>\n",
       "    <tr>\n",
       "      <th>4</th>\n",
       "      <td>7.4</td>\n",
       "      <td>0.66</td>\n",
       "      <td>0.00</td>\n",
       "      <td>1.8</td>\n",
       "      <td>0.075</td>\n",
       "      <td>13.0</td>\n",
       "      <td>40.0</td>\n",
       "      <td>0.9978</td>\n",
       "      <td>3.51</td>\n",
       "      <td>0.56</td>\n",
       "      <td>9.4</td>\n",
       "      <td>3</td>\n",
       "      <td>red</td>\n",
       "    </tr>\n",
       "  </tbody>\n",
       "</table>\n",
       "</div>"
      ],
      "text/plain": [
       "   fixed.acidity  volatile.acidity  citric.acid  residual.sugar  chlorides  \\\n",
       "0            7.4              0.70         0.00             1.9      0.076   \n",
       "1            7.8              0.88         0.00             2.6      0.098   \n",
       "2            7.8              0.76         0.04             2.3      0.092   \n",
       "3           11.2              0.28         0.56             1.9      0.075   \n",
       "4            7.4              0.66         0.00             1.8      0.075   \n",
       "\n",
       "   free.sulfur.dioxide  total.sulfur.dioxide  density    pH  sulphates  \\\n",
       "0                 11.0                  34.0   0.9978  3.51       0.56   \n",
       "1                 25.0                  67.0   0.9968  3.20       0.68   \n",
       "2                 15.0                  54.0   0.9970  3.26       0.65   \n",
       "3                 17.0                  60.0   0.9980  3.16       0.58   \n",
       "4                 13.0                  40.0   0.9978  3.51       0.56   \n",
       "\n",
       "   alcohol  response color  \n",
       "0      9.4         3   red  \n",
       "1      9.8         3   red  \n",
       "2      9.8         3   red  \n",
       "3      9.8         4   red  \n",
       "4      9.4         3   red  "
      ]
     },
     "execution_count": 6,
     "metadata": {},
     "output_type": "execute_result"
    }
   ],
   "source": [
    "wine.head()"
   ]
  },
  {
   "cell_type": "code",
   "execution_count": 5,
   "id": "41e77b9a",
   "metadata": {
    "tags": []
   },
   "outputs": [
    {
     "name": "stdout",
     "output_type": "stream",
     "text": [
      "<class 'pandas.core.frame.DataFrame'>\n",
      "RangeIndex: 5320 entries, 0 to 5319\n",
      "Data columns (total 13 columns):\n",
      " #   Column                Non-Null Count  Dtype   \n",
      "---  ------                --------------  -----   \n",
      " 0   fixed.acidity         5320 non-null   float64 \n",
      " 1   volatile.acidity      5320 non-null   float64 \n",
      " 2   citric.acid           5320 non-null   float64 \n",
      " 3   residual.sugar        5320 non-null   float64 \n",
      " 4   chlorides             5320 non-null   float64 \n",
      " 5   free.sulfur.dioxide   5320 non-null   float64 \n",
      " 6   total.sulfur.dioxide  5320 non-null   float64 \n",
      " 7   density               5320 non-null   float64 \n",
      " 8   pH                    5320 non-null   float64 \n",
      " 9   sulphates             5320 non-null   float64 \n",
      " 10  alcohol               5320 non-null   float64 \n",
      " 11  response              5320 non-null   int64   \n",
      " 12  color                 5320 non-null   category\n",
      "dtypes: category(1), float64(11), int64(1)\n",
      "memory usage: 504.2 KB\n"
     ]
    }
   ],
   "source": [
    "wine.info()"
   ]
  },
  {
   "cell_type": "code",
   "execution_count": 4,
   "id": "a785d0e3",
   "metadata": {
    "tags": []
   },
   "outputs": [],
   "source": [
    "wine.color = wine.color.astype(\"category\")"
   ]
  },
  {
   "cell_type": "code",
   "execution_count": 9,
   "id": "200c79c0",
   "metadata": {
    "tags": []
   },
   "outputs": [
    {
     "data": {
      "text/html": [
       "<div>\n",
       "<style scoped>\n",
       "    .dataframe tbody tr th:only-of-type {\n",
       "        vertical-align: middle;\n",
       "    }\n",
       "\n",
       "    .dataframe tbody tr th {\n",
       "        vertical-align: top;\n",
       "    }\n",
       "\n",
       "    .dataframe thead th {\n",
       "        text-align: right;\n",
       "    }\n",
       "</style>\n",
       "<table border=\"1\" class=\"dataframe\">\n",
       "  <thead>\n",
       "    <tr style=\"text-align: right;\">\n",
       "      <th></th>\n",
       "      <th>fixed.acidity</th>\n",
       "      <th>volatile.acidity</th>\n",
       "      <th>citric.acid</th>\n",
       "      <th>residual.sugar</th>\n",
       "      <th>chlorides</th>\n",
       "      <th>free.sulfur.dioxide</th>\n",
       "      <th>total.sulfur.dioxide</th>\n",
       "      <th>density</th>\n",
       "      <th>pH</th>\n",
       "      <th>sulphates</th>\n",
       "      <th>alcohol</th>\n",
       "    </tr>\n",
       "  </thead>\n",
       "  <tbody>\n",
       "    <tr>\n",
       "      <th>4914</th>\n",
       "      <td>6.2</td>\n",
       "      <td>0.21</td>\n",
       "      <td>0.52</td>\n",
       "      <td>6.5</td>\n",
       "      <td>0.047</td>\n",
       "      <td>28.0</td>\n",
       "      <td>123.0</td>\n",
       "      <td>0.99418</td>\n",
       "      <td>3.22</td>\n",
       "      <td>0.49</td>\n",
       "      <td>9.9</td>\n",
       "    </tr>\n",
       "    <tr>\n",
       "      <th>3480</th>\n",
       "      <td>7.6</td>\n",
       "      <td>0.23</td>\n",
       "      <td>0.64</td>\n",
       "      <td>12.9</td>\n",
       "      <td>0.033</td>\n",
       "      <td>54.0</td>\n",
       "      <td>170.0</td>\n",
       "      <td>0.99800</td>\n",
       "      <td>3.00</td>\n",
       "      <td>0.53</td>\n",
       "      <td>8.8</td>\n",
       "    </tr>\n",
       "    <tr>\n",
       "      <th>4588</th>\n",
       "      <td>6.7</td>\n",
       "      <td>0.28</td>\n",
       "      <td>0.34</td>\n",
       "      <td>8.9</td>\n",
       "      <td>0.048</td>\n",
       "      <td>32.0</td>\n",
       "      <td>111.0</td>\n",
       "      <td>0.99455</td>\n",
       "      <td>3.25</td>\n",
       "      <td>0.54</td>\n",
       "      <td>11.0</td>\n",
       "    </tr>\n",
       "    <tr>\n",
       "      <th>925</th>\n",
       "      <td>7.9</td>\n",
       "      <td>0.19</td>\n",
       "      <td>0.42</td>\n",
       "      <td>1.6</td>\n",
       "      <td>0.057</td>\n",
       "      <td>18.0</td>\n",
       "      <td>30.0</td>\n",
       "      <td>0.99400</td>\n",
       "      <td>3.29</td>\n",
       "      <td>0.69</td>\n",
       "      <td>11.2</td>\n",
       "    </tr>\n",
       "    <tr>\n",
       "      <th>4701</th>\n",
       "      <td>6.8</td>\n",
       "      <td>0.28</td>\n",
       "      <td>0.29</td>\n",
       "      <td>11.9</td>\n",
       "      <td>0.052</td>\n",
       "      <td>51.0</td>\n",
       "      <td>149.0</td>\n",
       "      <td>0.99544</td>\n",
       "      <td>3.02</td>\n",
       "      <td>0.58</td>\n",
       "      <td>10.4</td>\n",
       "    </tr>\n",
       "    <tr>\n",
       "      <th>2144</th>\n",
       "      <td>6.1</td>\n",
       "      <td>0.27</td>\n",
       "      <td>0.44</td>\n",
       "      <td>6.7</td>\n",
       "      <td>0.041</td>\n",
       "      <td>61.0</td>\n",
       "      <td>230.0</td>\n",
       "      <td>0.99505</td>\n",
       "      <td>3.12</td>\n",
       "      <td>0.40</td>\n",
       "      <td>8.9</td>\n",
       "    </tr>\n",
       "    <tr>\n",
       "      <th>1436</th>\n",
       "      <td>6.1</td>\n",
       "      <td>0.27</td>\n",
       "      <td>0.43</td>\n",
       "      <td>7.5</td>\n",
       "      <td>0.049</td>\n",
       "      <td>65.0</td>\n",
       "      <td>243.0</td>\n",
       "      <td>0.99570</td>\n",
       "      <td>3.12</td>\n",
       "      <td>0.47</td>\n",
       "      <td>9.0</td>\n",
       "    </tr>\n",
       "    <tr>\n",
       "      <th>2436</th>\n",
       "      <td>6.2</td>\n",
       "      <td>0.22</td>\n",
       "      <td>0.27</td>\n",
       "      <td>1.5</td>\n",
       "      <td>0.064</td>\n",
       "      <td>20.0</td>\n",
       "      <td>132.0</td>\n",
       "      <td>0.99380</td>\n",
       "      <td>3.22</td>\n",
       "      <td>0.46</td>\n",
       "      <td>9.2</td>\n",
       "    </tr>\n",
       "    <tr>\n",
       "      <th>4457</th>\n",
       "      <td>6.8</td>\n",
       "      <td>0.41</td>\n",
       "      <td>0.30</td>\n",
       "      <td>8.8</td>\n",
       "      <td>0.045</td>\n",
       "      <td>28.0</td>\n",
       "      <td>131.0</td>\n",
       "      <td>0.99530</td>\n",
       "      <td>3.12</td>\n",
       "      <td>0.59</td>\n",
       "      <td>9.9</td>\n",
       "    </tr>\n",
       "    <tr>\n",
       "      <th>1945</th>\n",
       "      <td>7.5</td>\n",
       "      <td>0.31</td>\n",
       "      <td>0.51</td>\n",
       "      <td>14.8</td>\n",
       "      <td>0.039</td>\n",
       "      <td>62.0</td>\n",
       "      <td>204.0</td>\n",
       "      <td>0.99820</td>\n",
       "      <td>3.06</td>\n",
       "      <td>0.60</td>\n",
       "      <td>9.5</td>\n",
       "    </tr>\n",
       "  </tbody>\n",
       "</table>\n",
       "</div>"
      ],
      "text/plain": [
       "      fixed.acidity  volatile.acidity  citric.acid  residual.sugar  chlorides  \\\n",
       "4914            6.2              0.21         0.52             6.5      0.047   \n",
       "3480            7.6              0.23         0.64            12.9      0.033   \n",
       "4588            6.7              0.28         0.34             8.9      0.048   \n",
       "925             7.9              0.19         0.42             1.6      0.057   \n",
       "4701            6.8              0.28         0.29            11.9      0.052   \n",
       "2144            6.1              0.27         0.44             6.7      0.041   \n",
       "1436            6.1              0.27         0.43             7.5      0.049   \n",
       "2436            6.2              0.22         0.27             1.5      0.064   \n",
       "4457            6.8              0.41         0.30             8.8      0.045   \n",
       "1945            7.5              0.31         0.51            14.8      0.039   \n",
       "\n",
       "      free.sulfur.dioxide  total.sulfur.dioxide  density    pH  sulphates  \\\n",
       "4914                 28.0                 123.0  0.99418  3.22       0.49   \n",
       "3480                 54.0                 170.0  0.99800  3.00       0.53   \n",
       "4588                 32.0                 111.0  0.99455  3.25       0.54   \n",
       "925                  18.0                  30.0  0.99400  3.29       0.69   \n",
       "4701                 51.0                 149.0  0.99544  3.02       0.58   \n",
       "2144                 61.0                 230.0  0.99505  3.12       0.40   \n",
       "1436                 65.0                 243.0  0.99570  3.12       0.47   \n",
       "2436                 20.0                 132.0  0.99380  3.22       0.46   \n",
       "4457                 28.0                 131.0  0.99530  3.12       0.59   \n",
       "1945                 62.0                 204.0  0.99820  3.06       0.60   \n",
       "\n",
       "      alcohol  \n",
       "4914      9.9  \n",
       "3480      8.8  \n",
       "4588     11.0  \n",
       "925      11.2  \n",
       "4701     10.4  \n",
       "2144      8.9  \n",
       "1436      9.0  \n",
       "2436      9.2  \n",
       "4457      9.9  \n",
       "1945      9.5  "
      ]
     },
     "execution_count": 9,
     "metadata": {},
     "output_type": "execute_result"
    }
   ],
   "source": [
    "#do celów analizy będziemy działać na wystandaryzowanym losowym podzbiorze zbioru winequality\n",
    "np.random.seed(123)\n",
    "wine_sample = wine.sample(n=1000, random_state=123)\n",
    "X = wine_sample.iloc[:, :11]\n",
    "X[0:10] #próbka"
   ]
  },
  {
   "cell_type": "code",
   "execution_count": 10,
   "id": "1c3d4443",
   "metadata": {
    "tags": []
   },
   "outputs": [
    {
     "data": {
      "text/html": [
       "<div>\n",
       "<style scoped>\n",
       "    .dataframe tbody tr th:only-of-type {\n",
       "        vertical-align: middle;\n",
       "    }\n",
       "\n",
       "    .dataframe tbody tr th {\n",
       "        vertical-align: top;\n",
       "    }\n",
       "\n",
       "    .dataframe thead th {\n",
       "        text-align: right;\n",
       "    }\n",
       "</style>\n",
       "<table border=\"1\" class=\"dataframe\">\n",
       "  <thead>\n",
       "    <tr style=\"text-align: right;\">\n",
       "      <th></th>\n",
       "      <th>fixed.acidity</th>\n",
       "      <th>volatile.acidity</th>\n",
       "      <th>citric.acid</th>\n",
       "      <th>residual.sugar</th>\n",
       "      <th>chlorides</th>\n",
       "      <th>free.sulfur.dioxide</th>\n",
       "      <th>total.sulfur.dioxide</th>\n",
       "      <th>density</th>\n",
       "      <th>pH</th>\n",
       "      <th>sulphates</th>\n",
       "      <th>alcohol</th>\n",
       "    </tr>\n",
       "  </thead>\n",
       "  <tbody>\n",
       "    <tr>\n",
       "      <th>4914</th>\n",
       "      <td>-0.799041</td>\n",
       "      <td>-0.786967</td>\n",
       "      <td>1.249415</td>\n",
       "      <td>0.351068</td>\n",
       "      <td>-0.245932</td>\n",
       "      <td>-0.129954</td>\n",
       "      <td>0.137933</td>\n",
       "      <td>-0.122321</td>\n",
       "      <td>0.076348</td>\n",
       "      <td>-0.278833</td>\n",
       "      <td>-0.528566</td>\n",
       "    </tr>\n",
       "    <tr>\n",
       "      <th>3480</th>\n",
       "      <td>0.218383</td>\n",
       "      <td>-0.666141</td>\n",
       "      <td>2.051908</td>\n",
       "      <td>1.826093</td>\n",
       "      <td>-0.602613</td>\n",
       "      <td>1.317687</td>\n",
       "      <td>0.970347</td>\n",
       "      <td>1.160359</td>\n",
       "      <td>-1.336314</td>\n",
       "      <td>-0.015410</td>\n",
       "      <td>-1.463897</td>\n",
       "    </tr>\n",
       "    <tr>\n",
       "      <th>4588</th>\n",
       "      <td>-0.435675</td>\n",
       "      <td>-0.364077</td>\n",
       "      <td>0.045675</td>\n",
       "      <td>0.904202</td>\n",
       "      <td>-0.220454</td>\n",
       "      <td>0.092760</td>\n",
       "      <td>-0.074598</td>\n",
       "      <td>0.001917</td>\n",
       "      <td>0.268984</td>\n",
       "      <td>0.050445</td>\n",
       "      <td>0.406764</td>\n",
       "    </tr>\n",
       "    <tr>\n",
       "      <th>925</th>\n",
       "      <td>0.436402</td>\n",
       "      <td>-0.907792</td>\n",
       "      <td>0.580671</td>\n",
       "      <td>-0.778249</td>\n",
       "      <td>0.008841</td>\n",
       "      <td>-0.686738</td>\n",
       "      <td>-1.509185</td>\n",
       "      <td>-0.182762</td>\n",
       "      <td>0.525831</td>\n",
       "      <td>1.038280</td>\n",
       "      <td>0.576824</td>\n",
       "    </tr>\n",
       "    <tr>\n",
       "      <th>4701</th>\n",
       "      <td>-0.363002</td>\n",
       "      <td>-0.364077</td>\n",
       "      <td>-0.288697</td>\n",
       "      <td>1.595621</td>\n",
       "      <td>-0.118546</td>\n",
       "      <td>1.150651</td>\n",
       "      <td>0.598417</td>\n",
       "      <td>0.300762</td>\n",
       "      <td>-1.207890</td>\n",
       "      <td>0.313868</td>\n",
       "      <td>-0.103416</td>\n",
       "    </tr>\n",
       "    <tr>\n",
       "      <th>2144</th>\n",
       "      <td>-0.871714</td>\n",
       "      <td>-0.424490</td>\n",
       "      <td>0.714420</td>\n",
       "      <td>0.397162</td>\n",
       "      <td>-0.398795</td>\n",
       "      <td>1.707436</td>\n",
       "      <td>2.033003</td>\n",
       "      <td>0.169807</td>\n",
       "      <td>-0.565771</td>\n",
       "      <td>-0.871534</td>\n",
       "      <td>-1.378867</td>\n",
       "    </tr>\n",
       "    <tr>\n",
       "      <th>1436</th>\n",
       "      <td>-0.871714</td>\n",
       "      <td>-0.424490</td>\n",
       "      <td>0.647545</td>\n",
       "      <td>0.581540</td>\n",
       "      <td>-0.194977</td>\n",
       "      <td>1.930150</td>\n",
       "      <td>2.263246</td>\n",
       "      <td>0.388064</td>\n",
       "      <td>-0.565771</td>\n",
       "      <td>-0.410544</td>\n",
       "      <td>-1.293837</td>\n",
       "    </tr>\n",
       "    <tr>\n",
       "      <th>2436</th>\n",
       "      <td>-0.799041</td>\n",
       "      <td>-0.726554</td>\n",
       "      <td>-0.422446</td>\n",
       "      <td>-0.801296</td>\n",
       "      <td>0.187181</td>\n",
       "      <td>-0.575381</td>\n",
       "      <td>0.297331</td>\n",
       "      <td>-0.249918</td>\n",
       "      <td>0.076348</td>\n",
       "      <td>-0.476400</td>\n",
       "      <td>-1.123777</td>\n",
       "    </tr>\n",
       "    <tr>\n",
       "      <th>4457</th>\n",
       "      <td>-0.363002</td>\n",
       "      <td>0.421288</td>\n",
       "      <td>-0.221822</td>\n",
       "      <td>0.881155</td>\n",
       "      <td>-0.296886</td>\n",
       "      <td>-0.129954</td>\n",
       "      <td>0.279620</td>\n",
       "      <td>0.253752</td>\n",
       "      <td>-0.565771</td>\n",
       "      <td>0.379724</td>\n",
       "      <td>-0.528566</td>\n",
       "    </tr>\n",
       "    <tr>\n",
       "      <th>1945</th>\n",
       "      <td>0.145710</td>\n",
       "      <td>-0.182839</td>\n",
       "      <td>1.182541</td>\n",
       "      <td>2.263992</td>\n",
       "      <td>-0.449749</td>\n",
       "      <td>1.763115</td>\n",
       "      <td>1.572519</td>\n",
       "      <td>1.227515</td>\n",
       "      <td>-0.951043</td>\n",
       "      <td>0.445579</td>\n",
       "      <td>-0.868686</td>\n",
       "    </tr>\n",
       "  </tbody>\n",
       "</table>\n",
       "</div>"
      ],
      "text/plain": [
       "      fixed.acidity  volatile.acidity  citric.acid  residual.sugar  chlorides  \\\n",
       "4914      -0.799041         -0.786967     1.249415        0.351068  -0.245932   \n",
       "3480       0.218383         -0.666141     2.051908        1.826093  -0.602613   \n",
       "4588      -0.435675         -0.364077     0.045675        0.904202  -0.220454   \n",
       "925        0.436402         -0.907792     0.580671       -0.778249   0.008841   \n",
       "4701      -0.363002         -0.364077    -0.288697        1.595621  -0.118546   \n",
       "2144      -0.871714         -0.424490     0.714420        0.397162  -0.398795   \n",
       "1436      -0.871714         -0.424490     0.647545        0.581540  -0.194977   \n",
       "2436      -0.799041         -0.726554    -0.422446       -0.801296   0.187181   \n",
       "4457      -0.363002          0.421288    -0.221822        0.881155  -0.296886   \n",
       "1945       0.145710         -0.182839     1.182541        2.263992  -0.449749   \n",
       "\n",
       "      free.sulfur.dioxide  total.sulfur.dioxide   density        pH  \\\n",
       "4914            -0.129954              0.137933 -0.122321  0.076348   \n",
       "3480             1.317687              0.970347  1.160359 -1.336314   \n",
       "4588             0.092760             -0.074598  0.001917  0.268984   \n",
       "925             -0.686738             -1.509185 -0.182762  0.525831   \n",
       "4701             1.150651              0.598417  0.300762 -1.207890   \n",
       "2144             1.707436              2.033003  0.169807 -0.565771   \n",
       "1436             1.930150              2.263246  0.388064 -0.565771   \n",
       "2436            -0.575381              0.297331 -0.249918  0.076348   \n",
       "4457            -0.129954              0.279620  0.253752 -0.565771   \n",
       "1945             1.763115              1.572519  1.227515 -0.951043   \n",
       "\n",
       "      sulphates   alcohol  \n",
       "4914  -0.278833 -0.528566  \n",
       "3480  -0.015410 -1.463897  \n",
       "4588   0.050445  0.406764  \n",
       "925    1.038280  0.576824  \n",
       "4701   0.313868 -0.103416  \n",
       "2144  -0.871534 -1.378867  \n",
       "1436  -0.410544 -1.293837  \n",
       "2436  -0.476400 -1.123777  \n",
       "4457   0.379724 -0.528566  \n",
       "1945   0.445579 -0.868686  "
      ]
     },
     "execution_count": 10,
     "metadata": {},
     "output_type": "execute_result"
    }
   ],
   "source": [
    "#standaryzacja\n",
    "X = (X - X.mean())/X.std()\n",
    "X[0:10]"
   ]
  },
  {
   "cell_type": "code",
   "execution_count": 11,
   "id": "3706c55a",
   "metadata": {
    "tags": []
   },
   "outputs": [
    {
     "data": {
      "text/html": [
       "<div>\n",
       "<style scoped>\n",
       "    .dataframe tbody tr th:only-of-type {\n",
       "        vertical-align: middle;\n",
       "    }\n",
       "\n",
       "    .dataframe tbody tr th {\n",
       "        vertical-align: top;\n",
       "    }\n",
       "\n",
       "    .dataframe thead th {\n",
       "        text-align: right;\n",
       "    }\n",
       "</style>\n",
       "<table border=\"1\" class=\"dataframe\">\n",
       "  <thead>\n",
       "    <tr style=\"text-align: right;\">\n",
       "      <th></th>\n",
       "      <th>fixed.acidity</th>\n",
       "      <th>volatile.acidity</th>\n",
       "      <th>citric.acid</th>\n",
       "      <th>residual.sugar</th>\n",
       "      <th>chlorides</th>\n",
       "      <th>free.sulfur.dioxide</th>\n",
       "      <th>total.sulfur.dioxide</th>\n",
       "      <th>density</th>\n",
       "      <th>pH</th>\n",
       "      <th>sulphates</th>\n",
       "      <th>alcohol</th>\n",
       "    </tr>\n",
       "  </thead>\n",
       "  <tbody>\n",
       "    <tr>\n",
       "      <th>count</th>\n",
       "      <td>1.000000e+03</td>\n",
       "      <td>1.000000e+03</td>\n",
       "      <td>1.000000e+03</td>\n",
       "      <td>1.000000e+03</td>\n",
       "      <td>1.000000e+03</td>\n",
       "      <td>1.000000e+03</td>\n",
       "      <td>1.000000e+03</td>\n",
       "      <td>1.000000e+03</td>\n",
       "      <td>1.000000e+03</td>\n",
       "      <td>1.000000e+03</td>\n",
       "      <td>1.000000e+03</td>\n",
       "    </tr>\n",
       "    <tr>\n",
       "      <th>mean</th>\n",
       "      <td>-7.638334e-17</td>\n",
       "      <td>1.012523e-16</td>\n",
       "      <td>-1.296740e-16</td>\n",
       "      <td>1.065814e-17</td>\n",
       "      <td>-2.202682e-16</td>\n",
       "      <td>1.421085e-17</td>\n",
       "      <td>-5.773160e-17</td>\n",
       "      <td>7.087664e-16</td>\n",
       "      <td>2.789768e-15</td>\n",
       "      <td>5.240253e-16</td>\n",
       "      <td>6.714629e-16</td>\n",
       "    </tr>\n",
       "    <tr>\n",
       "      <th>std</th>\n",
       "      <td>1.000000e+00</td>\n",
       "      <td>1.000000e+00</td>\n",
       "      <td>1.000000e+00</td>\n",
       "      <td>1.000000e+00</td>\n",
       "      <td>1.000000e+00</td>\n",
       "      <td>1.000000e+00</td>\n",
       "      <td>1.000000e+00</td>\n",
       "      <td>1.000000e+00</td>\n",
       "      <td>1.000000e+00</td>\n",
       "      <td>1.000000e+00</td>\n",
       "      <td>1.000000e+00</td>\n",
       "    </tr>\n",
       "    <tr>\n",
       "      <th>min</th>\n",
       "      <td>-1.816465e+00</td>\n",
       "      <td>-1.572333e+00</td>\n",
       "      <td>-2.228055e+00</td>\n",
       "      <td>-9.856744e-01</td>\n",
       "      <td>-1.214066e+00</td>\n",
       "      <td>-1.521915e+00</td>\n",
       "      <td>-1.934247e+00</td>\n",
       "      <td>-2.398910e+00</td>\n",
       "      <td>-2.620553e+00</td>\n",
       "      <td>-1.991080e+00</td>\n",
       "      <td>-1.804017e+00</td>\n",
       "    </tr>\n",
       "    <tr>\n",
       "      <th>25%</th>\n",
       "      <td>-6.536948e-01</td>\n",
       "      <td>-6.661413e-01</td>\n",
       "      <td>-5.060388e-01</td>\n",
       "      <td>-7.552016e-01</td>\n",
       "      <td>-5.007038e-01</td>\n",
       "      <td>-7.424168e-01</td>\n",
       "      <td>-6.767705e-01</td>\n",
       "      <td>-8.543219e-01</td>\n",
       "      <td>-6.941951e-01</td>\n",
       "      <td>-6.739668e-01</td>\n",
       "      <td>-8.686865e-01</td>\n",
       "    </tr>\n",
       "    <tr>\n",
       "      <th>50%</th>\n",
       "      <td>-2.176560e-01</td>\n",
       "      <td>-2.432520e-01</td>\n",
       "      <td>-8.807363e-02</td>\n",
       "      <td>-5.247289e-01</td>\n",
       "      <td>-2.586702e-01</td>\n",
       "      <td>-1.299536e-01</td>\n",
       "      <td>4.937810e-02</td>\n",
       "      <td>1.870631e-02</td>\n",
       "      <td>-5.207587e-02</td>\n",
       "      <td>-1.471215e-01</td>\n",
       "      <td>-1.034163e-01</td>\n",
       "    </tr>\n",
       "    <tr>\n",
       "      <th>75%</th>\n",
       "      <td>3.637290e-01</td>\n",
       "      <td>3.608756e-01</td>\n",
       "      <td>4.469218e-01</td>\n",
       "      <td>5.584931e-01</td>\n",
       "      <td>2.190277e-01</td>\n",
       "      <td>5.938666e-01</td>\n",
       "      <td>6.515501e-01</td>\n",
       "      <td>7.616197e-01</td>\n",
       "      <td>5.900433e-01</td>\n",
       "      <td>4.620433e-01</td>\n",
       "      <td>6.618538e-01</td>\n",
       "    </tr>\n",
       "    <tr>\n",
       "      <th>max</th>\n",
       "      <td>6.032233e+00</td>\n",
       "      <td>5.979262e+00</td>\n",
       "      <td>5.997500e+00</td>\n",
       "      <td>3.347214e+00</td>\n",
       "      <td>9.308026e+00</td>\n",
       "      <td>5.437894e+00</td>\n",
       "      <td>4.450547e+00</td>\n",
       "      <td>2.906415e+00</td>\n",
       "      <td>5.149090e+00</td>\n",
       "      <td>7.162857e+00</td>\n",
       "      <td>2.617544e+00</td>\n",
       "    </tr>\n",
       "  </tbody>\n",
       "</table>\n",
       "</div>"
      ],
      "text/plain": [
       "       fixed.acidity  volatile.acidity   citric.acid  residual.sugar  \\\n",
       "count   1.000000e+03      1.000000e+03  1.000000e+03    1.000000e+03   \n",
       "mean   -7.638334e-17      1.012523e-16 -1.296740e-16    1.065814e-17   \n",
       "std     1.000000e+00      1.000000e+00  1.000000e+00    1.000000e+00   \n",
       "min    -1.816465e+00     -1.572333e+00 -2.228055e+00   -9.856744e-01   \n",
       "25%    -6.536948e-01     -6.661413e-01 -5.060388e-01   -7.552016e-01   \n",
       "50%    -2.176560e-01     -2.432520e-01 -8.807363e-02   -5.247289e-01   \n",
       "75%     3.637290e-01      3.608756e-01  4.469218e-01    5.584931e-01   \n",
       "max     6.032233e+00      5.979262e+00  5.997500e+00    3.347214e+00   \n",
       "\n",
       "          chlorides  free.sulfur.dioxide  total.sulfur.dioxide       density  \\\n",
       "count  1.000000e+03         1.000000e+03          1.000000e+03  1.000000e+03   \n",
       "mean  -2.202682e-16         1.421085e-17         -5.773160e-17  7.087664e-16   \n",
       "std    1.000000e+00         1.000000e+00          1.000000e+00  1.000000e+00   \n",
       "min   -1.214066e+00        -1.521915e+00         -1.934247e+00 -2.398910e+00   \n",
       "25%   -5.007038e-01        -7.424168e-01         -6.767705e-01 -8.543219e-01   \n",
       "50%   -2.586702e-01        -1.299536e-01          4.937810e-02  1.870631e-02   \n",
       "75%    2.190277e-01         5.938666e-01          6.515501e-01  7.616197e-01   \n",
       "max    9.308026e+00         5.437894e+00          4.450547e+00  2.906415e+00   \n",
       "\n",
       "                 pH     sulphates       alcohol  \n",
       "count  1.000000e+03  1.000000e+03  1.000000e+03  \n",
       "mean   2.789768e-15  5.240253e-16  6.714629e-16  \n",
       "std    1.000000e+00  1.000000e+00  1.000000e+00  \n",
       "min   -2.620553e+00 -1.991080e+00 -1.804017e+00  \n",
       "25%   -6.941951e-01 -6.739668e-01 -8.686865e-01  \n",
       "50%   -5.207587e-02 -1.471215e-01 -1.034163e-01  \n",
       "75%    5.900433e-01  4.620433e-01  6.618538e-01  \n",
       "max    5.149090e+00  7.162857e+00  2.617544e+00  "
      ]
     },
     "execution_count": 11,
     "metadata": {},
     "output_type": "execute_result"
    }
   ],
   "source": [
    "X.describe()"
   ]
  },
  {
   "cell_type": "code",
   "execution_count": 12,
   "id": "ed622741",
   "metadata": {
    "tags": []
   },
   "outputs": [],
   "source": [
    "import sklearn.cluster"
   ]
  },
  {
   "cell_type": "code",
   "execution_count": 13,
   "id": "85bc7edf",
   "metadata": {
    "tags": []
   },
   "outputs": [
    {
     "name": "stderr",
     "output_type": "stream",
     "text": [
      "/opt/conda/lib/python3.10/site-packages/sklearn/cluster/_kmeans.py:870: FutureWarning: The default value of `n_init` will change from 10 to 'auto' in 1.4. Set the value of `n_init` explicitly to suppress the warning\n",
      "  warnings.warn(\n"
     ]
    },
    {
     "data": {
      "text/html": [
       "<style>#sk-container-id-1 {color: black;background-color: white;}#sk-container-id-1 pre{padding: 0;}#sk-container-id-1 div.sk-toggleable {background-color: white;}#sk-container-id-1 label.sk-toggleable__label {cursor: pointer;display: block;width: 100%;margin-bottom: 0;padding: 0.3em;box-sizing: border-box;text-align: center;}#sk-container-id-1 label.sk-toggleable__label-arrow:before {content: \"▸\";float: left;margin-right: 0.25em;color: #696969;}#sk-container-id-1 label.sk-toggleable__label-arrow:hover:before {color: black;}#sk-container-id-1 div.sk-estimator:hover label.sk-toggleable__label-arrow:before {color: black;}#sk-container-id-1 div.sk-toggleable__content {max-height: 0;max-width: 0;overflow: hidden;text-align: left;background-color: #f0f8ff;}#sk-container-id-1 div.sk-toggleable__content pre {margin: 0.2em;color: black;border-radius: 0.25em;background-color: #f0f8ff;}#sk-container-id-1 input.sk-toggleable__control:checked~div.sk-toggleable__content {max-height: 200px;max-width: 100%;overflow: auto;}#sk-container-id-1 input.sk-toggleable__control:checked~label.sk-toggleable__label-arrow:before {content: \"▾\";}#sk-container-id-1 div.sk-estimator input.sk-toggleable__control:checked~label.sk-toggleable__label {background-color: #d4ebff;}#sk-container-id-1 div.sk-label input.sk-toggleable__control:checked~label.sk-toggleable__label {background-color: #d4ebff;}#sk-container-id-1 input.sk-hidden--visually {border: 0;clip: rect(1px 1px 1px 1px);clip: rect(1px, 1px, 1px, 1px);height: 1px;margin: -1px;overflow: hidden;padding: 0;position: absolute;width: 1px;}#sk-container-id-1 div.sk-estimator {font-family: monospace;background-color: #f0f8ff;border: 1px dotted black;border-radius: 0.25em;box-sizing: border-box;margin-bottom: 0.5em;}#sk-container-id-1 div.sk-estimator:hover {background-color: #d4ebff;}#sk-container-id-1 div.sk-parallel-item::after {content: \"\";width: 100%;border-bottom: 1px solid gray;flex-grow: 1;}#sk-container-id-1 div.sk-label:hover label.sk-toggleable__label {background-color: #d4ebff;}#sk-container-id-1 div.sk-serial::before {content: \"\";position: absolute;border-left: 1px solid gray;box-sizing: border-box;top: 0;bottom: 0;left: 50%;z-index: 0;}#sk-container-id-1 div.sk-serial {display: flex;flex-direction: column;align-items: center;background-color: white;padding-right: 0.2em;padding-left: 0.2em;position: relative;}#sk-container-id-1 div.sk-item {position: relative;z-index: 1;}#sk-container-id-1 div.sk-parallel {display: flex;align-items: stretch;justify-content: center;background-color: white;position: relative;}#sk-container-id-1 div.sk-item::before, #sk-container-id-1 div.sk-parallel-item::before {content: \"\";position: absolute;border-left: 1px solid gray;box-sizing: border-box;top: 0;bottom: 0;left: 50%;z-index: -1;}#sk-container-id-1 div.sk-parallel-item {display: flex;flex-direction: column;z-index: 1;position: relative;background-color: white;}#sk-container-id-1 div.sk-parallel-item:first-child::after {align-self: flex-end;width: 50%;}#sk-container-id-1 div.sk-parallel-item:last-child::after {align-self: flex-start;width: 50%;}#sk-container-id-1 div.sk-parallel-item:only-child::after {width: 0;}#sk-container-id-1 div.sk-dashed-wrapped {border: 1px dashed gray;margin: 0 0.4em 0.5em 0.4em;box-sizing: border-box;padding-bottom: 0.4em;background-color: white;}#sk-container-id-1 div.sk-label label {font-family: monospace;font-weight: bold;display: inline-block;line-height: 1.2em;}#sk-container-id-1 div.sk-label-container {text-align: center;}#sk-container-id-1 div.sk-container {/* jupyter's `normalize.less` sets `[hidden] { display: none; }` but bootstrap.min.css set `[hidden] { display: none !important; }` so we also need the `!important` here to be able to override the default hidden behavior on the sphinx rendered scikit-learn.org. See: https://github.com/scikit-learn/scikit-learn/issues/21755 */display: inline-block !important;position: relative;}#sk-container-id-1 div.sk-text-repr-fallback {display: none;}</style><div id=\"sk-container-id-1\" class=\"sk-top-container\"><div class=\"sk-text-repr-fallback\"><pre>KMeans(n_clusters=2, random_state=123)</pre><b>In a Jupyter environment, please rerun this cell to show the HTML representation or trust the notebook. <br />On GitHub, the HTML representation is unable to render, please try loading this page with nbviewer.org.</b></div><div class=\"sk-container\" hidden><div class=\"sk-item\"><div class=\"sk-estimator sk-toggleable\"><input class=\"sk-toggleable__control sk-hidden--visually\" id=\"sk-estimator-id-1\" type=\"checkbox\" checked><label for=\"sk-estimator-id-1\" class=\"sk-toggleable__label sk-toggleable__label-arrow\">KMeans</label><div class=\"sk-toggleable__content\"><pre>KMeans(n_clusters=2, random_state=123)</pre></div></div></div></div></div>"
      ],
      "text/plain": [
       "KMeans(n_clusters=2, random_state=123)"
      ]
     },
     "execution_count": 13,
     "metadata": {},
     "output_type": "execute_result"
    }
   ],
   "source": [
    "km = sklearn.cluster.KMeans(n_clusters=2, random_state=123)\n",
    "km.fit(X)"
   ]
  },
  {
   "cell_type": "code",
   "execution_count": 14,
   "id": "77e2c4c0",
   "metadata": {
    "tags": []
   },
   "outputs": [
    {
     "data": {
      "text/plain": [
       "Index(['fixed.acidity', 'volatile.acidity', 'citric.acid', 'residual.sugar',\n",
       "       'chlorides', 'free.sulfur.dioxide', 'total.sulfur.dioxide', 'density',\n",
       "       'pH', 'sulphates', 'alcohol'],\n",
       "      dtype='object')"
      ]
     },
     "execution_count": 14,
     "metadata": {},
     "output_type": "execute_result"
    }
   ],
   "source": [
    "X.columns"
   ]
  },
  {
   "cell_type": "code",
   "execution_count": 15,
   "id": "c318986e",
   "metadata": {
    "tags": []
   },
   "outputs": [
    {
     "data": {
      "text/plain": [
       "array([[-0.31442346, -0.37891712,  0.0779904 ,  0.19269109, -0.30252867,\n",
       "         0.27620036,  0.39558539, -0.2684375 , -0.1742078 , -0.29147362,\n",
       "         0.05877604],\n",
       "       [ 0.91860973,  1.10703236, -0.2278543 , -0.56296023,  0.88385827,\n",
       "        -0.80693831, -1.15572985,  0.78425857,  0.50896003,  0.8515602 ,\n",
       "        -0.17171823]])"
      ]
     },
     "execution_count": 15,
     "metadata": {},
     "output_type": "execute_result"
    }
   ],
   "source": [
    "km.cluster_centers_"
   ]
  },
  {
   "cell_type": "code",
   "execution_count": 16,
   "id": "f672d9fb",
   "metadata": {
    "tags": []
   },
   "outputs": [
    {
     "data": {
      "text/plain": [
       "array([0, 0, 0, 1, 0, 0, 0, 0, 0, 0, 1, 0, 0, 0, 1, 0, 0, 1, 0, 0, 1, 0,\n",
       "       0, 1, 0, 0, 1, 1, 1, 0, 0, 0, 1, 0, 0, 0, 0, 0, 1, 0, 0, 0, 0, 1,\n",
       "       1, 0, 1, 0, 0, 0, 0, 0, 0, 0, 0, 0, 0, 0, 0, 0, 0, 0, 0, 0, 0, 0,\n",
       "       0, 0, 0, 0, 0, 0, 0, 0, 1, 0, 0, 1, 0, 0, 0, 0, 0, 0, 0, 0, 0, 0,\n",
       "       1, 0, 0, 0, 0, 0, 0, 0, 0, 1, 0, 0, 0, 1, 0, 0, 0, 1, 1, 0, 0, 0,\n",
       "       0, 1, 1, 0, 1, 0, 1, 0, 0, 0, 0, 0, 0, 0, 1, 0, 0, 0, 0, 0, 1, 0,\n",
       "       0, 0, 1, 0, 0, 0, 0, 0, 0, 0, 0, 0, 1, 0, 1, 1, 0, 0, 0, 0, 0, 1,\n",
       "       0, 0, 1, 0, 0, 0, 0, 0, 1, 1, 1, 0, 0, 0, 0, 0, 1, 0, 0, 0, 0, 0,\n",
       "       0, 0, 1, 0, 1, 1, 0, 0, 1, 1, 1, 0, 1, 0, 0, 0, 0, 0, 0, 0, 0, 1,\n",
       "       0, 0, 0, 0, 0, 1, 0, 1, 0, 1, 0, 0, 0, 1, 0, 0, 1, 0, 0, 0, 1, 0,\n",
       "       0, 0, 0, 0, 0, 1, 1, 0, 0, 0, 0, 0, 1, 0, 0, 1, 0, 0, 0, 0, 0, 0,\n",
       "       0, 1, 0, 0, 1, 1, 0, 1, 0, 0, 0, 0, 0, 1, 0, 0, 0, 0, 0, 0, 0, 0,\n",
       "       0, 0, 1, 0, 0, 1, 1, 0, 0, 0, 0, 0, 0, 1, 0, 0, 0, 0, 0, 1, 0, 0,\n",
       "       0, 0, 0, 0, 0, 0, 1, 0, 1, 0, 0, 0, 0, 0, 0, 0, 1, 0, 0, 0, 0, 1,\n",
       "       0, 0, 1, 0, 0, 0, 0, 1, 0, 0, 0, 1, 0, 0, 0, 0, 0, 0, 1, 0, 0, 0,\n",
       "       1, 0, 0, 1, 1, 1, 0, 1, 1, 0, 0, 0, 0, 0, 0, 1, 0, 0, 1, 0, 0, 1,\n",
       "       0, 0, 0, 0, 1, 0, 0, 0, 0, 0, 1, 1, 1, 0, 0, 0, 0, 0, 1, 0, 1, 0,\n",
       "       0, 1, 1, 1, 0, 0, 1, 0, 0, 0, 1, 0, 1, 0, 0, 0, 1, 0, 0, 0, 0, 1,\n",
       "       0, 1, 1, 0, 0, 0, 1, 0, 0, 0, 0, 0, 0, 0, 0, 0, 0, 0, 0, 0, 1, 0,\n",
       "       1, 0, 0, 0, 0, 0, 0, 0, 0, 0, 0, 1, 0, 0, 1, 1, 0, 0, 0, 0, 0, 0,\n",
       "       0, 1, 0, 0, 0, 0, 0, 1, 1, 0, 0, 0, 0, 0, 0, 1, 1, 0, 0, 0, 1, 0,\n",
       "       0, 1, 1, 0, 0, 0, 0, 0, 0, 0, 0, 0, 0, 0, 1, 0, 0, 1, 0, 0, 0, 1,\n",
       "       1, 1, 0, 0, 0, 1, 1, 0, 0, 0, 0, 0, 0, 1, 0, 0, 0, 0, 0, 0, 0, 0,\n",
       "       0, 0, 0, 1, 0, 0, 0, 0, 1, 1, 0, 0, 0, 1, 0, 0, 0, 1, 1, 1, 1, 0,\n",
       "       0, 1, 1, 0, 0, 1, 1, 0, 0, 0, 1, 0, 0, 0, 0, 0, 1, 1, 0, 0, 1, 1,\n",
       "       0, 0, 0, 0, 0, 1, 0, 0, 0, 0, 0, 0, 0, 1, 0, 0, 1, 0, 1, 0, 0, 1,\n",
       "       1, 0, 0, 0, 1, 0, 0, 0, 1, 0, 0, 0, 0, 1, 0, 0, 0, 0, 0, 0, 0, 1,\n",
       "       0, 0, 1, 0, 1, 0, 0, 0, 0, 1, 0, 1, 0, 0, 0, 0, 1, 0, 1, 0, 0, 0,\n",
       "       0, 0, 0, 0, 1, 0, 0, 0, 1, 1, 0, 0, 0, 0, 0, 0, 0, 0, 0, 0, 0, 1,\n",
       "       0, 0, 0, 1, 0, 0, 0, 1, 0, 0, 1, 1, 0, 0, 1, 0, 0, 0, 0, 0, 1, 0,\n",
       "       1, 0, 0, 0, 0, 1, 0, 0, 1, 0, 0, 0, 0, 0, 0, 0, 0, 0, 0, 0, 0, 1,\n",
       "       0, 0, 0, 1, 1, 0, 1, 1, 0, 0, 0, 0, 1, 0, 0, 0, 0, 0, 0, 1, 0, 1,\n",
       "       0, 0, 1, 0, 1, 0, 0, 0, 0, 0, 0, 0, 0, 0, 0, 0, 0, 1, 1, 0, 0, 0,\n",
       "       0, 1, 1, 1, 0, 0, 1, 1, 0, 0, 0, 0, 0, 1, 0, 1, 0, 0, 0, 0, 0, 1,\n",
       "       0, 0, 0, 0, 0, 0, 0, 1, 1, 0, 0, 0, 0, 0, 0, 0, 1, 0, 0, 0, 1, 0,\n",
       "       1, 1, 0, 1, 0, 0, 1, 0, 0, 0, 0, 1, 1, 1, 0, 1, 0, 0, 0, 0, 0, 0,\n",
       "       0, 0, 0, 0, 0, 0, 0, 0, 0, 0, 1, 0, 1, 0, 1, 1, 0, 1, 0, 0, 0, 1,\n",
       "       1, 0, 0, 1, 0, 0, 0, 0, 0, 0, 0, 0, 0, 0, 0, 1, 0, 1, 1, 1, 0, 1,\n",
       "       0, 1, 0, 0, 0, 0, 0, 0, 0, 0, 0, 1, 0, 0, 0, 0, 0, 0, 1, 0, 0, 0,\n",
       "       1, 1, 0, 1, 0, 0, 0, 0, 0, 0, 0, 1, 0, 0, 0, 1, 0, 0, 0, 0, 0, 0,\n",
       "       0, 0, 0, 0, 1, 0, 0, 0, 1, 1, 1, 0, 0, 1, 0, 1, 0, 0, 0, 0, 1, 0,\n",
       "       0, 0, 1, 0, 0, 0, 0, 1, 1, 0, 1, 0, 1, 1, 0, 1, 0, 0, 0, 1, 0, 1,\n",
       "       0, 0, 0, 1, 1, 0, 0, 0, 0, 0, 0, 0, 0, 0, 1, 0, 0, 0, 0, 0, 0, 0,\n",
       "       0, 1, 0, 0, 1, 1, 1, 0, 0, 0, 0, 0, 0, 0, 0, 0, 1, 0, 1, 1, 0, 0,\n",
       "       0, 0, 0, 1, 0, 0, 0, 0, 0, 0, 0, 0, 1, 0, 1, 0, 1, 0, 0, 1, 0, 0,\n",
       "       1, 1, 0, 1, 0, 0, 1, 0, 1, 0], dtype=int32)"
      ]
     },
     "execution_count": 16,
     "metadata": {},
     "output_type": "execute_result"
    }
   ],
   "source": [
    "km.labels_"
   ]
  },
  {
   "cell_type": "code",
   "execution_count": 17,
   "id": "e9b2f0e8",
   "metadata": {
    "tags": []
   },
   "outputs": [
    {
     "data": {
      "text/plain": [
       "8649.497751341169"
      ]
     },
     "execution_count": 17,
     "metadata": {},
     "output_type": "execute_result"
    }
   ],
   "source": [
    "km.inertia_"
   ]
  },
  {
   "cell_type": "code",
   "execution_count": 18,
   "id": "d1ecf570",
   "metadata": {
    "tags": []
   },
   "outputs": [
    {
     "name": "stderr",
     "output_type": "stream",
     "text": [
      "/opt/conda/lib/python3.10/site-packages/sklearn/cluster/_kmeans.py:870: FutureWarning: The default value of `n_init` will change from 10 to 'auto' in 1.4. Set the value of `n_init` explicitly to suppress the warning\n",
      "  warnings.warn(\n",
      "/opt/conda/lib/python3.10/site-packages/sklearn/cluster/_kmeans.py:870: FutureWarning: The default value of `n_init` will change from 10 to 'auto' in 1.4. Set the value of `n_init` explicitly to suppress the warning\n",
      "  warnings.warn(\n",
      "/opt/conda/lib/python3.10/site-packages/sklearn/cluster/_kmeans.py:870: FutureWarning: The default value of `n_init` will change from 10 to 'auto' in 1.4. Set the value of `n_init` explicitly to suppress the warning\n",
      "  warnings.warn(\n",
      "/opt/conda/lib/python3.10/site-packages/sklearn/cluster/_kmeans.py:870: FutureWarning: The default value of `n_init` will change from 10 to 'auto' in 1.4. Set the value of `n_init` explicitly to suppress the warning\n",
      "  warnings.warn(\n"
     ]
    },
    {
     "name": "stdout",
     "output_type": "stream",
     "text": [
      "10988.999999999993\n",
      "8649.497751341167\n",
      "7036.384805430368\n",
      "6251.989412891014\n"
     ]
    },
    {
     "name": "stderr",
     "output_type": "stream",
     "text": [
      "/opt/conda/lib/python3.10/site-packages/sklearn/cluster/_kmeans.py:870: FutureWarning: The default value of `n_init` will change from 10 to 'auto' in 1.4. Set the value of `n_init` explicitly to suppress the warning\n",
      "  warnings.warn(\n",
      "/opt/conda/lib/python3.10/site-packages/sklearn/cluster/_kmeans.py:870: FutureWarning: The default value of `n_init` will change from 10 to 'auto' in 1.4. Set the value of `n_init` explicitly to suppress the warning\n",
      "  warnings.warn(\n",
      "/opt/conda/lib/python3.10/site-packages/sklearn/cluster/_kmeans.py:870: FutureWarning: The default value of `n_init` will change from 10 to 'auto' in 1.4. Set the value of `n_init` explicitly to suppress the warning\n",
      "  warnings.warn(\n",
      "/opt/conda/lib/python3.10/site-packages/sklearn/cluster/_kmeans.py:870: FutureWarning: The default value of `n_init` will change from 10 to 'auto' in 1.4. Set the value of `n_init` explicitly to suppress the warning\n",
      "  warnings.warn(\n"
     ]
    },
    {
     "name": "stdout",
     "output_type": "stream",
     "text": [
      "5818.141238842807\n",
      "5322.175606736898\n",
      "5028.226747324362\n",
      "4822.762458091323\n"
     ]
    },
    {
     "name": "stderr",
     "output_type": "stream",
     "text": [
      "/opt/conda/lib/python3.10/site-packages/sklearn/cluster/_kmeans.py:870: FutureWarning: The default value of `n_init` will change from 10 to 'auto' in 1.4. Set the value of `n_init` explicitly to suppress the warning\n",
      "  warnings.warn(\n",
      "/opt/conda/lib/python3.10/site-packages/sklearn/cluster/_kmeans.py:870: FutureWarning: The default value of `n_init` will change from 10 to 'auto' in 1.4. Set the value of `n_init` explicitly to suppress the warning\n",
      "  warnings.warn(\n",
      "/opt/conda/lib/python3.10/site-packages/sklearn/cluster/_kmeans.py:870: FutureWarning: The default value of `n_init` will change from 10 to 'auto' in 1.4. Set the value of `n_init` explicitly to suppress the warning\n",
      "  warnings.warn(\n"
     ]
    },
    {
     "name": "stdout",
     "output_type": "stream",
     "text": [
      "4645.2939489319515\n",
      "4479.318244750009\n",
      "4317.176694209888\n"
     ]
    },
    {
     "name": "stderr",
     "output_type": "stream",
     "text": [
      "/opt/conda/lib/python3.10/site-packages/sklearn/cluster/_kmeans.py:870: FutureWarning: The default value of `n_init` will change from 10 to 'auto' in 1.4. Set the value of `n_init` explicitly to suppress the warning\n",
      "  warnings.warn(\n",
      "/opt/conda/lib/python3.10/site-packages/sklearn/cluster/_kmeans.py:870: FutureWarning: The default value of `n_init` will change from 10 to 'auto' in 1.4. Set the value of `n_init` explicitly to suppress the warning\n",
      "  warnings.warn(\n",
      "/opt/conda/lib/python3.10/site-packages/sklearn/cluster/_kmeans.py:870: FutureWarning: The default value of `n_init` will change from 10 to 'auto' in 1.4. Set the value of `n_init` explicitly to suppress the warning\n",
      "  warnings.warn(\n"
     ]
    },
    {
     "name": "stdout",
     "output_type": "stream",
     "text": [
      "4173.878139867416\n",
      "4064.3147832791656\n",
      "3947.746196117022\n",
      "3865.9726341830665\n"
     ]
    },
    {
     "name": "stderr",
     "output_type": "stream",
     "text": [
      "/opt/conda/lib/python3.10/site-packages/sklearn/cluster/_kmeans.py:870: FutureWarning: The default value of `n_init` will change from 10 to 'auto' in 1.4. Set the value of `n_init` explicitly to suppress the warning\n",
      "  warnings.warn(\n"
     ]
    }
   ],
   "source": [
    "inertia = []\n",
    "for i in range(1,16):\n",
    "    km = sklearn.cluster.KMeans(n_clusters=i, random_state=123)\n",
    "    km.fit(X)\n",
    "    inertia.append(km.inertia_)\n",
    "    print(km.inertia_)"
   ]
  },
  {
   "cell_type": "code",
   "execution_count": 19,
   "id": "565be84b",
   "metadata": {
    "tags": []
   },
   "outputs": [
    {
     "data": {
      "image/png": "[encoded data removed]",
      "text/plain": [
       "<Figure size 640x480 with 1 Axes>"
      ]
     },
     "metadata": {},
     "output_type": "display_data"
    }
   ],
   "source": [
    "plt.plot(inertia)\n",
    "plt.show()"
   ]
  },
  {
   "cell_type": "code",
   "execution_count": 20,
   "id": "5029c7d9",
   "metadata": {
    "tags": []
   },
   "outputs": [
    {
     "data": {
      "image/png": "[encoded data removed]",
      "text/plain": [
       "<Figure size 640x480 with 1 Axes>"
      ]
     },
     "metadata": {},
     "output_type": "display_data"
    }
   ],
   "source": [
    "plt.plot(np.diff(inertia))\n",
    "plt.show()"
   ]
  },
  {
   "cell_type": "code",
   "execution_count": 21,
   "id": "934d357d",
   "metadata": {
    "tags": []
   },
   "outputs": [
    {
     "name": "stderr",
     "output_type": "stream",
     "text": [
      "/opt/conda/lib/python3.10/site-packages/sklearn/cluster/_kmeans.py:870: FutureWarning: The default value of `n_init` will change from 10 to 'auto' in 1.4. Set the value of `n_init` explicitly to suppress the warning\n",
      "  warnings.warn(\n"
     ]
    },
    {
     "data": {
      "text/html": [
       "<style>#sk-container-id-2 {color: black;background-color: white;}#sk-container-id-2 pre{padding: 0;}#sk-container-id-2 div.sk-toggleable {background-color: white;}#sk-container-id-2 label.sk-toggleable__label {cursor: pointer;display: block;width: 100%;margin-bottom: 0;padding: 0.3em;box-sizing: border-box;text-align: center;}#sk-container-id-2 label.sk-toggleable__label-arrow:before {content: \"▸\";float: left;margin-right: 0.25em;color: #696969;}#sk-container-id-2 label.sk-toggleable__label-arrow:hover:before {color: black;}#sk-container-id-2 div.sk-estimator:hover label.sk-toggleable__label-arrow:before {color: black;}#sk-container-id-2 div.sk-toggleable__content {max-height: 0;max-width: 0;overflow: hidden;text-align: left;background-color: #f0f8ff;}#sk-container-id-2 div.sk-toggleable__content pre {margin: 0.2em;color: black;border-radius: 0.25em;background-color: #f0f8ff;}#sk-container-id-2 input.sk-toggleable__control:checked~div.sk-toggleable__content {max-height: 200px;max-width: 100%;overflow: auto;}#sk-container-id-2 input.sk-toggleable__control:checked~label.sk-toggleable__label-arrow:before {content: \"▾\";}#sk-container-id-2 div.sk-estimator input.sk-toggleable__control:checked~label.sk-toggleable__label {background-color: #d4ebff;}#sk-container-id-2 div.sk-label input.sk-toggleable__control:checked~label.sk-toggleable__label {background-color: #d4ebff;}#sk-container-id-2 input.sk-hidden--visually {border: 0;clip: rect(1px 1px 1px 1px);clip: rect(1px, 1px, 1px, 1px);height: 1px;margin: -1px;overflow: hidden;padding: 0;position: absolute;width: 1px;}#sk-container-id-2 div.sk-estimator {font-family: monospace;background-color: #f0f8ff;border: 1px dotted black;border-radius: 0.25em;box-sizing: border-box;margin-bottom: 0.5em;}#sk-container-id-2 div.sk-estimator:hover {background-color: #d4ebff;}#sk-container-id-2 div.sk-parallel-item::after {content: \"\";width: 100%;border-bottom: 1px solid gray;flex-grow: 1;}#sk-container-id-2 div.sk-label:hover label.sk-toggleable__label {background-color: #d4ebff;}#sk-container-id-2 div.sk-serial::before {content: \"\";position: absolute;border-left: 1px solid gray;box-sizing: border-box;top: 0;bottom: 0;left: 50%;z-index: 0;}#sk-container-id-2 div.sk-serial {display: flex;flex-direction: column;align-items: center;background-color: white;padding-right: 0.2em;padding-left: 0.2em;position: relative;}#sk-container-id-2 div.sk-item {position: relative;z-index: 1;}#sk-container-id-2 div.sk-parallel {display: flex;align-items: stretch;justify-content: center;background-color: white;position: relative;}#sk-container-id-2 div.sk-item::before, #sk-container-id-2 div.sk-parallel-item::before {content: \"\";position: absolute;border-left: 1px solid gray;box-sizing: border-box;top: 0;bottom: 0;left: 50%;z-index: -1;}#sk-container-id-2 div.sk-parallel-item {display: flex;flex-direction: column;z-index: 1;position: relative;background-color: white;}#sk-container-id-2 div.sk-parallel-item:first-child::after {align-self: flex-end;width: 50%;}#sk-container-id-2 div.sk-parallel-item:last-child::after {align-self: flex-start;width: 50%;}#sk-container-id-2 div.sk-parallel-item:only-child::after {width: 0;}#sk-container-id-2 div.sk-dashed-wrapped {border: 1px dashed gray;margin: 0 0.4em 0.5em 0.4em;box-sizing: border-box;padding-bottom: 0.4em;background-color: white;}#sk-container-id-2 div.sk-label label {font-family: monospace;font-weight: bold;display: inline-block;line-height: 1.2em;}#sk-container-id-2 div.sk-label-container {text-align: center;}#sk-container-id-2 div.sk-container {/* jupyter's `normalize.less` sets `[hidden] { display: none; }` but bootstrap.min.css set `[hidden] { display: none !important; }` so we also need the `!important` here to be able to override the default hidden behavior on the sphinx rendered scikit-learn.org. See: https://github.com/scikit-learn/scikit-learn/issues/21755 */display: inline-block !important;position: relative;}#sk-container-id-2 div.sk-text-repr-fallback {display: none;}</style><div id=\"sk-container-id-2\" class=\"sk-top-container\"><div class=\"sk-text-repr-fallback\"><pre>KMeans(n_clusters=2, random_state=123)</pre><b>In a Jupyter environment, please rerun this cell to show the HTML representation or trust the notebook. <br />On GitHub, the HTML representation is unable to render, please try loading this page with nbviewer.org.</b></div><div class=\"sk-container\" hidden><div class=\"sk-item\"><div class=\"sk-estimator sk-toggleable\"><input class=\"sk-toggleable__control sk-hidden--visually\" id=\"sk-estimator-id-2\" type=\"checkbox\" checked><label for=\"sk-estimator-id-2\" class=\"sk-toggleable__label sk-toggleable__label-arrow\">KMeans</label><div class=\"sk-toggleable__content\"><pre>KMeans(n_clusters=2, random_state=123)</pre></div></div></div></div></div>"
      ],
      "text/plain": [
       "KMeans(n_clusters=2, random_state=123)"
      ]
     },
     "execution_count": 21,
     "metadata": {},
     "output_type": "execute_result"
    }
   ],
   "source": [
    "km = sklearn.cluster.KMeans(n_clusters=2, random_state=123)\n",
    "km.fit(X)"
   ]
  },
  {
   "cell_type": "code",
   "execution_count": 22,
   "id": "ff442eaa",
   "metadata": {
    "tags": []
   },
   "outputs": [
    {
     "name": "stderr",
     "output_type": "stream",
     "text": [
      "/opt/conda/lib/python3.10/site-packages/sklearn/cluster/_kmeans.py:870: FutureWarning: The default value of `n_init` will change from 10 to 'auto' in 1.4. Set the value of `n_init` explicitly to suppress the warning\n",
      "  warnings.warn(\n"
     ]
    },
    {
     "data": {
      "text/plain": [
       "array([0, 0, 0, 1, 0, 0, 0, 0, 0, 0, 1, 0, 0, 0, 1, 0, 0, 1, 0, 0],\n",
       "      dtype=int32)"
      ]
     },
     "execution_count": 22,
     "metadata": {},
     "output_type": "execute_result"
    }
   ],
   "source": [
    "#grupowanie punktów zbioru wejściowego\n",
    "y_pred = km.fit_predict(X)\n",
    "y_pred[:20]"
   ]
  },
  {
   "cell_type": "code",
   "execution_count": 23,
   "id": "468bbb9d",
   "metadata": {
    "tags": []
   },
   "outputs": [
    {
     "data": {
      "text/plain": [
       "array([1, 1, 1, 0, 1, 1, 1, 1, 1, 1, 0, 1, 1, 1, 0, 1, 1, 0, 1, 1],\n",
       "      dtype=int8)"
      ]
     },
     "execution_count": 23,
     "metadata": {},
     "output_type": "execute_result"
    }
   ],
   "source": [
    "#musimy znaleźć punkt odniesienia - interesuje nas zgodność między wyznaczonym podziałem a kolorem wina\n",
    "y_test = wine_sample[\"color\"].cat.codes.values\n",
    "y_test[:20]"
   ]
  },
  {
   "cell_type": "code",
   "execution_count": 24,
   "id": "58e56019",
   "metadata": {
    "tags": []
   },
   "outputs": [
    {
     "data": {
      "text/plain": [
       "4914    white\n",
       "3480    white\n",
       "4588    white\n",
       "925       red\n",
       "4701    white\n",
       "2144    white\n",
       "1436    white\n",
       "2436    white\n",
       "4457    white\n",
       "1945    white\n",
       "973       red\n",
       "1671    white\n",
       "2771    white\n",
       "3214    white\n",
       "1001      red\n",
       "3966    white\n",
       "3410    white\n",
       "1091      red\n",
       "3580    white\n",
       "2857    white\n",
       "Name: color, dtype: category\n",
       "Categories (2, object): ['red', 'white']"
      ]
     },
     "execution_count": 24,
     "metadata": {},
     "output_type": "execute_result"
    }
   ],
   "source": [
    "wine_sample[\"color\"][:20]"
   ]
  },
  {
   "cell_type": "code",
   "execution_count": 25,
   "id": "c7ed322d",
   "metadata": {
    "tags": []
   },
   "outputs": [
    {
     "data": {
      "text/plain": [
       "array([[  7, 244],\n",
       "       [738,  11]])"
      ]
     },
     "execution_count": 25,
     "metadata": {},
     "output_type": "execute_result"
    }
   ],
   "source": [
    "#macierz pomyłek\n",
    "sklearn.metrics.confusion_matrix(y_test, y_pred)"
   ]
  },
  {
   "cell_type": "code",
   "execution_count": 26,
   "id": "372f9b26",
   "metadata": {
    "tags": []
   },
   "outputs": [],
   "source": [
    "#zgodność między dwoma podziałami zbioru na skupienia można zmierzyć za pomocą indeksu Fowlkesa-Mallowsa :)\n",
    "def indeks_fm(Y1, Y2):\n",
    "    assert len(Y1) == len(Y2)\n",
    "    assert min(Y1.min(), Y2.min()) >= 0\n",
    "    k = max(Y1.max(), Y2.max()) + 1\n",
    "    n = len(Y1)\n",
    "    \n",
    "    C1 = [set() for i in range(k)] #k zbiorów\n",
    "    C2 = [set() for i in range(k)] #k zbiorów\n",
    "    for i in range(n):\n",
    "        C1[ Y1[i] ].add(i) #dodaj i-tą obserwację\n",
    "        C2[ Y2[i] ].add(i) # do Y2[i]-tego zbioru z C2\n",
    "        \n",
    "    M = np.zeros((k,k))\n",
    "    for i in range(k):\n",
    "        for j in range(k):\n",
    "            M[i, j] = len(C1[i]&C2[j])\n",
    "        \n",
    "    return ((M**2).sum() - n)/(np.sqrt(((M.sum(axis=0)**2).sum() - n) * ((M.sum(axis=1)**2).sum() - n)))"
   ]
  },
  {
   "cell_type": "code",
   "execution_count": 27,
   "id": "165502f4",
   "metadata": {
    "tags": []
   },
   "outputs": [
    {
     "data": {
      "text/plain": [
       "1.0"
      ]
     },
     "execution_count": 27,
     "metadata": {},
     "output_type": "execute_result"
    }
   ],
   "source": [
    "#testowanie ideksu FM na równoważnych podziałach\n",
    "indeks_fm(np.r_[0, 0, 0, 1, 1], np.r_[1, 1, 1, 0, 0])"
   ]
  },
  {
   "cell_type": "code",
   "execution_count": 28,
   "id": "95d63a8f",
   "metadata": {
    "tags": []
   },
   "outputs": [
    {
     "data": {
      "text/plain": [
       "0.9715423415383736"
      ]
     },
     "execution_count": 28,
     "metadata": {},
     "output_type": "execute_result"
    }
   ],
   "source": [
    "#zgodność między podziałem generowanym przez algorytm k-średnich, a tym który wynika z koloru wina\n",
    "indeks_fm(y_test, y_pred)\n",
    "#indeks jest wysoki co oznacza, że zmienna color wyznacza naturalny podział zbioru win na dwie podgrupy"
   ]
  },
  {
   "cell_type": "code",
   "execution_count": 29,
   "id": "dc9a60d2",
   "metadata": {
    "tags": []
   },
   "outputs": [],
   "source": [
    "#można oczywiście wykorzystać zaimplementowane metody\n",
    "#indeks FM\n",
    "from sklearn.metrics.cluster import fowlkes_mallows_score\n",
    "#skorygowany indeks Randa\n",
    "from sklearn.metrics.cluster import adjusted_rand_score "
   ]
  },
  {
   "cell_type": "code",
   "execution_count": 30,
   "id": "0a211ffe",
   "metadata": {
    "tags": []
   },
   "outputs": [
    {
     "data": {
      "text/plain": [
       "0.9715423415383737"
      ]
     },
     "execution_count": 30,
     "metadata": {},
     "output_type": "execute_result"
    }
   ],
   "source": [
    "fowlkes_mallows_score(y_test, y_pred)"
   ]
  },
  {
   "cell_type": "code",
   "execution_count": 31,
   "id": "b1ca1db6",
   "metadata": {
    "tags": []
   },
   "outputs": [
    {
     "data": {
      "text/plain": [
       "0.924773553475941"
      ]
     },
     "execution_count": 31,
     "metadata": {},
     "output_type": "execute_result"
    }
   ],
   "source": [
    "adjusted_rand_score(y_test, y_pred)"
   ]
  },
  {
   "cell_type": "code",
   "execution_count": 32,
   "id": "af674e5b",
   "metadata": {
    "tags": []
   },
   "outputs": [],
   "source": [
    "#odwzorowanie referencyjnych etykiet\n",
    "kategoria1 = wine_sample[\"color\"].cat.categories\n",
    "kategoria2 = wine_sample[\"color\"].cat.categories + \"_clust\""
   ]
  },
  {
   "cell_type": "code",
   "execution_count": 33,
   "id": "7f03f61b",
   "metadata": {
    "tags": []
   },
   "outputs": [
    {
     "data": {
      "text/plain": [
       "Index(['red', 'white'], dtype='object')"
      ]
     },
     "execution_count": 33,
     "metadata": {},
     "output_type": "execute_result"
    }
   ],
   "source": [
    "kategoria1"
   ]
  },
  {
   "cell_type": "code",
   "execution_count": 34,
   "id": "e5198dc6",
   "metadata": {
    "tags": []
   },
   "outputs": [
    {
     "data": {
      "text/plain": [
       "Index(['red_clust', 'white_clust'], dtype='object')"
      ]
     },
     "execution_count": 34,
     "metadata": {},
     "output_type": "execute_result"
    }
   ],
   "source": [
    "kategoria2"
   ]
  },
  {
   "cell_type": "code",
   "execution_count": 35,
   "id": "bca1d089",
   "metadata": {
    "tags": []
   },
   "outputs": [],
   "source": [
    "if np.mean(y_test == y_pred) < np.mean(y_test != y_pred):\n",
    "    kategoria2 = kategoria2[::-1]"
   ]
  },
  {
   "cell_type": "code",
   "execution_count": 36,
   "id": "ef14fde8",
   "metadata": {
    "tags": []
   },
   "outputs": [
    {
     "data": {
      "text/plain": [
       "Index(['red', 'white'], dtype='object')"
      ]
     },
     "execution_count": 36,
     "metadata": {},
     "output_type": "execute_result"
    }
   ],
   "source": [
    "kategoria1"
   ]
  },
  {
   "cell_type": "code",
   "execution_count": 37,
   "id": "84854afc",
   "metadata": {
    "tags": []
   },
   "outputs": [
    {
     "data": {
      "text/plain": [
       "Index(['white_clust', 'red_clust'], dtype='object')"
      ]
     },
     "execution_count": 37,
     "metadata": {},
     "output_type": "execute_result"
    }
   ],
   "source": [
    "kategoria2"
   ]
  },
  {
   "cell_type": "code",
   "execution_count": 38,
   "id": "9f530c9b",
   "metadata": {
    "tags": []
   },
   "outputs": [
    {
     "data": {
      "text/html": [
       "<div>\n",
       "<style scoped>\n",
       "    .dataframe tbody tr th:only-of-type {\n",
       "        vertical-align: middle;\n",
       "    }\n",
       "\n",
       "    .dataframe tbody tr th {\n",
       "        vertical-align: top;\n",
       "    }\n",
       "\n",
       "    .dataframe thead th {\n",
       "        text-align: right;\n",
       "    }\n",
       "</style>\n",
       "<table border=\"1\" class=\"dataframe\">\n",
       "  <thead>\n",
       "    <tr style=\"text-align: right;\">\n",
       "      <th></th>\n",
       "      <th>white_clust</th>\n",
       "      <th>red_clust</th>\n",
       "      <th>red</th>\n",
       "      <th>white</th>\n",
       "    </tr>\n",
       "  </thead>\n",
       "  <tbody>\n",
       "    <tr>\n",
       "      <th>fixed.acidity</th>\n",
       "      <td>-0.314423</td>\n",
       "      <td>0.918610</td>\n",
       "      <td>0.906606</td>\n",
       "      <td>-0.303816</td>\n",
       "    </tr>\n",
       "    <tr>\n",
       "      <th>volatile.acidity</th>\n",
       "      <td>-0.378917</td>\n",
       "      <td>1.107032</td>\n",
       "      <td>1.052493</td>\n",
       "      <td>-0.352705</td>\n",
       "    </tr>\n",
       "    <tr>\n",
       "      <th>citric.acid</th>\n",
       "      <td>0.077990</td>\n",
       "      <td>-0.227854</td>\n",
       "      <td>-0.210899</td>\n",
       "      <td>0.070675</td>\n",
       "    </tr>\n",
       "    <tr>\n",
       "      <th>residual.sugar</th>\n",
       "      <td>0.192691</td>\n",
       "      <td>-0.562960</td>\n",
       "      <td>-0.575047</td>\n",
       "      <td>0.192706</td>\n",
       "    </tr>\n",
       "    <tr>\n",
       "      <th>chlorides</th>\n",
       "      <td>-0.302529</td>\n",
       "      <td>0.883858</td>\n",
       "      <td>0.883795</td>\n",
       "      <td>-0.296172</td>\n",
       "    </tr>\n",
       "    <tr>\n",
       "      <th>free.sulfur.dioxide</th>\n",
       "      <td>0.276200</td>\n",
       "      <td>-0.806938</td>\n",
       "      <td>-0.790664</td>\n",
       "      <td>0.264962</td>\n",
       "    </tr>\n",
       "    <tr>\n",
       "      <th>total.sulfur.dioxide</th>\n",
       "      <td>0.395585</td>\n",
       "      <td>-1.155730</td>\n",
       "      <td>-1.172959</td>\n",
       "      <td>0.393074</td>\n",
       "    </tr>\n",
       "    <tr>\n",
       "      <th>density</th>\n",
       "      <td>-0.268437</td>\n",
       "      <td>0.784259</td>\n",
       "      <td>0.774947</td>\n",
       "      <td>-0.259695</td>\n",
       "    </tr>\n",
       "    <tr>\n",
       "      <th>pH</th>\n",
       "      <td>-0.174208</td>\n",
       "      <td>0.508960</td>\n",
       "      <td>0.506645</td>\n",
       "      <td>-0.169783</td>\n",
       "    </tr>\n",
       "    <tr>\n",
       "      <th>sulphates</th>\n",
       "      <td>-0.291474</td>\n",
       "      <td>0.851560</td>\n",
       "      <td>0.829956</td>\n",
       "      <td>-0.278129</td>\n",
       "    </tr>\n",
       "    <tr>\n",
       "      <th>alcohol</th>\n",
       "      <td>0.058776</td>\n",
       "      <td>-0.171718</td>\n",
       "      <td>-0.155191</td>\n",
       "      <td>0.052007</td>\n",
       "    </tr>\n",
       "  </tbody>\n",
       "</table>\n",
       "</div>"
      ],
      "text/plain": [
       "                      white_clust  red_clust       red     white\n",
       "fixed.acidity           -0.314423   0.918610  0.906606 -0.303816\n",
       "volatile.acidity        -0.378917   1.107032  1.052493 -0.352705\n",
       "citric.acid              0.077990  -0.227854 -0.210899  0.070675\n",
       "residual.sugar           0.192691  -0.562960 -0.575047  0.192706\n",
       "chlorides               -0.302529   0.883858  0.883795 -0.296172\n",
       "free.sulfur.dioxide      0.276200  -0.806938 -0.790664  0.264962\n",
       "total.sulfur.dioxide     0.395585  -1.155730 -1.172959  0.393074\n",
       "density                 -0.268437   0.784259  0.774947 -0.259695\n",
       "pH                      -0.174208   0.508960  0.506645 -0.169783\n",
       "sulphates               -0.291474   0.851560  0.829956 -0.278129\n",
       "alcohol                  0.058776  -0.171718 -0.155191  0.052007"
      ]
     },
     "execution_count": 38,
     "metadata": {},
     "output_type": "execute_result"
    }
   ],
   "source": [
    "#wyznaczanie środków skupień znalexionych przez algorytm k-średnich oraz tych generowanych przez zmienną kolor\n",
    "srodki1 = pd.DataFrame(km.cluster_centers_.T, columns=kategoria2, index=X.columns)\n",
    "\n",
    "srodki2 = X.groupby(wine_sample.color).mean().T\n",
    "\n",
    "srodki12 = pd.concat([srodki1, srodki2], axis=1)\n",
    "srodki12"
   ]
  },
  {
   "cell_type": "code",
   "execution_count": 39,
   "id": "2a391f48",
   "metadata": {
    "tags": []
   },
   "outputs": [
    {
     "data": {
      "text/plain": [
       "array([[-0.31442346,  0.91860973],\n",
       "       [-0.37891712,  1.10703236],\n",
       "       [ 0.0779904 , -0.2278543 ],\n",
       "       [ 0.19269109, -0.56296023],\n",
       "       [-0.30252867,  0.88385827],\n",
       "       [ 0.27620036, -0.80693831],\n",
       "       [ 0.39558539, -1.15572985],\n",
       "       [-0.2684375 ,  0.78425857],\n",
       "       [-0.1742078 ,  0.50896003],\n",
       "       [-0.29147362,  0.8515602 ],\n",
       "       [ 0.05877604, -0.17171823]])"
      ]
     },
     "execution_count": 39,
     "metadata": {},
     "output_type": "execute_result"
    }
   ],
   "source": [
    "km.cluster_centers_.T"
   ]
  },
  {
   "cell_type": "code",
   "execution_count": 40,
   "id": "928d64dc",
   "metadata": {
    "tags": []
   },
   "outputs": [],
   "source": [
    "srodki12 = srodki12[['white_clust', 'white', 'red_clust', 'red']]"
   ]
  },
  {
   "cell_type": "code",
   "execution_count": 41,
   "id": "019deea2",
   "metadata": {
    "tags": []
   },
   "outputs": [
    {
     "data": {
      "text/html": [
       "<div>\n",
       "<style scoped>\n",
       "    .dataframe tbody tr th:only-of-type {\n",
       "        vertical-align: middle;\n",
       "    }\n",
       "\n",
       "    .dataframe tbody tr th {\n",
       "        vertical-align: top;\n",
       "    }\n",
       "\n",
       "    .dataframe thead th {\n",
       "        text-align: right;\n",
       "    }\n",
       "</style>\n",
       "<table border=\"1\" class=\"dataframe\">\n",
       "  <thead>\n",
       "    <tr style=\"text-align: right;\">\n",
       "      <th></th>\n",
       "      <th>white_clust</th>\n",
       "      <th>white</th>\n",
       "      <th>red_clust</th>\n",
       "      <th>red</th>\n",
       "    </tr>\n",
       "  </thead>\n",
       "  <tbody>\n",
       "    <tr>\n",
       "      <th>fixed.acidity</th>\n",
       "      <td>-0.314423</td>\n",
       "      <td>-0.303816</td>\n",
       "      <td>0.918610</td>\n",
       "      <td>0.906606</td>\n",
       "    </tr>\n",
       "    <tr>\n",
       "      <th>volatile.acidity</th>\n",
       "      <td>-0.378917</td>\n",
       "      <td>-0.352705</td>\n",
       "      <td>1.107032</td>\n",
       "      <td>1.052493</td>\n",
       "    </tr>\n",
       "    <tr>\n",
       "      <th>citric.acid</th>\n",
       "      <td>0.077990</td>\n",
       "      <td>0.070675</td>\n",
       "      <td>-0.227854</td>\n",
       "      <td>-0.210899</td>\n",
       "    </tr>\n",
       "    <tr>\n",
       "      <th>residual.sugar</th>\n",
       "      <td>0.192691</td>\n",
       "      <td>0.192706</td>\n",
       "      <td>-0.562960</td>\n",
       "      <td>-0.575047</td>\n",
       "    </tr>\n",
       "    <tr>\n",
       "      <th>chlorides</th>\n",
       "      <td>-0.302529</td>\n",
       "      <td>-0.296172</td>\n",
       "      <td>0.883858</td>\n",
       "      <td>0.883795</td>\n",
       "    </tr>\n",
       "    <tr>\n",
       "      <th>free.sulfur.dioxide</th>\n",
       "      <td>0.276200</td>\n",
       "      <td>0.264962</td>\n",
       "      <td>-0.806938</td>\n",
       "      <td>-0.790664</td>\n",
       "    </tr>\n",
       "    <tr>\n",
       "      <th>total.sulfur.dioxide</th>\n",
       "      <td>0.395585</td>\n",
       "      <td>0.393074</td>\n",
       "      <td>-1.155730</td>\n",
       "      <td>-1.172959</td>\n",
       "    </tr>\n",
       "    <tr>\n",
       "      <th>density</th>\n",
       "      <td>-0.268437</td>\n",
       "      <td>-0.259695</td>\n",
       "      <td>0.784259</td>\n",
       "      <td>0.774947</td>\n",
       "    </tr>\n",
       "    <tr>\n",
       "      <th>pH</th>\n",
       "      <td>-0.174208</td>\n",
       "      <td>-0.169783</td>\n",
       "      <td>0.508960</td>\n",
       "      <td>0.506645</td>\n",
       "    </tr>\n",
       "    <tr>\n",
       "      <th>sulphates</th>\n",
       "      <td>-0.291474</td>\n",
       "      <td>-0.278129</td>\n",
       "      <td>0.851560</td>\n",
       "      <td>0.829956</td>\n",
       "    </tr>\n",
       "    <tr>\n",
       "      <th>alcohol</th>\n",
       "      <td>0.058776</td>\n",
       "      <td>0.052007</td>\n",
       "      <td>-0.171718</td>\n",
       "      <td>-0.155191</td>\n",
       "    </tr>\n",
       "  </tbody>\n",
       "</table>\n",
       "</div>"
      ],
      "text/plain": [
       "                      white_clust     white  red_clust       red\n",
       "fixed.acidity           -0.314423 -0.303816   0.918610  0.906606\n",
       "volatile.acidity        -0.378917 -0.352705   1.107032  1.052493\n",
       "citric.acid              0.077990  0.070675  -0.227854 -0.210899\n",
       "residual.sugar           0.192691  0.192706  -0.562960 -0.575047\n",
       "chlorides               -0.302529 -0.296172   0.883858  0.883795\n",
       "free.sulfur.dioxide      0.276200  0.264962  -0.806938 -0.790664\n",
       "total.sulfur.dioxide     0.395585  0.393074  -1.155730 -1.172959\n",
       "density                 -0.268437 -0.259695   0.784259  0.774947\n",
       "pH                      -0.174208 -0.169783   0.508960  0.506645\n",
       "sulphates               -0.291474 -0.278129   0.851560  0.829956\n",
       "alcohol                  0.058776  0.052007  -0.171718 -0.155191"
      ]
     },
     "execution_count": 41,
     "metadata": {},
     "output_type": "execute_result"
    }
   ],
   "source": [
    "srodki12"
   ]
  },
  {
   "cell_type": "code",
   "execution_count": 42,
   "id": "848addde",
   "metadata": {
    "tags": []
   },
   "outputs": [
    {
     "data": {
      "image/png": "[encoded data removed]",
      "text/plain": [
       "<Figure size 640x480 with 1 Axes>"
      ]
     },
     "metadata": {},
     "output_type": "display_data"
    }
   ],
   "source": [
    "#wykres wsp środków skupień wyznaczonych metodą k-średnich\n",
    "srodki12[\"red_clust\"].sort_values(ascending=False).plot(label='red')\n",
    "srodki12[\"white_clust\"].sort_values(ascending=True).plot(label='white')\n",
    "plt.legend()\n",
    "plt.xticks(rotation=85)\n",
    "plt.show()"
   ]
  },
  {
   "cell_type": "code",
   "execution_count": 43,
   "id": "50b1fe6d",
   "metadata": {
    "tags": []
   },
   "outputs": [
    {
     "data": {
      "text/plain": [
       "0.03668829742931121"
      ]
     },
     "execution_count": 43,
     "metadata": {},
     "output_type": "execute_result"
    }
   ],
   "source": [
    "#odległość między szacowanymi i referencyjnymi środkami jest niewielka\n",
    "np.sqrt(np.sum((srodki12.white - srodki12.white_clust)**2))\n"
   ]
  },
  {
   "cell_type": "code",
   "execution_count": 44,
   "id": "9e0f9a3e",
   "metadata": {
    "tags": []
   },
   "outputs": [
    {
     "data": {
      "text/plain": [
       "0.07032659957869306"
      ]
     },
     "execution_count": 44,
     "metadata": {},
     "output_type": "execute_result"
    }
   ],
   "source": [
    "np.sqrt(np.sum((srodki12.red - srodki12.red_clust)**2))"
   ]
  },
  {
   "cell_type": "code",
   "execution_count": 45,
   "id": "804387d4",
   "metadata": {
    "tags": []
   },
   "outputs": [
    {
     "data": {
      "text/html": [
       "<style>#sk-container-id-3 {color: black;background-color: white;}#sk-container-id-3 pre{padding: 0;}#sk-container-id-3 div.sk-toggleable {background-color: white;}#sk-container-id-3 label.sk-toggleable__label {cursor: pointer;display: block;width: 100%;margin-bottom: 0;padding: 0.3em;box-sizing: border-box;text-align: center;}#sk-container-id-3 label.sk-toggleable__label-arrow:before {content: \"▸\";float: left;margin-right: 0.25em;color: #696969;}#sk-container-id-3 label.sk-toggleable__label-arrow:hover:before {color: black;}#sk-container-id-3 div.sk-estimator:hover label.sk-toggleable__label-arrow:before {color: black;}#sk-container-id-3 div.sk-toggleable__content {max-height: 0;max-width: 0;overflow: hidden;text-align: left;background-color: #f0f8ff;}#sk-container-id-3 div.sk-toggleable__content pre {margin: 0.2em;color: black;border-radius: 0.25em;background-color: #f0f8ff;}#sk-container-id-3 input.sk-toggleable__control:checked~div.sk-toggleable__content {max-height: 200px;max-width: 100%;overflow: auto;}#sk-container-id-3 input.sk-toggleable__control:checked~label.sk-toggleable__label-arrow:before {content: \"▾\";}#sk-container-id-3 div.sk-estimator input.sk-toggleable__control:checked~label.sk-toggleable__label {background-color: #d4ebff;}#sk-container-id-3 div.sk-label input.sk-toggleable__control:checked~label.sk-toggleable__label {background-color: #d4ebff;}#sk-container-id-3 input.sk-hidden--visually {border: 0;clip: rect(1px 1px 1px 1px);clip: rect(1px, 1px, 1px, 1px);height: 1px;margin: -1px;overflow: hidden;padding: 0;position: absolute;width: 1px;}#sk-container-id-3 div.sk-estimator {font-family: monospace;background-color: #f0f8ff;border: 1px dotted black;border-radius: 0.25em;box-sizing: border-box;margin-bottom: 0.5em;}#sk-container-id-3 div.sk-estimator:hover {background-color: #d4ebff;}#sk-container-id-3 div.sk-parallel-item::after {content: \"\";width: 100%;border-bottom: 1px solid gray;flex-grow: 1;}#sk-container-id-3 div.sk-label:hover label.sk-toggleable__label {background-color: #d4ebff;}#sk-container-id-3 div.sk-serial::before {content: \"\";position: absolute;border-left: 1px solid gray;box-sizing: border-box;top: 0;bottom: 0;left: 50%;z-index: 0;}#sk-container-id-3 div.sk-serial {display: flex;flex-direction: column;align-items: center;background-color: white;padding-right: 0.2em;padding-left: 0.2em;position: relative;}#sk-container-id-3 div.sk-item {position: relative;z-index: 1;}#sk-container-id-3 div.sk-parallel {display: flex;align-items: stretch;justify-content: center;background-color: white;position: relative;}#sk-container-id-3 div.sk-item::before, #sk-container-id-3 div.sk-parallel-item::before {content: \"\";position: absolute;border-left: 1px solid gray;box-sizing: border-box;top: 0;bottom: 0;left: 50%;z-index: -1;}#sk-container-id-3 div.sk-parallel-item {display: flex;flex-direction: column;z-index: 1;position: relative;background-color: white;}#sk-container-id-3 div.sk-parallel-item:first-child::after {align-self: flex-end;width: 50%;}#sk-container-id-3 div.sk-parallel-item:last-child::after {align-self: flex-start;width: 50%;}#sk-container-id-3 div.sk-parallel-item:only-child::after {width: 0;}#sk-container-id-3 div.sk-dashed-wrapped {border: 1px dashed gray;margin: 0 0.4em 0.5em 0.4em;box-sizing: border-box;padding-bottom: 0.4em;background-color: white;}#sk-container-id-3 div.sk-label label {font-family: monospace;font-weight: bold;display: inline-block;line-height: 1.2em;}#sk-container-id-3 div.sk-label-container {text-align: center;}#sk-container-id-3 div.sk-container {/* jupyter's `normalize.less` sets `[hidden] { display: none; }` but bootstrap.min.css set `[hidden] { display: none !important; }` so we also need the `!important` here to be able to override the default hidden behavior on the sphinx rendered scikit-learn.org. See: https://github.com/scikit-learn/scikit-learn/issues/21755 */display: inline-block !important;position: relative;}#sk-container-id-3 div.sk-text-repr-fallback {display: none;}</style><div id=\"sk-container-id-3\" class=\"sk-top-container\"><div class=\"sk-text-repr-fallback\"><pre>PCA(n_components=2)</pre><b>In a Jupyter environment, please rerun this cell to show the HTML representation or trust the notebook. <br />On GitHub, the HTML representation is unable to render, please try loading this page with nbviewer.org.</b></div><div class=\"sk-container\" hidden><div class=\"sk-item\"><div class=\"sk-estimator sk-toggleable\"><input class=\"sk-toggleable__control sk-hidden--visually\" id=\"sk-estimator-id-3\" type=\"checkbox\" checked><label for=\"sk-estimator-id-3\" class=\"sk-toggleable__label sk-toggleable__label-arrow\">PCA</label><div class=\"sk-toggleable__content\"><pre>PCA(n_components=2)</pre></div></div></div></div></div>"
      ],
      "text/plain": [
       "PCA(n_components=2)"
      ]
     },
     "execution_count": 45,
     "metadata": {},
     "output_type": "execute_result"
    }
   ],
   "source": [
    "#analiza głównych składowych\n",
    "import sklearn.decomposition\n",
    "pca = sklearn.decomposition.PCA(n_components=2)\n",
    "pca.fit(X)"
   ]
  },
  {
   "cell_type": "code",
   "execution_count": 46,
   "id": "7425b64b",
   "metadata": {
    "tags": []
   },
   "outputs": [
    {
     "data": {
      "text/html": [
       "<div>\n",
       "<style scoped>\n",
       "    .dataframe tbody tr th:only-of-type {\n",
       "        vertical-align: middle;\n",
       "    }\n",
       "\n",
       "    .dataframe tbody tr th {\n",
       "        vertical-align: top;\n",
       "    }\n",
       "\n",
       "    .dataframe thead th {\n",
       "        text-align: right;\n",
       "    }\n",
       "</style>\n",
       "<table border=\"1\" class=\"dataframe\">\n",
       "  <thead>\n",
       "    <tr style=\"text-align: right;\">\n",
       "      <th></th>\n",
       "      <th>0</th>\n",
       "      <th>1</th>\n",
       "    </tr>\n",
       "  </thead>\n",
       "  <tbody>\n",
       "    <tr>\n",
       "      <th>fixed.acidity</th>\n",
       "      <td>0.321532</td>\n",
       "      <td>0.261806</td>\n",
       "    </tr>\n",
       "    <tr>\n",
       "      <th>volatile.acidity</th>\n",
       "      <td>0.373051</td>\n",
       "      <td>0.021761</td>\n",
       "    </tr>\n",
       "    <tr>\n",
       "      <th>citric.acid</th>\n",
       "      <td>-0.080395</td>\n",
       "      <td>0.267931</td>\n",
       "    </tr>\n",
       "    <tr>\n",
       "      <th>residual.sugar</th>\n",
       "      <td>-0.274555</td>\n",
       "      <td>0.400290</td>\n",
       "    </tr>\n",
       "    <tr>\n",
       "      <th>chlorides</th>\n",
       "      <td>0.351446</td>\n",
       "      <td>0.231874</td>\n",
       "    </tr>\n",
       "    <tr>\n",
       "      <th>free.sulfur.dioxide</th>\n",
       "      <td>-0.407599</td>\n",
       "      <td>0.197794</td>\n",
       "    </tr>\n",
       "    <tr>\n",
       "      <th>total.sulfur.dioxide</th>\n",
       "      <td>-0.455350</td>\n",
       "      <td>0.203516</td>\n",
       "    </tr>\n",
       "    <tr>\n",
       "      <th>density</th>\n",
       "      <td>0.192922</td>\n",
       "      <td>0.543907</td>\n",
       "    </tr>\n",
       "    <tr>\n",
       "      <th>pH</th>\n",
       "      <td>0.167558</td>\n",
       "      <td>-0.169711</td>\n",
       "    </tr>\n",
       "    <tr>\n",
       "      <th>sulphates</th>\n",
       "      <td>0.335900</td>\n",
       "      <td>0.131044</td>\n",
       "    </tr>\n",
       "    <tr>\n",
       "      <th>alcohol</th>\n",
       "      <td>-0.022099</td>\n",
       "      <td>-0.472068</td>\n",
       "    </tr>\n",
       "  </tbody>\n",
       "</table>\n",
       "</div>"
      ],
      "text/plain": [
       "                             0         1\n",
       "fixed.acidity         0.321532  0.261806\n",
       "volatile.acidity      0.373051  0.021761\n",
       "citric.acid          -0.080395  0.267931\n",
       "residual.sugar       -0.274555  0.400290\n",
       "chlorides             0.351446  0.231874\n",
       "free.sulfur.dioxide  -0.407599  0.197794\n",
       "total.sulfur.dioxide -0.455350  0.203516\n",
       "density               0.192922  0.543907\n",
       "pH                    0.167558 -0.169711\n",
       "sulphates             0.335900  0.131044\n",
       "alcohol              -0.022099 -0.472068"
      ]
     },
     "execution_count": 46,
     "metadata": {},
     "output_type": "execute_result"
    }
   ],
   "source": [
    "#intersują nas dwie pierwsze składowe główne\n",
    "#ponieważ chcemy zrzutować 11-wymiarową przestrzeń na dwuwymiarową\n",
    "pd.DataFrame(pca.components_.T, index=X.columns)"
   ]
  },
  {
   "cell_type": "code",
   "execution_count": 47,
   "id": "6234ed3e",
   "metadata": {
    "tags": []
   },
   "outputs": [
    {
     "data": {
      "text/plain": [
       "array([[ 0.32153209,  0.37305075, -0.08039465, -0.27455507,  0.3514459 ,\n",
       "        -0.40759915, -0.45535013,  0.19292159,  0.16755784,  0.33589981,\n",
       "        -0.02209945],\n",
       "       [ 0.26180573,  0.02176141,  0.26793146,  0.4002903 ,  0.23187428,\n",
       "         0.19779365,  0.20351583,  0.54390719, -0.16971132,  0.13104422,\n",
       "        -0.47206818]])"
      ]
     },
     "execution_count": 47,
     "metadata": {},
     "output_type": "execute_result"
    }
   ],
   "source": [
    "pca.components_"
   ]
  },
  {
   "cell_type": "code",
   "execution_count": 48,
   "id": "43624ec0",
   "metadata": {
    "tags": []
   },
   "outputs": [
    {
     "data": {
      "text/plain": [
       "Index(['fixed.acidity', 'volatile.acidity', 'citric.acid', 'residual.sugar',\n",
       "       'chlorides', 'free.sulfur.dioxide', 'total.sulfur.dioxide', 'density',\n",
       "       'pH', 'sulphates', 'alcohol'],\n",
       "      dtype='object')"
      ]
     },
     "execution_count": 48,
     "metadata": {},
     "output_type": "execute_result"
    }
   ],
   "source": [
    "X.columns"
   ]
  },
  {
   "cell_type": "code",
   "execution_count": 49,
   "id": "a7e7883b",
   "metadata": {
    "tags": []
   },
   "outputs": [],
   "source": [
    "#x1 = 0.32153209*fixed.acidity + 0.37305075*volatile.acidity + ...\n",
    "#x2 = 0.26180573*fixed.acidity + 0.02176141*volatile.acidity + ..."
   ]
  },
  {
   "cell_type": "code",
   "execution_count": 50,
   "id": "18d30ceb",
   "metadata": {
    "tags": []
   },
   "outputs": [
    {
     "data": {
      "text/plain": [
       "array([0.27288282, 0.22767173])"
      ]
     },
     "execution_count": 50,
     "metadata": {},
     "output_type": "execute_result"
    }
   ],
   "source": [
    "pca.explained_variance_ratio_\n"
   ]
  },
  {
   "cell_type": "code",
   "execution_count": 51,
   "id": "81be8626",
   "metadata": {
    "tags": []
   },
   "outputs": [
    {
     "data": {
      "text/plain": [
       "array([0.27288282, 0.50055455])"
      ]
     },
     "execution_count": 51,
     "metadata": {},
     "output_type": "execute_result"
    }
   ],
   "source": [
    "np.cumsum(pca.explained_variance_ratio_)"
   ]
  },
  {
   "cell_type": "code",
   "execution_count": 52,
   "id": "13d4f99c",
   "metadata": {
    "tags": []
   },
   "outputs": [
    {
     "data": {
      "image/png": "[encoded data removed]",
      "text/plain": [
       "<Figure size 1000x600 with 1 Axes>"
      ]
     },
     "metadata": {},
     "output_type": "display_data"
    }
   ],
   "source": [
    "#wykres współrzędnych punktów z dwóch skupień wyznaczonych za pomocą algorytmu k-średnich - rzut zbioru danych na dwa kierunki główne\n",
    "X2 = pca.transform(X) #wyznacz główne składowe\n",
    "grp = (y_pred==0) #0 -> color\n",
    "\n",
    "plt.figure(figsize=(10,6))\n",
    "plt.plot(X2[ grp, 0], X2[ grp, 1], \"ko\", label=kategoria2[0])\n",
    "plt.plot(X2[~grp, 0], X2[~grp, 1], \"ws\", label=kategoria2[1], markeredgecolor=\"k\", markeredgewidth=1)\n",
    "plt.legend(loc=9)\n",
    "plt.show()"
   ]
  },
  {
   "cell_type": "code",
   "execution_count": null,
   "id": "7eb788e6",
   "metadata": {},
   "outputs": [],
   "source": [
    "#hierarchiczna analiza skupień\n",
    "hw = sklearn.cluster.AgglomerativeClustering(n_clusters=2, affinity=\"euclidean\", linkage=\"ward\")"
   ]
  },
  {
   "cell_type": "code",
   "execution_count": null,
   "id": "3b636bc4",
   "metadata": {},
   "outputs": [],
   "source": [
    "#trenujemy model\n",
    "y_pred2 = hw.fit(X).labels_"
   ]
  },
  {
   "cell_type": "code",
   "execution_count": null,
   "id": "5b34732e",
   "metadata": {},
   "outputs": [],
   "source": [
    "y_pred2"
   ]
  },
  {
   "cell_type": "code",
   "execution_count": null,
   "id": "6e057651",
   "metadata": {},
   "outputs": [],
   "source": [
    "#macierz pomyłek\n",
    "sklearn.metrics.confusion_matrix(y_test, y_pred2)"
   ]
  },
  {
   "cell_type": "code",
   "execution_count": null,
   "id": "6b83b700",
   "metadata": {},
   "outputs": [],
   "source": [
    "#podsumowanie wyników dla dwóch metod klasteryzacji\n",
    "pd.DataFrame({\n",
    "    \"k-means\": fowlkes_mallows_score(y_test, y_pred),\n",
    "    \"ward\": fowlkes_mallows_score(y_test, y_pred2)}, index=[\"Indeks FM\"])"
   ]
  },
  {
   "cell_type": "code",
   "execution_count": null,
   "id": "5cc29afc",
   "metadata": {},
   "outputs": [],
   "source": [
    "#rysujemy dendrogram\n",
    "import scipy.cluster.hierarchy\n",
    "hw2 = scipy.cluster.hierarchy.ward(X)\n",
    "\n",
    "plt.figure(figsize=(16,8))\n",
    "den = scipy.cluster.hierarchy.dendrogram(hw2, no_labels=True)\n",
    "plt.show()"
   ]
  },
  {
   "cell_type": "code",
   "execution_count": null,
   "id": "95271980",
   "metadata": {},
   "outputs": [],
   "source": []
  }
 ],
 "metadata": {
  "kernelspec": {
   "display_name": "Python 3 (ipykernel)",
   "language": "python",
   "name": "python3"
  },
  "language_info": {
   "codemirror_mode": {
    "name": "ipython",
    "version": 3
   },
   "file_extension": ".py",
   "mimetype": "text/x-python",
   "name": "python",
   "nbconvert_exporter": "python",
   "pygments_lexer": "ipython3",
   "version": "3.10.9"
  }
 },
 "nbformat": 4,
 "nbformat_minor": 5
}
