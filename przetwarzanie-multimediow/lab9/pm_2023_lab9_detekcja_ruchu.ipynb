{
 "cells": [
  {
   "cell_type": "markdown",
   "id": "f2e4549c-25f2-449b-b309-6422b882d483",
   "metadata": {},
   "source": [
    "<div class = \"alert alert-block alert-info\">\n",
    "    <b> Przetwarzanie multimediów. Detekcja ruchu </b>\n",
    "   \n",
    "FTiMS, semestr letni 2022/2023\n",
    "\n",
    "Laboratorium 9\n",
    "</div>"
   ]
  },
  {
   "cell_type": "markdown",
   "id": "cee91514-e7ae-425a-be26-097cfbe93703",
   "metadata": {},
   "source": [
    "### Zapoznaj się z ..."
   ]
  },
  {
   "cell_type": "markdown",
   "id": "1e00c8a6-3fd6-414d-a321-541f1b94c1d3",
   "metadata": {},
   "source": [
    "Zapoznaj się z poniższymi dokumentami\n",
    "\n",
    "1. https://www.kdnuggets.com/2022/08/perform-motion-detection-python.html\n"
   ]
  },
  {
   "cell_type": "markdown",
   "id": "15e9d9b3-9bc7-4484-bd55-6f3180b31e4e",
   "metadata": {
    "tags": []
   },
   "source": [
    "<div class = \"alert alert-block alert-warning\">\n",
    "    <b> Zadanie (2,5 punktu): </b> Stwórz prostą aplikację wykrywającą ruch w strumieniu video. Najprostszą metodą wykrycia ruchu jest wykrycie różnicy w dwóch  sąsiednich klatkach video (różnicy dwóch macierzy obrazów). \n",
    "    Rozwiązanie powinno zawierać następujące etapy (pomijam te oczywiste):\n",
    "    \n",
    "1. Transformacja danej klatki obrazu barwnego do poziomów szarości (*grayscale*)\n",
    "2. Filtracja wygładzająca (filtr prosty lub gaussowski) w celu usunięcia nieistotnego szumu wynikającego z np. niejednorodności oświetlenia\n",
    "3. Wyznaczenie różnicy pomiędzy przekształconymi (operacje w punktach wyżej) obrazami klatek $i$ oraz $(i-1)$\n",
    "4. Progowanie: jeżeli różnica pomiędzy obrazami jest powyżej określonego progu (eksperymentuj z różnymi wartościami), to załóż ruch, w przeciwnym wypadku załóż brak ruchu.\n",
    "5. Wyświetl na obrazie informację o ruchu, np. czerwona ramka wokół obrazu z kamery.\n",
    "    \n",
    "Poniżej umieść kompletny kod oraz **screenshoty swojej aplikacji**."
   ]
  },
  {
   "cell_type": "markdown",
   "id": "a8a39127-878a-435f-afc7-fb5d91db2ec3",
   "metadata": {},
   "source": [
    "*Swoje rozwiązanie umieść poniżej*"
   ]
  },
  {
   "cell_type": "code",
   "execution_count": null,
   "id": "29d6b002-0def-43a8-81ec-fc7ae6e93196",
   "metadata": {},
   "outputs": [],
   "source": []
  }
 ],
 "metadata": {
  "kernelspec": {
   "display_name": "Python 3 (ipykernel)",
   "language": "python",
   "name": "python3"
  },
  "language_info": {
   "codemirror_mode": {
    "name": "ipython",
    "version": 3
   },
   "file_extension": ".py",
   "mimetype": "text/x-python",
   "name": "python",
   "nbconvert_exporter": "python",
   "pygments_lexer": "ipython3",
   "version": "3.7.10"
  }
 },
 "nbformat": 4,
 "nbformat_minor": 5
}
