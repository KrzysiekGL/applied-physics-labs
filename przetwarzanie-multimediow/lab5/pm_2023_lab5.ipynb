{
 "cells": [
  {
   "cell_type": "markdown",
   "id": "f2e4549c-25f2-449b-b309-6422b882d483",
   "metadata": {},
   "source": [
    "<div class = \"alert alert-block alert-info\">\n",
    "    <b>Przetwarzanie multimediów.</b> Przetwarzanie video.\n",
    "    \n",
    "Sem. letni 2022/2023\n",
    "\n",
    "FTiMS, Politechnika Gdańska\n",
    "</div>"
   ]
  },
  {
   "cell_type": "markdown",
   "id": "aec392e4-e27a-478d-b679-b1c460796a2e",
   "metadata": {},
   "source": [
    "### Zapoznaj się z ..."
   ]
  },
  {
   "cell_type": "markdown",
   "id": "f0d07992-687e-40e1-91be-1c412507ab38",
   "metadata": {},
   "source": [
    "Na początek zapoznaj się z dokumentami\n",
    "\n",
    "1. https://opencv24-python-tutorials.readthedocs.io/en/latest/py_tutorials/py_gui/py_video_display/py_video_display.html,\n",
    "2. https://docs.opencv.org/3.4.12/d7/dd0/tutorial_js_thresholding.html\n",
    "3. https://docs.opencv.org/3.4.12/dd/d6a/tutorial_js_filtering.html\n",
    "\n",
    "oraz treścią niniejszego notebooka. Wykonaj kod i przeanalizuj wyniki. Możesz eksperymentować z kodem, parametrami, itd. \n"
   ]
  },
  {
   "cell_type": "markdown",
   "id": "9a2800e6-e3a3-42cc-82d1-0338986c2c9b",
   "metadata": {},
   "source": [
    "### Uwaga"
   ]
  },
  {
   "cell_type": "markdown",
   "id": "178b7d71-6707-4629-9811-a57b9419601a",
   "metadata": {},
   "source": [
    "1. Przykładowy obraz wideo można pobrać z https://www.videvo.net/video/walking-on-the-moon/7/ (autor: NASA). W dalszej części notebooka wykorzystywany jest ten plik pod nazwą `moon.mov`\n",
    "1. **Zadania do rozwiązania podane są w treści notebooka.**"
   ]
  },
  {
   "cell_type": "markdown",
   "id": "e39e08ad-296d-4e3a-ac5a-1ccc95bac8c4",
   "metadata": {},
   "source": [
    "# Obsługa video"
   ]
  },
  {
   "cell_type": "markdown",
   "id": "6c58fa50-a865-481f-a32c-97a5e5044a7c",
   "metadata": {},
   "source": [
    "Ładowanie niezbędnych pakietów"
   ]
  },
  {
   "cell_type": "code",
   "execution_count": 1,
   "id": "671b2377-901d-48c2-8864-52a67909a82c",
   "metadata": {
    "tags": []
   },
   "outputs": [],
   "source": [
    "import numpy as np\n",
    "import cv2\n",
    "import time"
   ]
  },
  {
   "cell_type": "markdown",
   "id": "ebed3d56-9846-4044-8348-dbfb67688408",
   "metadata": {},
   "source": [
    "#### Przechwycenie obrazu wideo z kamery oraz transformacje"
   ]
  },
  {
   "cell_type": "markdown",
   "id": "abf7ea66-615d-40cb-9c5d-f6704d8f6b7d",
   "metadata": {},
   "source": [
    "Wykonajmy podstawowe ćwiczenie przechwycenia strumienia video z kamery."
   ]
  },
  {
   "cell_type": "code",
   "execution_count": 2,
   "id": "95aadb55-e062-42eb-bc3c-7525adf7b902",
   "metadata": {},
   "outputs": [],
   "source": [
    "video = cv2.VideoCapture('moon.mov')\n",
    "while video.isOpened():\n",
    "    ret, frame = video.read()\n",
    "    if ret:\n",
    "        cv2.imshow('video - ESC zamyka okno', frame)\n",
    "    else:\n",
    "        break\n",
    "    if cv2.waitKey(1) == 27:\n",
    "        break\n",
    "\n",
    "video.release()\n",
    "cv2.destroyAllWindows()"
   ]
  },
  {
   "cell_type": "markdown",
   "id": "e76ca0af-d877-4a27-9880-899dc562377d",
   "metadata": {},
   "source": [
    "Udało się. Dodajmy więc dodatkowe transformacje: odbicia względem osi."
   ]
  },
  {
   "cell_type": "code",
   "execution_count": 3,
   "id": "b812be87-8508-4e76-98a1-f7fb49ededbe",
   "metadata": {},
   "outputs": [],
   "source": [
    "video = cv2.VideoCapture('moon.mov')\n",
    "while True:\n",
    "    ret, frame = video.read()\n",
    "    \n",
    "    if ret:\n",
    "        frame_flip_0 = cv2.flip(frame, 0) # odbicie wzgl osi x\n",
    "        frame_flip_1 = cv2.flip(frame, 1) # odbicie wzgl osi y\n",
    "        frame_flip_minus1 = cv2.flip(frame, -1) # odbicie wzgl osi x i y\n",
    "    \n",
    "        cv2.imshow('video', frame)\n",
    "        cv2.imshow('video flip 0', frame_flip_0)\n",
    "        cv2.imshow('video flip 1', frame_flip_1)\n",
    "        cv2.imshow('video flip -1', frame_flip_minus1)\n",
    "    else:\n",
    "        break\n",
    "    if cv2.waitKey(1) == 27:\n",
    "        break\n",
    "        \n",
    "video.release()\n",
    "cv2.destroyAllWindows()"
   ]
  },
  {
   "cell_type": "markdown",
   "id": "043951c0-4fc8-4020-b80b-5f3bd800698d",
   "metadata": {},
   "source": [
    "Proste przekształcenie przestrzeni barw. W tym przypadku możesz eksperymentować właściwie bez ograniczeń. Na przykład, ustaw przed kamerą przedmioty o różnych barwach: czerwonej, niebieskiej, żółtej, itd. W której składowej RGB obraz przedmiotu jest najjaśniejszy (najwyższa wartość danej składowe), a w której najciemniejszy (najniższa wartość danej składowej)? "
   ]
  },
  {
   "cell_type": "code",
   "execution_count": 5,
   "id": "f12d7013-e3b4-4703-98c1-4bac2b1e9990",
   "metadata": {},
   "outputs": [],
   "source": [
    "video = cv2.VideoCapture('moon.mov')\n",
    "while video.isOpened():\n",
    "    ret, frame = video.read()\n",
    "\n",
    "    if ret:\n",
    "        frame_gray = cv2.cvtColor(frame,cv2.COLOR_BGR2GRAY)\n",
    "        frame_B = frame[:,:,0]\n",
    "        frame_G = frame[:,:,1]\n",
    "        frame_R = frame[:,:,2]\n",
    "    \n",
    "        cv2.imshow('color',frame)\n",
    "        cv2.imshow('gray',frame_gray)\n",
    "        cv2.imshow('B', frame_B)\n",
    "        cv2.imshow('G', frame_G)\n",
    "        cv2.imshow('R', frame_R)\n",
    "    else:\n",
    "        break\n",
    "    if cv2.waitKey(1) == 27:\n",
    "        break\n",
    "\n",
    "video.release()\n",
    "cv2.destroyAllWindows()"
   ]
  },
  {
   "cell_type": "markdown",
   "id": "7f2964b2-9b1a-4d5a-b1ac-880cb388e8a9",
   "metadata": {},
   "source": [
    "Na koniec tej części wyświetlmy na ekranie obraz video nakładając na niego dwa dodatkowe elementy: tekst oraz okrąg o  cyklicznie zmnieniającym się promieniu ( :) to nie jest przykład zaawansowanych obliczeń :) ale prosty efekt pokazujący jak przetwarzać strumień video). Przykład: początkowa średnica okręgu = 50, z każdą klatką ma się zmniejszać o 1. Po osiągnięciu wartości 0 ma się zwiększać, co 1, aż do osiągnięcia wartości 50."
   ]
  },
  {
   "cell_type": "code",
   "execution_count": 7,
   "id": "c5f18a8e-71f2-4799-ac0a-410a2efd9925",
   "metadata": {},
   "outputs": [],
   "source": [
    "import datetime\n",
    "\n",
    "video = cv2.VideoCapture('moon.mov')\n",
    "\n",
    "radius = 50\n",
    "zmniejszanie = True\n",
    "\n",
    "while video.isOpened():\n",
    "    ret, frame = video.read()\n",
    "    \n",
    "    if not ret:\n",
    "        break\n",
    "    \n",
    "    if zmniejszanie == True:\n",
    "        radius = radius -1\n",
    "    else:\n",
    "        radius = radius + 1\n",
    "    \n",
    "    if radius == 0:\n",
    "        zmniejszanie = False\n",
    "    if radius == 50:\n",
    "        zmniejszanie = True\n",
    "    \n",
    "    cv2.circle(frame,(100,100),radius,(255,0,0),1)\n",
    "    cv2.putText(frame, text = str(datetime.datetime.now()), \n",
    "                org = (20,20), \n",
    "                fontFace = cv2.FONT_HERSHEY_SIMPLEX, \n",
    "                fontScale = 0.5, \n",
    "                color = (0,255,0), \n",
    "                thickness = 1)\n",
    "    cv2.imshow('myvideo', frame)\n",
    "    \n",
    "    if cv2.waitKey(25) == 27:\n",
    "        break\n",
    "        \n",
    "video.release()\n",
    "cv2.destroyAllWindows()"
   ]
  },
  {
   "cell_type": "markdown",
   "id": "c8df6c31-12bd-46e0-94d7-5f91057f4759",
   "metadata": {},
   "source": [
    "### Odczyt danych z pliku video"
   ]
  },
  {
   "cell_type": "code",
   "execution_count": 8,
   "id": "81303f55-8247-412d-82c6-d100434f3e97",
   "metadata": {},
   "outputs": [],
   "source": [
    "import cv2\n",
    "video = cv2.VideoCapture('moon.mov')\n",
    "\n",
    "while video.isOpened():\n",
    "    ret, frame = video.read()\n",
    "    if not ret:\n",
    "        break\n",
    "        \n",
    "    cv2.imshow('video',frame)\n",
    "    if cv2.waitKey(1) == 27:\n",
    "        break\n",
    "\n",
    "video.release()\n",
    "cv2.destroyAllWindows()"
   ]
  },
  {
   "cell_type": "markdown",
   "id": "6badc27a-6595-4e94-bd41-a5bedde13fc7",
   "metadata": {},
   "source": [
    "<div class = \"alert alert-block alert-warning\">\n",
    "<b> Zadanie (0.5 punktu): </b> Zmodyfikuj kod tak, aby w oknie wideo podczas odtwarzania nagrania wyświetlać: bieżącą datę i  godzinę oraz numer wyświetlanej klatki (ramki; kolejny numer porządkowy).\n",
    "</div>"
   ]
  },
  {
   "cell_type": "markdown",
   "id": "b928b2a2-972a-4b18-b1a6-ec83935a53d0",
   "metadata": {},
   "source": [
    "*Swoje rozwiązanie umieść poniżej*"
   ]
  },
  {
   "cell_type": "code",
   "execution_count": 6,
   "id": "4bc07ebd-436b-44e9-a33b-429872776b71",
   "metadata": {
    "tags": []
   },
   "outputs": [],
   "source": [
    "import cv2\n",
    "import datetime\n",
    "import time\n",
    "\n",
    "video = cv2.VideoCapture('moon.mov')\n",
    "frame_count = str(int(video.get(7)))\n",
    "counter = 0\n",
    "while video.isOpened():\n",
    "    ret, frame = video.read()\n",
    "    if not ret:\n",
    "        break\n",
    "    counter+=1\n",
    "    \n",
    "    text = str(datetime.datetime.now()) + str(' ') + str(counter) + str('/') + str(frame_count)\n",
    "    cv2.putText(frame,\n",
    "                text = text,\n",
    "                org=(25,25),\n",
    "                fontFace=cv2.FONT_HERSHEY_SIMPLEX,\n",
    "                fontScale=0.5,\n",
    "                color=(255,255,255),\n",
    "                thickness=1)\n",
    "    \n",
    "    cv2.imshow('video', frame)\n",
    "    if cv2.waitKey(25) == 27:\n",
    "        break\n",
    "        \n",
    "video.release()\n",
    "cv2.destroyAllWindows()\n",
    "    "
   ]
  },
  {
   "cell_type": "markdown",
   "id": "d4c13abf-634a-464a-9204-4ba173f09e45",
   "metadata": {},
   "source": [
    "<div class = \"alert alert-block alert-warning\">\n",
    "<b> Zadanie </b> Przechwyć strumień wideo z kamery, przekonwertuj obraz do poziomów szarości (grayscale), a następnie wyświetl taki obraz oraz jednocześnie obrazy \n",
    "    \n",
    "1. **(0.5 punktu)** po wykonaniu prostego filtru wygładzającego (*blur*)\n",
    "2. **(0.5 punktu)** po wykonaniu gaussowskiego filtru wygładzającego (*gaussian blur*)\n",
    "3. **(0.5 punktu)** po wykonaniu filtracji z maską $3 \\times 3$ postaci $$\\begin{bmatrix} 0 & -1 & 0 \\\\ -1 & 5 & -1 \\\\ 0 & -1 & 0 \\end{bmatrix}$$ W tym przypadku, czy przed wykonaniem filtracji wiesz jaki będzie jej efekt?\n",
    "    \n",
    "Wykorzystaj gotowe implementacje algorytmów z pakietu OpenCV - nie implementuj filtrów samodzielnie.\n",
    "    \n",
    "W każdym przypadku eksperymentuj z różnymi wartościami parametrów wykorzystanych algorytmów, np. z wielkością sąsiedztwa dla filtru wygładzającego. Oprócz samego kodu ważne jest zrozumienie wpływu parametru na wynik operacji. W przypadku filtrów wygładzających sprawdź efekty dla istotnie dużych wielkości sąsiedztwa, np. $41 \\times 41$ (oczywiście to zależy od wielkości oryginalnego obrazu; dla dużych wartości widoczna będzie różnica pomiędzy wygładzaniem prostym, a gaussowskim).\n",
    "</div>"
   ]
  },
  {
   "cell_type": "markdown",
   "id": "54fe4717-0711-4d16-92d1-f2eb3b5fd723",
   "metadata": {},
   "source": [
    "*Poniżej umieść swoje rozwiązanie*"
   ]
  },
  {
   "cell_type": "code",
   "execution_count": 34,
   "id": "b34d7917-0422-4896-8a6f-8628ec99fec1",
   "metadata": {
    "tags": []
   },
   "outputs": [],
   "source": [
    "import cv2\n",
    "import datetime\n",
    "import time\n",
    "import numpy as np\n",
    "\n",
    "video = cv2.VideoCapture('moon.mov')\n",
    "\n",
    "M = np.array([[0, -1, 0], [-1, 5, -1], [0, -1, 0]])\n",
    "\n",
    "while video.isOpened():\n",
    "    ret, frame = video.read()\n",
    "    if not ret:\n",
    "        break\n",
    "    \n",
    "    # Blur\n",
    "    frame_blur = cv2.blur(frame, (11,11))\n",
    "    \n",
    "    # Gaussian blur\n",
    "    frame_gaussian = cv2.GaussianBlur(frame, (11,11), 3)\n",
    "    \n",
    "    # Mask\n",
    "    frame_mask = cv2.filter2D(frame, ddepth=-1, kernel=M)\n",
    "    \n",
    "    cv2.imshow('color',frame)\n",
    "    cv2.imshow('blur', frame_blur)\n",
    "    cv2.imshow('gaussian', frame_gaussian)\n",
    "    cv2.imshow('mask', frame_mask)\n",
    "    \n",
    "    if cv2.waitKey(25) == 27:\n",
    "        break\n",
    "        \n",
    "video.release()\n",
    "cv2.destroyAllWindows()"
   ]
  },
  {
   "cell_type": "code",
   "execution_count": null,
   "id": "6e8ea5e2-07b8-4056-a4f4-fde282dd13b9",
   "metadata": {},
   "outputs": [],
   "source": []
  }
 ],
 "metadata": {
  "kernelspec": {
   "display_name": "Python 3 (ipykernel)",
   "language": "python",
   "name": "python3"
  },
  "language_info": {
   "codemirror_mode": {
    "name": "ipython",
    "version": 3
   },
   "file_extension": ".py",
   "mimetype": "text/x-python",
   "name": "python",
   "nbconvert_exporter": "python",
   "pygments_lexer": "ipython3",
   "version": "3.10.9"
  }
 },
 "nbformat": 4,
 "nbformat_minor": 5
}
